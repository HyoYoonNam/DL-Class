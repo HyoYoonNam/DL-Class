{
 "cells": [
  {
   "cell_type": "code",
   "execution_count": 1,
   "id": "bd6c61f4-463e-4272-935e-e2185424bd55",
   "metadata": {},
   "outputs": [],
   "source": [
    "import numpy as np"
   ]
  },
  {
   "cell_type": "markdown",
   "id": "0dfa327d-ea11-4f83-b104-dcc0d2cec005",
   "metadata": {},
   "source": [
    "# 1. for regression"
   ]
  },
  {
   "cell_type": "code",
   "execution_count": 2,
   "id": "4631289f-cebe-42b8-a8ee-0f778732a580",
   "metadata": {},
   "outputs": [],
   "source": [
    "univariate_sequence = [10, 20, 30, 40, 50, 60, 70, 80, 90]"
   ]
  },
  {
   "cell_type": "code",
   "execution_count": 3,
   "id": "440bd035-e88c-4a4d-8e95-3b27ae89c32c",
   "metadata": {},
   "outputs": [],
   "source": [
    "def split_sequences(data, n_steps):\n",
    "    \"\"\"\n",
    "    비연속 데이터셋을 일정한 길이의 연속적인 시퀀스로 변환하는 함수.\n",
    "    \n",
    "    Args:\n",
    "    data: 원본 데이터 (리스트 또는 배열)\n",
    "    n_steps: 시퀀스의 길이 (정수)\n",
    "    \n",
    "    Returns:\n",
    "    X: 입력 시퀀스\n",
    "    y: 해당 시퀀스에 대한 다음 값 (타겟 값)\n",
    "    \"\"\"\n",
    "    X, y = [], []\n",
    "    \n",
    "    for i in range(len(data)):\n",
    "        # 데이터의 끝에서 시퀀스 길이 만큼 남은 경우 종료\n",
    "        end_idx = i + n_steps\n",
    "        if end_idx > len(data) - 1: break\n",
    "        \n",
    "        # 입력 시퀀스와 출력 값(목표값)을 분리\n",
    "        seq_x, seq_y = data[i:end_idx], data[end_idx]\n",
    "        X.append(seq_x)\n",
    "        y.append(seq_y)\n",
    "    \n",
    "    return np.array(X), np.array(y)"
   ]
  },
  {
   "cell_type": "code",
   "execution_count": 4,
   "id": "3b6d7ff6-5ec6-47fa-9ee2-1a6573d03728",
   "metadata": {},
   "outputs": [
    {
     "name": "stdout",
     "output_type": "stream",
     "text": [
      "Before : [10, 20, 30, 40, 50, 60, 70, 80, 90] \n",
      "\n",
      "After: \n",
      "X, y\n",
      "[10 20 30] 40\n",
      "[20 30 40] 50\n",
      "[30 40 50] 60\n",
      "[40 50 60] 70\n",
      "[50 60 70] 80\n",
      "[60 70 80] 90\n"
     ]
    }
   ],
   "source": [
    "X, y = split_sequences(univariate_sequence, 3)\n",
    "\n",
    "print(f\"Before : {univariate_sequence} \\n\")\n",
    "print(f\"After: \\nX, y\")\n",
    "for i in range(len(X)):\n",
    "    print(X[i], y[i])"
   ]
  },
  {
   "cell_type": "markdown",
   "id": "c23f2484-7cc4-422a-a7e0-23ccb91627b1",
   "metadata": {},
   "source": [
    "# 2. for classification"
   ]
  },
  {
   "cell_type": "markdown",
   "id": "b1dc0fb1-e95b-4b1c-8f7e-2fcd2b73c2d4",
   "metadata": {},
   "source": [
    "## 2.0. sequence의 마지막 label을 전체 sequence의 label로 결정"
   ]
  },
  {
   "cell_type": "code",
   "execution_count": 5,
   "id": "14237f77-7e04-4260-a31f-14c707a39a48",
   "metadata": {},
   "outputs": [],
   "source": [
    "def split_sequences_classification_last(data, labels, n_steps):\n",
    "    \"\"\"\n",
    "    비연속 데이터셋을 일정한 길이의 연속적인 시퀀스로 변환하는 함수\n",
    "    window에서 마지막 레이블을 사용\n",
    "    \n",
    "    Args:\n",
    "    data: 원본 데이터 (리스트 또는 배열)\n",
    "    labels: 각 데이터에 해당하는 클래스 라벨 (리스트 또는 배열)\n",
    "    n_steps: 시퀀스의 길이 (정수)\n",
    "    \n",
    "    Returns:\n",
    "    X: 입력 시퀀스\n",
    "    y: 해당 시퀀스에 대한 레이블 (마지막 레이블)\n",
    "    \"\"\"\n",
    "    X, y = [], []\n",
    "    \n",
    "    for i in range(len(data) - n_steps + 1):\n",
    "        # 시퀀스 추출\n",
    "        seq_x = data[i:i + n_steps]\n",
    "        seq_labels = labels[i:i + n_steps]\n",
    "        \n",
    "        # 시퀀스의 마지막 레이블을 사용\n",
    "        seq_y = seq_labels[-1]\n",
    "        \n",
    "        X.append(seq_x)\n",
    "        y.append(seq_y)\n",
    "    \n",
    "    return np.array(X), np.array(y)"
   ]
  },
  {
   "cell_type": "code",
   "execution_count": 6,
   "id": "168a7073-2486-4034-9ed5-204d97c6eed0",
   "metadata": {},
   "outputs": [
    {
     "name": "stdout",
     "output_type": "stream",
     "text": [
      "입력 시퀀스 (X):\n",
      "[[10 20 30]\n",
      " [20 30 40]\n",
      " [30 40 50]\n",
      " [40 50 60]\n",
      " [50 60 70]\n",
      " [60 70 80]\n",
      " [70 80 90]]\n",
      "출력 라벨 (y):\n",
      "[1 1 0 0 1 1 0]\n"
     ]
    }
   ],
   "source": [
    "# 예시 데이터와 라벨 (classification)\n",
    "data = [10, 20, 30, 40, 50, 60, 70, 80, 90]\n",
    "labels = [0, 0, 1, 1, 0, 0, 1, 1, 0]  # 각 데이터에 해당하는 클래스 라벨\n",
    "\n",
    "# 시퀀스 길이를 3으로 설정\n",
    "n_steps = 3\n",
    "\n",
    "# 시퀀스 분할 (분류용)\n",
    "X, y = split_sequences_classification_last(data, labels, n_steps)\n",
    "\n",
    "# 결과 확인\n",
    "print(\"입력 시퀀스 (X):\")\n",
    "print(X)\n",
    "\n",
    "print(\"출력 라벨 (y):\")\n",
    "print(y)"
   ]
  },
  {
   "cell_type": "markdown",
   "id": "5b57a338-12c4-4978-9e40-4991525167af",
   "metadata": {},
   "source": [
    "## 2.1. sequence의 다음에 오는 sample의 label을 sequence의 label로 결정"
   ]
  },
  {
   "cell_type": "code",
   "execution_count": 7,
   "id": "a48271f7-9d14-4c24-bade-4593d96a1386",
   "metadata": {},
   "outputs": [],
   "source": [
    "def split_sequences_classification_next(data, labels, n_steps):\n",
    "    \"\"\"\n",
    "    비연속 데이터셋을 일정한 길이의 연속적인 시퀀스로 변환하는 함수 (Classification)\n",
    "    data[i:i + n_steps] sequence의 label로 data[i + n_steps]를 사용\n",
    "    \n",
    "    Args:\n",
    "    data: 원본 데이터 (리스트 또는 배열)\n",
    "    labels: 각 데이터에 해당하는 클래스 라벨 (리스트 또는 배열)\n",
    "    n_steps: 시퀀스의 길이 (정수)\n",
    "    \n",
    "    Returns:\n",
    "    X, y: X는 입력 시퀀스, y는 해당 시퀀스에 대한 라벨 (분류 클래스)\n",
    "    \"\"\"\n",
    "    X, y = [], []\n",
    "    \n",
    "    for i in range(len(data) - n_steps):\n",
    "        # 시퀀스 추출\n",
    "        seq_x = data[i:i + n_steps]\n",
    "        # 해당 시퀀스의 마지막 값에 해당하는 라벨을 타겟으로 사용\n",
    "        seq_y = labels[i + n_steps]\n",
    "        \n",
    "        X.append(seq_x)\n",
    "        y.append(seq_y)\n",
    "    \n",
    "    return np.array(X), np.array(y)"
   ]
  },
  {
   "cell_type": "code",
   "execution_count": 8,
   "id": "1c766daa-e847-4793-9bf5-276b7f63bf31",
   "metadata": {},
   "outputs": [
    {
     "name": "stdout",
     "output_type": "stream",
     "text": [
      "입력 시퀀스 (X):\n",
      "[[10 20 30]\n",
      " [20 30 40]\n",
      " [30 40 50]\n",
      " [40 50 60]\n",
      " [50 60 70]\n",
      " [60 70 80]]\n",
      "출력 라벨 (y):\n",
      "[1 0 0 1 1 0]\n"
     ]
    }
   ],
   "source": [
    "# 예시 데이터와 라벨 (classification)\n",
    "data = [10, 20, 30, 40, 50, 60, 70, 80, 90]\n",
    "labels = [0, 0, 1, 1, 0, 0, 1, 1, 0]  # 각 데이터에 해당하는 클래스 라벨\n",
    "\n",
    "# 시퀀스 길이를 3으로 설정\n",
    "n_steps = 3\n",
    "\n",
    "# 시퀀스 분할 (분류용)\n",
    "X, y = split_sequences_classification_next(data, labels, n_steps)\n",
    "\n",
    "# 결과 확인\n",
    "print(\"입력 시퀀스 (X):\")\n",
    "print(X)\n",
    "\n",
    "print(\"출력 라벨 (y):\")\n",
    "print(y)"
   ]
  },
  {
   "cell_type": "markdown",
   "id": "68b2734d-992f-42b5-9099-6433ffab6445",
   "metadata": {},
   "source": [
    "## 2.2. sequence를 구성하는 sample들의 label 중 다수를 차지하는 label을 전체 sequence의 label로 결정"
   ]
  },
  {
   "cell_type": "markdown",
   "id": "ad38bf95-2506-4962-9937-1544a1cf55a4",
   "metadata": {},
   "source": [
    "> `collections.Counter([iterable-or-mapping])`: [link](https://docs.python.org/3/library/collections.html#collections.Counter)  \n",
    "> A Counter is a dict subclass for counting hashable objects. It is a collection where elements are stored as dictionary keys and their counts are stored as dictionary values. Counts are allowed to be any integer value including zero or negative counts. The Counter class is similar to bags or multisets in other languages.\n",
    "\n",
    "* string, list, tuple 등 iterator 객체를 parameter로 받아서 각 요소들이 몇 번씩 등장했는지 세어서, 각 요소를 key로 하고 그 빈도수를 value으로 하는 dictonary 형태로 반환한다.\n",
    "* 정렬 우선순위:\n",
    "  1) 빈도 수\n",
    "  2) `Counter()`에 parameter로 들어 갔을 때의 기존 순서\n",
    "\n",
    "```python\n",
    ">>> Counter([1, 1, 1, 1, 2, 2, 2, 2, 2, 2, 2, 3, 3])\n",
    "Counter({2: 7, 1: 4, 3: 2})\n",
    "\n",
    ">>> Counter([\"hi\", \"hello\"])\n",
    "Counter({'hi': 1, 'hello': 1})\n",
    "\n",
    ">>> Counter(\"Hi, Hello\")\n",
    "Counter({'H': 2, 'l': 2, 'i': 1, ',': 1, ' ': 1, 'e': 1, 'o': 1})\n",
    "# ㄴ H와 l 둘 다 2번 등장하는데, 기존 입력값인 \"Hi, Hello\"에서 H가 먼저 등장했기 때문에,\n",
    "# ㄴ H가 l보다 앞에 정렬된다.\n",
    "```"
   ]
  },
  {
   "cell_type": "markdown",
   "id": "15e685bb-418b-41ef-a74d-a9f691bb0a14",
   "metadata": {},
   "source": [
    "> `collections.Counter.most_common([n])`: [link](https://docs.python.org/3/library/collections.html#collections.Counter.most_common)  \n",
    "Return a list of the n most common elements and their counts from the most common to the least. If n is omitted or None, most_common() returns all elements in the counter. Elements with equal counts are ordered in the order first encountered:\n",
    "\n",
    "* `most_common()`  \n",
    "  list 전체 element에 대한 빈도를 정렬하여 list로 리턴한다.\n",
    "* `most_common(n)`  \n",
    "  list 전체 element 중 빈도 수 상위 n개에 대한 빈도를 정렬하여 list로 리턴한다.\n",
    "\n",
    "```python\n",
    ">>> Counter('abracadabra').most_common(3) \n",
    "[('a', 5), ('b', 2), ('r', 2)]\n",
    "\n",
    ">>> Counter('abracadabra').most_common(1)\n",
    "[('a', 5)]\n",
    "\n",
    ">>> Counter('abracadabra').most_common(1)[0]\n",
    "('a', 5)\n",
    "\n",
    ">>> Counter('abracadabra').most_common(1)[0][0]\n",
    "'a'\n",
    "```"
   ]
  },
  {
   "cell_type": "code",
   "execution_count": 9,
   "id": "f0814b0e-390e-415b-abbe-67168734a7cc",
   "metadata": {},
   "outputs": [],
   "source": [
    "from collections import Counter\n",
    "\n",
    "def split_sequences_classification_majority(data, labels, n_steps):\n",
    "    \"\"\"\n",
    "    비연속 데이터셋을 일정한 길이의 연속적인 시퀀스로 변환하는 함수\n",
    "    window에서 다수를 차지하는 label로 결정\n",
    "    \n",
    "    Args:\n",
    "    data: 원본 데이터 (리스트 또는 배열)\n",
    "    labels: 각 데이터에 해당하는 클래스 라벨 (리스트 또는 배열)\n",
    "    n_steps: 시퀀스의 길이 (정수)\n",
    "    \n",
    "    Returns:\n",
    "    X: 입력 시퀀스\n",
    "    y: 해당 시퀀스에 대한 다수 라벨\n",
    "    \"\"\"\n",
    "    X, y = [], []\n",
    "    \n",
    "    for i in range(len(data) - n_steps + 1):\n",
    "        # 시퀀스 추출\n",
    "        seq_x = data[i:i + n_steps]\n",
    "        seq_labels = labels[i:i + n_steps]\n",
    "        \n",
    "        # 시퀀스의 라벨 중 가장 빈번한 라벨을 선택 (다수결)\n",
    "        most_common_label = Counter(seq_labels).most_common(1)[0][0]\n",
    "        \n",
    "        X.append(seq_x)\n",
    "        y.append(most_common_label)\n",
    "    \n",
    "    return np.array(X), np.array(y)"
   ]
  },
  {
   "cell_type": "code",
   "execution_count": 10,
   "id": "f18c580c-79b5-48fe-b4fd-3dbc6acdcbd3",
   "metadata": {},
   "outputs": [
    {
     "name": "stdout",
     "output_type": "stream",
     "text": [
      "입력 시퀀스 (X):\n",
      "[[10 20 30]\n",
      " [20 30 40]\n",
      " [30 40 50]\n",
      " [40 50 60]\n",
      " [50 60 70]\n",
      " [60 70 80]\n",
      " [70 80 90]]\n",
      "출력 라벨 (y):\n",
      "[0 1 1 0 0 1 1]\n"
     ]
    }
   ],
   "source": [
    "# 예시 데이터와 라벨 (classification)\n",
    "data = [10, 20, 30, 40, 50, 60, 70, 80, 90]\n",
    "labels = [0, 0, 1, 1, 0, 0, 1, 1, 0]  # 각 데이터에 해당하는 클래스 라벨\n",
    "\n",
    "# 시퀀스 길이를 3으로 설정\n",
    "n_steps = 3\n",
    "\n",
    "# 시퀀스 분할 (다수결 방식)\n",
    "X, y = split_sequences_classification_majority(data, labels, n_steps)\n",
    "\n",
    "# 결과 확인\n",
    "print(\"입력 시퀀스 (X):\")\n",
    "print(X)\n",
    "\n",
    "print(\"출력 라벨 (y):\")\n",
    "print(y)"
   ]
  },
  {
   "cell_type": "markdown",
   "id": "fb4fe043-763a-4c08-99f2-6783f09d7d8a",
   "metadata": {},
   "source": [
    "## 2.3. sequence를 구성하는 sample들의 label 중 1이 한 번이라도 등장하면 전체 sequence의 label을 1로 결정"
   ]
  },
  {
   "cell_type": "code",
   "execution_count": 11,
   "id": "e71a0930-b1fb-4559-9b1f-53bb7f2f7ad9",
   "metadata": {},
   "outputs": [],
   "source": [
    "def split_sequences_classification_once(data, labels, n_steps):\n",
    "    \"\"\"\n",
    "    비연속 데이터셋을 일정한 길이의 연속적인 시퀀스로 변환하는 함수\n",
    "    window에서 1이 한 번이라도 등장하면 레이블을 1로 설정\n",
    "    \n",
    "    Args:\n",
    "    data: 원본 데이터 (리스트 또는 배열)\n",
    "    labels: 각 데이터에 해당하는 클래스 라벨 (리스트 또는 배열)\n",
    "    n_steps: 시퀀스의 길이 (정수)\n",
    "    \n",
    "    Returns:\n",
    "    X: 입력 시퀀스\n",
    "    y: 해당 시퀀스에 대한 레이블 (1이 한 번이라도 등장하면 1, 그렇지 않으면 0)\n",
    "    \"\"\"\n",
    "    X, y = [], []\n",
    "    \n",
    "    for i in range(len(data) - n_steps + 1):\n",
    "        # 시퀀스 추출\n",
    "        seq_x = data[i:i + n_steps]\n",
    "        seq_labels = labels[i:i + n_steps]\n",
    "        \n",
    "        # 시퀀스의 레이블 중 1이 한 번이라도 등장하면 레이블을 1로 설정\n",
    "        seq_y = 1 if 1 in seq_labels else 0\n",
    "        \n",
    "        X.append(seq_x)\n",
    "        y.append(seq_y)\n",
    "    \n",
    "    return np.array(X), np.array(y)"
   ]
  },
  {
   "cell_type": "code",
   "execution_count": 12,
   "id": "5d547927-bcc0-44e9-a8b3-194ab1d2ee3e",
   "metadata": {},
   "outputs": [
    {
     "name": "stdout",
     "output_type": "stream",
     "text": [
      "입력 시퀀스 (X):\n",
      "[[10 20 30]\n",
      " [20 30 40]\n",
      " [30 40 50]\n",
      " [40 50 60]\n",
      " [50 60 70]\n",
      " [60 70 80]\n",
      " [70 80 90]]\n",
      "출력 라벨 (y):\n",
      "[1 1 1 1 1 1 1]\n"
     ]
    }
   ],
   "source": [
    "# 예시 데이터와 라벨 (classification)\n",
    "data = [10, 20, 30, 40, 50, 60, 70, 80, 90]\n",
    "labels = [0, 0, 1, 1, 0, 0, 1, 1, 0]  # 각 데이터에 해당하는 클래스 라벨\n",
    "\n",
    "# 시퀀스 길이를 3으로 설정\n",
    "n_steps = 3\n",
    "\n",
    "# 시퀀스 분할 (다수결 방식)\n",
    "X, y = split_sequences_classification_once(data, labels, n_steps)\n",
    "\n",
    "# 결과 확인\n",
    "print(\"입력 시퀀스 (X):\")\n",
    "print(X)\n",
    "\n",
    "print(\"출력 라벨 (y):\")\n",
    "print(y)"
   ]
  }
 ],
 "metadata": {
  "kernelspec": {
   "display_name": "gc_dl",
   "language": "python",
   "name": "gc_dl"
  },
  "language_info": {
   "codemirror_mode": {
    "name": "ipython",
    "version": 3
   },
   "file_extension": ".py",
   "mimetype": "text/x-python",
   "name": "python",
   "nbconvert_exporter": "python",
   "pygments_lexer": "ipython3",
   "version": "3.9.18"
  }
 },
 "nbformat": 4,
 "nbformat_minor": 5
}
