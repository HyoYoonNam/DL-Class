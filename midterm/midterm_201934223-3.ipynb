{
 "cells": [
  {
   "cell_type": "markdown",
   "id": "1bfab07f-ef76-4a62-829d-8dc18cccd391",
   "metadata": {},
   "source": [
    "다음 데이터 세트를 이용하여 다이아몬드 가격예측(회귀) \n",
    "\n",
    "url = \"https://raw.githubusercontent.com/mwaskom/seaborn-data/master/diamonds.csv\" diamonds = pd.read_csv(url) \n",
    "\n",
    "1. ~ML (RF, DT, LR) 수행~\n",
    "\n",
    "2. ~Dense layer만 이용 FNCC 구현~\n",
    "\n",
    "3. 순환 데이터 변환후 CNN 구현\n",
    "\n",
    "\n",
    "\n",
    "각 단계별로 수행완료후\n",
    "\n",
    "검사받은 이후에 다음 단계 진행"
   ]
  },
  {
   "cell_type": "code",
   "execution_count": 1,
   "id": "67f0ad88-5659-41b6-b970-ddb673b1dab9",
   "metadata": {},
   "outputs": [],
   "source": [
    "import pandas as pd\n",
    "import numpy as np\n",
    "import matplotlib.pyplot as plt\n",
    "import seaborn as sns\n",
    "\n",
    "%matplotlib inline"
   ]
  },
  {
   "cell_type": "code",
   "execution_count": 2,
   "id": "d235f812-2149-45ef-b59c-c08075c4ace3",
   "metadata": {},
   "outputs": [
    {
     "data": {
      "text/html": [
       "<div>\n",
       "<style scoped>\n",
       "    .dataframe tbody tr th:only-of-type {\n",
       "        vertical-align: middle;\n",
       "    }\n",
       "\n",
       "    .dataframe tbody tr th {\n",
       "        vertical-align: top;\n",
       "    }\n",
       "\n",
       "    .dataframe thead th {\n",
       "        text-align: right;\n",
       "    }\n",
       "</style>\n",
       "<table border=\"1\" class=\"dataframe\">\n",
       "  <thead>\n",
       "    <tr style=\"text-align: right;\">\n",
       "      <th></th>\n",
       "      <th>carat</th>\n",
       "      <th>cut</th>\n",
       "      <th>color</th>\n",
       "      <th>clarity</th>\n",
       "      <th>depth</th>\n",
       "      <th>table</th>\n",
       "      <th>price</th>\n",
       "      <th>x</th>\n",
       "      <th>y</th>\n",
       "      <th>z</th>\n",
       "    </tr>\n",
       "  </thead>\n",
       "  <tbody>\n",
       "    <tr>\n",
       "      <th>0</th>\n",
       "      <td>0.23</td>\n",
       "      <td>Ideal</td>\n",
       "      <td>E</td>\n",
       "      <td>SI2</td>\n",
       "      <td>61.5</td>\n",
       "      <td>55.0</td>\n",
       "      <td>326</td>\n",
       "      <td>3.95</td>\n",
       "      <td>3.98</td>\n",
       "      <td>2.43</td>\n",
       "    </tr>\n",
       "    <tr>\n",
       "      <th>1</th>\n",
       "      <td>0.21</td>\n",
       "      <td>Premium</td>\n",
       "      <td>E</td>\n",
       "      <td>SI1</td>\n",
       "      <td>59.8</td>\n",
       "      <td>61.0</td>\n",
       "      <td>326</td>\n",
       "      <td>3.89</td>\n",
       "      <td>3.84</td>\n",
       "      <td>2.31</td>\n",
       "    </tr>\n",
       "    <tr>\n",
       "      <th>2</th>\n",
       "      <td>0.23</td>\n",
       "      <td>Good</td>\n",
       "      <td>E</td>\n",
       "      <td>VS1</td>\n",
       "      <td>56.9</td>\n",
       "      <td>65.0</td>\n",
       "      <td>327</td>\n",
       "      <td>4.05</td>\n",
       "      <td>4.07</td>\n",
       "      <td>2.31</td>\n",
       "    </tr>\n",
       "    <tr>\n",
       "      <th>3</th>\n",
       "      <td>0.29</td>\n",
       "      <td>Premium</td>\n",
       "      <td>I</td>\n",
       "      <td>VS2</td>\n",
       "      <td>62.4</td>\n",
       "      <td>58.0</td>\n",
       "      <td>334</td>\n",
       "      <td>4.20</td>\n",
       "      <td>4.23</td>\n",
       "      <td>2.63</td>\n",
       "    </tr>\n",
       "    <tr>\n",
       "      <th>4</th>\n",
       "      <td>0.31</td>\n",
       "      <td>Good</td>\n",
       "      <td>J</td>\n",
       "      <td>SI2</td>\n",
       "      <td>63.3</td>\n",
       "      <td>58.0</td>\n",
       "      <td>335</td>\n",
       "      <td>4.34</td>\n",
       "      <td>4.35</td>\n",
       "      <td>2.75</td>\n",
       "    </tr>\n",
       "    <tr>\n",
       "      <th>...</th>\n",
       "      <td>...</td>\n",
       "      <td>...</td>\n",
       "      <td>...</td>\n",
       "      <td>...</td>\n",
       "      <td>...</td>\n",
       "      <td>...</td>\n",
       "      <td>...</td>\n",
       "      <td>...</td>\n",
       "      <td>...</td>\n",
       "      <td>...</td>\n",
       "    </tr>\n",
       "    <tr>\n",
       "      <th>53935</th>\n",
       "      <td>0.72</td>\n",
       "      <td>Ideal</td>\n",
       "      <td>D</td>\n",
       "      <td>SI1</td>\n",
       "      <td>60.8</td>\n",
       "      <td>57.0</td>\n",
       "      <td>2757</td>\n",
       "      <td>5.75</td>\n",
       "      <td>5.76</td>\n",
       "      <td>3.50</td>\n",
       "    </tr>\n",
       "    <tr>\n",
       "      <th>53936</th>\n",
       "      <td>0.72</td>\n",
       "      <td>Good</td>\n",
       "      <td>D</td>\n",
       "      <td>SI1</td>\n",
       "      <td>63.1</td>\n",
       "      <td>55.0</td>\n",
       "      <td>2757</td>\n",
       "      <td>5.69</td>\n",
       "      <td>5.75</td>\n",
       "      <td>3.61</td>\n",
       "    </tr>\n",
       "    <tr>\n",
       "      <th>53937</th>\n",
       "      <td>0.70</td>\n",
       "      <td>Very Good</td>\n",
       "      <td>D</td>\n",
       "      <td>SI1</td>\n",
       "      <td>62.8</td>\n",
       "      <td>60.0</td>\n",
       "      <td>2757</td>\n",
       "      <td>5.66</td>\n",
       "      <td>5.68</td>\n",
       "      <td>3.56</td>\n",
       "    </tr>\n",
       "    <tr>\n",
       "      <th>53938</th>\n",
       "      <td>0.86</td>\n",
       "      <td>Premium</td>\n",
       "      <td>H</td>\n",
       "      <td>SI2</td>\n",
       "      <td>61.0</td>\n",
       "      <td>58.0</td>\n",
       "      <td>2757</td>\n",
       "      <td>6.15</td>\n",
       "      <td>6.12</td>\n",
       "      <td>3.74</td>\n",
       "    </tr>\n",
       "    <tr>\n",
       "      <th>53939</th>\n",
       "      <td>0.75</td>\n",
       "      <td>Ideal</td>\n",
       "      <td>D</td>\n",
       "      <td>SI2</td>\n",
       "      <td>62.2</td>\n",
       "      <td>55.0</td>\n",
       "      <td>2757</td>\n",
       "      <td>5.83</td>\n",
       "      <td>5.87</td>\n",
       "      <td>3.64</td>\n",
       "    </tr>\n",
       "  </tbody>\n",
       "</table>\n",
       "<p>53940 rows × 10 columns</p>\n",
       "</div>"
      ],
      "text/plain": [
       "       carat        cut color clarity  depth  table  price     x     y     z\n",
       "0       0.23      Ideal     E     SI2   61.5   55.0    326  3.95  3.98  2.43\n",
       "1       0.21    Premium     E     SI1   59.8   61.0    326  3.89  3.84  2.31\n",
       "2       0.23       Good     E     VS1   56.9   65.0    327  4.05  4.07  2.31\n",
       "3       0.29    Premium     I     VS2   62.4   58.0    334  4.20  4.23  2.63\n",
       "4       0.31       Good     J     SI2   63.3   58.0    335  4.34  4.35  2.75\n",
       "...      ...        ...   ...     ...    ...    ...    ...   ...   ...   ...\n",
       "53935   0.72      Ideal     D     SI1   60.8   57.0   2757  5.75  5.76  3.50\n",
       "53936   0.72       Good     D     SI1   63.1   55.0   2757  5.69  5.75  3.61\n",
       "53937   0.70  Very Good     D     SI1   62.8   60.0   2757  5.66  5.68  3.56\n",
       "53938   0.86    Premium     H     SI2   61.0   58.0   2757  6.15  6.12  3.74\n",
       "53939   0.75      Ideal     D     SI2   62.2   55.0   2757  5.83  5.87  3.64\n",
       "\n",
       "[53940 rows x 10 columns]"
      ]
     },
     "execution_count": 2,
     "metadata": {},
     "output_type": "execute_result"
    }
   ],
   "source": [
    "url = \"https://raw.githubusercontent.com/mwaskom/seaborn-data/master/diamonds.csv\"\n",
    "df = pd.read_csv(url)\n",
    "df"
   ]
  },
  {
   "cell_type": "code",
   "execution_count": 3,
   "id": "9e86fb73-37a4-46d8-ad16-e6e0ec4c6714",
   "metadata": {},
   "outputs": [
    {
     "name": "stdout",
     "output_type": "stream",
     "text": [
      "(array(['Fair', 'Good', 'Ideal', 'Premium', 'Very Good'], dtype=object), array([ 1610,  4906, 21551, 13791, 12082]))\n",
      "(array(['D', 'E', 'F', 'G', 'H', 'I', 'J'], dtype=object), array([ 6775,  9797,  9542, 11292,  8304,  5422,  2808]))\n",
      "(array(['I1', 'IF', 'SI1', 'SI2', 'VS1', 'VS2', 'VVS1', 'VVS2'],\n",
      "      dtype=object), array([  741,  1790, 13065,  9194,  8171, 12258,  3655,  5066]))\n"
     ]
    }
   ],
   "source": [
    "print(np.unique(df['cut'], return_counts=True))\n",
    "print(np.unique(df['color'], return_counts=True))\n",
    "print(np.unique(df['clarity'], return_counts=True))"
   ]
  },
  {
   "cell_type": "code",
   "execution_count": 4,
   "id": "51894b68-9d09-43ab-abf9-5ec04483548b",
   "metadata": {},
   "outputs": [],
   "source": [
    "from sklearn.preprocessing import LabelEncoder\n",
    "\n",
    "label_encoder = LabelEncoder()\n",
    "\n",
    "origin_label_cut = df['cut'].copy()\n",
    "origin_label_color = df['color'].copy()\n",
    "origin_label_clarity = df['clarity'].copy()\n",
    "\n",
    "df['cut'] = label_encoder.fit_transform(df['cut'])\n",
    "df['color'] = label_encoder.fit_transform(df['color'])\n",
    "df['clarity'] = label_encoder.fit_transform(df['clarity'])"
   ]
  },
  {
   "cell_type": "code",
   "execution_count": 5,
   "id": "49dfdc2f-7d3d-45f5-87f2-4d7e886fd512",
   "metadata": {},
   "outputs": [
    {
     "data": {
      "text/plain": [
       "(53940, 10)"
      ]
     },
     "execution_count": 5,
     "metadata": {},
     "output_type": "execute_result"
    }
   ],
   "source": [
    "df.shape"
   ]
  },
  {
   "cell_type": "code",
   "execution_count": 6,
   "id": "35c0ff69-bdd0-4cc9-b530-c86866c5fd59",
   "metadata": {},
   "outputs": [
    {
     "data": {
      "text/plain": [
       "(53940, 9)"
      ]
     },
     "execution_count": 6,
     "metadata": {},
     "output_type": "execute_result"
    }
   ],
   "source": [
    "# 순환데이터 만들 때 대비해서 price를 제일 끝 column으로 이동\n",
    "temp_price = df['price']\n",
    "df = df.drop('price', axis=1)\n",
    "df.shape"
   ]
  },
  {
   "cell_type": "code",
   "execution_count": 7,
   "id": "09051bd1-2af2-48a9-9f0a-45ee839afdf5",
   "metadata": {},
   "outputs": [
    {
     "data": {
      "text/plain": [
       "(53940, 10)"
      ]
     },
     "execution_count": 7,
     "metadata": {},
     "output_type": "execute_result"
    }
   ],
   "source": [
    "df.insert(9, 'price', temp_price)\n",
    "df.shape"
   ]
  },
  {
   "cell_type": "code",
   "execution_count": 8,
   "id": "cae57686-d249-4dc4-bf1e-8e3a8a5665fe",
   "metadata": {},
   "outputs": [
    {
     "data": {
      "text/html": [
       "<div>\n",
       "<style scoped>\n",
       "    .dataframe tbody tr th:only-of-type {\n",
       "        vertical-align: middle;\n",
       "    }\n",
       "\n",
       "    .dataframe tbody tr th {\n",
       "        vertical-align: top;\n",
       "    }\n",
       "\n",
       "    .dataframe thead th {\n",
       "        text-align: right;\n",
       "    }\n",
       "</style>\n",
       "<table border=\"1\" class=\"dataframe\">\n",
       "  <thead>\n",
       "    <tr style=\"text-align: right;\">\n",
       "      <th></th>\n",
       "      <th>carat</th>\n",
       "      <th>cut</th>\n",
       "      <th>color</th>\n",
       "      <th>clarity</th>\n",
       "      <th>depth</th>\n",
       "      <th>table</th>\n",
       "      <th>x</th>\n",
       "      <th>y</th>\n",
       "      <th>z</th>\n",
       "      <th>price</th>\n",
       "    </tr>\n",
       "  </thead>\n",
       "  <tbody>\n",
       "    <tr>\n",
       "      <th>0</th>\n",
       "      <td>0.23</td>\n",
       "      <td>2</td>\n",
       "      <td>1</td>\n",
       "      <td>3</td>\n",
       "      <td>61.5</td>\n",
       "      <td>55.0</td>\n",
       "      <td>3.95</td>\n",
       "      <td>3.98</td>\n",
       "      <td>2.43</td>\n",
       "      <td>326</td>\n",
       "    </tr>\n",
       "    <tr>\n",
       "      <th>1</th>\n",
       "      <td>0.21</td>\n",
       "      <td>3</td>\n",
       "      <td>1</td>\n",
       "      <td>2</td>\n",
       "      <td>59.8</td>\n",
       "      <td>61.0</td>\n",
       "      <td>3.89</td>\n",
       "      <td>3.84</td>\n",
       "      <td>2.31</td>\n",
       "      <td>326</td>\n",
       "    </tr>\n",
       "    <tr>\n",
       "      <th>2</th>\n",
       "      <td>0.23</td>\n",
       "      <td>1</td>\n",
       "      <td>1</td>\n",
       "      <td>4</td>\n",
       "      <td>56.9</td>\n",
       "      <td>65.0</td>\n",
       "      <td>4.05</td>\n",
       "      <td>4.07</td>\n",
       "      <td>2.31</td>\n",
       "      <td>327</td>\n",
       "    </tr>\n",
       "    <tr>\n",
       "      <th>3</th>\n",
       "      <td>0.29</td>\n",
       "      <td>3</td>\n",
       "      <td>5</td>\n",
       "      <td>5</td>\n",
       "      <td>62.4</td>\n",
       "      <td>58.0</td>\n",
       "      <td>4.20</td>\n",
       "      <td>4.23</td>\n",
       "      <td>2.63</td>\n",
       "      <td>334</td>\n",
       "    </tr>\n",
       "    <tr>\n",
       "      <th>4</th>\n",
       "      <td>0.31</td>\n",
       "      <td>1</td>\n",
       "      <td>6</td>\n",
       "      <td>3</td>\n",
       "      <td>63.3</td>\n",
       "      <td>58.0</td>\n",
       "      <td>4.34</td>\n",
       "      <td>4.35</td>\n",
       "      <td>2.75</td>\n",
       "      <td>335</td>\n",
       "    </tr>\n",
       "    <tr>\n",
       "      <th>...</th>\n",
       "      <td>...</td>\n",
       "      <td>...</td>\n",
       "      <td>...</td>\n",
       "      <td>...</td>\n",
       "      <td>...</td>\n",
       "      <td>...</td>\n",
       "      <td>...</td>\n",
       "      <td>...</td>\n",
       "      <td>...</td>\n",
       "      <td>...</td>\n",
       "    </tr>\n",
       "    <tr>\n",
       "      <th>53935</th>\n",
       "      <td>0.72</td>\n",
       "      <td>2</td>\n",
       "      <td>0</td>\n",
       "      <td>2</td>\n",
       "      <td>60.8</td>\n",
       "      <td>57.0</td>\n",
       "      <td>5.75</td>\n",
       "      <td>5.76</td>\n",
       "      <td>3.50</td>\n",
       "      <td>2757</td>\n",
       "    </tr>\n",
       "    <tr>\n",
       "      <th>53936</th>\n",
       "      <td>0.72</td>\n",
       "      <td>1</td>\n",
       "      <td>0</td>\n",
       "      <td>2</td>\n",
       "      <td>63.1</td>\n",
       "      <td>55.0</td>\n",
       "      <td>5.69</td>\n",
       "      <td>5.75</td>\n",
       "      <td>3.61</td>\n",
       "      <td>2757</td>\n",
       "    </tr>\n",
       "    <tr>\n",
       "      <th>53937</th>\n",
       "      <td>0.70</td>\n",
       "      <td>4</td>\n",
       "      <td>0</td>\n",
       "      <td>2</td>\n",
       "      <td>62.8</td>\n",
       "      <td>60.0</td>\n",
       "      <td>5.66</td>\n",
       "      <td>5.68</td>\n",
       "      <td>3.56</td>\n",
       "      <td>2757</td>\n",
       "    </tr>\n",
       "    <tr>\n",
       "      <th>53938</th>\n",
       "      <td>0.86</td>\n",
       "      <td>3</td>\n",
       "      <td>4</td>\n",
       "      <td>3</td>\n",
       "      <td>61.0</td>\n",
       "      <td>58.0</td>\n",
       "      <td>6.15</td>\n",
       "      <td>6.12</td>\n",
       "      <td>3.74</td>\n",
       "      <td>2757</td>\n",
       "    </tr>\n",
       "    <tr>\n",
       "      <th>53939</th>\n",
       "      <td>0.75</td>\n",
       "      <td>2</td>\n",
       "      <td>0</td>\n",
       "      <td>3</td>\n",
       "      <td>62.2</td>\n",
       "      <td>55.0</td>\n",
       "      <td>5.83</td>\n",
       "      <td>5.87</td>\n",
       "      <td>3.64</td>\n",
       "      <td>2757</td>\n",
       "    </tr>\n",
       "  </tbody>\n",
       "</table>\n",
       "<p>53940 rows × 10 columns</p>\n",
       "</div>"
      ],
      "text/plain": [
       "       carat  cut  color  clarity  depth  table     x     y     z  price\n",
       "0       0.23    2      1        3   61.5   55.0  3.95  3.98  2.43    326\n",
       "1       0.21    3      1        2   59.8   61.0  3.89  3.84  2.31    326\n",
       "2       0.23    1      1        4   56.9   65.0  4.05  4.07  2.31    327\n",
       "3       0.29    3      5        5   62.4   58.0  4.20  4.23  2.63    334\n",
       "4       0.31    1      6        3   63.3   58.0  4.34  4.35  2.75    335\n",
       "...      ...  ...    ...      ...    ...    ...   ...   ...   ...    ...\n",
       "53935   0.72    2      0        2   60.8   57.0  5.75  5.76  3.50   2757\n",
       "53936   0.72    1      0        2   63.1   55.0  5.69  5.75  3.61   2757\n",
       "53937   0.70    4      0        2   62.8   60.0  5.66  5.68  3.56   2757\n",
       "53938   0.86    3      4        3   61.0   58.0  6.15  6.12  3.74   2757\n",
       "53939   0.75    2      0        3   62.2   55.0  5.83  5.87  3.64   2757\n",
       "\n",
       "[53940 rows x 10 columns]"
      ]
     },
     "execution_count": 8,
     "metadata": {},
     "output_type": "execute_result"
    }
   ],
   "source": [
    "df"
   ]
  },
  {
   "cell_type": "code",
   "execution_count": 9,
   "id": "cb270d70-f4f9-480a-a0d0-5d7a86f1ed08",
   "metadata": {},
   "outputs": [
    {
     "data": {
      "text/plain": [
       "53940"
      ]
     },
     "execution_count": 9,
     "metadata": {},
     "output_type": "execute_result"
    }
   ],
   "source": [
    "len(df)"
   ]
  },
  {
   "cell_type": "markdown",
   "id": "be3f4ae3-28eb-4fbf-9125-70001f0ad8b3",
   "metadata": {},
   "source": [
    "# 1. 순환데이터 변환 후 CNN"
   ]
  },
  {
   "cell_type": "code",
   "execution_count": 10,
   "id": "38b33613-1a0a-42ba-9219-cd711140335c",
   "metadata": {},
   "outputs": [
    {
     "name": "stderr",
     "output_type": "stream",
     "text": [
      "2024-10-24 09:51:57.744346: I tensorflow/core/platform/cpu_feature_guard.cc:193] This TensorFlow binary is optimized with oneAPI Deep Neural Network Library (oneDNN) to use the following CPU instructions in performance-critical operations:  SSE4.1 SSE4.2 AVX AVX2 FMA\n",
      "To enable them in other operations, rebuild TensorFlow with the appropriate compiler flags.\n"
     ]
    }
   ],
   "source": [
    "import tensorflow as tf\n",
    "from tensorflow import keras"
   ]
  },
  {
   "cell_type": "code",
   "execution_count": 11,
   "id": "17a04dff-f9ca-45dc-b3e6-51ce8259aeb6",
   "metadata": {},
   "outputs": [],
   "source": [
    "X = df.drop('price', axis=1).to_numpy()\n",
    "y = df['price'].to_numpy()"
   ]
  },
  {
   "cell_type": "code",
   "execution_count": 12,
   "id": "f31a597e-b3f1-45f3-bd86-d3f5c972b3c9",
   "metadata": {},
   "outputs": [
    {
     "name": "stdout",
     "output_type": "stream",
     "text": [
      "X_train.shape: (40455, 9)\n",
      "X_test.shape: (13485, 9)\n",
      "y_train.shape: (40455,)\n",
      "y_test.shape: (13485,)\n"
     ]
    }
   ],
   "source": [
    "from sklearn.model_selection import train_test_split\n",
    "\n",
    "X_train, X_test, y_train, y_test = train_test_split(X, y,\n",
    "                                                    test_size=0.25,\n",
    "                                                    shuffle=True,\n",
    "                                                    random_state=42)\n",
    "\n",
    "print(f\"X_train.shape: {X_train.shape}\")\n",
    "print(f\"X_test.shape: {X_test.shape}\")\n",
    "print(f\"y_train.shape: {y_train.shape}\")\n",
    "print(f\"y_test.shape: {y_test.shape}\")"
   ]
  },
  {
   "cell_type": "code",
   "execution_count": 13,
   "id": "53cf8b62-f5ea-4f43-9531-ea6c13bfaed6",
   "metadata": {},
   "outputs": [],
   "source": [
    "# scaling\n",
    "from sklearn.preprocessing import StandardScaler\n",
    "\n",
    "scaler = StandardScaler()\n",
    "X_train_scaled = scaler.fit_transform(X_train)\n",
    "X_test_scaled = scaler.transform(X_test)"
   ]
  },
  {
   "cell_type": "code",
   "execution_count": 14,
   "id": "4ff57a7f-f9dc-4203-ae31-456202debc70",
   "metadata": {},
   "outputs": [
    {
     "data": {
      "text/plain": [
       "(40455, 9)"
      ]
     },
     "execution_count": 14,
     "metadata": {},
     "output_type": "execute_result"
    }
   ],
   "source": [
    "X_train_scaled.shape"
   ]
  },
  {
   "cell_type": "code",
   "execution_count": 15,
   "id": "c811a258-812c-4382-aa0e-6bf418880156",
   "metadata": {},
   "outputs": [
    {
     "name": "stdout",
     "output_type": "stream",
     "text": [
      "train_set.head(): \n",
      "[[-1.15666465e+00 -1.51349781e+00 -9.37210895e-01  1.83961348e+00\n",
      "   2.20783668e+00  2.42414027e-01 -1.58998506e+00 -1.54444639e+00\n",
      "  -1.36581585e+00  4.76000000e+02]\n",
      " [ 8.69167168e-02 -5.40643146e-01  2.00397806e+00 -1.06258138e+00\n",
      "   3.85169052e-02 -6.54922789e-01  2.73560060e-01  2.91505677e-01\n",
      "   2.82149480e-01  2.49300000e+03]\n",
      " [ 5.29547373e-01  4.32211514e-01  2.00397806e+00  6.78735533e-01\n",
      "  -4.51329496e-01  2.42414027e-01  7.37217220e-01  6.76181348e-01\n",
      "   6.34278825e-01  4.14500000e+03]\n",
      " [ 4.66314422e-01 -5.40643146e-01 -3.48973105e-01 -4.82142410e-01\n",
      "  -7.31241725e-01 -6.54922789e-01  7.10467768e-01  6.67438719e-01\n",
      "   5.77938130e-01  4.54100000e+03]\n",
      " [-3.97869240e-01 -5.40643146e-01 -3.48973105e-01  9.82965614e-02\n",
      "   3.85169052e-02 -2.06254381e-01 -2.70345454e-01 -2.33052056e-01\n",
      "  -2.39001950e-01  2.28300000e+03]]\n"
     ]
    }
   ],
   "source": [
    "# X와 y를 하나로 합친 dataset 만들기\n",
    "# 합치기 위해서는 y도 2dim으로 변경해줘야됨 by reshape()\n",
    "train_set = np.c_[X_train_scaled, y_train.reshape(-1, 1)]\n",
    "test_set = np.c_[X_test_scaled, y_test.reshape(-1, 1)]\n",
    "\n",
    "print(f\"train_set.head(): \\n{train_set[:5]}\")"
   ]
  },
  {
   "cell_type": "code",
   "execution_count": 16,
   "id": "a0300cb7-b449-4775-806c-9759cfb6df0d",
   "metadata": {},
   "outputs": [
    {
     "data": {
      "text/plain": [
       "2493.0"
      ]
     },
     "execution_count": 16,
     "metadata": {},
     "output_type": "execute_result"
    }
   ],
   "source": [
    "train_set[1][9]"
   ]
  },
  {
   "cell_type": "markdown",
   "id": "bcd341a8-67ae-4438-a671-c45c366a34f6",
   "metadata": {},
   "source": [
    "## 순환데이터 만들기"
   ]
  },
  {
   "cell_type": "code",
   "execution_count": 17,
   "id": "cbc35be0-ba94-4fcb-ac03-68456dbe5560",
   "metadata": {},
   "outputs": [],
   "source": [
    "# 2차원 - sequence에 속하는 샘플 중 마지막 label 값을 sequence의 label로 설정\n",
    "def split_sequences(sequences, n_steps):\n",
    "    # parameters\n",
    "      # sequences: 기존 data instance들이 있는 array\n",
    "      # n_steps  : 기존 data instance 몇 개를 하나로 묶을 것인지\n",
    "    X = [] # sequential로 바뀔 array\n",
    "    y = [] # sequential로 바뀔 array\n",
    "\n",
    "    for i in range(len(sequences)): # 기존 array의 data instance 수\n",
    "        end_idx = i + n_steps # (i+1)번 째 묶었을 때의 끝 index\n",
    "        if (end_idx > len(sequences) - 1): break # 끝까지 다 묶으면 break\n",
    "\n",
    "        # i부터 end_idx까지 즉, 묶을 data instance 단위를 말함\n",
    "        # [[x1, x2, x3, y], [x1, x2, x3, y], [x1, x2, x3, y]]\n",
    "        seq_x = sequences[i:end_idx, :-1]\n",
    "        seq_y = sequences[end_idx-1, -1]\n",
    "\n",
    "        # 묶은 애들을 Sequential Dataset의 instance로 추가\n",
    "        X.append(seq_x)\n",
    "        y.append(seq_y)\n",
    "\n",
    "    return np.array(X), np.array(y) # 완성된 Sequential Dataset을 return"
   ]
  },
  {
   "cell_type": "code",
   "execution_count": 18,
   "id": "b463ed01-e44d-426a-bea1-2a895cf0ff74",
   "metadata": {},
   "outputs": [
    {
     "name": "stdout",
     "output_type": "stream",
     "text": [
      "X_train_seq.shape: (40452, 3, 9) y_train_seq.shape: (40452,)\n",
      "X_test_seq.shape: (13482, 3, 9) y_test_seq.shape: (13482,)\n"
     ]
    }
   ],
   "source": [
    "n_steps = 3\n",
    "\n",
    "X_train_seq, y_train_seq = split_sequences(train_set, n_steps)\n",
    "X_test_seq, y_test_seq = split_sequences(test_set, n_steps)\n",
    "\n",
    "print(f\"X_train_seq.shape: {X_train_seq.shape}\", end=\" \")\n",
    "print(f\"y_train_seq.shape: {y_train_seq.shape}\")\n",
    "print(f\"X_test_seq.shape: {X_test_seq.shape}\", end=\" \")\n",
    "print(f\"y_test_seq.shape: {y_test_seq.shape}\")"
   ]
  },
  {
   "cell_type": "code",
   "execution_count": 19,
   "id": "806eb9ed-6d40-4750-9ca2-c0046bd37b6e",
   "metadata": {},
   "outputs": [],
   "source": [
    "n_steps = X_train_seq.shape[1]\n",
    "features = X_train_seq.shape[2]"
   ]
  },
  {
   "cell_type": "code",
   "execution_count": 24,
   "id": "6426c432-552d-4267-ba56-77629f751c43",
   "metadata": {},
   "outputs": [
    {
     "data": {
      "text/plain": [
       "array([4145., 4541., 2283., 7243.,  924.])"
      ]
     },
     "execution_count": 24,
     "metadata": {},
     "output_type": "execute_result"
    }
   ],
   "source": [
    "y_train_seq[:5]"
   ]
  },
  {
   "cell_type": "markdown",
   "id": "0a195b9e-204c-44de-b51a-7d088defa1dc",
   "metadata": {},
   "source": [
    "## CNN"
   ]
  },
  {
   "cell_type": "code",
   "execution_count": 20,
   "id": "02a76f08-e64e-4dd9-b390-c299898579c9",
   "metadata": {},
   "outputs": [
    {
     "name": "stdout",
     "output_type": "stream",
     "text": [
      "Model: \"sequential\"\n",
      "_________________________________________________________________\n",
      " Layer (type)                Output Shape              Param #   \n",
      "=================================================================\n",
      " conv1d1 (Conv1D)            (None, 1, 64)             1792      \n",
      "                                                                 \n",
      " dropout (Dropout)           (None, 1, 64)             0         \n",
      "                                                                 \n",
      " flatten (Flatten)           (None, 64)                0         \n",
      "                                                                 \n",
      " dense1 (Dense)              (None, 128)               8320      \n",
      "                                                                 \n",
      " output (Dense)              (None, 1)                 129       \n",
      "                                                                 \n",
      "=================================================================\n",
      "Total params: 10,241\n",
      "Trainable params: 10,241\n",
      "Non-trainable params: 0\n",
      "_________________________________________________________________\n"
     ]
    },
    {
     "name": "stderr",
     "output_type": "stream",
     "text": [
      "2024-10-24 09:51:59.968395: I tensorflow/core/platform/cpu_feature_guard.cc:193] This TensorFlow binary is optimized with oneAPI Deep Neural Network Library (oneDNN) to use the following CPU instructions in performance-critical operations:  SSE4.1 SSE4.2 AVX AVX2 FMA\n",
      "To enable them in other operations, rebuild TensorFlow with the appropriate compiler flags.\n"
     ]
    }
   ],
   "source": [
    "# Create the model\n",
    "model = keras.models.Sequential()\n",
    "\n",
    "# Add the layers to model\n",
    "model.add(keras.layers.Conv1D(filters=64,\n",
    "                              kernel_size=3,\n",
    "                              activation='relu',\n",
    "                              input_shape=(n_steps, features),\n",
    "                              name='conv1d1'))\n",
    "model.add(keras.layers.Dropout(0.3))\n",
    "model.add(keras.layers.Flatten())\n",
    "# model.add(keras.layers.GlobalAveragePooling1D())\n",
    "model.add(keras.layers.Dense(units=128,\n",
    "                             activation='relu',\n",
    "                             name='dense1'))\n",
    "# model.add(keras.layers.Dropout(0.3))\n",
    "# model.add(keras.layers.BatchNormalization())\n",
    "model.add(keras.layers.Dense(units=1,\n",
    "                             name='output'))\n",
    "\n",
    "model.summary()"
   ]
  },
  {
   "cell_type": "code",
   "execution_count": 21,
   "id": "edc3f03b-5585-46e8-9e7a-dec71b182fbb",
   "metadata": {},
   "outputs": [
    {
     "name": "stdout",
     "output_type": "stream",
     "text": [
      "Epoch 1/100\n",
      "72/72 - 1s - loss: 28577020.0000 - mean_squared_error: 28577020.0000 - val_loss: 19541110.0000 - val_mean_squared_error: 19541110.0000 - 701ms/epoch - 10ms/step\n",
      "Epoch 2/100\n",
      "72/72 - 0s - loss: 7585775.0000 - mean_squared_error: 7585775.0000 - val_loss: 2946929.0000 - val_mean_squared_error: 2946929.0000 - 130ms/epoch - 2ms/step\n",
      "Epoch 3/100\n",
      "72/72 - 0s - loss: 2849982.7500 - mean_squared_error: 2849982.7500 - val_loss: 1786156.0000 - val_mean_squared_error: 1786156.0000 - 122ms/epoch - 2ms/step\n",
      "Epoch 4/100\n",
      "72/72 - 0s - loss: 2213143.2500 - mean_squared_error: 2213143.2500 - val_loss: 1531944.3750 - val_mean_squared_error: 1531944.3750 - 119ms/epoch - 2ms/step\n",
      "Epoch 5/100\n",
      "72/72 - 0s - loss: 2025706.6250 - mean_squared_error: 2025706.6250 - val_loss: 1476878.5000 - val_mean_squared_error: 1476878.5000 - 122ms/epoch - 2ms/step\n",
      "Epoch 6/100\n",
      "72/72 - 0s - loss: 1974734.6250 - mean_squared_error: 1974734.6250 - val_loss: 1511127.2500 - val_mean_squared_error: 1511127.2500 - 123ms/epoch - 2ms/step\n",
      "Epoch 7/100\n",
      "72/72 - 0s - loss: 1930657.0000 - mean_squared_error: 1930657.0000 - val_loss: 1447979.8750 - val_mean_squared_error: 1447979.8750 - 116ms/epoch - 2ms/step\n",
      "Epoch 8/100\n",
      "72/72 - 0s - loss: 1946120.0000 - mean_squared_error: 1946120.0000 - val_loss: 1483820.1250 - val_mean_squared_error: 1483820.1250 - 124ms/epoch - 2ms/step\n",
      "Epoch 9/100\n",
      "72/72 - 0s - loss: 1865254.8750 - mean_squared_error: 1865254.8750 - val_loss: 1493355.7500 - val_mean_squared_error: 1493355.7500 - 118ms/epoch - 2ms/step\n",
      "Epoch 10/100\n",
      "72/72 - 0s - loss: 1879263.1250 - mean_squared_error: 1879263.1250 - val_loss: 1473192.2500 - val_mean_squared_error: 1473192.2500 - 117ms/epoch - 2ms/step\n",
      "Epoch 11/100\n",
      "72/72 - 0s - loss: 1851858.0000 - mean_squared_error: 1851858.0000 - val_loss: 1464396.0000 - val_mean_squared_error: 1464396.0000 - 122ms/epoch - 2ms/step\n",
      "Epoch 12/100\n",
      "72/72 - 0s - loss: 1839154.1250 - mean_squared_error: 1839154.1250 - val_loss: 1424130.6250 - val_mean_squared_error: 1424130.6250 - 119ms/epoch - 2ms/step\n",
      "Epoch 13/100\n",
      "72/72 - 0s - loss: 1797644.3750 - mean_squared_error: 1797644.3750 - val_loss: 1419151.6250 - val_mean_squared_error: 1419151.6250 - 120ms/epoch - 2ms/step\n",
      "Epoch 14/100\n",
      "72/72 - 0s - loss: 1812646.8750 - mean_squared_error: 1812646.8750 - val_loss: 1421344.7500 - val_mean_squared_error: 1421344.7500 - 117ms/epoch - 2ms/step\n",
      "Epoch 15/100\n",
      "72/72 - 0s - loss: 1766647.3750 - mean_squared_error: 1766647.3750 - val_loss: 1397282.2500 - val_mean_squared_error: 1397282.2500 - 118ms/epoch - 2ms/step\n",
      "Epoch 16/100\n",
      "72/72 - 0s - loss: 1703278.5000 - mean_squared_error: 1703278.5000 - val_loss: 1366813.0000 - val_mean_squared_error: 1366813.0000 - 114ms/epoch - 2ms/step\n",
      "Epoch 17/100\n",
      "72/72 - 0s - loss: 1729983.6250 - mean_squared_error: 1729983.6250 - val_loss: 1356255.8750 - val_mean_squared_error: 1356255.8750 - 120ms/epoch - 2ms/step\n",
      "Epoch 18/100\n",
      "72/72 - 0s - loss: 1722756.1250 - mean_squared_error: 1722756.1250 - val_loss: 1360529.6250 - val_mean_squared_error: 1360529.6250 - 120ms/epoch - 2ms/step\n",
      "Epoch 19/100\n",
      "72/72 - 0s - loss: 1691213.5000 - mean_squared_error: 1691213.5000 - val_loss: 1321341.1250 - val_mean_squared_error: 1321341.1250 - 117ms/epoch - 2ms/step\n",
      "Epoch 20/100\n",
      "72/72 - 0s - loss: 1707249.0000 - mean_squared_error: 1707249.0000 - val_loss: 1319304.3750 - val_mean_squared_error: 1319304.3750 - 118ms/epoch - 2ms/step\n",
      "Epoch 21/100\n",
      "72/72 - 0s - loss: 1660975.5000 - mean_squared_error: 1660975.5000 - val_loss: 1290640.0000 - val_mean_squared_error: 1290640.0000 - 115ms/epoch - 2ms/step\n",
      "Epoch 22/100\n",
      "72/72 - 0s - loss: 1638825.3750 - mean_squared_error: 1638825.3750 - val_loss: 1291409.1250 - val_mean_squared_error: 1291409.1250 - 116ms/epoch - 2ms/step\n",
      "Epoch 23/100\n",
      "72/72 - 0s - loss: 1609977.3750 - mean_squared_error: 1609977.3750 - val_loss: 1301604.6250 - val_mean_squared_error: 1301604.6250 - 120ms/epoch - 2ms/step\n",
      "Epoch 24/100\n",
      "72/72 - 0s - loss: 1640460.2500 - mean_squared_error: 1640460.2500 - val_loss: 1290624.8750 - val_mean_squared_error: 1290624.8750 - 118ms/epoch - 2ms/step\n",
      "Epoch 25/100\n",
      "72/72 - 0s - loss: 1590729.5000 - mean_squared_error: 1590729.5000 - val_loss: 1302699.2500 - val_mean_squared_error: 1302699.2500 - 126ms/epoch - 2ms/step\n",
      "Epoch 26/100\n",
      "72/72 - 0s - loss: 1590813.5000 - mean_squared_error: 1590813.5000 - val_loss: 1275397.5000 - val_mean_squared_error: 1275397.5000 - 122ms/epoch - 2ms/step\n",
      "Epoch 27/100\n",
      "72/72 - 0s - loss: 1580748.0000 - mean_squared_error: 1580748.0000 - val_loss: 1299460.7500 - val_mean_squared_error: 1299460.7500 - 118ms/epoch - 2ms/step\n",
      "Epoch 28/100\n",
      "72/72 - 0s - loss: 1553119.2500 - mean_squared_error: 1553119.2500 - val_loss: 1280438.0000 - val_mean_squared_error: 1280438.0000 - 164ms/epoch - 2ms/step\n",
      "Epoch 29/100\n",
      "72/72 - 0s - loss: 1564754.2500 - mean_squared_error: 1564754.2500 - val_loss: 1279075.7500 - val_mean_squared_error: 1279075.7500 - 119ms/epoch - 2ms/step\n",
      "Epoch 30/100\n",
      "72/72 - 0s - loss: 1533743.1250 - mean_squared_error: 1533743.1250 - val_loss: 1269655.0000 - val_mean_squared_error: 1269655.0000 - 121ms/epoch - 2ms/step\n",
      "Epoch 31/100\n",
      "72/72 - 0s - loss: 1546321.2500 - mean_squared_error: 1546321.2500 - val_loss: 1245380.0000 - val_mean_squared_error: 1245380.0000 - 118ms/epoch - 2ms/step\n",
      "Epoch 32/100\n",
      "72/72 - 0s - loss: 1557744.3750 - mean_squared_error: 1557744.3750 - val_loss: 1257329.0000 - val_mean_squared_error: 1257329.0000 - 115ms/epoch - 2ms/step\n",
      "Epoch 33/100\n",
      "72/72 - 0s - loss: 1550407.3750 - mean_squared_error: 1550407.3750 - val_loss: 1279250.8750 - val_mean_squared_error: 1279250.8750 - 120ms/epoch - 2ms/step\n",
      "Epoch 34/100\n",
      "72/72 - 0s - loss: 1526981.0000 - mean_squared_error: 1526981.0000 - val_loss: 1263589.1250 - val_mean_squared_error: 1263589.1250 - 121ms/epoch - 2ms/step\n",
      "Epoch 35/100\n",
      "72/72 - 0s - loss: 1507253.8750 - mean_squared_error: 1507253.8750 - val_loss: 1242573.8750 - val_mean_squared_error: 1242573.8750 - 122ms/epoch - 2ms/step\n",
      "Epoch 36/100\n",
      "72/72 - 0s - loss: 1515352.2500 - mean_squared_error: 1515352.2500 - val_loss: 1236777.3750 - val_mean_squared_error: 1236777.3750 - 122ms/epoch - 2ms/step\n",
      "Epoch 37/100\n",
      "72/72 - 0s - loss: 1501535.3750 - mean_squared_error: 1501535.3750 - val_loss: 1262411.3750 - val_mean_squared_error: 1262411.3750 - 118ms/epoch - 2ms/step\n",
      "Epoch 38/100\n",
      "72/72 - 0s - loss: 1509791.1250 - mean_squared_error: 1509791.1250 - val_loss: 1244471.3750 - val_mean_squared_error: 1244471.3750 - 112ms/epoch - 2ms/step\n",
      "Epoch 39/100\n",
      "72/72 - 0s - loss: 1512962.6250 - mean_squared_error: 1512962.6250 - val_loss: 1251096.0000 - val_mean_squared_error: 1251096.0000 - 111ms/epoch - 2ms/step\n",
      "Epoch 40/100\n",
      "72/72 - 0s - loss: 1501369.0000 - mean_squared_error: 1501369.0000 - val_loss: 1243072.3750 - val_mean_squared_error: 1243072.3750 - 114ms/epoch - 2ms/step\n",
      "Epoch 41/100\n",
      "72/72 - 0s - loss: 1510540.6250 - mean_squared_error: 1510540.6250 - val_loss: 1249651.7500 - val_mean_squared_error: 1249651.7500 - 122ms/epoch - 2ms/step\n",
      "Epoch 42/100\n",
      "72/72 - 0s - loss: 1495885.6250 - mean_squared_error: 1495885.6250 - val_loss: 1239517.1250 - val_mean_squared_error: 1239517.1250 - 113ms/epoch - 2ms/step\n",
      "Epoch 43/100\n",
      "72/72 - 0s - loss: 1470717.3750 - mean_squared_error: 1470717.3750 - val_loss: 1252722.2500 - val_mean_squared_error: 1252722.2500 - 113ms/epoch - 2ms/step\n",
      "Epoch 44/100\n",
      "72/72 - 0s - loss: 1480471.8750 - mean_squared_error: 1480471.8750 - val_loss: 1240800.8750 - val_mean_squared_error: 1240800.8750 - 114ms/epoch - 2ms/step\n",
      "Epoch 45/100\n",
      "72/72 - 0s - loss: 1487572.7500 - mean_squared_error: 1487572.7500 - val_loss: 1328230.5000 - val_mean_squared_error: 1328230.5000 - 115ms/epoch - 2ms/step\n",
      "Epoch 46/100\n",
      "72/72 - 0s - loss: 1464563.7500 - mean_squared_error: 1464563.7500 - val_loss: 1247473.5000 - val_mean_squared_error: 1247473.5000 - 112ms/epoch - 2ms/step\n",
      "Epoch 47/100\n",
      "72/72 - 0s - loss: 1487321.5000 - mean_squared_error: 1487321.5000 - val_loss: 1255694.7500 - val_mean_squared_error: 1255694.7500 - 111ms/epoch - 2ms/step\n",
      "Epoch 48/100\n",
      "72/72 - 0s - loss: 1477827.0000 - mean_squared_error: 1477827.0000 - val_loss: 1244586.2500 - val_mean_squared_error: 1244586.2500 - 111ms/epoch - 2ms/step\n",
      "Epoch 49/100\n",
      "72/72 - 0s - loss: 1491015.8750 - mean_squared_error: 1491015.8750 - val_loss: 1266019.0000 - val_mean_squared_error: 1266019.0000 - 113ms/epoch - 2ms/step\n",
      "Epoch 50/100\n",
      "72/72 - 0s - loss: 1483801.8750 - mean_squared_error: 1483801.8750 - val_loss: 1244371.8750 - val_mean_squared_error: 1244371.8750 - 111ms/epoch - 2ms/step\n",
      "Epoch 51/100\n",
      "72/72 - 0s - loss: 1475532.5000 - mean_squared_error: 1475532.5000 - val_loss: 1236980.5000 - val_mean_squared_error: 1236980.5000 - 112ms/epoch - 2ms/step\n",
      "Epoch 52/100\n",
      "72/72 - 0s - loss: 1465540.5000 - mean_squared_error: 1465540.5000 - val_loss: 1237394.7500 - val_mean_squared_error: 1237394.7500 - 113ms/epoch - 2ms/step\n",
      "Epoch 53/100\n",
      "72/72 - 0s - loss: 1465411.1250 - mean_squared_error: 1465411.1250 - val_loss: 1259974.8750 - val_mean_squared_error: 1259974.8750 - 115ms/epoch - 2ms/step\n",
      "Epoch 54/100\n",
      "72/72 - 0s - loss: 1482159.1250 - mean_squared_error: 1482159.1250 - val_loss: 1252261.2500 - val_mean_squared_error: 1252261.2500 - 117ms/epoch - 2ms/step\n",
      "Epoch 55/100\n",
      "72/72 - 0s - loss: 1473283.7500 - mean_squared_error: 1473283.7500 - val_loss: 1247087.6250 - val_mean_squared_error: 1247087.6250 - 113ms/epoch - 2ms/step\n",
      "Epoch 56/100\n",
      "72/72 - 0s - loss: 1469904.6250 - mean_squared_error: 1469904.6250 - val_loss: 1296790.2500 - val_mean_squared_error: 1296790.2500 - 113ms/epoch - 2ms/step\n",
      "Epoch 57/100\n",
      "72/72 - 0s - loss: 1467716.3750 - mean_squared_error: 1467716.3750 - val_loss: 1238594.6250 - val_mean_squared_error: 1238594.6250 - 124ms/epoch - 2ms/step\n",
      "Epoch 58/100\n",
      "72/72 - 0s - loss: 1471570.8750 - mean_squared_error: 1471570.8750 - val_loss: 1243937.1250 - val_mean_squared_error: 1243937.1250 - 116ms/epoch - 2ms/step\n",
      "Epoch 59/100\n",
      "72/72 - 0s - loss: 1451035.2500 - mean_squared_error: 1451035.2500 - val_loss: 1258168.8750 - val_mean_squared_error: 1258168.8750 - 116ms/epoch - 2ms/step\n",
      "Epoch 60/100\n",
      "72/72 - 0s - loss: 1457432.8750 - mean_squared_error: 1457432.8750 - val_loss: 1238042.3750 - val_mean_squared_error: 1238042.3750 - 116ms/epoch - 2ms/step\n",
      "Epoch 61/100\n",
      "72/72 - 0s - loss: 1444174.2500 - mean_squared_error: 1444174.2500 - val_loss: 1249836.5000 - val_mean_squared_error: 1249836.5000 - 117ms/epoch - 2ms/step\n",
      "Epoch 62/100\n",
      "72/72 - 0s - loss: 1466287.5000 - mean_squared_error: 1466287.5000 - val_loss: 1261083.8750 - val_mean_squared_error: 1261083.8750 - 114ms/epoch - 2ms/step\n",
      "Epoch 63/100\n",
      "72/72 - 0s - loss: 1470898.8750 - mean_squared_error: 1470898.8750 - val_loss: 1244412.1250 - val_mean_squared_error: 1244412.1250 - 115ms/epoch - 2ms/step\n",
      "Epoch 64/100\n",
      "72/72 - 0s - loss: 1443790.2500 - mean_squared_error: 1443790.2500 - val_loss: 1258009.2500 - val_mean_squared_error: 1258009.2500 - 109ms/epoch - 2ms/step\n",
      "Epoch 65/100\n",
      "72/72 - 0s - loss: 1424218.2500 - mean_squared_error: 1424218.2500 - val_loss: 1251761.3750 - val_mean_squared_error: 1251761.3750 - 110ms/epoch - 2ms/step\n",
      "Epoch 66/100\n",
      "72/72 - 0s - loss: 1434403.7500 - mean_squared_error: 1434403.7500 - val_loss: 1241535.5000 - val_mean_squared_error: 1241535.5000 - 115ms/epoch - 2ms/step\n",
      "Epoch 67/100\n",
      "72/72 - 0s - loss: 1464707.3750 - mean_squared_error: 1464707.3750 - val_loss: 1256369.5000 - val_mean_squared_error: 1256369.5000 - 117ms/epoch - 2ms/step\n",
      "Epoch 68/100\n",
      "72/72 - 0s - loss: 1434859.2500 - mean_squared_error: 1434859.2500 - val_loss: 1271591.6250 - val_mean_squared_error: 1271591.6250 - 113ms/epoch - 2ms/step\n",
      "Epoch 69/100\n",
      "72/72 - 0s - loss: 1445403.2500 - mean_squared_error: 1445403.2500 - val_loss: 1225624.2500 - val_mean_squared_error: 1225624.2500 - 114ms/epoch - 2ms/step\n",
      "Epoch 70/100\n",
      "72/72 - 0s - loss: 1462720.6250 - mean_squared_error: 1462720.6250 - val_loss: 1229982.5000 - val_mean_squared_error: 1229982.5000 - 116ms/epoch - 2ms/step\n",
      "Epoch 71/100\n",
      "72/72 - 0s - loss: 1438866.0000 - mean_squared_error: 1438866.0000 - val_loss: 1230660.8750 - val_mean_squared_error: 1230660.8750 - 113ms/epoch - 2ms/step\n",
      "Epoch 72/100\n",
      "72/72 - 0s - loss: 1425104.6250 - mean_squared_error: 1425104.6250 - val_loss: 1255503.7500 - val_mean_squared_error: 1255503.7500 - 119ms/epoch - 2ms/step\n",
      "Epoch 73/100\n",
      "72/72 - 0s - loss: 1431863.1250 - mean_squared_error: 1431863.1250 - val_loss: 1251113.8750 - val_mean_squared_error: 1251113.8750 - 123ms/epoch - 2ms/step\n",
      "Epoch 74/100\n",
      "72/72 - 0s - loss: 1422845.1250 - mean_squared_error: 1422845.1250 - val_loss: 1231853.8750 - val_mean_squared_error: 1231853.8750 - 112ms/epoch - 2ms/step\n",
      "Epoch 75/100\n",
      "72/72 - 0s - loss: 1437124.7500 - mean_squared_error: 1437124.7500 - val_loss: 1237680.6250 - val_mean_squared_error: 1237680.6250 - 112ms/epoch - 2ms/step\n",
      "Epoch 76/100\n",
      "72/72 - 0s - loss: 1436033.7500 - mean_squared_error: 1436033.7500 - val_loss: 1238706.2500 - val_mean_squared_error: 1238706.2500 - 121ms/epoch - 2ms/step\n",
      "Epoch 77/100\n",
      "72/72 - 0s - loss: 1413870.7500 - mean_squared_error: 1413870.7500 - val_loss: 1231769.7500 - val_mean_squared_error: 1231769.7500 - 114ms/epoch - 2ms/step\n",
      "Epoch 78/100\n",
      "72/72 - 0s - loss: 1412373.5000 - mean_squared_error: 1412373.5000 - val_loss: 1282732.0000 - val_mean_squared_error: 1282732.0000 - 114ms/epoch - 2ms/step\n",
      "Epoch 79/100\n",
      "72/72 - 0s - loss: 1422803.3750 - mean_squared_error: 1422803.3750 - val_loss: 1234226.1250 - val_mean_squared_error: 1234226.1250 - 115ms/epoch - 2ms/step\n",
      "Epoch 80/100\n",
      "72/72 - 0s - loss: 1436057.3750 - mean_squared_error: 1436057.3750 - val_loss: 1276506.6250 - val_mean_squared_error: 1276506.6250 - 118ms/epoch - 2ms/step\n",
      "Epoch 81/100\n",
      "72/72 - 0s - loss: 1425278.8750 - mean_squared_error: 1425278.8750 - val_loss: 1244494.3750 - val_mean_squared_error: 1244494.3750 - 116ms/epoch - 2ms/step\n",
      "Epoch 82/100\n",
      "72/72 - 0s - loss: 1434299.7500 - mean_squared_error: 1434299.7500 - val_loss: 1238359.3750 - val_mean_squared_error: 1238359.3750 - 116ms/epoch - 2ms/step\n",
      "Epoch 83/100\n",
      "72/72 - 0s - loss: 1419010.8750 - mean_squared_error: 1419010.8750 - val_loss: 1232924.8750 - val_mean_squared_error: 1232924.8750 - 116ms/epoch - 2ms/step\n",
      "Epoch 84/100\n",
      "72/72 - 0s - loss: 1430969.6250 - mean_squared_error: 1430969.6250 - val_loss: 1272535.2500 - val_mean_squared_error: 1272535.2500 - 120ms/epoch - 2ms/step\n",
      "Epoch 85/100\n",
      "72/72 - 0s - loss: 1416529.6250 - mean_squared_error: 1416529.6250 - val_loss: 1223548.7500 - val_mean_squared_error: 1223548.7500 - 117ms/epoch - 2ms/step\n",
      "Epoch 86/100\n",
      "72/72 - 0s - loss: 1418136.6250 - mean_squared_error: 1418136.6250 - val_loss: 1219213.3750 - val_mean_squared_error: 1219213.3750 - 116ms/epoch - 2ms/step\n",
      "Epoch 87/100\n",
      "72/72 - 0s - loss: 1441311.2500 - mean_squared_error: 1441311.2500 - val_loss: 1218785.1250 - val_mean_squared_error: 1218785.1250 - 174ms/epoch - 2ms/step\n",
      "Epoch 88/100\n",
      "72/72 - 0s - loss: 1421364.5000 - mean_squared_error: 1421364.5000 - val_loss: 1234719.1250 - val_mean_squared_error: 1234719.1250 - 114ms/epoch - 2ms/step\n",
      "Epoch 89/100\n",
      "72/72 - 0s - loss: 1404751.1250 - mean_squared_error: 1404751.1250 - val_loss: 1260628.0000 - val_mean_squared_error: 1260628.0000 - 119ms/epoch - 2ms/step\n",
      "Epoch 90/100\n",
      "72/72 - 0s - loss: 1414160.5000 - mean_squared_error: 1414160.5000 - val_loss: 1223021.5000 - val_mean_squared_error: 1223021.5000 - 115ms/epoch - 2ms/step\n",
      "Epoch 91/100\n",
      "72/72 - 0s - loss: 1421018.0000 - mean_squared_error: 1421018.0000 - val_loss: 1230817.3750 - val_mean_squared_error: 1230817.3750 - 114ms/epoch - 2ms/step\n",
      "Epoch 92/100\n",
      "72/72 - 0s - loss: 1400261.5000 - mean_squared_error: 1400261.5000 - val_loss: 1302110.8750 - val_mean_squared_error: 1302110.8750 - 115ms/epoch - 2ms/step\n",
      "Epoch 93/100\n",
      "72/72 - 0s - loss: 1396400.8750 - mean_squared_error: 1396400.8750 - val_loss: 1211132.5000 - val_mean_squared_error: 1211132.5000 - 118ms/epoch - 2ms/step\n",
      "Epoch 94/100\n",
      "72/72 - 0s - loss: 1382803.2500 - mean_squared_error: 1382803.2500 - val_loss: 1212438.5000 - val_mean_squared_error: 1212438.5000 - 116ms/epoch - 2ms/step\n",
      "Epoch 95/100\n",
      "72/72 - 0s - loss: 1399289.6250 - mean_squared_error: 1399289.6250 - val_loss: 1221238.7500 - val_mean_squared_error: 1221238.7500 - 118ms/epoch - 2ms/step\n",
      "Epoch 96/100\n",
      "72/72 - 0s - loss: 1402126.1250 - mean_squared_error: 1402126.1250 - val_loss: 1215592.5000 - val_mean_squared_error: 1215592.5000 - 118ms/epoch - 2ms/step\n",
      "Epoch 97/100\n",
      "72/72 - 0s - loss: 1407218.3750 - mean_squared_error: 1407218.3750 - val_loss: 1229643.8750 - val_mean_squared_error: 1229643.8750 - 115ms/epoch - 2ms/step\n",
      "Epoch 98/100\n",
      "72/72 - 0s - loss: 1383050.3750 - mean_squared_error: 1383050.3750 - val_loss: 1217193.7500 - val_mean_squared_error: 1217193.7500 - 120ms/epoch - 2ms/step\n",
      "Epoch 99/100\n",
      "72/72 - 0s - loss: 1382658.5000 - mean_squared_error: 1382658.5000 - val_loss: 1227783.6250 - val_mean_squared_error: 1227783.6250 - 117ms/epoch - 2ms/step\n",
      "Epoch 100/100\n",
      "72/72 - 0s - loss: 1389281.8750 - mean_squared_error: 1389281.8750 - val_loss: 1267386.1250 - val_mean_squared_error: 1267386.1250 - 116ms/epoch - 2ms/step\n"
     ]
    }
   ],
   "source": [
    "from keras.optimizers import Adam\n",
    "\n",
    "model.compile(Adam(learning_rate=0.004), \n",
    "              loss='mean_squared_error', \n",
    "              metrics=['mean_squared_error'])\n",
    "\n",
    "history = model.fit(X_train_seq, y_train_seq,\n",
    "                    validation_split=0.1,\n",
    "                    batch_size=512,\n",
    "                    shuffle=True,\n",
    "                    verbose=2,\n",
    "                    epochs=100)"
   ]
  },
  {
   "cell_type": "code",
   "execution_count": 22,
   "id": "193eca9e-fc86-4fdf-8e1a-27a4384ffb6b",
   "metadata": {},
   "outputs": [
    {
     "name": "stdout",
     "output_type": "stream",
     "text": [
      "MSE(train): 1248404.3137645612\n"
     ]
    }
   ],
   "source": [
    "# evaluate the model - train\n",
    "from sklearn.metrics import mean_squared_error\n",
    "\n",
    "y_preds_train = model(X_train_seq)\n",
    "print(f\"MSE(train): {mean_squared_error(y_preds_train, y_train_seq)}\")"
   ]
  },
  {
   "cell_type": "code",
   "execution_count": 23,
   "id": "54831a0b-ba72-4f8b-b15c-02e26197cf73",
   "metadata": {},
   "outputs": [
    {
     "name": "stdout",
     "output_type": "stream",
     "text": [
      "MSE(test): 1172888.0537396795\n"
     ]
    }
   ],
   "source": [
    "# evaluate the model - test\n",
    "\n",
    "y_preds_test = model(X_test_seq)\n",
    "print(f\"MSE(test): {mean_squared_error(y_preds_test, y_test_seq)}\")"
   ]
  }
 ],
 "metadata": {
  "kernelspec": {
   "display_name": "gc_dl",
   "language": "python",
   "name": "gc_dl"
  },
  "language_info": {
   "codemirror_mode": {
    "name": "ipython",
    "version": 3
   },
   "file_extension": ".py",
   "mimetype": "text/x-python",
   "name": "python",
   "nbconvert_exporter": "python",
   "pygments_lexer": "ipython3",
   "version": "3.9.18"
  }
 },
 "nbformat": 4,
 "nbformat_minor": 5
}
