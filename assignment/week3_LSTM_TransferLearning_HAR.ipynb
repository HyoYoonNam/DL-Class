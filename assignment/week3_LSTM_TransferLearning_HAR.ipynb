{
 "cells": [
  {
   "cell_type": "markdown",
   "id": "58e17012-9d0f-49ac-881d-518f0a1f0192",
   "metadata": {},
   "source": [
    "# Table of contents"
   ]
  },
  {
   "cell_type": "markdown",
   "id": "0203b437-7d83-4194-a7ff-42e063aa2459",
   "metadata": {},
   "source": [
    "0. Introduction\n",
    "\n",
    "1. Load the dataset(1) - 전체 dataset 확인 | In[1]~\n",
    "\n",
    "2. Load the dataset(2) - \b`RA`와 `LA` dataset를 각각 따로 분리 | In[7]~  \n",
    "   2.1. Convert to Sequential dataset & One-hot Encoding | In[22]~\n",
    "\n",
    "3. Training & Save(1): `RA model` | In[28]~\n",
    "\n",
    "4. Training & Save(2): `LA model` | In[37]~\n",
    "\n",
    "5. Transfer training(1): `LA model`을 재사용해서 `RA`에 맞추기 | In[45]~  \n",
    "   5.1. fine-tuning | In[52]~\n",
    "\n",
    "6. Transfer training(2): `RA model`을 재사용해서 `LA`에 맞추기 | In[61]~  \n",
    "   6.1. fine-tuning | In[70]~\n",
    "\n",
    "7. References"
   ]
  },
  {
   "cell_type": "markdown",
   "id": "909f04ab-6eda-4657-9ce7-11d5f754b424",
   "metadata": {},
   "source": [
    "# 0. Introduction"
   ]
  },
  {
   "cell_type": "markdown",
   "id": "54c89791-5b8c-4241-86f4-9b3bcf4f07a5",
   "metadata": {},
   "source": [
    "**Dataset**  \n",
    "* [HAR](https://github.com/MyungKyuYi/AI-class/blob/main/Pre-trained_model.ipynb)\n",
    "\n",
    "**Environment**\n",
    "* macOS `x86`cpu\n",
    "\n",
    "**Framework**  \n",
    "* TensorFlow: Version `2.10.0`\n",
    "\n",
    "**Dependencies**  \n",
    "* Python: Version `3.9.19`\n",
    "* Numpy: Version `1.24.3`\n",
    "* Pandas: Version `2.2.2`\n",
    "* Matplotlib: Version `3.9.2`\n",
    "* scikit-learn: Version `1.2.2`\n",
    "\n",
    "**Purpose**\n",
    "* Transfer learning을 사용한다.\n",
    "\n",
    "**Abstraction**  \n",
    "T(Total?), RA(Right Arm), LA(Left Arm), RL(Right Leg), LL(Left Leg), activity(현재 활동 구분), people(피실험자 구분)으로 구성된 dataset이다.  \n",
    "특정 활동 상태일 때의 팔과 다리 등의 신체부위 관련 값이 기록되어 있다.  \n",
    "model은 이를 학습하여 신체부위 관련 값이 input으로 들어왔을 때 활동 상태를 예측할 수 있다."
   ]
  },
  {
   "cell_type": "markdown",
   "id": "eb3198cf-9d54-49b2-b9a2-32f4dba817d3",
   "metadata": {},
   "source": [
    "# 1. Load the dataset(1) - 전체 dataset 확인"
   ]
  },
  {
   "cell_type": "code",
   "execution_count": 1,
   "id": "ba856932-1bbf-49a3-915b-058ea949d93e",
   "metadata": {},
   "outputs": [],
   "source": [
    "import numpy as np\n",
    "import pandas as pd\n",
    "import matplotlib.pyplot as plt"
   ]
  },
  {
   "cell_type": "code",
   "execution_count": 2,
   "id": "ced40284-087a-4993-9896-d23293da9d7d",
   "metadata": {},
   "outputs": [
    {
     "data": {
      "text/html": [
       "<div>\n",
       "<style scoped>\n",
       "    .dataframe tbody tr th:only-of-type {\n",
       "        vertical-align: middle;\n",
       "    }\n",
       "\n",
       "    .dataframe tbody tr th {\n",
       "        vertical-align: top;\n",
       "    }\n",
       "\n",
       "    .dataframe thead th {\n",
       "        text-align: right;\n",
       "    }\n",
       "</style>\n",
       "<table border=\"1\" class=\"dataframe\">\n",
       "  <thead>\n",
       "    <tr style=\"text-align: right;\">\n",
       "      <th></th>\n",
       "      <th>T_xacc_mean</th>\n",
       "      <th>T_xacc_max</th>\n",
       "      <th>T_xacc_min</th>\n",
       "      <th>T_xacc_var</th>\n",
       "      <th>T_xacc_std</th>\n",
       "      <th>T_xacc_skew</th>\n",
       "      <th>T_yacc_mean</th>\n",
       "      <th>T_yacc_max</th>\n",
       "      <th>T_yacc_min</th>\n",
       "      <th>T_yacc_var</th>\n",
       "      <th>...</th>\n",
       "      <th>LL_ymag_std</th>\n",
       "      <th>LL_ymag_skew</th>\n",
       "      <th>LL_zmag_mean</th>\n",
       "      <th>LL_zmag_max</th>\n",
       "      <th>LL_zmag_min</th>\n",
       "      <th>LL_zmag_var</th>\n",
       "      <th>LL_zmag_std</th>\n",
       "      <th>LL_zmag_skew</th>\n",
       "      <th>activity</th>\n",
       "      <th>people</th>\n",
       "    </tr>\n",
       "  </thead>\n",
       "  <tbody>\n",
       "    <tr>\n",
       "      <th>0</th>\n",
       "      <td>7.975714</td>\n",
       "      <td>8.1605</td>\n",
       "      <td>7.6823</td>\n",
       "      <td>0.014395</td>\n",
       "      <td>0.119981</td>\n",
       "      <td>-0.023319</td>\n",
       "      <td>1.083150</td>\n",
       "      <td>1.1832</td>\n",
       "      <td>0.99744</td>\n",
       "      <td>0.002208</td>\n",
       "      <td>...</td>\n",
       "      <td>0.000792</td>\n",
       "      <td>0.177075</td>\n",
       "      <td>-0.057119</td>\n",
       "      <td>-0.054963</td>\n",
       "      <td>-0.059241</td>\n",
       "      <td>6.778722e-07</td>\n",
       "      <td>0.000823</td>\n",
       "      <td>0.036729</td>\n",
       "      <td>sitting</td>\n",
       "      <td>p1</td>\n",
       "    </tr>\n",
       "    <tr>\n",
       "      <th>1</th>\n",
       "      <td>7.978250</td>\n",
       "      <td>8.1763</td>\n",
       "      <td>7.8472</td>\n",
       "      <td>0.007551</td>\n",
       "      <td>0.086896</td>\n",
       "      <td>0.552416</td>\n",
       "      <td>1.140865</td>\n",
       "      <td>1.2129</td>\n",
       "      <td>1.05810</td>\n",
       "      <td>0.000784</td>\n",
       "      <td>...</td>\n",
       "      <td>0.000860</td>\n",
       "      <td>-0.286918</td>\n",
       "      <td>-0.057268</td>\n",
       "      <td>-0.054945</td>\n",
       "      <td>-0.059589</td>\n",
       "      <td>7.032302e-07</td>\n",
       "      <td>0.000839</td>\n",
       "      <td>0.347471</td>\n",
       "      <td>sitting</td>\n",
       "      <td>p1</td>\n",
       "    </tr>\n",
       "    <tr>\n",
       "      <th>2</th>\n",
       "      <td>7.970894</td>\n",
       "      <td>8.0860</td>\n",
       "      <td>7.8470</td>\n",
       "      <td>0.003092</td>\n",
       "      <td>0.055603</td>\n",
       "      <td>0.100538</td>\n",
       "      <td>1.140962</td>\n",
       "      <td>1.2128</td>\n",
       "      <td>1.07960</td>\n",
       "      <td>0.000508</td>\n",
       "      <td>...</td>\n",
       "      <td>0.000762</td>\n",
       "      <td>-0.134430</td>\n",
       "      <td>-0.057068</td>\n",
       "      <td>-0.054711</td>\n",
       "      <td>-0.059065</td>\n",
       "      <td>6.268222e-07</td>\n",
       "      <td>0.000792</td>\n",
       "      <td>0.045579</td>\n",
       "      <td>sitting</td>\n",
       "      <td>p1</td>\n",
       "    </tr>\n",
       "    <tr>\n",
       "      <th>3</th>\n",
       "      <td>7.938412</td>\n",
       "      <td>8.1083</td>\n",
       "      <td>7.6901</td>\n",
       "      <td>0.003763</td>\n",
       "      <td>0.061343</td>\n",
       "      <td>-0.231914</td>\n",
       "      <td>1.165260</td>\n",
       "      <td>1.3170</td>\n",
       "      <td>1.07870</td>\n",
       "      <td>0.002173</td>\n",
       "      <td>...</td>\n",
       "      <td>0.000735</td>\n",
       "      <td>0.021485</td>\n",
       "      <td>-0.056422</td>\n",
       "      <td>-0.053670</td>\n",
       "      <td>-0.058310</td>\n",
       "      <td>8.011245e-07</td>\n",
       "      <td>0.000895</td>\n",
       "      <td>0.240690</td>\n",
       "      <td>sitting</td>\n",
       "      <td>p1</td>\n",
       "    </tr>\n",
       "    <tr>\n",
       "      <th>4</th>\n",
       "      <td>7.908930</td>\n",
       "      <td>8.1305</td>\n",
       "      <td>7.8322</td>\n",
       "      <td>0.001741</td>\n",
       "      <td>0.041731</td>\n",
       "      <td>2.042285</td>\n",
       "      <td>1.187504</td>\n",
       "      <td>1.2574</td>\n",
       "      <td>1.09450</td>\n",
       "      <td>0.000662</td>\n",
       "      <td>...</td>\n",
       "      <td>0.000824</td>\n",
       "      <td>-0.148229</td>\n",
       "      <td>-0.055801</td>\n",
       "      <td>-0.053313</td>\n",
       "      <td>-0.057815</td>\n",
       "      <td>6.853423e-07</td>\n",
       "      <td>0.000828</td>\n",
       "      <td>0.258429</td>\n",
       "      <td>sitting</td>\n",
       "      <td>p1</td>\n",
       "    </tr>\n",
       "    <tr>\n",
       "      <th>...</th>\n",
       "      <td>...</td>\n",
       "      <td>...</td>\n",
       "      <td>...</td>\n",
       "      <td>...</td>\n",
       "      <td>...</td>\n",
       "      <td>...</td>\n",
       "      <td>...</td>\n",
       "      <td>...</td>\n",
       "      <td>...</td>\n",
       "      <td>...</td>\n",
       "      <td>...</td>\n",
       "      <td>...</td>\n",
       "      <td>...</td>\n",
       "      <td>...</td>\n",
       "      <td>...</td>\n",
       "      <td>...</td>\n",
       "      <td>...</td>\n",
       "      <td>...</td>\n",
       "      <td>...</td>\n",
       "      <td>...</td>\n",
       "      <td>...</td>\n",
       "    </tr>\n",
       "    <tr>\n",
       "      <th>9115</th>\n",
       "      <td>8.280854</td>\n",
       "      <td>34.1980</td>\n",
       "      <td>-2.9038</td>\n",
       "      <td>28.080803</td>\n",
       "      <td>5.299132</td>\n",
       "      <td>1.350075</td>\n",
       "      <td>-1.491537</td>\n",
       "      <td>11.2240</td>\n",
       "      <td>-11.65100</td>\n",
       "      <td>14.670334</td>\n",
       "      <td>...</td>\n",
       "      <td>0.200829</td>\n",
       "      <td>-0.040701</td>\n",
       "      <td>0.297666</td>\n",
       "      <td>0.708480</td>\n",
       "      <td>-0.117430</td>\n",
       "      <td>4.135451e-02</td>\n",
       "      <td>0.203358</td>\n",
       "      <td>-0.310022</td>\n",
       "      <td>basketBall</td>\n",
       "      <td>p8</td>\n",
       "    </tr>\n",
       "    <tr>\n",
       "      <th>9116</th>\n",
       "      <td>9.591118</td>\n",
       "      <td>51.6970</td>\n",
       "      <td>-3.4129</td>\n",
       "      <td>35.722025</td>\n",
       "      <td>5.976791</td>\n",
       "      <td>2.981144</td>\n",
       "      <td>0.086304</td>\n",
       "      <td>6.9951</td>\n",
       "      <td>-11.76400</td>\n",
       "      <td>5.329897</td>\n",
       "      <td>...</td>\n",
       "      <td>0.148745</td>\n",
       "      <td>-0.266377</td>\n",
       "      <td>0.224716</td>\n",
       "      <td>0.554670</td>\n",
       "      <td>-0.250950</td>\n",
       "      <td>3.355704e-02</td>\n",
       "      <td>0.183186</td>\n",
       "      <td>-0.736410</td>\n",
       "      <td>basketBall</td>\n",
       "      <td>p8</td>\n",
       "    </tr>\n",
       "    <tr>\n",
       "      <th>9117</th>\n",
       "      <td>9.599113</td>\n",
       "      <td>27.9300</td>\n",
       "      <td>-1.0765</td>\n",
       "      <td>48.850886</td>\n",
       "      <td>6.989341</td>\n",
       "      <td>0.449237</td>\n",
       "      <td>-0.728367</td>\n",
       "      <td>3.7801</td>\n",
       "      <td>-8.36910</td>\n",
       "      <td>5.683022</td>\n",
       "      <td>...</td>\n",
       "      <td>0.310748</td>\n",
       "      <td>-0.009505</td>\n",
       "      <td>-0.237786</td>\n",
       "      <td>0.088854</td>\n",
       "      <td>-0.477260</td>\n",
       "      <td>2.026107e-02</td>\n",
       "      <td>0.142341</td>\n",
       "      <td>0.668438</td>\n",
       "      <td>basketBall</td>\n",
       "      <td>p8</td>\n",
       "    </tr>\n",
       "    <tr>\n",
       "      <th>9118</th>\n",
       "      <td>9.692482</td>\n",
       "      <td>72.7820</td>\n",
       "      <td>-2.6734</td>\n",
       "      <td>59.378336</td>\n",
       "      <td>7.705734</td>\n",
       "      <td>4.491114</td>\n",
       "      <td>-0.582724</td>\n",
       "      <td>6.1216</td>\n",
       "      <td>-8.85710</td>\n",
       "      <td>4.162963</td>\n",
       "      <td>...</td>\n",
       "      <td>0.156493</td>\n",
       "      <td>0.050624</td>\n",
       "      <td>0.533023</td>\n",
       "      <td>0.677800</td>\n",
       "      <td>0.055941</td>\n",
       "      <td>1.356379e-02</td>\n",
       "      <td>0.116464</td>\n",
       "      <td>-1.482489</td>\n",
       "      <td>basketBall</td>\n",
       "      <td>p8</td>\n",
       "    </tr>\n",
       "    <tr>\n",
       "      <th>9119</th>\n",
       "      <td>9.380641</td>\n",
       "      <td>45.0090</td>\n",
       "      <td>-3.5938</td>\n",
       "      <td>40.459334</td>\n",
       "      <td>6.360765</td>\n",
       "      <td>1.688626</td>\n",
       "      <td>-0.266325</td>\n",
       "      <td>5.8603</td>\n",
       "      <td>-6.91970</td>\n",
       "      <td>4.017098</td>\n",
       "      <td>...</td>\n",
       "      <td>0.229154</td>\n",
       "      <td>-0.342228</td>\n",
       "      <td>0.491919</td>\n",
       "      <td>0.707920</td>\n",
       "      <td>0.251280</td>\n",
       "      <td>9.358254e-03</td>\n",
       "      <td>0.096738</td>\n",
       "      <td>-0.223302</td>\n",
       "      <td>basketBall</td>\n",
       "      <td>p8</td>\n",
       "    </tr>\n",
       "  </tbody>\n",
       "</table>\n",
       "<p>9120 rows × 272 columns</p>\n",
       "</div>"
      ],
      "text/plain": [
       "      T_xacc_mean  T_xacc_max  T_xacc_min  T_xacc_var  T_xacc_std  \\\n",
       "0        7.975714      8.1605      7.6823    0.014395    0.119981   \n",
       "1        7.978250      8.1763      7.8472    0.007551    0.086896   \n",
       "2        7.970894      8.0860      7.8470    0.003092    0.055603   \n",
       "3        7.938412      8.1083      7.6901    0.003763    0.061343   \n",
       "4        7.908930      8.1305      7.8322    0.001741    0.041731   \n",
       "...           ...         ...         ...         ...         ...   \n",
       "9115     8.280854     34.1980     -2.9038   28.080803    5.299132   \n",
       "9116     9.591118     51.6970     -3.4129   35.722025    5.976791   \n",
       "9117     9.599113     27.9300     -1.0765   48.850886    6.989341   \n",
       "9118     9.692482     72.7820     -2.6734   59.378336    7.705734   \n",
       "9119     9.380641     45.0090     -3.5938   40.459334    6.360765   \n",
       "\n",
       "      T_xacc_skew  T_yacc_mean  T_yacc_max  T_yacc_min  T_yacc_var  ...  \\\n",
       "0       -0.023319     1.083150      1.1832     0.99744    0.002208  ...   \n",
       "1        0.552416     1.140865      1.2129     1.05810    0.000784  ...   \n",
       "2        0.100538     1.140962      1.2128     1.07960    0.000508  ...   \n",
       "3       -0.231914     1.165260      1.3170     1.07870    0.002173  ...   \n",
       "4        2.042285     1.187504      1.2574     1.09450    0.000662  ...   \n",
       "...           ...          ...         ...         ...         ...  ...   \n",
       "9115     1.350075    -1.491537     11.2240   -11.65100   14.670334  ...   \n",
       "9116     2.981144     0.086304      6.9951   -11.76400    5.329897  ...   \n",
       "9117     0.449237    -0.728367      3.7801    -8.36910    5.683022  ...   \n",
       "9118     4.491114    -0.582724      6.1216    -8.85710    4.162963  ...   \n",
       "9119     1.688626    -0.266325      5.8603    -6.91970    4.017098  ...   \n",
       "\n",
       "      LL_ymag_std  LL_ymag_skew  LL_zmag_mean  LL_zmag_max  LL_zmag_min  \\\n",
       "0        0.000792      0.177075     -0.057119    -0.054963    -0.059241   \n",
       "1        0.000860     -0.286918     -0.057268    -0.054945    -0.059589   \n",
       "2        0.000762     -0.134430     -0.057068    -0.054711    -0.059065   \n",
       "3        0.000735      0.021485     -0.056422    -0.053670    -0.058310   \n",
       "4        0.000824     -0.148229     -0.055801    -0.053313    -0.057815   \n",
       "...           ...           ...           ...          ...          ...   \n",
       "9115     0.200829     -0.040701      0.297666     0.708480    -0.117430   \n",
       "9116     0.148745     -0.266377      0.224716     0.554670    -0.250950   \n",
       "9117     0.310748     -0.009505     -0.237786     0.088854    -0.477260   \n",
       "9118     0.156493      0.050624      0.533023     0.677800     0.055941   \n",
       "9119     0.229154     -0.342228      0.491919     0.707920     0.251280   \n",
       "\n",
       "       LL_zmag_var  LL_zmag_std  LL_zmag_skew    activity  people  \n",
       "0     6.778722e-07     0.000823      0.036729     sitting      p1  \n",
       "1     7.032302e-07     0.000839      0.347471     sitting      p1  \n",
       "2     6.268222e-07     0.000792      0.045579     sitting      p1  \n",
       "3     8.011245e-07     0.000895      0.240690     sitting      p1  \n",
       "4     6.853423e-07     0.000828      0.258429     sitting      p1  \n",
       "...            ...          ...           ...         ...     ...  \n",
       "9115  4.135451e-02     0.203358     -0.310022  basketBall      p8  \n",
       "9116  3.355704e-02     0.183186     -0.736410  basketBall      p8  \n",
       "9117  2.026107e-02     0.142341      0.668438  basketBall      p8  \n",
       "9118  1.356379e-02     0.116464     -1.482489  basketBall      p8  \n",
       "9119  9.358254e-03     0.096738     -0.223302  basketBall      p8  \n",
       "\n",
       "[9120 rows x 272 columns]"
      ]
     },
     "execution_count": 2,
     "metadata": {},
     "output_type": "execute_result"
    }
   ],
   "source": [
    "df = pd.read_csv('./datasets/DSA_features.csv')\n",
    "df"
   ]
  },
  {
   "cell_type": "code",
   "execution_count": 3,
   "id": "5dee89e3-6a40-4077-8ada-08570bc78ec9",
   "metadata": {},
   "outputs": [
    {
     "name": "stdout",
     "output_type": "stream",
     "text": [
      "Index(['T_xacc_mean', 'T_xacc_max', 'T_xacc_min', 'T_xacc_var', 'T_xacc_std',\n",
      "       'T_xacc_skew', 'T_yacc_mean', 'T_yacc_max', 'T_yacc_min', 'T_yacc_var',\n",
      "       ...\n",
      "       'LL_ymag_std', 'LL_ymag_skew', 'LL_zmag_mean', 'LL_zmag_max',\n",
      "       'LL_zmag_min', 'LL_zmag_var', 'LL_zmag_std', 'LL_zmag_skew', 'activity',\n",
      "       'people'],\n",
      "      dtype='object', length=272)\n"
     ]
    }
   ],
   "source": [
    "print(df.columns)"
   ]
  },
  {
   "cell_type": "code",
   "execution_count": 73,
   "id": "da14fd71-7009-4afc-b349-6342e77b1911",
   "metadata": {},
   "outputs": [
    {
     "name": "stdout",
     "output_type": "stream",
     "text": [
      "T_xacc_mean\n",
      "T_xacc_max\n",
      "T_xacc_min\n",
      "T_xacc_var\n",
      "T_xacc_std\n",
      "T_xacc_skew\n",
      "T_yacc_mean\n",
      "T_yacc_max\n",
      "T_yacc_min\n",
      "T_yacc_var\n",
      "T_yacc_std\n",
      "T_yacc_skew\n",
      "T_zacc_mean\n",
      "T_zacc_max\n",
      "T_zacc_min\n",
      "T_zacc_var\n",
      "T_zacc_std\n",
      "T_zacc_skew\n",
      "T_xgyro_mean\n",
      "T_xgyro_max\n",
      "T_xgyro_min\n",
      "T_xgyro_var\n",
      "T_xgyro_std\n",
      "T_xgyro_skew\n",
      "T_ygyro_mean\n",
      "T_ygyro_max\n",
      "T_ygyro_min\n",
      "T_ygyro_var\n",
      "T_ygyro_std\n",
      "T_ygyro_skew\n",
      "T_zgyro_mean\n",
      "T_zgyro_max\n",
      "T_zgyro_min\n",
      "T_zgyro_var\n",
      "T_zgyro_std\n",
      "T_zgyro_skew\n",
      "T_xmag_mean\n",
      "T_xmag_max\n",
      "T_xmag_min\n",
      "T_xmag_var\n",
      "T_xmag_std\n",
      "T_xmag_skew\n",
      "T_ymag_mean\n",
      "T_ymag_max\n",
      "T_ymag_min\n",
      "T_ymag_var\n",
      "T_ymag_std\n",
      "T_ymag_skew\n",
      "T_zmag_mean\n",
      "T_zmag_max\n",
      "T_zmag_min\n",
      "T_zmag_var\n",
      "T_zmag_std\n",
      "T_zmag_skew\n",
      "RA_xacc_mean\n",
      "RA_xacc_max\n",
      "RA_xacc_min\n",
      "RA_xacc_var\n",
      "RA_xacc_std\n",
      "RA_xacc_skew\n",
      "RA_yacc_mean\n",
      "RA_yacc_max\n",
      "RA_yacc_min\n",
      "RA_yacc_var\n",
      "RA_yacc_std\n",
      "RA_yacc_skew\n",
      "RA_zacc_mean\n",
      "RA_zacc_max\n",
      "RA_zacc_min\n",
      "RA_zacc_var\n",
      "RA_zacc_std\n",
      "RA_zacc_skew\n",
      "RA_xgyro_mean\n",
      "RA_xgyro_max\n",
      "RA_xgyro_min\n",
      "RA_xgyro_var\n",
      "RA_xgyro_std\n",
      "RA_xgyro_skew\n",
      "RA_ygyro_mean\n",
      "RA_ygyro_max\n",
      "RA_ygyro_min\n",
      "RA_ygyro_var\n",
      "RA_ygyro_std\n",
      "RA_ygyro_skew\n",
      "RA_zgyro_mean\n",
      "RA_zgyro_max\n",
      "RA_zgyro_min\n",
      "RA_zgyro_var\n",
      "RA_zgyro_std\n",
      "RA_zgyro_skew\n",
      "RA_xmag_mean\n",
      "RA_xmag_max\n",
      "RA_xmag_min\n",
      "RA_xmag_var\n",
      "RA_xmag_std\n",
      "RA_xmag_skew\n",
      "RA_ymag_mean\n",
      "RA_ymag_max\n",
      "RA_ymag_min\n",
      "RA_ymag_var\n",
      "RA_ymag_std\n",
      "RA_ymag_skew\n",
      "RA_zmag_mean\n",
      "RA_zmag_max\n",
      "RA_zmag_min\n",
      "RA_zmag_var\n",
      "RA_zmag_std\n",
      "RA_zmag_skew\n",
      "LA_xacc_mean\n",
      "LA_xacc_max\n",
      "LA_xacc_min\n",
      "LA_xacc_var\n",
      "LA_xacc_std\n",
      "LA_xacc_skew\n",
      "LA_yacc_mean\n",
      "LA_yacc_max\n",
      "LA_yacc_min\n",
      "LA_yacc_var\n",
      "LA_yacc_std\n",
      "LA_yacc_skew\n",
      "LA_zacc_mean\n",
      "LA_zacc_max\n",
      "LA_zacc_min\n",
      "LA_zacc_var\n",
      "LA_zacc_std\n",
      "LA_zacc_skew\n",
      "LA_xgyro_mean\n",
      "LA_xgyro_max\n",
      "LA_xgyro_min\n",
      "LA_xgyro_var\n",
      "LA_xgyro_std\n",
      "LA_xgyro_skew\n",
      "LA_ygyro_mean\n",
      "LA_ygyro_max\n",
      "LA_ygyro_min\n",
      "LA_ygyro_var\n",
      "LA_ygyro_std\n",
      "LA_ygyro_skew\n",
      "LA_zgyro_mean\n",
      "LA_zgyro_max\n",
      "LA_zgyro_min\n",
      "LA_zgyro_var\n",
      "LA_zgyro_std\n",
      "LA_zgyro_skew\n",
      "LA_xmag_mean\n",
      "LA_xmag_max\n",
      "LA_xmag_min\n",
      "LA_xmag_var\n",
      "LA_xmag_std\n",
      "LA_xmag_skew\n",
      "LA_ymag_mean\n",
      "LA_ymag_max\n",
      "LA_ymag_min\n",
      "LA_ymag_var\n",
      "LA_ymag_std\n",
      "LA_ymag_skew\n",
      "LA_zmag_mean\n",
      "LA_zmag_max\n",
      "LA_zmag_min\n",
      "LA_zmag_var\n",
      "LA_zmag_std\n",
      "LA_zmag_skew\n",
      "RL_xacc_mean\n",
      "RL_xacc_max\n",
      "RL_xacc_min\n",
      "RL_xacc_var\n",
      "RL_xacc_std\n",
      "RL_xacc_skew\n",
      "RL_yacc_mean\n",
      "RL_yacc_max\n",
      "RL_yacc_min\n",
      "RL_yacc_var\n",
      "RL_yacc_std\n",
      "RL_yacc_skew\n",
      "RL_zacc_mean\n",
      "RL_zacc_max\n",
      "RL_zacc_min\n",
      "RL_zacc_var\n",
      "RL_zacc_std\n",
      "RL_zacc_skew\n",
      "RL_xgyro_mean\n",
      "RL_xgyro_max\n",
      "RL_xgyro_min\n",
      "RL_xgyro_var\n",
      "RL_xgyro_std\n",
      "RL_xgyro_skew\n",
      "RL_ygyro_mean\n",
      "RL_ygyro_max\n",
      "RL_ygyro_min\n",
      "RL_ygyro_var\n",
      "RL_ygyro_std\n",
      "RL_ygyro_skew\n",
      "RL_zgyro_mean\n",
      "RL_zgyro_max\n",
      "RL_zgyro_min\n",
      "RL_zgyro_var\n",
      "RL_zgyro_std\n",
      "RL_zgyro_skew\n",
      "RL_xmag_mean\n",
      "RL_xmag_max\n",
      "RL_xmag_min\n",
      "RL_xmag_var\n",
      "RL_xmag_std\n",
      "RL_xmag_skew\n",
      "RL_ymag_mean\n",
      "RL_ymag_max\n",
      "RL_ymag_min\n",
      "RL_ymag_var\n",
      "RL_ymag_std\n",
      "RL_ymag_skew\n",
      "RL_zmag_mean\n",
      "RL_zmag_max\n",
      "RL_zmag_min\n",
      "RL_zmag_var\n",
      "RL_zmag_std\n",
      "RL_zmag_skew\n",
      "LL_xacc_mean\n",
      "LL_xacc_max\n",
      "LL_xacc_min\n",
      "LL_xacc_var\n",
      "LL_xacc_std\n",
      "LL_xacc_skew\n",
      "LL_yacc_mean\n",
      "LL_yacc_max\n",
      "LL_yacc_min\n",
      "LL_yacc_var\n",
      "LL_yacc_std\n",
      "LL_yacc_skew\n",
      "LL_zacc_mean\n",
      "LL_zacc_max\n",
      "LL_zacc_min\n",
      "LL_zacc_var\n",
      "LL_zacc_std\n",
      "LL_zacc_skew\n",
      "LL_xgyro_mean\n",
      "LL_xgyro_max\n",
      "LL_xgyro_min\n",
      "LL_xgyro_var\n",
      "LL_xgyro_std\n",
      "LL_xgyro_skew\n",
      "LL_ygyro_mean\n",
      "LL_ygyro_max\n",
      "LL_ygyro_min\n",
      "LL_ygyro_var\n",
      "LL_ygyro_std\n",
      "LL_ygyro_skew\n",
      "LL_zgyro_mean\n",
      "LL_zgyro_max\n",
      "LL_zgyro_min\n",
      "LL_zgyro_var\n",
      "LL_zgyro_std\n",
      "LL_zgyro_skew\n",
      "LL_xmag_mean\n",
      "LL_xmag_max\n",
      "LL_xmag_min\n",
      "LL_xmag_var\n",
      "LL_xmag_std\n",
      "LL_xmag_skew\n",
      "LL_ymag_mean\n",
      "LL_ymag_max\n",
      "LL_ymag_min\n",
      "LL_ymag_var\n",
      "LL_ymag_std\n",
      "LL_ymag_skew\n",
      "LL_zmag_mean\n",
      "LL_zmag_max\n",
      "LL_zmag_min\n",
      "LL_zmag_var\n",
      "LL_zmag_std\n",
      "LL_zmag_skew\n",
      "activity\n",
      "people\n"
     ]
    }
   ],
   "source": [
    "for column in df.columns:\n",
    "    print(column)\n",
    "\n",
    "# T: Total(?)\n",
    "# RA: Right Arm\n",
    "# LA: Left Arm\n",
    "# RL: Right Leg\n",
    "# LL: Left Leg\n",
    "# activity: label. 신체 부위 값에 따른 현재 활동 구분\n",
    "# people"
   ]
  },
  {
   "cell_type": "code",
   "execution_count": 5,
   "id": "c0ee533b-26e0-41c1-9b05-bae82c72a718",
   "metadata": {},
   "outputs": [
    {
     "data": {
      "text/plain": [
       "activity\n",
       "sitting                    480\n",
       "walkingTreadmillIncline    480\n",
       "jumping                    480\n",
       "rowing                     480\n",
       "cyclingVertical            480\n",
       "cyclingHorizontal          480\n",
       "crossTrainer               480\n",
       "stepper                    480\n",
       "runningTreadmill           480\n",
       "walkingTreadmillFlat       480\n",
       "standing                   480\n",
       "walkingLot                 480\n",
       "movingInElevator           480\n",
       "standingInElevatorStill    480\n",
       "decendingStairs            480\n",
       "ascendingStairs            480\n",
       "lyingRigh                  480\n",
       "lyingBack                  480\n",
       "basketBall                 480\n",
       "Name: count, dtype: int64"
      ]
     },
     "execution_count": 5,
     "metadata": {},
     "output_type": "execute_result"
    }
   ],
   "source": [
    "df['activity'].value_counts()"
   ]
  },
  {
   "cell_type": "code",
   "execution_count": 6,
   "id": "7bb81664-8a50-4240-9d9c-b092122c44d5",
   "metadata": {},
   "outputs": [
    {
     "data": {
      "text/plain": [
       "Text(0, 0.5, 'Count')"
      ]
     },
     "execution_count": 6,
     "metadata": {},
     "output_type": "execute_result"
    },
    {
     "data": {
      "image/png": "[encoded data removed]",
      "text/plain": [
       "<Figure size 640x480 with 1 Axes>"
      ]
     },
     "metadata": {},
     "output_type": "display_data"
    }
   ],
   "source": [
    "# 레이블별 갯수 확인\n",
    "label_counts = df['activity'].value_counts()\n",
    "\n",
    "# 바 그래프 그리기\n",
    "label_counts.plot(kind='bar')\n",
    "\n",
    "# 그래프 제목 및 라벨 설정\n",
    "plt.title('Label Count')\n",
    "plt.xlabel('Labels')\n",
    "plt.ylabel('Count')"
   ]
  },
  {
   "cell_type": "markdown",
   "id": "495229f3-ffb9-493d-84c5-5ced1b3484d6",
   "metadata": {},
   "source": [
    "# 2. Load the dataset(2) - \bRA와 LA dataset를 각각 따로 분리"
   ]
  },
  {
   "cell_type": "code",
   "execution_count": 7,
   "id": "97403e62-9475-4e10-8556-a861ef2d106a",
   "metadata": {},
   "outputs": [],
   "source": [
    "# ReftArm과 LightArm만 각각 따로 분리해서 dataset 만들기\n",
    "df_RA = df.filter(regex='RA_')\n",
    "df_LA = df.filter(regex='LA_')"
   ]
  },
  {
   "cell_type": "markdown",
   "id": "e28da88d-850a-4ac4-9359-113e9f17c680",
   "metadata": {},
   "source": [
    "> **cf. [`pandas.DataFrame.filter`](https://pandas.pydata.org/pandas-docs/dev/reference/api/pandas.DataFrame.filter.html#pandas-dataframe-filter)**  \n",
    "> ```python\n",
    "> DataFrame.filter(items=None, like=None, regex=None, axis=None)\n",
    "> ```\n",
    "> * * *\n",
    "> Subset the DataFrame or Series according to the specified index labels.  \n",
    "For DataFrame, filter rows or columns depending on axis argument. Note that this routine does not filter based on content. The filter is applied to the labels of the index.  \n",
    "> `regex str (regular expression)`\n",
    "Keep labels from axis for which re.search(regex, label) == True.\n",
    "> * * * \n",
    "> 조건에 일치하는 columns(rows)만 Keep하고 나머지는 다 필터링한 뒤에 리턴한다."
   ]
  },
  {
   "cell_type": "code",
   "execution_count": 8,
   "id": "c50f5cf5-c848-4d37-a39b-37c6a5009936",
   "metadata": {},
   "outputs": [],
   "source": [
    "# label로 사용할 'activity'를 dataset에 추가\n",
    "df_RA.insert(3, 'activity', df['activity'])\n",
    "df_LA.insert(3, 'activity', df['activity'])"
   ]
  },
  {
   "cell_type": "code",
   "execution_count": 9,
   "id": "83419849-253d-4ddd-9a7f-defc8227aefb",
   "metadata": {},
   "outputs": [
    {
     "data": {
      "text/html": [
       "<div>\n",
       "<style scoped>\n",
       "    .dataframe tbody tr th:only-of-type {\n",
       "        vertical-align: middle;\n",
       "    }\n",
       "\n",
       "    .dataframe tbody tr th {\n",
       "        vertical-align: top;\n",
       "    }\n",
       "\n",
       "    .dataframe thead th {\n",
       "        text-align: right;\n",
       "    }\n",
       "</style>\n",
       "<table border=\"1\" class=\"dataframe\">\n",
       "  <thead>\n",
       "    <tr style=\"text-align: right;\">\n",
       "      <th></th>\n",
       "      <th>RA_xacc_mean</th>\n",
       "      <th>RA_xacc_max</th>\n",
       "      <th>RA_xacc_min</th>\n",
       "      <th>activity</th>\n",
       "      <th>RA_xacc_var</th>\n",
       "      <th>RA_xacc_std</th>\n",
       "      <th>RA_xacc_skew</th>\n",
       "      <th>RA_yacc_mean</th>\n",
       "      <th>RA_yacc_max</th>\n",
       "      <th>RA_yacc_min</th>\n",
       "      <th>...</th>\n",
       "      <th>RA_ymag_min</th>\n",
       "      <th>RA_ymag_var</th>\n",
       "      <th>RA_ymag_std</th>\n",
       "      <th>RA_ymag_skew</th>\n",
       "      <th>RA_zmag_mean</th>\n",
       "      <th>RA_zmag_max</th>\n",
       "      <th>RA_zmag_min</th>\n",
       "      <th>RA_zmag_var</th>\n",
       "      <th>RA_zmag_std</th>\n",
       "      <th>RA_zmag_skew</th>\n",
       "    </tr>\n",
       "  </thead>\n",
       "  <tbody>\n",
       "    <tr>\n",
       "      <th>0</th>\n",
       "      <td>0.679134</td>\n",
       "      <td>0.75930</td>\n",
       "      <td>0.58542</td>\n",
       "      <td>sitting</td>\n",
       "      <td>0.001546</td>\n",
       "      <td>0.039324</td>\n",
       "      <td>-0.415694</td>\n",
       "      <td>5.713088</td>\n",
       "      <td>5.8483</td>\n",
       "      <td>5.5956</td>\n",
       "      <td>...</td>\n",
       "      <td>-0.57428</td>\n",
       "      <td>0.000012</td>\n",
       "      <td>0.003401</td>\n",
       "      <td>-0.052190</td>\n",
       "      <td>-0.211136</td>\n",
       "      <td>-0.18401</td>\n",
       "      <td>-0.24523</td>\n",
       "      <td>0.000044</td>\n",
       "      <td>0.006638</td>\n",
       "      <td>-1.153902</td>\n",
       "    </tr>\n",
       "    <tr>\n",
       "      <th>1</th>\n",
       "      <td>0.644964</td>\n",
       "      <td>0.73158</td>\n",
       "      <td>0.53064</td>\n",
       "      <td>sitting</td>\n",
       "      <td>0.001333</td>\n",
       "      <td>0.036508</td>\n",
       "      <td>0.410625</td>\n",
       "      <td>5.795154</td>\n",
       "      <td>5.9546</td>\n",
       "      <td>5.6687</td>\n",
       "      <td>...</td>\n",
       "      <td>-0.57398</td>\n",
       "      <td>0.000005</td>\n",
       "      <td>0.002216</td>\n",
       "      <td>0.222740</td>\n",
       "      <td>-0.206431</td>\n",
       "      <td>-0.18054</td>\n",
       "      <td>-0.23624</td>\n",
       "      <td>0.000032</td>\n",
       "      <td>0.005660</td>\n",
       "      <td>0.458427</td>\n",
       "    </tr>\n",
       "    <tr>\n",
       "      <th>2</th>\n",
       "      <td>0.608212</td>\n",
       "      <td>0.67737</td>\n",
       "      <td>0.53546</td>\n",
       "      <td>sitting</td>\n",
       "      <td>0.000637</td>\n",
       "      <td>0.025244</td>\n",
       "      <td>0.153302</td>\n",
       "      <td>5.833086</td>\n",
       "      <td>5.8918</td>\n",
       "      <td>5.7656</td>\n",
       "      <td>...</td>\n",
       "      <td>-0.57563</td>\n",
       "      <td>0.000004</td>\n",
       "      <td>0.001954</td>\n",
       "      <td>-0.221765</td>\n",
       "      <td>-0.205648</td>\n",
       "      <td>-0.18342</td>\n",
       "      <td>-0.22933</td>\n",
       "      <td>0.000024</td>\n",
       "      <td>0.004868</td>\n",
       "      <td>-0.984915</td>\n",
       "    </tr>\n",
       "    <tr>\n",
       "      <th>3</th>\n",
       "      <td>0.591138</td>\n",
       "      <td>0.71177</td>\n",
       "      <td>0.51524</td>\n",
       "      <td>sitting</td>\n",
       "      <td>0.001349</td>\n",
       "      <td>0.036731</td>\n",
       "      <td>0.525019</td>\n",
       "      <td>5.863846</td>\n",
       "      <td>5.9645</td>\n",
       "      <td>5.7556</td>\n",
       "      <td>...</td>\n",
       "      <td>-0.57858</td>\n",
       "      <td>0.000007</td>\n",
       "      <td>0.002688</td>\n",
       "      <td>0.075011</td>\n",
       "      <td>-0.203739</td>\n",
       "      <td>-0.17999</td>\n",
       "      <td>-0.22958</td>\n",
       "      <td>0.000026</td>\n",
       "      <td>0.005099</td>\n",
       "      <td>0.185634</td>\n",
       "    </tr>\n",
       "    <tr>\n",
       "      <th>4</th>\n",
       "      <td>0.558168</td>\n",
       "      <td>0.67190</td>\n",
       "      <td>0.50535</td>\n",
       "      <td>sitting</td>\n",
       "      <td>0.000626</td>\n",
       "      <td>0.025020</td>\n",
       "      <td>1.076782</td>\n",
       "      <td>5.884745</td>\n",
       "      <td>5.9401</td>\n",
       "      <td>5.8384</td>\n",
       "      <td>...</td>\n",
       "      <td>-0.57996</td>\n",
       "      <td>0.000005</td>\n",
       "      <td>0.002278</td>\n",
       "      <td>-0.219440</td>\n",
       "      <td>-0.203684</td>\n",
       "      <td>-0.17904</td>\n",
       "      <td>-0.22924</td>\n",
       "      <td>0.000027</td>\n",
       "      <td>0.005175</td>\n",
       "      <td>-0.820907</td>\n",
       "    </tr>\n",
       "    <tr>\n",
       "      <th>...</th>\n",
       "      <td>...</td>\n",
       "      <td>...</td>\n",
       "      <td>...</td>\n",
       "      <td>...</td>\n",
       "      <td>...</td>\n",
       "      <td>...</td>\n",
       "      <td>...</td>\n",
       "      <td>...</td>\n",
       "      <td>...</td>\n",
       "      <td>...</td>\n",
       "      <td>...</td>\n",
       "      <td>...</td>\n",
       "      <td>...</td>\n",
       "      <td>...</td>\n",
       "      <td>...</td>\n",
       "      <td>...</td>\n",
       "      <td>...</td>\n",
       "      <td>...</td>\n",
       "      <td>...</td>\n",
       "      <td>...</td>\n",
       "      <td>...</td>\n",
       "    </tr>\n",
       "    <tr>\n",
       "      <th>9115</th>\n",
       "      <td>8.690373</td>\n",
       "      <td>30.46300</td>\n",
       "      <td>-4.90150</td>\n",
       "      <td>basketBall</td>\n",
       "      <td>47.192912</td>\n",
       "      <td>6.869710</td>\n",
       "      <td>0.650080</td>\n",
       "      <td>2.187710</td>\n",
       "      <td>41.3410</td>\n",
       "      <td>-10.1410</td>\n",
       "      <td>...</td>\n",
       "      <td>-0.89670</td>\n",
       "      <td>0.177217</td>\n",
       "      <td>0.420971</td>\n",
       "      <td>1.232819</td>\n",
       "      <td>-0.120793</td>\n",
       "      <td>0.58641</td>\n",
       "      <td>-0.61373</td>\n",
       "      <td>0.077901</td>\n",
       "      <td>0.279107</td>\n",
       "      <td>0.611462</td>\n",
       "    </tr>\n",
       "    <tr>\n",
       "      <th>9116</th>\n",
       "      <td>6.477090</td>\n",
       "      <td>48.54700</td>\n",
       "      <td>-9.96820</td>\n",
       "      <td>basketBall</td>\n",
       "      <td>44.135927</td>\n",
       "      <td>6.643488</td>\n",
       "      <td>1.675812</td>\n",
       "      <td>5.845459</td>\n",
       "      <td>33.7910</td>\n",
       "      <td>-48.3200</td>\n",
       "      <td>...</td>\n",
       "      <td>-0.85305</td>\n",
       "      <td>0.158099</td>\n",
       "      <td>0.397617</td>\n",
       "      <td>1.560701</td>\n",
       "      <td>-0.133269</td>\n",
       "      <td>0.51707</td>\n",
       "      <td>-0.52776</td>\n",
       "      <td>0.058400</td>\n",
       "      <td>0.241661</td>\n",
       "      <td>0.574120</td>\n",
       "    </tr>\n",
       "    <tr>\n",
       "      <th>9117</th>\n",
       "      <td>6.309986</td>\n",
       "      <td>27.29900</td>\n",
       "      <td>-8.43140</td>\n",
       "      <td>basketBall</td>\n",
       "      <td>57.018917</td>\n",
       "      <td>7.551087</td>\n",
       "      <td>0.108921</td>\n",
       "      <td>6.342772</td>\n",
       "      <td>27.0570</td>\n",
       "      <td>-6.6706</td>\n",
       "      <td>...</td>\n",
       "      <td>-0.83512</td>\n",
       "      <td>0.126188</td>\n",
       "      <td>0.355229</td>\n",
       "      <td>1.598340</td>\n",
       "      <td>-0.567238</td>\n",
       "      <td>-0.14483</td>\n",
       "      <td>-0.82409</td>\n",
       "      <td>0.023408</td>\n",
       "      <td>0.152998</td>\n",
       "      <td>0.598665</td>\n",
       "    </tr>\n",
       "    <tr>\n",
       "      <th>9118</th>\n",
       "      <td>5.020496</td>\n",
       "      <td>30.16600</td>\n",
       "      <td>-20.25100</td>\n",
       "      <td>basketBall</td>\n",
       "      <td>67.001032</td>\n",
       "      <td>8.185416</td>\n",
       "      <td>0.157547</td>\n",
       "      <td>5.824265</td>\n",
       "      <td>27.6300</td>\n",
       "      <td>-19.8830</td>\n",
       "      <td>...</td>\n",
       "      <td>-0.87361</td>\n",
       "      <td>0.174494</td>\n",
       "      <td>0.417725</td>\n",
       "      <td>0.758435</td>\n",
       "      <td>0.211566</td>\n",
       "      <td>0.67931</td>\n",
       "      <td>-0.22328</td>\n",
       "      <td>0.060114</td>\n",
       "      <td>0.245181</td>\n",
       "      <td>0.316989</td>\n",
       "    </tr>\n",
       "    <tr>\n",
       "      <th>9119</th>\n",
       "      <td>4.293377</td>\n",
       "      <td>31.57000</td>\n",
       "      <td>-22.85700</td>\n",
       "      <td>basketBall</td>\n",
       "      <td>105.947639</td>\n",
       "      <td>10.293087</td>\n",
       "      <td>0.223835</td>\n",
       "      <td>5.504619</td>\n",
       "      <td>27.3490</td>\n",
       "      <td>-13.7600</td>\n",
       "      <td>...</td>\n",
       "      <td>-0.88818</td>\n",
       "      <td>0.144466</td>\n",
       "      <td>0.380087</td>\n",
       "      <td>0.359933</td>\n",
       "      <td>0.146602</td>\n",
       "      <td>0.62601</td>\n",
       "      <td>-0.28631</td>\n",
       "      <td>0.055074</td>\n",
       "      <td>0.234679</td>\n",
       "      <td>0.123701</td>\n",
       "    </tr>\n",
       "  </tbody>\n",
       "</table>\n",
       "<p>9120 rows × 55 columns</p>\n",
       "</div>"
      ],
      "text/plain": [
       "      RA_xacc_mean  RA_xacc_max  RA_xacc_min    activity  RA_xacc_var  \\\n",
       "0         0.679134      0.75930      0.58542     sitting     0.001546   \n",
       "1         0.644964      0.73158      0.53064     sitting     0.001333   \n",
       "2         0.608212      0.67737      0.53546     sitting     0.000637   \n",
       "3         0.591138      0.71177      0.51524     sitting     0.001349   \n",
       "4         0.558168      0.67190      0.50535     sitting     0.000626   \n",
       "...            ...          ...          ...         ...          ...   \n",
       "9115      8.690373     30.46300     -4.90150  basketBall    47.192912   \n",
       "9116      6.477090     48.54700     -9.96820  basketBall    44.135927   \n",
       "9117      6.309986     27.29900     -8.43140  basketBall    57.018917   \n",
       "9118      5.020496     30.16600    -20.25100  basketBall    67.001032   \n",
       "9119      4.293377     31.57000    -22.85700  basketBall   105.947639   \n",
       "\n",
       "      RA_xacc_std  RA_xacc_skew  RA_yacc_mean  RA_yacc_max  RA_yacc_min  ...  \\\n",
       "0        0.039324     -0.415694      5.713088       5.8483       5.5956  ...   \n",
       "1        0.036508      0.410625      5.795154       5.9546       5.6687  ...   \n",
       "2        0.025244      0.153302      5.833086       5.8918       5.7656  ...   \n",
       "3        0.036731      0.525019      5.863846       5.9645       5.7556  ...   \n",
       "4        0.025020      1.076782      5.884745       5.9401       5.8384  ...   \n",
       "...           ...           ...           ...          ...          ...  ...   \n",
       "9115     6.869710      0.650080      2.187710      41.3410     -10.1410  ...   \n",
       "9116     6.643488      1.675812      5.845459      33.7910     -48.3200  ...   \n",
       "9117     7.551087      0.108921      6.342772      27.0570      -6.6706  ...   \n",
       "9118     8.185416      0.157547      5.824265      27.6300     -19.8830  ...   \n",
       "9119    10.293087      0.223835      5.504619      27.3490     -13.7600  ...   \n",
       "\n",
       "      RA_ymag_min  RA_ymag_var  RA_ymag_std  RA_ymag_skew  RA_zmag_mean  \\\n",
       "0        -0.57428     0.000012     0.003401     -0.052190     -0.211136   \n",
       "1        -0.57398     0.000005     0.002216      0.222740     -0.206431   \n",
       "2        -0.57563     0.000004     0.001954     -0.221765     -0.205648   \n",
       "3        -0.57858     0.000007     0.002688      0.075011     -0.203739   \n",
       "4        -0.57996     0.000005     0.002278     -0.219440     -0.203684   \n",
       "...           ...          ...          ...           ...           ...   \n",
       "9115     -0.89670     0.177217     0.420971      1.232819     -0.120793   \n",
       "9116     -0.85305     0.158099     0.397617      1.560701     -0.133269   \n",
       "9117     -0.83512     0.126188     0.355229      1.598340     -0.567238   \n",
       "9118     -0.87361     0.174494     0.417725      0.758435      0.211566   \n",
       "9119     -0.88818     0.144466     0.380087      0.359933      0.146602   \n",
       "\n",
       "      RA_zmag_max  RA_zmag_min  RA_zmag_var  RA_zmag_std  RA_zmag_skew  \n",
       "0        -0.18401     -0.24523     0.000044     0.006638     -1.153902  \n",
       "1        -0.18054     -0.23624     0.000032     0.005660      0.458427  \n",
       "2        -0.18342     -0.22933     0.000024     0.004868     -0.984915  \n",
       "3        -0.17999     -0.22958     0.000026     0.005099      0.185634  \n",
       "4        -0.17904     -0.22924     0.000027     0.005175     -0.820907  \n",
       "...           ...          ...          ...          ...           ...  \n",
       "9115      0.58641     -0.61373     0.077901     0.279107      0.611462  \n",
       "9116      0.51707     -0.52776     0.058400     0.241661      0.574120  \n",
       "9117     -0.14483     -0.82409     0.023408     0.152998      0.598665  \n",
       "9118      0.67931     -0.22328     0.060114     0.245181      0.316989  \n",
       "9119      0.62601     -0.28631     0.055074     0.234679      0.123701  \n",
       "\n",
       "[9120 rows x 55 columns]"
      ]
     },
     "execution_count": 9,
     "metadata": {},
     "output_type": "execute_result"
    }
   ],
   "source": [
    "df_RA"
   ]
  },
  {
   "cell_type": "code",
   "execution_count": 10,
   "id": "df40583a-6dd4-4434-8e6b-bef808c723b8",
   "metadata": {},
   "outputs": [
    {
     "data": {
      "text/html": [
       "<div>\n",
       "<style scoped>\n",
       "    .dataframe tbody tr th:only-of-type {\n",
       "        vertical-align: middle;\n",
       "    }\n",
       "\n",
       "    .dataframe tbody tr th {\n",
       "        vertical-align: top;\n",
       "    }\n",
       "\n",
       "    .dataframe thead th {\n",
       "        text-align: right;\n",
       "    }\n",
       "</style>\n",
       "<table border=\"1\" class=\"dataframe\">\n",
       "  <thead>\n",
       "    <tr style=\"text-align: right;\">\n",
       "      <th></th>\n",
       "      <th>LA_xacc_mean</th>\n",
       "      <th>LA_xacc_max</th>\n",
       "      <th>LA_xacc_min</th>\n",
       "      <th>activity</th>\n",
       "      <th>LA_xacc_var</th>\n",
       "      <th>LA_xacc_std</th>\n",
       "      <th>LA_xacc_skew</th>\n",
       "      <th>LA_yacc_mean</th>\n",
       "      <th>LA_yacc_max</th>\n",
       "      <th>LA_yacc_min</th>\n",
       "      <th>...</th>\n",
       "      <th>LA_ymag_min</th>\n",
       "      <th>LA_ymag_var</th>\n",
       "      <th>LA_ymag_std</th>\n",
       "      <th>LA_ymag_skew</th>\n",
       "      <th>LA_zmag_mean</th>\n",
       "      <th>LA_zmag_max</th>\n",
       "      <th>LA_zmag_min</th>\n",
       "      <th>LA_zmag_var</th>\n",
       "      <th>LA_zmag_std</th>\n",
       "      <th>LA_zmag_skew</th>\n",
       "    </tr>\n",
       "  </thead>\n",
       "  <tbody>\n",
       "    <tr>\n",
       "      <th>0</th>\n",
       "      <td>3.403317</td>\n",
       "      <td>3.4875</td>\n",
       "      <td>3.2682</td>\n",
       "      <td>sitting</td>\n",
       "      <td>0.001583</td>\n",
       "      <td>0.039790</td>\n",
       "      <td>-0.744647</td>\n",
       "      <td>-8.375713</td>\n",
       "      <td>-8.2927</td>\n",
       "      <td>-8.4821</td>\n",
       "      <td>...</td>\n",
       "      <td>0.33748</td>\n",
       "      <td>0.000003</td>\n",
       "      <td>0.001810</td>\n",
       "      <td>-0.215069</td>\n",
       "      <td>0.072273</td>\n",
       "      <td>0.076374</td>\n",
       "      <td>0.067940</td>\n",
       "      <td>0.000004</td>\n",
       "      <td>0.001910</td>\n",
       "      <td>-0.166015</td>\n",
       "    </tr>\n",
       "    <tr>\n",
       "      <th>1</th>\n",
       "      <td>3.427302</td>\n",
       "      <td>3.6630</td>\n",
       "      <td>3.3168</td>\n",
       "      <td>sitting</td>\n",
       "      <td>0.004305</td>\n",
       "      <td>0.065614</td>\n",
       "      <td>1.000107</td>\n",
       "      <td>-8.397591</td>\n",
       "      <td>-8.3118</td>\n",
       "      <td>-8.5017</td>\n",
       "      <td>...</td>\n",
       "      <td>0.33000</td>\n",
       "      <td>0.000017</td>\n",
       "      <td>0.004159</td>\n",
       "      <td>-0.611251</td>\n",
       "      <td>0.074557</td>\n",
       "      <td>0.085184</td>\n",
       "      <td>0.068169</td>\n",
       "      <td>0.000022</td>\n",
       "      <td>0.004643</td>\n",
       "      <td>0.717286</td>\n",
       "    </tr>\n",
       "    <tr>\n",
       "      <th>2</th>\n",
       "      <td>3.400870</td>\n",
       "      <td>3.5168</td>\n",
       "      <td>3.3315</td>\n",
       "      <td>sitting</td>\n",
       "      <td>0.001007</td>\n",
       "      <td>0.031732</td>\n",
       "      <td>0.978319</td>\n",
       "      <td>-8.439138</td>\n",
       "      <td>-8.3599</td>\n",
       "      <td>-8.5204</td>\n",
       "      <td>...</td>\n",
       "      <td>0.33307</td>\n",
       "      <td>0.000002</td>\n",
       "      <td>0.001316</td>\n",
       "      <td>-0.506255</td>\n",
       "      <td>0.075852</td>\n",
       "      <td>0.083227</td>\n",
       "      <td>0.072507</td>\n",
       "      <td>0.000004</td>\n",
       "      <td>0.002106</td>\n",
       "      <td>1.043919</td>\n",
       "    </tr>\n",
       "    <tr>\n",
       "      <th>3</th>\n",
       "      <td>3.391002</td>\n",
       "      <td>3.5311</td>\n",
       "      <td>3.2608</td>\n",
       "      <td>sitting</td>\n",
       "      <td>0.001792</td>\n",
       "      <td>0.042328</td>\n",
       "      <td>0.117935</td>\n",
       "      <td>-8.441421</td>\n",
       "      <td>-8.3207</td>\n",
       "      <td>-8.5446</td>\n",
       "      <td>...</td>\n",
       "      <td>0.33431</td>\n",
       "      <td>0.000002</td>\n",
       "      <td>0.001395</td>\n",
       "      <td>0.155251</td>\n",
       "      <td>0.074878</td>\n",
       "      <td>0.080059</td>\n",
       "      <td>0.069942</td>\n",
       "      <td>0.000006</td>\n",
       "      <td>0.002414</td>\n",
       "      <td>0.242524</td>\n",
       "    </tr>\n",
       "    <tr>\n",
       "      <th>4</th>\n",
       "      <td>3.359974</td>\n",
       "      <td>3.4434</td>\n",
       "      <td>3.3069</td>\n",
       "      <td>sitting</td>\n",
       "      <td>0.000633</td>\n",
       "      <td>0.025160</td>\n",
       "      <td>1.051627</td>\n",
       "      <td>-8.454854</td>\n",
       "      <td>-8.3202</td>\n",
       "      <td>-8.5561</td>\n",
       "      <td>...</td>\n",
       "      <td>0.33631</td>\n",
       "      <td>0.000001</td>\n",
       "      <td>0.001005</td>\n",
       "      <td>-0.299017</td>\n",
       "      <td>0.073398</td>\n",
       "      <td>0.077461</td>\n",
       "      <td>0.070175</td>\n",
       "      <td>0.000002</td>\n",
       "      <td>0.001482</td>\n",
       "      <td>0.606258</td>\n",
       "    </tr>\n",
       "    <tr>\n",
       "      <th>...</th>\n",
       "      <td>...</td>\n",
       "      <td>...</td>\n",
       "      <td>...</td>\n",
       "      <td>...</td>\n",
       "      <td>...</td>\n",
       "      <td>...</td>\n",
       "      <td>...</td>\n",
       "      <td>...</td>\n",
       "      <td>...</td>\n",
       "      <td>...</td>\n",
       "      <td>...</td>\n",
       "      <td>...</td>\n",
       "      <td>...</td>\n",
       "      <td>...</td>\n",
       "      <td>...</td>\n",
       "      <td>...</td>\n",
       "      <td>...</td>\n",
       "      <td>...</td>\n",
       "      <td>...</td>\n",
       "      <td>...</td>\n",
       "      <td>...</td>\n",
       "    </tr>\n",
       "    <tr>\n",
       "      <th>9115</th>\n",
       "      <td>8.834459</td>\n",
       "      <td>40.1640</td>\n",
       "      <td>-15.3980</td>\n",
       "      <td>basketBall</td>\n",
       "      <td>140.063928</td>\n",
       "      <td>11.834861</td>\n",
       "      <td>0.486128</td>\n",
       "      <td>-3.441297</td>\n",
       "      <td>39.7590</td>\n",
       "      <td>-53.6520</td>\n",
       "      <td>...</td>\n",
       "      <td>-0.87575</td>\n",
       "      <td>0.210911</td>\n",
       "      <td>0.459250</td>\n",
       "      <td>-0.421162</td>\n",
       "      <td>-0.529403</td>\n",
       "      <td>0.653000</td>\n",
       "      <td>-0.879310</td>\n",
       "      <td>0.123917</td>\n",
       "      <td>0.352018</td>\n",
       "      <td>1.813520</td>\n",
       "    </tr>\n",
       "    <tr>\n",
       "      <th>9116</th>\n",
       "      <td>6.647402</td>\n",
       "      <td>43.9160</td>\n",
       "      <td>-22.3060</td>\n",
       "      <td>basketBall</td>\n",
       "      <td>65.655140</td>\n",
       "      <td>8.102786</td>\n",
       "      <td>0.067916</td>\n",
       "      <td>-5.140474</td>\n",
       "      <td>26.7770</td>\n",
       "      <td>-41.9160</td>\n",
       "      <td>...</td>\n",
       "      <td>-0.77618</td>\n",
       "      <td>0.143162</td>\n",
       "      <td>0.378368</td>\n",
       "      <td>-1.307983</td>\n",
       "      <td>-0.466066</td>\n",
       "      <td>0.659650</td>\n",
       "      <td>-0.835960</td>\n",
       "      <td>0.167255</td>\n",
       "      <td>0.408968</td>\n",
       "      <td>1.483683</td>\n",
       "    </tr>\n",
       "    <tr>\n",
       "      <th>9117</th>\n",
       "      <td>3.108810</td>\n",
       "      <td>40.2770</td>\n",
       "      <td>-10.9500</td>\n",
       "      <td>basketBall</td>\n",
       "      <td>84.701543</td>\n",
       "      <td>9.203344</td>\n",
       "      <td>1.178224</td>\n",
       "      <td>-4.881662</td>\n",
       "      <td>43.4020</td>\n",
       "      <td>-27.3490</td>\n",
       "      <td>...</td>\n",
       "      <td>0.16648</td>\n",
       "      <td>0.035696</td>\n",
       "      <td>0.188933</td>\n",
       "      <td>-0.736037</td>\n",
       "      <td>-0.286489</td>\n",
       "      <td>0.632420</td>\n",
       "      <td>-0.837640</td>\n",
       "      <td>0.109532</td>\n",
       "      <td>0.330956</td>\n",
       "      <td>0.502392</td>\n",
       "    </tr>\n",
       "    <tr>\n",
       "      <th>9118</th>\n",
       "      <td>5.141190</td>\n",
       "      <td>68.5920</td>\n",
       "      <td>-43.1120</td>\n",
       "      <td>basketBall</td>\n",
       "      <td>137.860050</td>\n",
       "      <td>11.741382</td>\n",
       "      <td>1.219670</td>\n",
       "      <td>-3.365847</td>\n",
       "      <td>23.6960</td>\n",
       "      <td>-34.5820</td>\n",
       "      <td>...</td>\n",
       "      <td>-0.85130</td>\n",
       "      <td>0.205452</td>\n",
       "      <td>0.453268</td>\n",
       "      <td>0.171353</td>\n",
       "      <td>-0.567578</td>\n",
       "      <td>0.264780</td>\n",
       "      <td>-0.854420</td>\n",
       "      <td>0.059971</td>\n",
       "      <td>0.244890</td>\n",
       "      <td>1.467799</td>\n",
       "    </tr>\n",
       "    <tr>\n",
       "      <th>9119</th>\n",
       "      <td>3.479606</td>\n",
       "      <td>65.9370</td>\n",
       "      <td>-36.2990</td>\n",
       "      <td>basketBall</td>\n",
       "      <td>181.700701</td>\n",
       "      <td>13.479640</td>\n",
       "      <td>1.245403</td>\n",
       "      <td>-3.535975</td>\n",
       "      <td>43.4110</td>\n",
       "      <td>-28.5330</td>\n",
       "      <td>...</td>\n",
       "      <td>-0.84444</td>\n",
       "      <td>0.273957</td>\n",
       "      <td>0.523409</td>\n",
       "      <td>0.275649</td>\n",
       "      <td>-0.415991</td>\n",
       "      <td>0.267410</td>\n",
       "      <td>-0.849240</td>\n",
       "      <td>0.076105</td>\n",
       "      <td>0.275871</td>\n",
       "      <td>0.349721</td>\n",
       "    </tr>\n",
       "  </tbody>\n",
       "</table>\n",
       "<p>9120 rows × 55 columns</p>\n",
       "</div>"
      ],
      "text/plain": [
       "      LA_xacc_mean  LA_xacc_max  LA_xacc_min    activity  LA_xacc_var  \\\n",
       "0         3.403317       3.4875       3.2682     sitting     0.001583   \n",
       "1         3.427302       3.6630       3.3168     sitting     0.004305   \n",
       "2         3.400870       3.5168       3.3315     sitting     0.001007   \n",
       "3         3.391002       3.5311       3.2608     sitting     0.001792   \n",
       "4         3.359974       3.4434       3.3069     sitting     0.000633   \n",
       "...            ...          ...          ...         ...          ...   \n",
       "9115      8.834459      40.1640     -15.3980  basketBall   140.063928   \n",
       "9116      6.647402      43.9160     -22.3060  basketBall    65.655140   \n",
       "9117      3.108810      40.2770     -10.9500  basketBall    84.701543   \n",
       "9118      5.141190      68.5920     -43.1120  basketBall   137.860050   \n",
       "9119      3.479606      65.9370     -36.2990  basketBall   181.700701   \n",
       "\n",
       "      LA_xacc_std  LA_xacc_skew  LA_yacc_mean  LA_yacc_max  LA_yacc_min  ...  \\\n",
       "0        0.039790     -0.744647     -8.375713      -8.2927      -8.4821  ...   \n",
       "1        0.065614      1.000107     -8.397591      -8.3118      -8.5017  ...   \n",
       "2        0.031732      0.978319     -8.439138      -8.3599      -8.5204  ...   \n",
       "3        0.042328      0.117935     -8.441421      -8.3207      -8.5446  ...   \n",
       "4        0.025160      1.051627     -8.454854      -8.3202      -8.5561  ...   \n",
       "...           ...           ...           ...          ...          ...  ...   \n",
       "9115    11.834861      0.486128     -3.441297      39.7590     -53.6520  ...   \n",
       "9116     8.102786      0.067916     -5.140474      26.7770     -41.9160  ...   \n",
       "9117     9.203344      1.178224     -4.881662      43.4020     -27.3490  ...   \n",
       "9118    11.741382      1.219670     -3.365847      23.6960     -34.5820  ...   \n",
       "9119    13.479640      1.245403     -3.535975      43.4110     -28.5330  ...   \n",
       "\n",
       "      LA_ymag_min  LA_ymag_var  LA_ymag_std  LA_ymag_skew  LA_zmag_mean  \\\n",
       "0         0.33748     0.000003     0.001810     -0.215069      0.072273   \n",
       "1         0.33000     0.000017     0.004159     -0.611251      0.074557   \n",
       "2         0.33307     0.000002     0.001316     -0.506255      0.075852   \n",
       "3         0.33431     0.000002     0.001395      0.155251      0.074878   \n",
       "4         0.33631     0.000001     0.001005     -0.299017      0.073398   \n",
       "...           ...          ...          ...           ...           ...   \n",
       "9115     -0.87575     0.210911     0.459250     -0.421162     -0.529403   \n",
       "9116     -0.77618     0.143162     0.378368     -1.307983     -0.466066   \n",
       "9117      0.16648     0.035696     0.188933     -0.736037     -0.286489   \n",
       "9118     -0.85130     0.205452     0.453268      0.171353     -0.567578   \n",
       "9119     -0.84444     0.273957     0.523409      0.275649     -0.415991   \n",
       "\n",
       "      LA_zmag_max  LA_zmag_min  LA_zmag_var  LA_zmag_std  LA_zmag_skew  \n",
       "0        0.076374     0.067940     0.000004     0.001910     -0.166015  \n",
       "1        0.085184     0.068169     0.000022     0.004643      0.717286  \n",
       "2        0.083227     0.072507     0.000004     0.002106      1.043919  \n",
       "3        0.080059     0.069942     0.000006     0.002414      0.242524  \n",
       "4        0.077461     0.070175     0.000002     0.001482      0.606258  \n",
       "...           ...          ...          ...          ...           ...  \n",
       "9115     0.653000    -0.879310     0.123917     0.352018      1.813520  \n",
       "9116     0.659650    -0.835960     0.167255     0.408968      1.483683  \n",
       "9117     0.632420    -0.837640     0.109532     0.330956      0.502392  \n",
       "9118     0.264780    -0.854420     0.059971     0.244890      1.467799  \n",
       "9119     0.267410    -0.849240     0.076105     0.275871      0.349721  \n",
       "\n",
       "[9120 rows x 55 columns]"
      ]
     },
     "execution_count": 10,
     "metadata": {},
     "output_type": "execute_result"
    }
   ],
   "source": [
    "df_LA"
   ]
  },
  {
   "cell_type": "code",
   "execution_count": 11,
   "id": "f478ab04-00db-465e-bec8-6d26027ecb56",
   "metadata": {},
   "outputs": [
    {
     "data": {
      "text/plain": [
       "activity\n",
       "sitting                    480\n",
       "walkingTreadmillIncline    480\n",
       "jumping                    480\n",
       "rowing                     480\n",
       "cyclingVertical            480\n",
       "cyclingHorizontal          480\n",
       "crossTrainer               480\n",
       "stepper                    480\n",
       "runningTreadmill           480\n",
       "walkingTreadmillFlat       480\n",
       "standing                   480\n",
       "walkingLot                 480\n",
       "movingInElevator           480\n",
       "standingInElevatorStill    480\n",
       "decendingStairs            480\n",
       "ascendingStairs            480\n",
       "lyingRigh                  480\n",
       "lyingBack                  480\n",
       "basketBall                 480\n",
       "Name: count, dtype: int64"
      ]
     },
     "execution_count": 11,
     "metadata": {},
     "output_type": "execute_result"
    }
   ],
   "source": [
    "df_RA['activity'].value_counts()"
   ]
  },
  {
   "cell_type": "code",
   "execution_count": 12,
   "id": "29cf6d6f-94a9-4cd6-9d05-e061da52b756",
   "metadata": {},
   "outputs": [
    {
     "data": {
      "text/plain": [
       "activity\n",
       "sitting                    480\n",
       "walkingTreadmillIncline    480\n",
       "jumping                    480\n",
       "rowing                     480\n",
       "cyclingVertical            480\n",
       "cyclingHorizontal          480\n",
       "crossTrainer               480\n",
       "stepper                    480\n",
       "runningTreadmill           480\n",
       "walkingTreadmillFlat       480\n",
       "standing                   480\n",
       "walkingLot                 480\n",
       "movingInElevator           480\n",
       "standingInElevatorStill    480\n",
       "decendingStairs            480\n",
       "ascendingStairs            480\n",
       "lyingRigh                  480\n",
       "lyingBack                  480\n",
       "basketBall                 480\n",
       "Name: count, dtype: int64"
      ]
     },
     "execution_count": 12,
     "metadata": {},
     "output_type": "execute_result"
    }
   ],
   "source": [
    "df_LA['activity'].value_counts()"
   ]
  },
  {
   "cell_type": "code",
   "execution_count": 13,
   "id": "304d34d2-daab-4d6e-84cf-adf088b1d346",
   "metadata": {},
   "outputs": [
    {
     "name": "stderr",
     "output_type": "stream",
     "text": [
      "/var/folders/m_/5z28qmvj575cs_9xldf0gyd80000gn/T/ipykernel_13261/1588367589.py:5: SettingWithCopyWarning: \n",
      "A value is trying to be set on a copy of a slice from a DataFrame.\n",
      "Try using .loc[row_indexer,col_indexer] = value instead\n",
      "\n",
      "See the caveats in the documentation: https://pandas.pydata.org/pandas-docs/stable/user_guide/indexing.html#returning-a-view-versus-a-copy\n",
      "  df_RA['activity'] = label_encoder.fit_transform(df_RA['activity'])\n",
      "/var/folders/m_/5z28qmvj575cs_9xldf0gyd80000gn/T/ipykernel_13261/1588367589.py:9: SettingWithCopyWarning: \n",
      "A value is trying to be set on a copy of a slice from a DataFrame.\n",
      "Try using .loc[row_indexer,col_indexer] = value instead\n",
      "\n",
      "See the caveats in the documentation: https://pandas.pydata.org/pandas-docs/stable/user_guide/indexing.html#returning-a-view-versus-a-copy\n",
      "  df_LA['activity'] = label_encoder.fit_transform(df_LA['activity'])\n"
     ]
    }
   ],
   "source": [
    "# string -> int로 바꾸는 LabelEncoder 사용\n",
    "from sklearn.preprocessing import LabelEncoder\n",
    "\n",
    "label_encoder = LabelEncoder()\n",
    "df_RA['activity'] = label_encoder.fit_transform(df_RA['activity'])\n",
    "\n",
    "# 별도의 LabelEncoder 객체를 사용해야 함\n",
    "label_encoder = LabelEncoder()\n",
    "df_LA['activity'] = label_encoder.fit_transform(df_LA['activity'])"
   ]
  },
  {
   "cell_type": "code",
   "execution_count": 14,
   "id": "dd257c08-38b6-45f6-85aa-8f174df72856",
   "metadata": {},
   "outputs": [
    {
     "data": {
      "text/plain": [
       "activity\n",
       "12    480\n",
       "18    480\n",
       "6     480\n",
       "10    480\n",
       "4     480\n",
       "3     480\n",
       "2     480\n",
       "15    480\n",
       "11    480\n",
       "17    480\n",
       "13    480\n",
       "16    480\n",
       "9     480\n",
       "14    480\n",
       "5     480\n",
       "0     480\n",
       "8     480\n",
       "7     480\n",
       "1     480\n",
       "Name: count, dtype: int64"
      ]
     },
     "execution_count": 14,
     "metadata": {},
     "output_type": "execute_result"
    }
   ],
   "source": [
    "df_RA['activity'].value_counts()\n",
    "\n",
    "# labeling success"
   ]
  },
  {
   "cell_type": "code",
   "execution_count": 15,
   "id": "212896ff-64f4-40aa-b091-04a183cdb24d",
   "metadata": {},
   "outputs": [
    {
     "data": {
      "text/plain": [
       "activity\n",
       "12    480\n",
       "18    480\n",
       "6     480\n",
       "10    480\n",
       "4     480\n",
       "3     480\n",
       "2     480\n",
       "15    480\n",
       "11    480\n",
       "17    480\n",
       "13    480\n",
       "16    480\n",
       "9     480\n",
       "14    480\n",
       "5     480\n",
       "0     480\n",
       "8     480\n",
       "7     480\n",
       "1     480\n",
       "Name: count, dtype: int64"
      ]
     },
     "execution_count": 15,
     "metadata": {},
     "output_type": "execute_result"
    }
   ],
   "source": [
    "df_LA['activity'].value_counts()\n",
    "\n",
    "# labeling success"
   ]
  },
  {
   "cell_type": "code",
   "execution_count": 16,
   "id": "6e224b9d-fd12-4a71-b34c-66f76cfbaf76",
   "metadata": {},
   "outputs": [
    {
     "name": "stdout",
     "output_type": "stream",
     "text": [
      "df_RA_X.head(): \n",
      "   RA_xacc_mean  RA_xacc_max  RA_xacc_min  RA_xacc_var  RA_xacc_std  \\\n",
      "0      0.679134      0.75930      0.58542     0.001546     0.039324   \n",
      "1      0.644964      0.73158      0.53064     0.001333     0.036508   \n",
      "2      0.608212      0.67737      0.53546     0.000637     0.025244   \n",
      "3      0.591138      0.71177      0.51524     0.001349     0.036731   \n",
      "4      0.558168      0.67190      0.50535     0.000626     0.025020   \n",
      "\n",
      "   RA_xacc_skew  RA_yacc_mean  RA_yacc_max  RA_yacc_min  RA_yacc_var  ...  \\\n",
      "0     -0.415694      5.713088       5.8483       5.5956     0.003779  ...   \n",
      "1      0.410625      5.795154       5.9546       5.6687     0.001132  ...   \n",
      "2      0.153302      5.833086       5.8918       5.7656     0.000488  ...   \n",
      "3      0.525019      5.863846       5.9645       5.7556     0.001423  ...   \n",
      "4      1.076782      5.884745       5.9401       5.8384     0.000471  ...   \n",
      "\n",
      "   RA_ymag_min  RA_ymag_var  RA_ymag_std  RA_ymag_skew  RA_zmag_mean  \\\n",
      "0     -0.57428     0.000012     0.003401     -0.052190     -0.211136   \n",
      "1     -0.57398     0.000005     0.002216      0.222740     -0.206431   \n",
      "2     -0.57563     0.000004     0.001954     -0.221765     -0.205648   \n",
      "3     -0.57858     0.000007     0.002688      0.075011     -0.203739   \n",
      "4     -0.57996     0.000005     0.002278     -0.219440     -0.203684   \n",
      "\n",
      "   RA_zmag_max  RA_zmag_min  RA_zmag_var  RA_zmag_std  RA_zmag_skew  \n",
      "0     -0.18401     -0.24523     0.000044     0.006638     -1.153902  \n",
      "1     -0.18054     -0.23624     0.000032     0.005660      0.458427  \n",
      "2     -0.18342     -0.22933     0.000024     0.004868     -0.984915  \n",
      "3     -0.17999     -0.22958     0.000026     0.005099      0.185634  \n",
      "4     -0.17904     -0.22924     0.000027     0.005175     -0.820907  \n",
      "\n",
      "[5 rows x 54 columns] \n",
      "\n",
      "df_RA_Y.head(): \n",
      "0    12\n",
      "1    12\n",
      "2    12\n",
      "3    12\n",
      "4    12\n",
      "Name: activity, dtype: int64\n"
     ]
    }
   ],
   "source": [
    "# X, y 분리\n",
    "df_RA_X = df_RA.drop('activity', axis=1)\n",
    "df_RA_Y = df_RA['activity']\n",
    "\n",
    "print(f\"df_RA_X.head(): \\n{df_RA_X.head()} \\n\")\n",
    "print(f\"df_RA_Y.head(): \\n{df_RA_Y.head()}\")"
   ]
  },
  {
   "cell_type": "code",
   "execution_count": 17,
   "id": "93f03696-60f0-4350-b724-07e5d4c676a0",
   "metadata": {},
   "outputs": [],
   "source": [
    "# train, test 분리\n",
    "from sklearn.model_selection import train_test_split\n",
    "\n",
    "X_train_RA, X_test_RA, y_train_RA, y_test_RA = train_test_split(df_RA_X,\n",
    "                                                                df_RA_Y,\n",
    "                                                                test_size=0.25,\n",
    "                                                                random_state=42)"
   ]
  },
  {
   "cell_type": "code",
   "execution_count": 18,
   "id": "e22e84de-35c4-4318-82c4-40ce348afa2d",
   "metadata": {},
   "outputs": [
    {
     "name": "stdout",
     "output_type": "stream",
     "text": [
      "df_LA_X.head(): \n",
      "   LA_xacc_mean  LA_xacc_max  LA_xacc_min  LA_xacc_var  LA_xacc_std  \\\n",
      "0      3.403317       3.4875       3.2682     0.001583     0.039790   \n",
      "1      3.427302       3.6630       3.3168     0.004305     0.065614   \n",
      "2      3.400870       3.5168       3.3315     0.001007     0.031732   \n",
      "3      3.391002       3.5311       3.2608     0.001792     0.042328   \n",
      "4      3.359974       3.4434       3.3069     0.000633     0.025160   \n",
      "\n",
      "   LA_xacc_skew  LA_yacc_mean  LA_yacc_max  LA_yacc_min  LA_yacc_var  ...  \\\n",
      "0     -0.744647     -8.375713      -8.2927      -8.4821     0.001178  ...   \n",
      "1      1.000107     -8.397591      -8.3118      -8.5017     0.001098  ...   \n",
      "2      0.978319     -8.439138      -8.3599      -8.5204     0.000684  ...   \n",
      "3      0.117935     -8.441421      -8.3207      -8.5446     0.001862  ...   \n",
      "4      1.051627     -8.454854      -8.3202      -8.5561     0.001061  ...   \n",
      "\n",
      "   LA_ymag_min  LA_ymag_var  LA_ymag_std  LA_ymag_skew  LA_zmag_mean  \\\n",
      "0      0.33748     0.000003     0.001810     -0.215069      0.072273   \n",
      "1      0.33000     0.000017     0.004159     -0.611251      0.074557   \n",
      "2      0.33307     0.000002     0.001316     -0.506255      0.075852   \n",
      "3      0.33431     0.000002     0.001395      0.155251      0.074878   \n",
      "4      0.33631     0.000001     0.001005     -0.299017      0.073398   \n",
      "\n",
      "   LA_zmag_max  LA_zmag_min  LA_zmag_var  LA_zmag_std  LA_zmag_skew  \n",
      "0     0.076374     0.067940     0.000004     0.001910     -0.166015  \n",
      "1     0.085184     0.068169     0.000022     0.004643      0.717286  \n",
      "2     0.083227     0.072507     0.000004     0.002106      1.043919  \n",
      "3     0.080059     0.069942     0.000006     0.002414      0.242524  \n",
      "4     0.077461     0.070175     0.000002     0.001482      0.606258  \n",
      "\n",
      "[5 rows x 54 columns] \n",
      "\n",
      "df_LA_Y.head(): \n",
      "0    12\n",
      "1    12\n",
      "2    12\n",
      "3    12\n",
      "4    12\n",
      "Name: activity, dtype: int64\n"
     ]
    }
   ],
   "source": [
    "# X, y 분리\n",
    "df_LA_X = df_LA.drop('activity', axis=1)\n",
    "df_LA_Y = df_LA['activity']\n",
    "\n",
    "print(f\"df_LA_X.head(): \\n{df_LA_X.head()} \\n\")\n",
    "print(f\"df_LA_Y.head(): \\n{df_LA_Y.head()}\")"
   ]
  },
  {
   "cell_type": "code",
   "execution_count": 19,
   "id": "62390029-5e72-422e-9ac1-50137e9622c0",
   "metadata": {},
   "outputs": [],
   "source": [
    "# train, test 분리\n",
    "from sklearn.model_selection import train_test_split\n",
    "\n",
    "X_train_LA, X_test_LA, y_train_LA, y_test_LA = train_test_split(df_LA_X,\n",
    "                                                                df_LA_Y,\n",
    "                                                                test_size=0.25,\n",
    "                                                                random_state=42)"
   ]
  },
  {
   "cell_type": "code",
   "execution_count": 20,
   "id": "3401ead8-6888-4770-8e3e-7285be4123bf",
   "metadata": {
    "scrolled": true
   },
   "outputs": [
    {
     "name": "stdout",
     "output_type": "stream",
     "text": [
      "X_train_RA.shape: (6840, 54)\n",
      "X_test_RA.shape: (2280, 54)\n",
      "y_train_RA.shape: (6840,)\n",
      "y_test_RA.shape: (2280,)\n"
     ]
    }
   ],
   "source": [
    "print(f\"X_train_RA.shape: {X_train_RA.shape}\")\n",
    "print(f\"X_test_RA.shape: {X_test_RA.shape}\")\n",
    "print(f\"y_train_RA.shape: {y_train_RA.shape}\")\n",
    "print(f\"y_test_RA.shape: {y_test_RA.shape}\")"
   ]
  },
  {
   "cell_type": "code",
   "execution_count": 21,
   "id": "1ff6b638-e7c2-4c16-9802-1dbfa4d5f1d5",
   "metadata": {},
   "outputs": [
    {
     "name": "stdout",
     "output_type": "stream",
     "text": [
      "X_train_LA.shape: (6840, 54)\n",
      "y_train_LA.shape: (6840,)\n",
      "X_test_LA.shape: (2280, 54)\n",
      "y_test_LA.shape: (2280,)\n"
     ]
    }
   ],
   "source": [
    "print(f\"X_train_LA.shape: {X_train_LA.shape}\")\n",
    "print(f\"y_train_LA.shape: {y_train_LA.shape}\")\n",
    "print(f\"X_test_LA.shape: {X_test_LA.shape}\")\n",
    "print(f\"y_test_LA.shape: {y_test_LA.shape}\")"
   ]
  },
  {
   "cell_type": "markdown",
   "id": "c819abb3-8489-4422-b34c-f1c51508eab3",
   "metadata": {},
   "source": [
    "## 2.1. Convert to Sequential dataset & One-hot Encoding"
   ]
  },
  {
   "cell_type": "code",
   "execution_count": 22,
   "id": "40e2cd26-f33e-403f-a737-1954e5258623",
   "metadata": {},
   "outputs": [],
   "source": [
    "# Sequential dataset 만들기\n",
    "from collections import Counter\n",
    "\n",
    "def split_sequences_classification_majority(data, labels, n_steps):\n",
    "    \"\"\"\n",
    "    비연속 데이터셋을 일정한 길이의 연속적인 시퀀스로 변환하는 함수\n",
    "    window에서 다수를 차지하는 label로 결정\n",
    "    \n",
    "    Args:\n",
    "    data: 원본 데이터 (리스트 또는 배열)\n",
    "    labels: 각 데이터에 해당하는 클래스 라벨 (리스트 또는 배열)\n",
    "    n_steps: 시퀀스의 길이 (정수)\n",
    "    \n",
    "    Returns:\n",
    "    X: 입력 시퀀스\n",
    "    y: 해당 시퀀스에 대한 다수 라벨\n",
    "    \"\"\"\n",
    "    X, y = [], []\n",
    "    \n",
    "    for i in range(len(data) - n_steps + 1):\n",
    "        # 시퀀스 추출\n",
    "        seq_x = data[i:i + n_steps]\n",
    "        seq_labels = labels[i:i + n_steps]\n",
    "        \n",
    "        # 시퀀스의 라벨 중 가장 빈번한 라벨을 선택 (다수결)\n",
    "        most_common_label = Counter(seq_labels).most_common(1)[0][0]\n",
    "        \n",
    "        X.append(seq_x)\n",
    "        y.append(most_common_label)\n",
    "    \n",
    "    return np.array(X), np.array(y)"
   ]
  },
  {
   "cell_type": "code",
   "execution_count": 23,
   "id": "fb7ca048-86d4-4910-98a8-7ab54ee76322",
   "metadata": {},
   "outputs": [
    {
     "name": "stdout",
     "output_type": "stream",
     "text": [
      "X_train_seq_RA.shape: (6838, 3, 54) y_train_seq_RA.shape: (6838,)\n",
      "X_test_seq_RA.shape: (2278, 3, 54) y_test_seq_RA.shape: (2278,)\n"
     ]
    }
   ],
   "source": [
    "# Sequential dataset 만들기 - RA\n",
    "n_steps = 3\n",
    "X_train_seq_RA, y_train_seq_RA = split_sequences_classification_majority(X_train_RA,\n",
    "                                                                         y_train_RA,\n",
    "                                                                         n_steps)\n",
    "\n",
    "X_test_seq_RA, y_test_seq_RA = split_sequences_classification_majority(X_test_RA,\n",
    "                                                                       y_test_RA,\n",
    "                                                                       n_steps)\n",
    "\n",
    "print(f\"X_train_seq_RA.shape: {X_train_seq_RA.shape}\", end=\" \")\n",
    "print(f\"y_train_seq_RA.shape: {y_train_seq_RA.shape}\")\n",
    "print(f\"X_test_seq_RA.shape: {X_test_seq_RA.shape}\", end=\" \")\n",
    "print(f\"y_test_seq_RA.shape: {y_test_seq_RA.shape}\")"
   ]
  },
  {
   "cell_type": "code",
   "execution_count": 24,
   "id": "1dd6c364-f675-4e64-88f4-8f23b30c5727",
   "metadata": {},
   "outputs": [
    {
     "name": "stderr",
     "output_type": "stream",
     "text": [
      "2024-09-24 17:36:45.593438: I tensorflow/core/platform/cpu_feature_guard.cc:193] This TensorFlow binary is optimized with oneAPI Deep Neural Network Library (oneDNN) to use the following CPU instructions in performance-critical operations:  SSE4.1 SSE4.2 AVX AVX2 FMA\n",
      "To enable them in other operations, rebuild TensorFlow with the appropriate compiler flags.\n"
     ]
    },
    {
     "name": "stdout",
     "output_type": "stream",
     "text": [
      "==== one-hot encoded ====\n",
      "y_train_seq_RA.shape: (6838, 19)\n",
      "y_test_seq_RA.shape: (2278, 19)\n"
     ]
    }
   ],
   "source": [
    "# one-hot encoding - RA\n",
    "from keras.utils import to_categorical\n",
    "\n",
    "y_train_seq_RA = to_categorical(y_train_seq_RA)\n",
    "y_test_seq_RA = to_categorical(y_test_seq_RA)\n",
    "\n",
    "print(\"==== one-hot encoded ====\")\n",
    "print(f\"y_train_seq_RA.shape: {y_train_seq_RA.shape}\")\n",
    "print(f\"y_test_seq_RA.shape: {y_test_seq_RA.shape}\")"
   ]
  },
  {
   "cell_type": "code",
   "execution_count": 25,
   "id": "ef312f59-7cd9-418b-a0eb-f9ac9dbe36c0",
   "metadata": {},
   "outputs": [
    {
     "name": "stdout",
     "output_type": "stream",
     "text": [
      "3 54 19\n"
     ]
    }
   ],
   "source": [
    "# Produce variables for CNN input/output shape\n",
    "n_timesteps, n_features, n_outputs = X_train_seq_RA.shape[1], X_train_seq_RA.shape[2], y_train_seq_RA.shape[1]\n",
    "print(n_timesteps, n_features, n_outputs)"
   ]
  },
  {
   "cell_type": "code",
   "execution_count": 26,
   "id": "3bbff9f0-53e7-4ed6-bf93-09d2a8be6ea4",
   "metadata": {},
   "outputs": [
    {
     "name": "stdout",
     "output_type": "stream",
     "text": [
      "X_train_seq_LA.shape: (6838, 3, 54) y_train_seq_LA.shape: (6838,)\n",
      "X_test_seq_LA.shape: (2278, 3, 54) y_test_seq_LA.shape: (2278,)\n"
     ]
    }
   ],
   "source": [
    "# Sequential dataset 만들기 - LA\n",
    "n_steps = 3\n",
    "X_train_seq_LA, y_train_seq_LA = split_sequences_classification_majority(X_train_LA,\n",
    "                                                                         y_train_LA,\n",
    "                                                                         n_steps)\n",
    "\n",
    "X_test_seq_LA, y_test_seq_LA = split_sequences_classification_majority(X_test_LA,\n",
    "                                                                       y_test_LA,\n",
    "                                                                       n_steps)\n",
    "\n",
    "print(f\"X_train_seq_LA.shape: {X_train_seq_LA.shape}\", end=\" \")\n",
    "print(f\"y_train_seq_LA.shape: {y_train_seq_LA.shape}\")\n",
    "print(f\"X_test_seq_LA.shape: {X_test_seq_LA.shape}\", end=\" \")\n",
    "print(f\"y_test_seq_LA.shape: {y_test_seq_LA.shape}\")"
   ]
  },
  {
   "cell_type": "code",
   "execution_count": 27,
   "id": "4abdb885-43b0-42de-beff-823cbd0bbba1",
   "metadata": {},
   "outputs": [
    {
     "name": "stdout",
     "output_type": "stream",
     "text": [
      "==== one-hot encoded ====\n",
      "y_train_seq_LA.shape: (6838, 19)\n",
      "y_test_seq_LA.shape: (2278, 19)\n"
     ]
    }
   ],
   "source": [
    "# one-hot encoding - LA\n",
    "from keras.utils import to_categorical\n",
    "\n",
    "y_train_seq_LA = to_categorical(y_train_seq_LA)\n",
    "y_test_seq_LA = to_categorical(y_test_seq_LA)\n",
    "\n",
    "print(\"==== one-hot encoded ====\")\n",
    "print(f\"y_train_seq_LA.shape: {y_train_seq_LA.shape}\")\n",
    "print(f\"y_test_seq_LA.shape: {y_test_seq_LA.shape}\")"
   ]
  },
  {
   "cell_type": "markdown",
   "id": "0efc6cf0-c19a-47e7-a2f2-6f6ecfba4cb7",
   "metadata": {},
   "source": [
    "# 3. Training & Save(1): RA model"
   ]
  },
  {
   "cell_type": "code",
   "execution_count": 28,
   "id": "fcedd5e4-c0de-4839-83fe-a3f4f3eba8fa",
   "metadata": {},
   "outputs": [],
   "source": [
    "import tensorflow as tf\n",
    "import tensorflow.keras as keras"
   ]
  },
  {
   "cell_type": "code",
   "execution_count": 29,
   "id": "80ec9a24-2746-4c62-bc75-0df20e25d623",
   "metadata": {},
   "outputs": [
    {
     "name": "stderr",
     "output_type": "stream",
     "text": [
      "2024-09-24 17:36:48.865732: I tensorflow/core/platform/cpu_feature_guard.cc:193] This TensorFlow binary is optimized with oneAPI Deep Neural Network Library (oneDNN) to use the following CPU instructions in performance-critical operations:  SSE4.1 SSE4.2 AVX AVX2 FMA\n",
      "To enable them in other operations, rebuild TensorFlow with the appropriate compiler flags.\n"
     ]
    },
    {
     "name": "stdout",
     "output_type": "stream",
     "text": [
      "Model: \"sequential\"\n",
      "_________________________________________________________________\n",
      " Layer (type)                Output Shape              Param #   \n",
      "=================================================================\n",
      " lstm1_base_RA (LSTM)        (None, 128)               93696     \n",
      "                                                                 \n",
      " dense1_base_RA (Dense)      (None, 128)               16512     \n",
      "                                                                 \n",
      " output_base_RA (Dense)      (None, 19)                2451      \n",
      "                                                                 \n",
      "=================================================================\n",
      "Total params: 112,659\n",
      "Trainable params: 112,659\n",
      "Non-trainable params: 0\n",
      "_________________________________________________________________\n"
     ]
    }
   ],
   "source": [
    "# for RA\n",
    "model_RA = keras.Sequential()\n",
    "model_RA.add(keras.layers.LSTM(units=128,\n",
    "                               input_shape=(3, 54),\n",
    "                               name='lstm1_base_RA'))\n",
    "model_RA.add(keras.layers.Dense(units=128,\n",
    "                                activation='relu',\n",
    "                                name='dense1_base_RA'))\n",
    "model_RA.add(keras.layers.Dense(units=19,\n",
    "                                activation='softmax',\n",
    "                                name='output_base_RA'))\n",
    "model_RA.summary()"
   ]
  },
  {
   "cell_type": "code",
   "execution_count": 30,
   "id": "48b41c40-0c55-475a-acf9-5965f38e65a4",
   "metadata": {},
   "outputs": [],
   "source": [
    "model_RA.compile(optimizer='adam',\n",
    "                 metrics=['accuracy'],\n",
    "                 loss='categorical_crossentropy')"
   ]
  },
  {
   "cell_type": "code",
   "execution_count": 31,
   "id": "e13f946b-242b-42bf-bce2-6a4cc5441846",
   "metadata": {},
   "outputs": [
    {
     "name": "stdout",
     "output_type": "stream",
     "text": [
      "Epoch 1/20\n",
      "193/193 [==============================] - 2s 5ms/step - loss: 2.0566 - accuracy: 0.3430 - val_loss: 1.2963 - val_accuracy: 0.5673\n",
      "Epoch 2/20\n",
      "193/193 [==============================] - 1s 3ms/step - loss: 1.0808 - accuracy: 0.6620 - val_loss: 0.8661 - val_accuracy: 0.7135\n",
      "Epoch 3/20\n",
      "193/193 [==============================] - 1s 3ms/step - loss: 0.7780 - accuracy: 0.7684 - val_loss: 0.7192 - val_accuracy: 0.7997\n",
      "Epoch 4/20\n",
      "193/193 [==============================] - 1s 3ms/step - loss: 0.6325 - accuracy: 0.8107 - val_loss: 0.6007 - val_accuracy: 0.8246\n",
      "Epoch 5/20\n",
      "193/193 [==============================] - 1s 3ms/step - loss: 0.5086 - accuracy: 0.8484 - val_loss: 0.5715 - val_accuracy: 0.8333\n",
      "Epoch 6/20\n",
      "193/193 [==============================] - 1s 3ms/step - loss: 0.4196 - accuracy: 0.8770 - val_loss: 0.5064 - val_accuracy: 0.8450\n",
      "Epoch 7/20\n",
      "193/193 [==============================] - 1s 3ms/step - loss: 0.3552 - accuracy: 0.8976 - val_loss: 0.5212 - val_accuracy: 0.8480\n",
      "Epoch 8/20\n",
      "193/193 [==============================] - 1s 3ms/step - loss: 0.2931 - accuracy: 0.9113 - val_loss: 0.5076 - val_accuracy: 0.8480\n",
      "Epoch 9/20\n",
      "193/193 [==============================] - 0s 3ms/step - loss: 0.2395 - accuracy: 0.9282 - val_loss: 0.4567 - val_accuracy: 0.8743\n",
      "Epoch 10/20\n",
      "193/193 [==============================] - 1s 3ms/step - loss: 0.1984 - accuracy: 0.9425 - val_loss: 0.4656 - val_accuracy: 0.8787\n",
      "Epoch 11/20\n",
      "193/193 [==============================] - 1s 3ms/step - loss: 0.1617 - accuracy: 0.9542 - val_loss: 0.4695 - val_accuracy: 0.8772\n",
      "Epoch 12/20\n",
      "193/193 [==============================] - 1s 3ms/step - loss: 0.1252 - accuracy: 0.9647 - val_loss: 0.5003 - val_accuracy: 0.8670\n",
      "Epoch 13/20\n",
      "193/193 [==============================] - 1s 3ms/step - loss: 0.1052 - accuracy: 0.9721 - val_loss: 0.4853 - val_accuracy: 0.8860\n",
      "Epoch 14/20\n",
      "193/193 [==============================] - 1s 3ms/step - loss: 0.0910 - accuracy: 0.9771 - val_loss: 0.4789 - val_accuracy: 0.8699\n",
      "Epoch 15/20\n",
      "193/193 [==============================] - 1s 3ms/step - loss: 0.0676 - accuracy: 0.9859 - val_loss: 0.4580 - val_accuracy: 0.8918\n",
      "Epoch 16/20\n",
      "193/193 [==============================] - 1s 3ms/step - loss: 0.0473 - accuracy: 0.9929 - val_loss: 0.5445 - val_accuracy: 0.8699\n",
      "Epoch 17/20\n",
      "193/193 [==============================] - 1s 3ms/step - loss: 0.0507 - accuracy: 0.9867 - val_loss: 0.5225 - val_accuracy: 0.8757\n",
      "Epoch 18/20\n",
      "193/193 [==============================] - 1s 3ms/step - loss: 0.0328 - accuracy: 0.9940 - val_loss: 0.5209 - val_accuracy: 0.8670\n",
      "Epoch 19/20\n",
      "193/193 [==============================] - 1s 3ms/step - loss: 0.0260 - accuracy: 0.9968 - val_loss: 0.5228 - val_accuracy: 0.8918\n",
      "Epoch 20/20\n",
      "193/193 [==============================] - 1s 3ms/step - loss: 0.0167 - accuracy: 0.9989 - val_loss: 0.5287 - val_accuracy: 0.8830\n"
     ]
    }
   ],
   "source": [
    "history_RA = model_RA.fit(X_train_seq_RA, y_train_seq_RA, epochs = 20, batch_size = 32, validation_split = 0.1, shuffle = True)"
   ]
  },
  {
   "cell_type": "code",
   "execution_count": 32,
   "id": "24c27af0-8a34-4afd-8bb2-abad12ec8feb",
   "metadata": {},
   "outputs": [
    {
     "data": {
      "text/plain": [
       "<matplotlib.legend.Legend at 0x7fadf27f1670>"
      ]
     },
     "execution_count": 32,
     "metadata": {},
     "output_type": "execute_result"
    },
    {
     "data": {
      "image/png": "[encoded data removed]",
      "text/plain": [
       "<Figure size 640x480 with 1 Axes>"
      ]
     },
     "metadata": {},
     "output_type": "display_data"
    }
   ],
   "source": [
    "plt.plot(history_RA.history['loss'], label = 'train')\n",
    "plt.plot(history_RA.history['val_loss'], label = 'val')\n",
    "plt.title('loss')\n",
    "plt.legend()"
   ]
  },
  {
   "cell_type": "code",
   "execution_count": 33,
   "id": "60bddbe0-277f-4cb2-be9a-7281fd0a13b6",
   "metadata": {},
   "outputs": [
    {
     "name": "stdout",
     "output_type": "stream",
     "text": [
      "214/214 [==============================] - 0s 1ms/step - loss: 0.0634 - accuracy: 0.9873\n"
     ]
    },
    {
     "data": {
      "text/plain": [
       "[0.06339463591575623, 0.9872769713401794]"
      ]
     },
     "execution_count": 33,
     "metadata": {},
     "output_type": "execute_result"
    }
   ],
   "source": [
    "model_RA.evaluate(X_train_seq_RA, y_train_seq_RA)"
   ]
  },
  {
   "cell_type": "code",
   "execution_count": 34,
   "id": "a32b0c8c-6e9a-4c44-9283-b4aedee76ea4",
   "metadata": {},
   "outputs": [
    {
     "name": "stdout",
     "output_type": "stream",
     "text": [
      "72/72 [==============================] - 0s 1ms/step - loss: 0.5844 - accuracy: 0.8802\n"
     ]
    },
    {
     "data": {
      "text/plain": [
       "[0.5843726992607117, 0.880158007144928]"
      ]
     },
     "execution_count": 34,
     "metadata": {},
     "output_type": "execute_result"
    }
   ],
   "source": [
    "model_RA.evaluate(X_test_seq_RA, y_test_seq_RA)"
   ]
  },
  {
   "cell_type": "code",
   "execution_count": 35,
   "id": "b0e2b06a-e7b8-40ae-8a46-d2ae868f51fd",
   "metadata": {},
   "outputs": [
    {
     "name": "stdout",
     "output_type": "stream",
     "text": [
      "72/72 [==============================] - 0s 1ms/step\n",
      "Confusion Matrix\n"
     ]
    },
    {
     "data": {
      "image/png": "[encoded data removed]",
      "text/plain": [
       "<Figure size 800x600 with 2 Axes>"
      ]
     },
     "metadata": {},
     "output_type": "display_data"
    }
   ],
   "source": [
    "import matplotlib.pyplot as plt\n",
    "import seaborn as sns\n",
    "from sklearn.metrics import confusion_matrix\n",
    "\n",
    "from sklearn.metrics import confusion_matrix,classification_report,accuracy_score\n",
    "\n",
    "y_test_arg=np.argmax(y_test_seq_RA, axis=1)\n",
    "Y_pred = np.argmax(model_RA.predict(X_test_seq_RA),axis=1)\n",
    "print('Confusion Matrix')\n",
    "cm = confusion_matrix(y_test_arg, Y_pred)\n",
    "# 시각화\n",
    "plt.figure(figsize=(8, 6))  # 그래프 크기 조절 (너비 8, 높이 6)\n",
    "sns.heatmap(cm, annot=True, fmt=\"d\", cmap=\"Blues\")\n",
    "\n",
    "# 그래프 표시\n",
    "plt.show()"
   ]
  },
  {
   "cell_type": "code",
   "execution_count": 36,
   "id": "3caddfb5-5eb1-4776-81f9-4d6bea77f5c8",
   "metadata": {},
   "outputs": [
    {
     "name": "stdout",
     "output_type": "stream",
     "text": [
      "72/72 [==============================] - 0s 1ms/step - loss: 0.5844 - accuracy: 0.8802\n",
      "model saved at  ./datasets/HAR/DSADS/RA_Model.h5\n",
      "Accuracy >88.015801\n",
      "Base Loss >0.58\n"
     ]
    }
   ],
   "source": [
    "# RA model save\n",
    "base_loss,base_accuracy=model_RA.evaluate(X_test_seq_RA, y_test_seq_RA)\n",
    "\n",
    "model_RA_file='./datasets/HAR/DSADS/RA_Model.h5'\n",
    "  \n",
    "tf.keras.models.save_model(model_RA, model_RA_file, include_optimizer=False)\n",
    "print('model saved at ', model_RA_file)\n",
    "#score,keras_file=evaluate_model(trainX,trainy,testX,testy)\n",
    "score=base_accuracy*100\n",
    "print('Accuracy >{:f}'.format(score))\n",
    "print('Base Loss >{:.2f}'.format(base_loss))"
   ]
  },
  {
   "cell_type": "markdown",
   "id": "4924c036-7df4-4ed3-bc52-ba24c8d346c9",
   "metadata": {},
   "source": [
    "# 4. Training & Save(2): LA model"
   ]
  },
  {
   "cell_type": "code",
   "execution_count": 37,
   "id": "895c2206-fdfa-4b83-ab3b-c50ce60de9a8",
   "metadata": {},
   "outputs": [
    {
     "name": "stdout",
     "output_type": "stream",
     "text": [
      "Model: \"sequential_1\"\n",
      "_________________________________________________________________\n",
      " Layer (type)                Output Shape              Param #   \n",
      "=================================================================\n",
      " lstm1_base_LA (LSTM)        (None, 128)               93696     \n",
      "                                                                 \n",
      " dense1_base_LA (Dense)      (None, 128)               16512     \n",
      "                                                                 \n",
      " output_base_LA (Dense)      (None, 19)                2451      \n",
      "                                                                 \n",
      "=================================================================\n",
      "Total params: 112,659\n",
      "Trainable params: 112,659\n",
      "Non-trainable params: 0\n",
      "_________________________________________________________________\n"
     ]
    }
   ],
   "source": [
    "# for LA\n",
    "model_LA = keras.Sequential()\n",
    "model_LA.add(keras.layers.LSTM(units=128,\n",
    "                               input_shape=(3, 54),\n",
    "                               name='lstm1_base_LA'))\n",
    "model_LA.add(keras.layers.Dense(units=128,\n",
    "                                activation='relu',\n",
    "                                name='dense1_base_LA'))\n",
    "model_LA.add(keras.layers.Dense(units=19,\n",
    "                                activation='softmax',\n",
    "                                name='output_base_LA'))\n",
    "model_LA.summary()"
   ]
  },
  {
   "cell_type": "code",
   "execution_count": 38,
   "id": "8a3f20f3-6e48-4711-a53a-90cbfa0e0ada",
   "metadata": {},
   "outputs": [],
   "source": [
    "model_LA.compile(optimizer='adam',\n",
    "                 metrics=['accuracy'],\n",
    "                 loss='categorical_crossentropy')"
   ]
  },
  {
   "cell_type": "code",
   "execution_count": 39,
   "id": "11931ef5-3c8c-48e0-b914-e9131d91d07e",
   "metadata": {},
   "outputs": [
    {
     "name": "stdout",
     "output_type": "stream",
     "text": [
      "Epoch 1/20\n",
      "193/193 [==============================] - 2s 5ms/step - loss: 2.0084 - accuracy: 0.3659 - val_loss: 1.2008 - val_accuracy: 0.5980\n",
      "Epoch 2/20\n",
      "193/193 [==============================] - 1s 3ms/step - loss: 0.9814 - accuracy: 0.6838 - val_loss: 0.7530 - val_accuracy: 0.7749\n",
      "Epoch 3/20\n",
      "193/193 [==============================] - 1s 3ms/step - loss: 0.7086 - accuracy: 0.7873 - val_loss: 0.6368 - val_accuracy: 0.8114\n",
      "Epoch 4/20\n",
      "193/193 [==============================] - 1s 3ms/step - loss: 0.5514 - accuracy: 0.8391 - val_loss: 0.5403 - val_accuracy: 0.8436\n",
      "Epoch 5/20\n",
      "193/193 [==============================] - 1s 3ms/step - loss: 0.4466 - accuracy: 0.8729 - val_loss: 0.4711 - val_accuracy: 0.8567\n",
      "Epoch 6/20\n",
      "193/193 [==============================] - 1s 3ms/step - loss: 0.3737 - accuracy: 0.8895 - val_loss: 0.4456 - val_accuracy: 0.8655\n",
      "Epoch 7/20\n",
      "193/193 [==============================] - 1s 3ms/step - loss: 0.3064 - accuracy: 0.9079 - val_loss: 0.4295 - val_accuracy: 0.8787\n",
      "Epoch 8/20\n",
      "193/193 [==============================] - 1s 3ms/step - loss: 0.2556 - accuracy: 0.9249 - val_loss: 0.4376 - val_accuracy: 0.8713\n",
      "Epoch 9/20\n",
      "193/193 [==============================] - 1s 3ms/step - loss: 0.2165 - accuracy: 0.9379 - val_loss: 0.4246 - val_accuracy: 0.8743\n",
      "Epoch 10/20\n",
      "193/193 [==============================] - 1s 3ms/step - loss: 0.1854 - accuracy: 0.9456 - val_loss: 0.4046 - val_accuracy: 0.8874\n",
      "Epoch 11/20\n",
      "193/193 [==============================] - 1s 3ms/step - loss: 0.1625 - accuracy: 0.9539 - val_loss: 0.4053 - val_accuracy: 0.8845\n",
      "Epoch 12/20\n",
      "193/193 [==============================] - 1s 3ms/step - loss: 0.1292 - accuracy: 0.9638 - val_loss: 0.4349 - val_accuracy: 0.8684\n",
      "Epoch 13/20\n",
      "193/193 [==============================] - 1s 3ms/step - loss: 0.1066 - accuracy: 0.9716 - val_loss: 0.4519 - val_accuracy: 0.8728\n",
      "Epoch 14/20\n",
      "193/193 [==============================] - 1s 3ms/step - loss: 0.0895 - accuracy: 0.9745 - val_loss: 0.4170 - val_accuracy: 0.8787\n",
      "Epoch 15/20\n",
      "193/193 [==============================] - 1s 3ms/step - loss: 0.0797 - accuracy: 0.9787 - val_loss: 0.4035 - val_accuracy: 0.9006\n",
      "Epoch 16/20\n",
      "193/193 [==============================] - 1s 3ms/step - loss: 0.0696 - accuracy: 0.9812 - val_loss: 0.4830 - val_accuracy: 0.8670\n",
      "Epoch 17/20\n",
      "193/193 [==============================] - 1s 3ms/step - loss: 0.0480 - accuracy: 0.9898 - val_loss: 0.4257 - val_accuracy: 0.8904\n",
      "Epoch 18/20\n",
      "193/193 [==============================] - 1s 3ms/step - loss: 0.0342 - accuracy: 0.9937 - val_loss: 0.4383 - val_accuracy: 0.8860\n",
      "Epoch 19/20\n",
      "193/193 [==============================] - 1s 3ms/step - loss: 0.0268 - accuracy: 0.9946 - val_loss: 0.4515 - val_accuracy: 0.8757\n",
      "Epoch 20/20\n",
      "193/193 [==============================] - 1s 3ms/step - loss: 0.0280 - accuracy: 0.9937 - val_loss: 0.5810 - val_accuracy: 0.8713\n"
     ]
    }
   ],
   "source": [
    "history_LA = model_LA.fit(X_train_seq_LA, y_train_seq_LA, epochs = 20, batch_size = 32, validation_split = 0.1, shuffle = True)"
   ]
  },
  {
   "cell_type": "code",
   "execution_count": 40,
   "id": "45398e54-1e43-433b-bdeb-88c850276ffc",
   "metadata": {},
   "outputs": [
    {
     "data": {
      "text/plain": [
       "<matplotlib.legend.Legend at 0x7fadf73b9640>"
      ]
     },
     "execution_count": 40,
     "metadata": {},
     "output_type": "execute_result"
    },
    {
     "data": {
      "image/png": "[encoded data removed]",
      "text/plain": [
       "<Figure size 640x480 with 1 Axes>"
      ]
     },
     "metadata": {},
     "output_type": "display_data"
    }
   ],
   "source": [
    "plt.plot(history_LA.history[\"loss\"], label = \"train\")\n",
    "plt.plot(history_LA.history[\"val_loss\"], label = \"test\")\n",
    "plt.legend()"
   ]
  },
  {
   "cell_type": "code",
   "execution_count": 41,
   "id": "9d6609e3-4bbc-40e4-87f9-3bed3a772d54",
   "metadata": {},
   "outputs": [
    {
     "name": "stdout",
     "output_type": "stream",
     "text": [
      "214/214 [==============================] - 0s 1ms/step - loss: 0.1295 - accuracy: 0.9653\n"
     ]
    },
    {
     "data": {
      "text/plain": [
       "[0.129534512758255, 0.9653407335281372]"
      ]
     },
     "execution_count": 41,
     "metadata": {},
     "output_type": "execute_result"
    }
   ],
   "source": [
    "model_LA.evaluate(X_train_seq_LA, y_train_seq_LA)"
   ]
  },
  {
   "cell_type": "code",
   "execution_count": 42,
   "id": "73422d2c-5b38-44ee-9300-4eec58ab8799",
   "metadata": {},
   "outputs": [
    {
     "name": "stdout",
     "output_type": "stream",
     "text": [
      "72/72 [==============================] - 0s 1ms/step - loss: 0.6471 - accuracy: 0.8644\n"
     ]
    },
    {
     "data": {
      "text/plain": [
       "[0.6470658779144287, 0.86435467004776]"
      ]
     },
     "execution_count": 42,
     "metadata": {},
     "output_type": "execute_result"
    }
   ],
   "source": [
    "model_LA.evaluate(X_test_seq_LA, y_test_seq_LA)"
   ]
  },
  {
   "cell_type": "code",
   "execution_count": 43,
   "id": "af6a186e-08ce-4cca-a73e-1b5da66e8f9b",
   "metadata": {},
   "outputs": [
    {
     "name": "stdout",
     "output_type": "stream",
     "text": [
      "72/72 [==============================] - 0s 1ms/step\n",
      "Confusion Matrix\n"
     ]
    },
    {
     "data": {
      "image/png": "[encoded data removed]",
      "text/plain": [
       "<Figure size 800x600 with 2 Axes>"
      ]
     },
     "metadata": {},
     "output_type": "display_data"
    }
   ],
   "source": [
    "import matplotlib.pyplot as plt\n",
    "import seaborn as sns\n",
    "from sklearn.metrics import confusion_matrix\n",
    "\n",
    "from sklearn.metrics import confusion_matrix,classification_report,accuracy_score\n",
    "\n",
    "y_test_arg=np.argmax(y_test_seq_LA, axis=1)\n",
    "Y_pred = np.argmax(model_LA.predict(X_test_seq_LA),axis=1)\n",
    "print('Confusion Matrix')\n",
    "cm = confusion_matrix(y_test_arg, Y_pred)\n",
    "# 시각화\n",
    "plt.figure(figsize=(8, 6))  # 그래프 크기 조절 (너비 8, 높이 6)\n",
    "sns.heatmap(cm, annot=True, fmt=\"d\", cmap=\"Greens\")\n",
    "\n",
    "# 그래프 표시\n",
    "plt.show()"
   ]
  },
  {
   "cell_type": "code",
   "execution_count": 44,
   "id": "068b3c19-2159-442f-a36a-c50d8de564d7",
   "metadata": {},
   "outputs": [
    {
     "name": "stdout",
     "output_type": "stream",
     "text": [
      "72/72 [==============================] - 0s 1ms/step - loss: 0.6471 - accuracy: 0.8644\n",
      "model saved at  ./datasets/HAR/DSADS/LA_Model.h5\n",
      "Accuracy >86.435467\n",
      "Base Loss >0.65\n"
     ]
    }
   ],
   "source": [
    "# LA model save\n",
    "base_loss,base_accuracy=model_LA.evaluate(X_test_seq_LA, y_test_seq_LA)\n",
    "\n",
    "model_LA_file='./datasets/HAR/DSADS/LA_Model.h5'\n",
    "  \n",
    "tf.keras.models.save_model(model_LA, model_LA_file, include_optimizer=False)\n",
    "print('model saved at ', model_LA_file)\n",
    "score=base_accuracy*100\n",
    "print('Accuracy >{:f}'.format(score))\n",
    "print('Base Loss >{:.2f}'.format(base_loss))"
   ]
  },
  {
   "cell_type": "markdown",
   "id": "b5a36348-b4d2-4b77-b36b-91eca34f5176",
   "metadata": {},
   "source": [
    "# 5. Transfer training(1): LA model을 재사용해서 RA에 맞추기"
   ]
  },
  {
   "cell_type": "code",
   "execution_count": 45,
   "id": "3be1a920-80c1-49df-91d1-2edee43849ce",
   "metadata": {},
   "outputs": [
    {
     "name": "stdout",
     "output_type": "stream",
     "text": [
      "WARNING:tensorflow:No training configuration found in the save file, so the model was *not* compiled. Compile it manually.\n"
     ]
    }
   ],
   "source": [
    "# Base(pre-trained) model load (LA_Model.h5)\n",
    "from tensorflow.keras.models import load_model\n",
    "\n",
    "base_model_LA = load_model(model_LA_file)"
   ]
  },
  {
   "cell_type": "code",
   "execution_count": 46,
   "id": "d7f14b4b-5acb-4b55-9a72-5556df478a47",
   "metadata": {},
   "outputs": [
    {
     "name": "stdout",
     "output_type": "stream",
     "text": [
      "72/72 [==============================] - 1s 1ms/step - loss: 0.6471 - accuracy: 0.8644\n"
     ]
    },
    {
     "data": {
      "text/plain": [
       "[0.6470658779144287, 0.86435467004776]"
      ]
     },
     "execution_count": 46,
     "metadata": {},
     "output_type": "execute_result"
    }
   ],
   "source": [
    "base_model_LA.compile(optimizer='adam',\n",
    "                      metrics=['accuracy'],\n",
    "                      loss='categorical_crossentropy')\n",
    "# LA dataset으로 pre-trained된 model을 LA data 예측에 사용\n",
    "base_model_LA.evaluate(X_test_seq_LA, y_test_seq_LA)"
   ]
  },
  {
   "cell_type": "code",
   "execution_count": 47,
   "id": "44fb9c7e-a0e7-4992-94b1-f28ca86abef1",
   "metadata": {},
   "outputs": [
    {
     "name": "stdout",
     "output_type": "stream",
     "text": [
      "72/72 [==============================] - 0s 1ms/step - loss: 6.0877 - accuracy: 0.2322\n"
     ]
    },
    {
     "data": {
      "text/plain": [
       "[6.087687969207764, 0.23222124576568604]"
      ]
     },
     "execution_count": 47,
     "metadata": {},
     "output_type": "execute_result"
    }
   ],
   "source": [
    "# LA dataset으로 pre-trained된 model을 RA data 예측에 사용\n",
    "base_model_LA.evaluate(X_test_seq_RA, y_test_seq_RA)\n",
    "\n",
    "# 당연하게도 accuracy가 매우 낮다. 0.2xx"
   ]
  },
  {
   "cell_type": "markdown",
   "id": "8acfb4fc-3633-4806-b542-3b6ac6dff81a",
   "metadata": {},
   "source": [
    "새로운 data RA는 pre-trained data LA와는 조금 다르다.  \n",
    "따라서 RA의 특징을 학습시킬 layer가 필요하다."
   ]
  },
  {
   "cell_type": "code",
   "execution_count": 48,
   "id": "041e0714-4bb4-4b29-8e03-9457a51d9693",
   "metadata": {},
   "outputs": [
    {
     "name": "stdout",
     "output_type": "stream",
     "text": [
      "Number of layers in the base model:  3\n"
     ]
    }
   ],
   "source": [
    "print(\"Number of layers in the base model: \", len(base_model_LA.layers))"
   ]
  },
  {
   "cell_type": "code",
   "execution_count": 49,
   "id": "877b4636-2064-4c8d-9406-1fb4ff9abf33",
   "metadata": {},
   "outputs": [
    {
     "data": {
      "text/plain": [
       "[<keras.layers.rnn.lstm.LSTM at 0x7fadf661f9d0>,\n",
       " <keras.layers.core.dense.Dense at 0x7fadf65fcfd0>,\n",
       " <keras.layers.core.dense.Dense at 0x7fadf61477f0>]"
      ]
     },
     "execution_count": 49,
     "metadata": {},
     "output_type": "execute_result"
    }
   ],
   "source": [
    "base_model_LA.layers"
   ]
  },
  {
   "cell_type": "code",
   "execution_count": 50,
   "id": "1c5abb99-eaa2-49eb-a494-8c58284208c2",
   "metadata": {},
   "outputs": [],
   "source": [
    "new_model_RA = tf.keras.models.clone_model(base_model_LA)\n",
    "new_model_RA.set_weights(base_model_LA.get_weights())\n",
    "\n",
    "# clone_model()은 가중치는 제외하고 구조(layers)만 복제한다.\n",
    "# 따라서 set_weights()를 사용해서 가중치를 수동으로 복사해주어야 한다."
   ]
  },
  {
   "cell_type": "markdown",
   "id": "4387f7a1-b55e-40a1-bdc4-27c7f36987e6",
   "metadata": {},
   "source": [
    "* `base_model_clone.trainable`  \n",
    "  - model의 모든 layers 중에 trainable이 하나라도 있다면 True를 리턴\n",
    "* `base_model_clone.trainable = False`\n",
    "  - model의 모든 layers의 trainable을 False로 변경\n",
    "* `base_model_clone.layers`\n",
    "  - model의 layer 목록을 리턴  \n",
    "    [<keras.layers.rnn.lstm.LSTM at 0x7f7ee0b260d0>,  \n",
    " <keras.layers.core.dense.Dense at 0x7f7edeab3520>,  \n",
    " <keras.layers.core.dense.Dense at 0x7f7ed2902610>]\n",
    "* `base_model_clone.layers[i].trainable = False`\n",
    "  - model의 특정 layer만 trainable을 False로 변경"
   ]
  },
  {
   "cell_type": "code",
   "execution_count": 51,
   "id": "0968f53d-e4ca-44ba-9828-d6ef7f27f50e",
   "metadata": {},
   "outputs": [],
   "source": [
    "def print_layers(model):\n",
    "    for layer in model.layers:\n",
    "        print(f\"{layer.name}: {layer}\")"
   ]
  },
  {
   "cell_type": "markdown",
   "id": "f75fdf24-8dc2-419d-bbc4-54cf6fafc8e8",
   "metadata": {},
   "source": [
    "## 5.1. fine-tuning"
   ]
  },
  {
   "cell_type": "code",
   "execution_count": 52,
   "id": "b8b0c659-eb2d-41cc-9919-ccb65246ec2c",
   "metadata": {},
   "outputs": [
    {
     "name": "stdout",
     "output_type": "stream",
     "text": [
      "삭제 전:\n",
      "lstm1_base_LA: <keras.layers.rnn.lstm.LSTM object at 0x7fadf65dc4f0>\n",
      "dense1_base_LA: <keras.layers.core.dense.Dense object at 0x7fadf65e9a60>\n",
      "output_base_LA: <keras.layers.core.dense.Dense object at 0x7fadf665c730>\n",
      "삭제 후:\n",
      "lstm1_base_LA: <keras.layers.rnn.lstm.LSTM object at 0x7fadf65dc4f0>\n",
      "dense1_base_LA: <keras.layers.core.dense.Dense object at 0x7fadf65e9a60>\n",
      "추가 후:\n",
      "lstm1_base_LA: <keras.layers.rnn.lstm.LSTM object at 0x7fadf65dc4f0>\n",
      "dense1_base_LA: <keras.layers.core.dense.Dense object at 0x7fadf65e9a60>\n",
      "dense2_new_RA: <keras.layers.core.dense.Dense object at 0x7fadf6551670>\n",
      "output_new_RA: <keras.layers.core.dense.Dense object at 0x7fadf65e77c0>\n"
     ]
    }
   ],
   "source": [
    "# fine tuning(1)\n",
    "# 기존 model의 output layer는 LA에 맞춰져 있음\n",
    "# 따라서 이를 삭제하고, RA용 output layer와 추가 학습용 Dense를 새로 추가\n",
    "print(\"삭제 전:\")\n",
    "print_layers(new_model_RA)\n",
    "\n",
    "new_model_RA.pop()\n",
    "print(\"삭제 후:\")\n",
    "print_layers(new_model_RA)\n",
    "\n",
    "# RA용 학습 Dense layer\n",
    "new_model_RA.add(keras.layers.Dense(units=64,\n",
    "                                    activation='relu',\n",
    "                                    name='dense2_new_RA'))\n",
    "# RA용 output layer\n",
    "new_model_RA.add(keras.layers.Dense(units=19,\n",
    "                                    activation='softmax',\n",
    "                                    name='output_new_RA'))\n",
    "print(\"추가 후:\")\n",
    "print_layers(new_model_RA)"
   ]
  },
  {
   "cell_type": "code",
   "execution_count": 53,
   "id": "0ceb48d2-6285-4a74-b6ec-5d3831c474c2",
   "metadata": {},
   "outputs": [
    {
     "name": "stdout",
     "output_type": "stream",
     "text": [
      "Model: \"sequential_1\"\n",
      "_________________________________________________________________\n",
      " Layer (type)                Output Shape              Param #   \n",
      "=================================================================\n",
      " lstm1_base_LA (LSTM)        (None, 128)               93696     \n",
      "                                                                 \n",
      " dense1_base_LA (Dense)      (None, 128)               16512     \n",
      "                                                                 \n",
      " dense2_new_RA (Dense)       (None, 64)                8256      \n",
      "                                                                 \n",
      " output_new_RA (Dense)       (None, 19)                1235      \n",
      "                                                                 \n",
      "=================================================================\n",
      "Total params: 119,699\n",
      "Trainable params: 119,699\n",
      "Non-trainable params: 0\n",
      "_________________________________________________________________\n"
     ]
    }
   ],
   "source": [
    "new_model_RA.summary()"
   ]
  },
  {
   "cell_type": "code",
   "execution_count": 54,
   "id": "236777f9-4264-44ec-92df-4e18b25cee8b",
   "metadata": {},
   "outputs": [
    {
     "name": "stdout",
     "output_type": "stream",
     "text": [
      "0번 레이어(lstm1_base_LA)의 trainable: False\n",
      "1번 레이어(dense1_base_LA)의 trainable: False\n",
      "2번 레이어(dense2_new_RA)의 trainable: True\n",
      "3번 레이어(output_new_RA)의 trainable: True\n"
     ]
    }
   ],
   "source": [
    "# fine tuning(2)\n",
    "# base_model의 layers는 freeze한다. 가중치가 추가로 학습되지 않고, pre-trained를 쓰려고\n",
    "# 현재 base_model_clone의 [0], [1] layer가 여기에 해당\n",
    "for layer in new_model_RA.layers[:2]:\n",
    "    layer.trainable = False\n",
    "\n",
    "# 변경 결과 확인\n",
    "layer_num = 0\n",
    "for layer in new_model_RA.layers:\n",
    "    print(f\"{layer_num}번 레이어({layer.name})의 trainable: {layer.trainable}\")\n",
    "    layer_num += 1"
   ]
  },
  {
   "cell_type": "code",
   "execution_count": 55,
   "id": "b9e5da66-a168-4229-b7c8-e814f053074a",
   "metadata": {},
   "outputs": [],
   "source": [
    "# fine tuning(3)\n",
    "# compile() method는 훈련 때 어떤 레이어의 가중치에 대해서 학습할 것이고,\n",
    "# 학습할 때 어떤 방법(옵티마이저, 로스, ...)을 사용할 것인지를 사전에 정의하는 것임\n",
    "# 따라서 특정 layer를 freeze한 후에는 반드시 compile해야 됨\n",
    "new_model_RA.compile(optimizer='adam',\n",
    "                     metrics=['accuracy'],\n",
    "                     loss='categorical_crossentropy')"
   ]
  },
  {
   "cell_type": "code",
   "execution_count": 56,
   "id": "cbcbaf5b-42da-410d-aa90-dbac9822caad",
   "metadata": {},
   "outputs": [
    {
     "name": "stdout",
     "output_type": "stream",
     "text": [
      "Epoch 1/20\n",
      "193/193 [==============================] - 2s 3ms/step - loss: 2.2945 - accuracy: 0.3201 - val_loss: 1.8337 - val_accuracy: 0.4576\n",
      "Epoch 2/20\n",
      "193/193 [==============================] - 0s 2ms/step - loss: 1.6241 - accuracy: 0.4912 - val_loss: 1.6378 - val_accuracy: 0.4971\n",
      "Epoch 3/20\n",
      "193/193 [==============================] - 0s 2ms/step - loss: 1.4910 - accuracy: 0.5257 - val_loss: 1.5452 - val_accuracy: 0.5278\n",
      "Epoch 4/20\n",
      "193/193 [==============================] - 0s 2ms/step - loss: 1.4222 - accuracy: 0.5515 - val_loss: 1.5329 - val_accuracy: 0.5234\n",
      "Epoch 5/20\n",
      "193/193 [==============================] - 0s 2ms/step - loss: 1.3619 - accuracy: 0.5762 - val_loss: 1.5071 - val_accuracy: 0.5234\n",
      "Epoch 6/20\n",
      "193/193 [==============================] - 0s 2ms/step - loss: 1.3290 - accuracy: 0.5827 - val_loss: 1.4391 - val_accuracy: 0.5599\n",
      "Epoch 7/20\n",
      "193/193 [==============================] - 0s 2ms/step - loss: 1.2984 - accuracy: 0.5892 - val_loss: 1.4126 - val_accuracy: 0.5687\n",
      "Epoch 8/20\n",
      "193/193 [==============================] - 0s 2ms/step - loss: 1.2665 - accuracy: 0.5999 - val_loss: 1.3693 - val_accuracy: 0.5687\n",
      "Epoch 9/20\n",
      "193/193 [==============================] - 0s 2ms/step - loss: 1.2385 - accuracy: 0.6012 - val_loss: 1.3585 - val_accuracy: 0.5526\n",
      "Epoch 10/20\n",
      "193/193 [==============================] - 0s 2ms/step - loss: 1.2128 - accuracy: 0.6142 - val_loss: 1.3377 - val_accuracy: 0.5673\n",
      "Epoch 11/20\n",
      "193/193 [==============================] - 0s 2ms/step - loss: 1.1963 - accuracy: 0.6167 - val_loss: 1.3262 - val_accuracy: 0.5760\n",
      "Epoch 12/20\n",
      "193/193 [==============================] - 0s 2ms/step - loss: 1.1813 - accuracy: 0.6241 - val_loss: 1.3511 - val_accuracy: 0.5760\n",
      "Epoch 13/20\n",
      "193/193 [==============================] - 0s 2ms/step - loss: 1.1571 - accuracy: 0.6344 - val_loss: 1.3376 - val_accuracy: 0.5760\n",
      "Epoch 14/20\n",
      "193/193 [==============================] - 0s 2ms/step - loss: 1.1410 - accuracy: 0.6328 - val_loss: 1.3226 - val_accuracy: 0.5819\n",
      "Epoch 15/20\n",
      "193/193 [==============================] - 0s 2ms/step - loss: 1.1259 - accuracy: 0.6391 - val_loss: 1.2945 - val_accuracy: 0.5702\n",
      "Epoch 16/20\n",
      "193/193 [==============================] - 0s 2ms/step - loss: 1.1187 - accuracy: 0.6402 - val_loss: 1.2973 - val_accuracy: 0.5789\n",
      "Epoch 17/20\n",
      "193/193 [==============================] - 0s 2ms/step - loss: 1.0929 - accuracy: 0.6475 - val_loss: 1.2898 - val_accuracy: 0.5936\n",
      "Epoch 18/20\n",
      "193/193 [==============================] - 0s 2ms/step - loss: 1.0824 - accuracy: 0.6511 - val_loss: 1.2862 - val_accuracy: 0.6067\n",
      "Epoch 19/20\n",
      "193/193 [==============================] - 0s 2ms/step - loss: 1.0673 - accuracy: 0.6488 - val_loss: 1.2911 - val_accuracy: 0.5877\n",
      "Epoch 20/20\n",
      "193/193 [==============================] - 0s 2ms/step - loss: 1.0605 - accuracy: 0.6566 - val_loss: 1.2572 - val_accuracy: 0.5936\n",
      "Model: \"sequential_1\"\n",
      "_________________________________________________________________\n",
      " Layer (type)                Output Shape              Param #   \n",
      "=================================================================\n",
      " lstm1_base_LA (LSTM)        (None, 128)               93696     \n",
      "                                                                 \n",
      " dense1_base_LA (Dense)      (None, 128)               16512     \n",
      "                                                                 \n",
      " dense2_new_RA (Dense)       (None, 64)                8256      \n",
      "                                                                 \n",
      " output_new_RA (Dense)       (None, 19)                1235      \n",
      "                                                                 \n",
      "=================================================================\n",
      "Total params: 119,699\n",
      "Trainable params: 9,491\n",
      "Non-trainable params: 110,208\n",
      "_________________________________________________________________\n"
     ]
    }
   ],
   "source": [
    "# fine tuning(4)\n",
    "# 이제 실제로 RA 전용 가중치에 대해서만 학습 진행\n",
    "history_new_RA = new_model_RA.fit(X_train_seq_RA, y_train_seq_RA,\n",
    "                                  epochs=20,\n",
    "                                  batch_size=32,\n",
    "                                  validation_split=0.1,\n",
    "                                  shuffle=True)\n",
    "new_model_RA.summary()"
   ]
  },
  {
   "cell_type": "code",
   "execution_count": 57,
   "id": "49b78619-8e59-4bb8-9945-fd4878616d1e",
   "metadata": {},
   "outputs": [
    {
     "name": "stdout",
     "output_type": "stream",
     "text": [
      "72/72 [==============================] - 0s 1ms/step - loss: 1.2459 - accuracy: 0.6238\n"
     ]
    },
    {
     "data": {
      "text/plain": [
       "[1.245948076248169, 0.623792827129364]"
      ]
     },
     "execution_count": 57,
     "metadata": {},
     "output_type": "execute_result"
    }
   ],
   "source": [
    "# base_model을 기반으로 RA에 대해서 추가 학습만 진행하도록 했을 때의 성능\n",
    "new_model_RA.evaluate(X_test_seq_RA, y_test_seq_RA)"
   ]
  },
  {
   "cell_type": "code",
   "execution_count": 58,
   "id": "e1cc72a7-ed50-4362-b774-1fd8d53c758d",
   "metadata": {},
   "outputs": [
    {
     "name": "stdout",
     "output_type": "stream",
     "text": [
      "0번 레이어(lstm1_base_LA)의 trainable: True\n",
      "1번 레이어(dense1_base_LA)의 trainable: True\n",
      "2번 레이어(dense2_new_RA)의 trainable: True\n",
      "3번 레이어(output_new_RA)의 trainable: True\n"
     ]
    }
   ],
   "source": [
    "# fine tuning(5)\n",
    "# 앞선 상황에서는 base model(LA) 고유의 layer의 가중치에 대해서는 학습하지 않았음\n",
    "# LA와 RA가 비슷하다고는 해도, LA에 대해서만 학습했던 가중치들을 RA에 좀 더 맞게 미세조정 할 필요 있음\n",
    "# 위 작업을 fine tuning이라고 함\n",
    "\n",
    "# 위에서 freeze했던 것을 다시 unfreeze\n",
    "for layer in new_model_RA.layers[:2]:\n",
    "    layer.trainable = True # unfreeze\n",
    "    \n",
    "# 변경 결과 확인\n",
    "layer_num = 0\n",
    "for layer in new_model_RA.layers:\n",
    "    print(f\"{layer_num}번 레이어({layer.name})의 trainable: {layer.trainable}\")\n",
    "    layer_num += 1"
   ]
  },
  {
   "cell_type": "code",
   "execution_count": 59,
   "id": "655633ec-5f9d-4c68-8143-bf695c78c001",
   "metadata": {},
   "outputs": [
    {
     "name": "stdout",
     "output_type": "stream",
     "text": [
      "Epoch 1/20\n",
      "193/193 [==============================] - 2s 5ms/step - loss: 0.8990 - accuracy: 0.7236 - val_loss: 0.7890 - val_accuracy: 0.7295\n",
      "Epoch 2/20\n",
      "193/193 [==============================] - 1s 3ms/step - loss: 0.6074 - accuracy: 0.8204 - val_loss: 0.6918 - val_accuracy: 0.7939\n",
      "Epoch 3/20\n",
      "193/193 [==============================] - 1s 3ms/step - loss: 0.4576 - accuracy: 0.8642 - val_loss: 0.5787 - val_accuracy: 0.8246\n",
      "Epoch 4/20\n",
      "193/193 [==============================] - 1s 3ms/step - loss: 0.3619 - accuracy: 0.8919 - val_loss: 0.5762 - val_accuracy: 0.8392\n",
      "Epoch 5/20\n",
      "193/193 [==============================] - 1s 3ms/step - loss: 0.2852 - accuracy: 0.9170 - val_loss: 0.5805 - val_accuracy: 0.8289\n",
      "Epoch 6/20\n",
      "193/193 [==============================] - 1s 3ms/step - loss: 0.2229 - accuracy: 0.9342 - val_loss: 0.6066 - val_accuracy: 0.8377\n",
      "Epoch 7/20\n",
      "193/193 [==============================] - 1s 3ms/step - loss: 0.1879 - accuracy: 0.9418 - val_loss: 0.5400 - val_accuracy: 0.8538\n",
      "Epoch 8/20\n",
      "193/193 [==============================] - 1s 3ms/step - loss: 0.1471 - accuracy: 0.9569 - val_loss: 0.5704 - val_accuracy: 0.8611\n",
      "Epoch 9/20\n",
      "193/193 [==============================] - 1s 3ms/step - loss: 0.1095 - accuracy: 0.9703 - val_loss: 0.6249 - val_accuracy: 0.8523\n",
      "Epoch 10/20\n",
      "193/193 [==============================] - 1s 3ms/step - loss: 0.0780 - accuracy: 0.9807 - val_loss: 0.6008 - val_accuracy: 0.8494\n",
      "Epoch 11/20\n",
      "193/193 [==============================] - 1s 3ms/step - loss: 0.0631 - accuracy: 0.9816 - val_loss: 0.6462 - val_accuracy: 0.8421\n",
      "Epoch 12/20\n",
      "193/193 [==============================] - 1s 3ms/step - loss: 0.0786 - accuracy: 0.9750 - val_loss: 0.7037 - val_accuracy: 0.8480\n",
      "Epoch 13/20\n",
      "193/193 [==============================] - 1s 3ms/step - loss: 0.0748 - accuracy: 0.9792 - val_loss: 0.6224 - val_accuracy: 0.8713\n",
      "Epoch 14/20\n",
      "193/193 [==============================] - 1s 3ms/step - loss: 0.0752 - accuracy: 0.9753 - val_loss: 0.6712 - val_accuracy: 0.8465\n",
      "Epoch 15/20\n",
      "193/193 [==============================] - 1s 3ms/step - loss: 0.0814 - accuracy: 0.9738 - val_loss: 0.7223 - val_accuracy: 0.8421\n",
      "Epoch 16/20\n",
      "193/193 [==============================] - 1s 3ms/step - loss: 0.0327 - accuracy: 0.9920 - val_loss: 0.7146 - val_accuracy: 0.8523\n",
      "Epoch 17/20\n",
      "193/193 [==============================] - 1s 3ms/step - loss: 0.0146 - accuracy: 0.9985 - val_loss: 0.6770 - val_accuracy: 0.8596\n",
      "Epoch 18/20\n",
      "193/193 [==============================] - 1s 3ms/step - loss: 0.0101 - accuracy: 0.9994 - val_loss: 0.6995 - val_accuracy: 0.8684\n",
      "Epoch 19/20\n",
      "193/193 [==============================] - 1s 3ms/step - loss: 0.0066 - accuracy: 0.9994 - val_loss: 0.6857 - val_accuracy: 0.8801\n",
      "Epoch 20/20\n",
      "193/193 [==============================] - 1s 3ms/step - loss: 0.0035 - accuracy: 1.0000 - val_loss: 0.6936 - val_accuracy: 0.8772\n",
      "Model: \"sequential_1\"\n",
      "_________________________________________________________________\n",
      " Layer (type)                Output Shape              Param #   \n",
      "=================================================================\n",
      " lstm1_base_LA (LSTM)        (None, 128)               93696     \n",
      "                                                                 \n",
      " dense1_base_LA (Dense)      (None, 128)               16512     \n",
      "                                                                 \n",
      " dense2_new_RA (Dense)       (None, 64)                8256      \n",
      "                                                                 \n",
      " output_new_RA (Dense)       (None, 19)                1235      \n",
      "                                                                 \n",
      "=================================================================\n",
      "Total params: 119,699\n",
      "Trainable params: 119,699\n",
      "Non-trainable params: 0\n",
      "_________________________________________________________________\n"
     ]
    }
   ],
   "source": [
    "# fine tuning(6)\n",
    "\n",
    "# fine tuning할 때의 learning rate는 말 그대로 미세하게 설정하는 것이 좋음\n",
    "# optimizer = tf.keras.optimizers.SGD(learning_rate=0.001)\n",
    "new_model_RA.compile(optimizer='adam',\n",
    "                     metrics=['accuracy'],\n",
    "                     loss='categorical_crossentropy')\n",
    "\n",
    "history_new_RA_fine = new_model_RA.fit(X_train_seq_RA, y_train_seq_RA,\n",
    "                                       epochs=20,\n",
    "                                       batch_size=32,\n",
    "                                       validation_split=0.1,\n",
    "                                       shuffle=True)\n",
    "new_model_RA.summary()"
   ]
  },
  {
   "cell_type": "code",
   "execution_count": 60,
   "id": "96783d6e-c77e-44cb-b2b6-576bc26ce058",
   "metadata": {},
   "outputs": [
    {
     "name": "stdout",
     "output_type": "stream",
     "text": [
      "72/72 [==============================] - 0s 1ms/step - loss: 0.7367 - accuracy: 0.8802\n"
     ]
    },
    {
     "data": {
      "text/plain": [
       "[0.7366754412651062, 0.880158007144928]"
      ]
     },
     "execution_count": 60,
     "metadata": {},
     "output_type": "execute_result"
    }
   ],
   "source": [
    "# fine tuning까지 했을 때의 성능\n",
    "new_model_RA.evaluate(X_test_seq_RA, y_test_seq_RA)"
   ]
  },
  {
   "cell_type": "markdown",
   "id": "661904e6-f8d8-4bc0-8fd2-687bc424df61",
   "metadata": {},
   "source": [
    "# 6. Transfer training(2): RA model을 재사용해서 LA에 맞추기\n",
    "위에서는 LA model을 재사용해서 RA에 맞췄다."
   ]
  },
  {
   "cell_type": "code",
   "execution_count": 61,
   "id": "ae2bd4da-0077-44a6-a005-9062a3fe7891",
   "metadata": {
    "scrolled": true
   },
   "outputs": [
    {
     "name": "stdout",
     "output_type": "stream",
     "text": [
      "WARNING:tensorflow:No training configuration found in the save file, so the model was *not* compiled. Compile it manually.\n"
     ]
    }
   ],
   "source": [
    "# Base(pre-trained) model load (RA_Model.h5)\n",
    "from tensorflow.keras.models import load_model\n",
    "\n",
    "base_model_RA = load_model('./datasets/HAR/DSADS/RA_Model.h5')"
   ]
  },
  {
   "cell_type": "code",
   "execution_count": 62,
   "id": "c52c7eb8-8141-4df4-9abc-88f74387b407",
   "metadata": {},
   "outputs": [],
   "source": [
    "new_model_LA = tf.keras.models.clone_model(base_model_RA)\n",
    "new_model_LA.set_weights(base_model_RA.get_weights())"
   ]
  },
  {
   "cell_type": "code",
   "execution_count": 63,
   "id": "0916e5f0-3ccc-41d1-8ba8-22880448dd0b",
   "metadata": {},
   "outputs": [
    {
     "name": "stdout",
     "output_type": "stream",
     "text": [
      "72/72 [==============================] - 1s 1ms/step - loss: 6.0390 - accuracy: 0.2673\n"
     ]
    },
    {
     "data": {
      "text/plain": [
       "[6.0390191078186035, 0.2673397660255432]"
      ]
     },
     "execution_count": 63,
     "metadata": {},
     "output_type": "execute_result"
    }
   ],
   "source": [
    "# RA model을 그대로 사용하여 LA data 예측\n",
    "new_model_LA.compile(optimizer='adam',\n",
    "                     metrics=['accuracy'],\n",
    "                     loss='categorical_crossentropy')\n",
    "# RA dataset으로 pre-trained된 model을 LA data 예측에 사용\n",
    "new_model_LA.evaluate(X_test_seq_LA, y_test_seq_LA)\n",
    "\n",
    "# accuracy is 0.2xx"
   ]
  },
  {
   "cell_type": "code",
   "execution_count": 64,
   "id": "5d77cbc2-4538-49fd-890a-d4bfa03ef074",
   "metadata": {},
   "outputs": [
    {
     "name": "stdout",
     "output_type": "stream",
     "text": [
      "삭제 전: \n",
      "lstm1_base_RA: <keras.layers.rnn.lstm.LSTM object at 0x7faddad0d4f0>\n",
      "dense1_base_RA: <keras.layers.core.dense.Dense object at 0x7faddad0deb0>\n",
      "output_base_RA: <keras.layers.core.dense.Dense object at 0x7faddc0befa0>\n",
      "삭제 후: \n",
      "lstm1_base_RA: <keras.layers.rnn.lstm.LSTM object at 0x7faddad0d4f0>\n",
      "dense1_base_RA: <keras.layers.core.dense.Dense object at 0x7faddad0deb0>\n",
      "추가 후: \n",
      "lstm1_base_RA: <keras.layers.rnn.lstm.LSTM object at 0x7faddad0d4f0>\n",
      "dense1_base_RA: <keras.layers.core.dense.Dense object at 0x7faddad0deb0>\n",
      "dense2_new_LA: <keras.layers.core.dense.Dense object at 0x7faddc3c08b0>\n",
      "output_new_LA: <keras.layers.core.dense.Dense object at 0x7faddc3c04c0>\n"
     ]
    }
   ],
   "source": [
    "print(\"삭제 전: \")\n",
    "print_layers(new_model_LA)\n",
    "\n",
    "new_model_LA.pop()\n",
    "print(\"삭제 후: \")\n",
    "print_layers(new_model_LA)\n",
    "\n",
    "new_model_LA.add(keras.layers.Dense(units=64,\n",
    "                                    activation='relu',\n",
    "                                    name='dense2_new_LA'))\n",
    "new_model_LA.add(keras.layers.Dense(units=19,\n",
    "                                    activation='softmax',\n",
    "                                    name='output_new_LA'))\n",
    "print(\"추가 후: \")\n",
    "print_layers(new_model_LA)"
   ]
  },
  {
   "cell_type": "code",
   "execution_count": 65,
   "id": "c2a08e83-94a3-4d49-a854-d6c786761b2e",
   "metadata": {},
   "outputs": [
    {
     "name": "stdout",
     "output_type": "stream",
     "text": [
      "Model: \"sequential\"\n",
      "_________________________________________________________________\n",
      " Layer (type)                Output Shape              Param #   \n",
      "=================================================================\n",
      " lstm1_base_RA (LSTM)        (None, 128)               93696     \n",
      "                                                                 \n",
      " dense1_base_RA (Dense)      (None, 128)               16512     \n",
      "                                                                 \n",
      " dense2_new_LA (Dense)       (None, 64)                8256      \n",
      "                                                                 \n",
      " output_new_LA (Dense)       (None, 19)                1235      \n",
      "                                                                 \n",
      "=================================================================\n",
      "Total params: 119,699\n",
      "Trainable params: 119,699\n",
      "Non-trainable params: 0\n",
      "_________________________________________________________________\n"
     ]
    }
   ],
   "source": [
    "new_model_LA.summary()"
   ]
  },
  {
   "cell_type": "code",
   "execution_count": 66,
   "id": "8a07b748-6648-4ff9-9208-1ea39e9c8b04",
   "metadata": {},
   "outputs": [
    {
     "name": "stdout",
     "output_type": "stream",
     "text": [
      "변경 전: \n",
      "0번 레이어(lstm1_base_RA)의 trainable: True\n",
      "1번 레이어(dense1_base_RA)의 trainable: True\n",
      "2번 레이어(dense2_new_LA)의 trainable: True\n",
      "3번 레이어(output_new_LA)의 trainable: True\n",
      "\n",
      "변경 후: \n",
      "0번 레이어(lstm1_base_RA)의 trainable: False\n",
      "1번 레이어(dense1_base_RA)의 trainable: False\n",
      "2번 레이어(dense2_new_LA)의 trainable: True\n",
      "3번 레이어(output_new_LA)의 trainable: True\n"
     ]
    }
   ],
   "source": [
    "# base_model의 layers는 freeze한다. 가중치가 추가로 학습되지 않고, pre-trained를 쓰려고\n",
    "# 현재 base_model_clone의 [0], [1] layer가 여기에 해당\n",
    "\n",
    "# 변경 전\n",
    "print(\"변경 전: \")\n",
    "layer_num = 0\n",
    "for layer in new_model_LA.layers:\n",
    "    print(f\"{layer_num}번 레이어({layer.name})의 trainable: {layer.trainable}\")\n",
    "    layer_num += 1\n",
    "    \n",
    "# 변경 진행\n",
    "for layer in new_model_LA.layers[:2]:\n",
    "    layer.trainable = False\n",
    "\n",
    "# 변경 후\n",
    "print(\"\\n변경 후: \")\n",
    "layer_num = 0\n",
    "for layer in new_model_LA.layers:\n",
    "    print(f\"{layer_num}번 레이어({layer.name})의 trainable: {layer.trainable}\")\n",
    "    layer_num += 1"
   ]
  },
  {
   "cell_type": "code",
   "execution_count": 67,
   "id": "0435b1f7-6721-434d-9a33-723c4a63cbc0",
   "metadata": {},
   "outputs": [],
   "source": [
    "# compile() method는 훈련 때 어떤 레이어의 가중치에 대해서 학습할 것이고,\n",
    "# 학습할 때 어떤 방법(옵티마이저, 로스, ...)을 사용할 것인지를 사전에 정의하는 것임\n",
    "# 따라서 특정 layer를 freeze한 후에는 반드시 compile해야 됨\n",
    "new_model_LA.compile(optimizer='adam',\n",
    "                     metrics=['accuracy'],\n",
    "                     loss='categorical_crossentropy')"
   ]
  },
  {
   "cell_type": "code",
   "execution_count": 68,
   "id": "3c092645-83ae-49d7-8da3-8bf8f0b7be0f",
   "metadata": {},
   "outputs": [
    {
     "name": "stdout",
     "output_type": "stream",
     "text": [
      "Epoch 1/20\n",
      "193/193 [==============================] - 2s 4ms/step - loss: 2.0839 - accuracy: 0.3627 - val_loss: 1.6095 - val_accuracy: 0.4825\n",
      "Epoch 2/20\n",
      "193/193 [==============================] - 0s 2ms/step - loss: 1.4892 - accuracy: 0.5140 - val_loss: 1.4218 - val_accuracy: 0.5322\n",
      "Epoch 3/20\n",
      "193/193 [==============================] - 0s 2ms/step - loss: 1.3606 - accuracy: 0.5552 - val_loss: 1.3728 - val_accuracy: 0.5556\n",
      "Epoch 4/20\n",
      "193/193 [==============================] - 0s 2ms/step - loss: 1.2954 - accuracy: 0.5778 - val_loss: 1.2770 - val_accuracy: 0.5833\n",
      "Epoch 5/20\n",
      "193/193 [==============================] - 0s 2ms/step - loss: 1.2456 - accuracy: 0.5879 - val_loss: 1.2729 - val_accuracy: 0.5936\n",
      "Epoch 6/20\n",
      "193/193 [==============================] - 0s 2ms/step - loss: 1.2008 - accuracy: 0.6063 - val_loss: 1.2041 - val_accuracy: 0.5965\n",
      "Epoch 7/20\n",
      "193/193 [==============================] - 0s 2ms/step - loss: 1.1632 - accuracy: 0.6219 - val_loss: 1.1940 - val_accuracy: 0.5877\n",
      "Epoch 8/20\n",
      "193/193 [==============================] - 0s 2ms/step - loss: 1.1290 - accuracy: 0.6240 - val_loss: 1.1713 - val_accuracy: 0.6170\n",
      "Epoch 9/20\n",
      "193/193 [==============================] - 0s 2ms/step - loss: 1.1095 - accuracy: 0.6386 - val_loss: 1.1407 - val_accuracy: 0.6140\n",
      "Epoch 10/20\n",
      "193/193 [==============================] - 0s 2ms/step - loss: 1.0807 - accuracy: 0.6480 - val_loss: 1.1368 - val_accuracy: 0.6330\n",
      "Epoch 11/20\n",
      "193/193 [==============================] - 0s 2ms/step - loss: 1.0608 - accuracy: 0.6550 - val_loss: 1.1086 - val_accuracy: 0.6316\n",
      "Epoch 12/20\n",
      "193/193 [==============================] - 0s 2ms/step - loss: 1.0332 - accuracy: 0.6661 - val_loss: 1.1156 - val_accuracy: 0.6404\n",
      "Epoch 13/20\n",
      "193/193 [==============================] - 0s 2ms/step - loss: 1.0173 - accuracy: 0.6627 - val_loss: 1.1037 - val_accuracy: 0.6330\n",
      "Epoch 14/20\n",
      "193/193 [==============================] - 0s 2ms/step - loss: 0.9990 - accuracy: 0.6700 - val_loss: 1.0734 - val_accuracy: 0.6520\n",
      "Epoch 15/20\n",
      "193/193 [==============================] - 0s 2ms/step - loss: 0.9749 - accuracy: 0.6830 - val_loss: 1.1063 - val_accuracy: 0.6491\n",
      "Epoch 16/20\n",
      "193/193 [==============================] - 0s 2ms/step - loss: 0.9635 - accuracy: 0.6784 - val_loss: 1.0662 - val_accuracy: 0.6491\n",
      "Epoch 17/20\n",
      "193/193 [==============================] - 0s 2ms/step - loss: 0.9506 - accuracy: 0.6878 - val_loss: 1.0525 - val_accuracy: 0.6579\n",
      "Epoch 18/20\n",
      "193/193 [==============================] - 0s 2ms/step - loss: 0.9376 - accuracy: 0.6908 - val_loss: 1.0596 - val_accuracy: 0.6550\n",
      "Epoch 19/20\n",
      "193/193 [==============================] - 0s 2ms/step - loss: 0.9254 - accuracy: 0.6917 - val_loss: 1.0609 - val_accuracy: 0.6594\n",
      "Epoch 20/20\n",
      "193/193 [==============================] - 0s 2ms/step - loss: 0.9081 - accuracy: 0.7026 - val_loss: 1.0787 - val_accuracy: 0.6462\n",
      "Model: \"sequential\"\n",
      "_________________________________________________________________\n",
      " Layer (type)                Output Shape              Param #   \n",
      "=================================================================\n",
      " lstm1_base_RA (LSTM)        (None, 128)               93696     \n",
      "                                                                 \n",
      " dense1_base_RA (Dense)      (None, 128)               16512     \n",
      "                                                                 \n",
      " dense2_new_LA (Dense)       (None, 64)                8256      \n",
      "                                                                 \n",
      " output_new_LA (Dense)       (None, 19)                1235      \n",
      "                                                                 \n",
      "=================================================================\n",
      "Total params: 119,699\n",
      "Trainable params: 9,491\n",
      "Non-trainable params: 110,208\n",
      "_________________________________________________________________\n"
     ]
    }
   ],
   "source": [
    "# 이제 실제로 new_LA 전용 가중치에 대해서만 학습 진행\n",
    "history_new_LA = new_model_LA.fit(X_train_seq_LA, y_train_seq_LA,\n",
    "                                  epochs=20,\n",
    "                                  batch_size=32,\n",
    "                                  validation_split=0.1,\n",
    "                                  shuffle=True)\n",
    "new_model_LA.summary()"
   ]
  },
  {
   "cell_type": "code",
   "execution_count": 69,
   "id": "44787b31-ae6e-4a27-861a-82d4b7ae504f",
   "metadata": {},
   "outputs": [
    {
     "name": "stdout",
     "output_type": "stream",
     "text": [
      "72/72 [==============================] - 0s 1ms/step - loss: 1.1602 - accuracy: 0.6255\n"
     ]
    },
    {
     "data": {
      "text/plain": [
       "[1.160151481628418, 0.6255487203598022]"
      ]
     },
     "execution_count": 69,
     "metadata": {},
     "output_type": "execute_result"
    }
   ],
   "source": [
    "# base_model을 기반으로 LA에 대해서 추가 학습만 진행하도록 했을 때의 성능\n",
    "new_model_LA.evaluate(X_test_seq_LA, y_test_seq_LA)"
   ]
  },
  {
   "cell_type": "markdown",
   "id": "c0a887e4-58c6-4060-8794-d3516b38603d",
   "metadata": {},
   "source": [
    "## 6.1. fine-tuning"
   ]
  },
  {
   "cell_type": "code",
   "execution_count": 70,
   "id": "b95e85bb-87a7-4c82-be43-312243d28a08",
   "metadata": {},
   "outputs": [
    {
     "name": "stdout",
     "output_type": "stream",
     "text": [
      "0번 레이어(lstm1_base_RA)의 trainable: True\n",
      "1번 레이어(dense1_base_RA)의 trainable: True\n",
      "2번 레이어(dense2_new_LA)의 trainable: True\n",
      "3번 레이어(output_new_LA)의 trainable: True\n"
     ]
    }
   ],
   "source": [
    "# unfreeze for fine-tuning\n",
    "\n",
    "# 위에서 freeze했던 것을 다시 unfreeze\n",
    "for layer in new_model_LA.layers[:2]:\n",
    "    layer.trainable = True # unfreeze\n",
    "    \n",
    "# 변경 결과 확인\n",
    "layer_num = 0\n",
    "for layer in new_model_LA.layers:\n",
    "    print(f\"{layer_num}번 레이어({layer.name})의 trainable: {layer.trainable}\")\n",
    "    layer_num += 1"
   ]
  },
  {
   "cell_type": "code",
   "execution_count": 71,
   "id": "eb2986ea-e77a-44f4-b1bb-db50147f9c38",
   "metadata": {},
   "outputs": [
    {
     "name": "stdout",
     "output_type": "stream",
     "text": [
      "Epoch 1/20\n",
      "193/193 [==============================] - 2s 5ms/step - loss: 0.8041 - accuracy: 0.7447 - val_loss: 0.7387 - val_accuracy: 0.7690\n",
      "Epoch 2/20\n",
      "193/193 [==============================] - 1s 3ms/step - loss: 0.5479 - accuracy: 0.8377 - val_loss: 0.6492 - val_accuracy: 0.8085\n",
      "Epoch 3/20\n",
      "193/193 [==============================] - 1s 3ms/step - loss: 0.4189 - accuracy: 0.8668 - val_loss: 0.6030 - val_accuracy: 0.8260\n",
      "Epoch 4/20\n",
      "193/193 [==============================] - 1s 3ms/step - loss: 0.3220 - accuracy: 0.9022 - val_loss: 0.5114 - val_accuracy: 0.8567\n",
      "Epoch 5/20\n",
      "193/193 [==============================] - 1s 3ms/step - loss: 0.2629 - accuracy: 0.9176 - val_loss: 0.4474 - val_accuracy: 0.8772\n",
      "Epoch 6/20\n",
      "193/193 [==============================] - 1s 3ms/step - loss: 0.2132 - accuracy: 0.9357 - val_loss: 0.4523 - val_accuracy: 0.8743\n",
      "Epoch 7/20\n",
      "193/193 [==============================] - 1s 3ms/step - loss: 0.1618 - accuracy: 0.9530 - val_loss: 0.4412 - val_accuracy: 0.8655\n",
      "Epoch 8/20\n",
      "193/193 [==============================] - 1s 3ms/step - loss: 0.1431 - accuracy: 0.9571 - val_loss: 0.5434 - val_accuracy: 0.8509\n",
      "Epoch 9/20\n",
      "193/193 [==============================] - 1s 3ms/step - loss: 0.1115 - accuracy: 0.9677 - val_loss: 0.4519 - val_accuracy: 0.8860\n",
      "Epoch 10/20\n",
      "193/193 [==============================] - 1s 3ms/step - loss: 0.0907 - accuracy: 0.9756 - val_loss: 0.4780 - val_accuracy: 0.8845\n",
      "Epoch 11/20\n",
      "193/193 [==============================] - 1s 3ms/step - loss: 0.0886 - accuracy: 0.9737 - val_loss: 0.4822 - val_accuracy: 0.8787\n",
      "Epoch 12/20\n",
      "193/193 [==============================] - 1s 3ms/step - loss: 0.0672 - accuracy: 0.9810 - val_loss: 0.5060 - val_accuracy: 0.8787\n",
      "Epoch 13/20\n",
      "193/193 [==============================] - 1s 3ms/step - loss: 0.0741 - accuracy: 0.9768 - val_loss: 0.5096 - val_accuracy: 0.8845\n",
      "Epoch 14/20\n",
      "193/193 [==============================] - 1s 3ms/step - loss: 0.0541 - accuracy: 0.9844 - val_loss: 0.4987 - val_accuracy: 0.8830\n",
      "Epoch 15/20\n",
      "193/193 [==============================] - 1s 3ms/step - loss: 0.0435 - accuracy: 0.9885 - val_loss: 0.6379 - val_accuracy: 0.8436\n",
      "Epoch 16/20\n",
      "193/193 [==============================] - 1s 3ms/step - loss: 0.0454 - accuracy: 0.9864 - val_loss: 0.5454 - val_accuracy: 0.8889\n",
      "Epoch 17/20\n",
      "193/193 [==============================] - 1s 3ms/step - loss: 0.0737 - accuracy: 0.9776 - val_loss: 0.6711 - val_accuracy: 0.8699\n",
      "Epoch 18/20\n",
      "193/193 [==============================] - 1s 3ms/step - loss: 0.0910 - accuracy: 0.9712 - val_loss: 0.6467 - val_accuracy: 0.8772\n",
      "Epoch 19/20\n",
      "193/193 [==============================] - 1s 3ms/step - loss: 0.0432 - accuracy: 0.9877 - val_loss: 0.6177 - val_accuracy: 0.8830\n",
      "Epoch 20/20\n",
      "193/193 [==============================] - 1s 3ms/step - loss: 0.0122 - accuracy: 0.9984 - val_loss: 0.5905 - val_accuracy: 0.8889\n",
      "Model: \"sequential\"\n",
      "_________________________________________________________________\n",
      " Layer (type)                Output Shape              Param #   \n",
      "=================================================================\n",
      " lstm1_base_RA (LSTM)        (None, 128)               93696     \n",
      "                                                                 \n",
      " dense1_base_RA (Dense)      (None, 128)               16512     \n",
      "                                                                 \n",
      " dense2_new_LA (Dense)       (None, 64)                8256      \n",
      "                                                                 \n",
      " output_new_LA (Dense)       (None, 19)                1235      \n",
      "                                                                 \n",
      "=================================================================\n",
      "Total params: 119,699\n",
      "Trainable params: 119,699\n",
      "Non-trainable params: 0\n",
      "_________________________________________________________________\n"
     ]
    }
   ],
   "source": [
    "# fine-tuning\n",
    "new_model_LA.compile(optimizer='adam',\n",
    "                     metrics=['accuracy'],\n",
    "                     loss='categorical_crossentropy')\n",
    "\n",
    "history_new_LA_fine = new_model_LA.fit(X_train_seq_LA, y_train_seq_LA,\n",
    "                                       epochs=20,\n",
    "                                       batch_size=32,\n",
    "                                       validation_split=0.1,\n",
    "                                       shuffle=True)\n",
    "new_model_LA.summary()"
   ]
  },
  {
   "cell_type": "code",
   "execution_count": 72,
   "id": "47b793f3-0056-4c94-82c4-d4265edc8a22",
   "metadata": {},
   "outputs": [
    {
     "name": "stdout",
     "output_type": "stream",
     "text": [
      "72/72 [==============================] - 0s 1ms/step - loss: 0.6504 - accuracy: 0.8832\n"
     ]
    },
    {
     "data": {
      "text/plain": [
       "[0.6503694653511047, 0.8832309246063232]"
      ]
     },
     "execution_count": 72,
     "metadata": {},
     "output_type": "execute_result"
    }
   ],
   "source": [
    "# fine-tuning까지 했을 때의 성능\n",
    "new_model_LA.evaluate(X_test_seq_LA, y_test_seq_LA)"
   ]
  },
  {
   "cell_type": "markdown",
   "id": "4f2cb189-d349-40d0-90cd-a08c13809298",
   "metadata": {},
   "source": [
    "# References"
   ]
  },
  {
   "cell_type": "markdown",
   "id": "a16d207e-7181-40d6-8ce0-e6884dfa97ab",
   "metadata": {},
   "source": [
    "1. [AI-class/Pre-trained_model.ipynb at main · MyungKyuYi/AI-class](https://github.com/MyungKyuYi/AI-class/blob/main/Pre-trained_model.ipynb)\n",
    "2. [딥러닝, 전이학습, fine tuning, transfer learning](https://www.youtube.com/watch?v=uTk0KbK1948)"
   ]
  }
 ],
 "metadata": {
  "kernelspec": {
   "display_name": "gc_dl",
   "language": "python",
   "name": "gc_dl"
  },
  "language_info": {
   "codemirror_mode": {
    "name": "ipython",
    "version": 3
   },
   "file_extension": ".py",
   "mimetype": "text/x-python",
   "name": "python",
   "nbconvert_exporter": "python",
   "pygments_lexer": "ipython3",
   "version": "3.9.18"
  }
 },
 "nbformat": 4,
 "nbformat_minor": 5
}
