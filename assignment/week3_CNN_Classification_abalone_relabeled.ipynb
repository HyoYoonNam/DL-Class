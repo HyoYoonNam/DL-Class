{
 "cells": [
  {
   "cell_type": "markdown",
   "id": "a312b86b-2dae-413c-8ff0-59b2d970fe6b",
   "metadata": {},
   "source": [
    "# Table of Contents"
   ]
  },
  {
   "cell_type": "markdown",
   "id": "8e3eb5ce-ef75-43d1-9498-99273227e82f",
   "metadata": {},
   "source": [
    "0. Introduction\n",
    "   \n",
    "2. Load the dataset  \n",
    "   1.1. categorical value를 encoding하기  \n",
    "   1.2. target labeling 수정하기  \n",
    "   1.3. Re-labeling  \n",
    "   1.4. Convert to Sequential Dataset  \n",
    "   1.5. one-hot encoding\n",
    "\n",
    "4. CNN; Convolutional Neural Network"
   ]
  },
  {
   "cell_type": "markdown",
   "id": "0b1385bd-952a-4c15-b62e-cc7c6a481a9d",
   "metadata": {},
   "source": [
    "# 0. Introduction"
   ]
  },
  {
   "cell_type": "markdown",
   "id": "48f373c2-9422-4fd7-9790-09eb9dc4e2fb",
   "metadata": {},
   "source": [
    "**Dataset**  \n",
    "* [abalone(전복)](https://github.com/MyungKyuYi/AI-class/blob/main/abalone.csv)\n",
    "\n",
    "**Environment**\n",
    "* macOS `x86`cpu\n",
    "\n",
    "**Framework**  \n",
    "* TensorFlow: Version `2.10.0`\n",
    "\n",
    "**Dependencies**  \n",
    "* Python: Version `3.9.19`\n",
    "* Numpy: Version `1.24.3`\n",
    "* Pandas: Version `2.2.2`\n",
    "* Matplotlib: Version `3.9.2`\n",
    "* scikit-learn: Version `1.2.2`\n",
    "\n",
    "**Purpose**  \n",
    "* abalone dataset에 대해서 CNN을 사용한 Classification을 수행한다.\n",
    "\n",
    "**Abstraction**  \n",
    "* d"
   ]
  },
  {
   "cell_type": "markdown",
   "id": "fe4b4dd1-2f1e-429b-a03d-f2ca63e06fc8",
   "metadata": {},
   "source": [
    "# 1. Load the dataset"
   ]
  },
  {
   "cell_type": "code",
   "execution_count": 1,
   "id": "3434aaad-5105-4799-a7a1-dfe67724726a",
   "metadata": {},
   "outputs": [],
   "source": [
    "import numpy as np\n",
    "import pandas as pd\n",
    "import seaborn as sns\n",
    "import matplotlib.pyplot as plt\n",
    "\n",
    "%matplotlib inline"
   ]
  },
  {
   "cell_type": "code",
   "execution_count": 2,
   "id": "7e36c4e1-dcfc-46b0-82b6-b1ca043d8a41",
   "metadata": {},
   "outputs": [
    {
     "data": {
      "text/html": [
       "<div>\n",
       "<style scoped>\n",
       "    .dataframe tbody tr th:only-of-type {\n",
       "        vertical-align: middle;\n",
       "    }\n",
       "\n",
       "    .dataframe tbody tr th {\n",
       "        vertical-align: top;\n",
       "    }\n",
       "\n",
       "    .dataframe thead th {\n",
       "        text-align: right;\n",
       "    }\n",
       "</style>\n",
       "<table border=\"1\" class=\"dataframe\">\n",
       "  <thead>\n",
       "    <tr style=\"text-align: right;\">\n",
       "      <th></th>\n",
       "      <th>Sex</th>\n",
       "      <th>Length</th>\n",
       "      <th>Diameter</th>\n",
       "      <th>Height</th>\n",
       "      <th>Whole_weight</th>\n",
       "      <th>Shucked_weight</th>\n",
       "      <th>Viscera_weight</th>\n",
       "      <th>Shell_weight</th>\n",
       "      <th>Rings</th>\n",
       "    </tr>\n",
       "    <tr>\n",
       "      <th>id</th>\n",
       "      <th></th>\n",
       "      <th></th>\n",
       "      <th></th>\n",
       "      <th></th>\n",
       "      <th></th>\n",
       "      <th></th>\n",
       "      <th></th>\n",
       "      <th></th>\n",
       "      <th></th>\n",
       "    </tr>\n",
       "  </thead>\n",
       "  <tbody>\n",
       "    <tr>\n",
       "      <th>0</th>\n",
       "      <td>M</td>\n",
       "      <td>0.455</td>\n",
       "      <td>0.365</td>\n",
       "      <td>0.095</td>\n",
       "      <td>0.5140</td>\n",
       "      <td>0.2245</td>\n",
       "      <td>0.1010</td>\n",
       "      <td>0.1500</td>\n",
       "      <td>15</td>\n",
       "    </tr>\n",
       "    <tr>\n",
       "      <th>1</th>\n",
       "      <td>M</td>\n",
       "      <td>0.350</td>\n",
       "      <td>0.265</td>\n",
       "      <td>0.090</td>\n",
       "      <td>0.2255</td>\n",
       "      <td>0.0995</td>\n",
       "      <td>0.0485</td>\n",
       "      <td>0.0700</td>\n",
       "      <td>7</td>\n",
       "    </tr>\n",
       "    <tr>\n",
       "      <th>2</th>\n",
       "      <td>F</td>\n",
       "      <td>0.530</td>\n",
       "      <td>0.420</td>\n",
       "      <td>0.135</td>\n",
       "      <td>0.6770</td>\n",
       "      <td>0.2565</td>\n",
       "      <td>0.1415</td>\n",
       "      <td>0.2100</td>\n",
       "      <td>9</td>\n",
       "    </tr>\n",
       "    <tr>\n",
       "      <th>3</th>\n",
       "      <td>M</td>\n",
       "      <td>0.440</td>\n",
       "      <td>0.365</td>\n",
       "      <td>0.125</td>\n",
       "      <td>0.5160</td>\n",
       "      <td>0.2155</td>\n",
       "      <td>0.1140</td>\n",
       "      <td>0.1550</td>\n",
       "      <td>10</td>\n",
       "    </tr>\n",
       "    <tr>\n",
       "      <th>4</th>\n",
       "      <td>I</td>\n",
       "      <td>0.330</td>\n",
       "      <td>0.255</td>\n",
       "      <td>0.080</td>\n",
       "      <td>0.2050</td>\n",
       "      <td>0.0895</td>\n",
       "      <td>0.0395</td>\n",
       "      <td>0.0550</td>\n",
       "      <td>7</td>\n",
       "    </tr>\n",
       "    <tr>\n",
       "      <th>...</th>\n",
       "      <td>...</td>\n",
       "      <td>...</td>\n",
       "      <td>...</td>\n",
       "      <td>...</td>\n",
       "      <td>...</td>\n",
       "      <td>...</td>\n",
       "      <td>...</td>\n",
       "      <td>...</td>\n",
       "      <td>...</td>\n",
       "    </tr>\n",
       "    <tr>\n",
       "      <th>4172</th>\n",
       "      <td>F</td>\n",
       "      <td>0.565</td>\n",
       "      <td>0.450</td>\n",
       "      <td>0.165</td>\n",
       "      <td>0.8870</td>\n",
       "      <td>0.3700</td>\n",
       "      <td>0.2390</td>\n",
       "      <td>0.2490</td>\n",
       "      <td>11</td>\n",
       "    </tr>\n",
       "    <tr>\n",
       "      <th>4173</th>\n",
       "      <td>M</td>\n",
       "      <td>0.590</td>\n",
       "      <td>0.440</td>\n",
       "      <td>0.135</td>\n",
       "      <td>0.9660</td>\n",
       "      <td>0.4390</td>\n",
       "      <td>0.2145</td>\n",
       "      <td>0.2605</td>\n",
       "      <td>10</td>\n",
       "    </tr>\n",
       "    <tr>\n",
       "      <th>4174</th>\n",
       "      <td>M</td>\n",
       "      <td>0.600</td>\n",
       "      <td>0.475</td>\n",
       "      <td>0.205</td>\n",
       "      <td>1.1760</td>\n",
       "      <td>0.5255</td>\n",
       "      <td>0.2875</td>\n",
       "      <td>0.3080</td>\n",
       "      <td>9</td>\n",
       "    </tr>\n",
       "    <tr>\n",
       "      <th>4175</th>\n",
       "      <td>F</td>\n",
       "      <td>0.625</td>\n",
       "      <td>0.485</td>\n",
       "      <td>0.150</td>\n",
       "      <td>1.0945</td>\n",
       "      <td>0.5310</td>\n",
       "      <td>0.2610</td>\n",
       "      <td>0.2960</td>\n",
       "      <td>10</td>\n",
       "    </tr>\n",
       "    <tr>\n",
       "      <th>4176</th>\n",
       "      <td>M</td>\n",
       "      <td>0.710</td>\n",
       "      <td>0.555</td>\n",
       "      <td>0.195</td>\n",
       "      <td>1.9485</td>\n",
       "      <td>0.9455</td>\n",
       "      <td>0.3765</td>\n",
       "      <td>0.4950</td>\n",
       "      <td>12</td>\n",
       "    </tr>\n",
       "  </tbody>\n",
       "</table>\n",
       "<p>4177 rows × 9 columns</p>\n",
       "</div>"
      ],
      "text/plain": [
       "     Sex  Length  Diameter  Height  Whole_weight  Shucked_weight  \\\n",
       "id                                                                 \n",
       "0      M   0.455     0.365   0.095        0.5140          0.2245   \n",
       "1      M   0.350     0.265   0.090        0.2255          0.0995   \n",
       "2      F   0.530     0.420   0.135        0.6770          0.2565   \n",
       "3      M   0.440     0.365   0.125        0.5160          0.2155   \n",
       "4      I   0.330     0.255   0.080        0.2050          0.0895   \n",
       "...   ..     ...       ...     ...           ...             ...   \n",
       "4172   F   0.565     0.450   0.165        0.8870          0.3700   \n",
       "4173   M   0.590     0.440   0.135        0.9660          0.4390   \n",
       "4174   M   0.600     0.475   0.205        1.1760          0.5255   \n",
       "4175   F   0.625     0.485   0.150        1.0945          0.5310   \n",
       "4176   M   0.710     0.555   0.195        1.9485          0.9455   \n",
       "\n",
       "      Viscera_weight  Shell_weight  Rings  \n",
       "id                                         \n",
       "0             0.1010        0.1500     15  \n",
       "1             0.0485        0.0700      7  \n",
       "2             0.1415        0.2100      9  \n",
       "3             0.1140        0.1550     10  \n",
       "4             0.0395        0.0550      7  \n",
       "...              ...           ...    ...  \n",
       "4172          0.2390        0.2490     11  \n",
       "4173          0.2145        0.2605     10  \n",
       "4174          0.2875        0.3080      9  \n",
       "4175          0.2610        0.2960     10  \n",
       "4176          0.3765        0.4950     12  \n",
       "\n",
       "[4177 rows x 9 columns]"
      ]
     },
     "execution_count": 2,
     "metadata": {},
     "output_type": "execute_result"
    }
   ],
   "source": [
    "# Load the dataset\n",
    "df = pd.read_csv('./datasets/abalone.csv', index_col=0)\n",
    "df"
   ]
  },
  {
   "cell_type": "code",
   "execution_count": 3,
   "id": "2cc878ce-cf83-48aa-97a1-33b7cc32673b",
   "metadata": {},
   "outputs": [
    {
     "name": "stdout",
     "output_type": "stream",
     "text": [
      "df.shape: (4177, 9)\n",
      "df.columns: Index(['Sex', 'Length', 'Diameter', 'Height', 'Whole_weight', 'Shucked_weight',\n",
      "       'Viscera_weight', 'Shell_weight', 'Rings'],\n",
      "      dtype='object')\n"
     ]
    }
   ],
   "source": [
    "print(f\"df.shape: {df.shape}\")\n",
    "print(f\"df.columns: {df.columns}\")"
   ]
  },
  {
   "cell_type": "code",
   "execution_count": 4,
   "id": "56a1db25-8295-4f1b-ac5a-0864c27bad53",
   "metadata": {},
   "outputs": [
    {
     "data": {
      "text/plain": [
       "'\\n| Sex               | \\n| Length            | \\n| Diameter          | \\n| Height            | \\n| Whole_weight      | \\n| Shucked_weight    | \\n| Viscera_weight    | \\n| Shell_weight      |\\n| Rings(Label)      | \\n'"
      ]
     },
     "execution_count": 4,
     "metadata": {},
     "output_type": "execute_result"
    }
   ],
   "source": [
    "# columns description\n",
    "'''\n",
    "| Sex               | \n",
    "| Length            | \n",
    "| Diameter          | \n",
    "| Height            | \n",
    "| Whole_weight      | \n",
    "| Shucked_weight    | \n",
    "| Viscera_weight    | \n",
    "| Shell_weight      |\n",
    "| Rings(Label)      | \n",
    "'''"
   ]
  },
  {
   "cell_type": "code",
   "execution_count": 5,
   "id": "fd728c4c-48a5-4a96-b886-602a93964285",
   "metadata": {},
   "outputs": [
    {
     "name": "stdout",
     "output_type": "stream",
     "text": [
      "<class 'pandas.core.frame.DataFrame'>\n",
      "Index: 4177 entries, 0 to 4176\n",
      "Data columns (total 9 columns):\n",
      " #   Column          Non-Null Count  Dtype  \n",
      "---  ------          --------------  -----  \n",
      " 0   Sex             4177 non-null   object \n",
      " 1   Length          4177 non-null   float64\n",
      " 2   Diameter        4177 non-null   float64\n",
      " 3   Height          4177 non-null   float64\n",
      " 4   Whole_weight    4177 non-null   float64\n",
      " 5   Shucked_weight  4177 non-null   float64\n",
      " 6   Viscera_weight  4177 non-null   float64\n",
      " 7   Shell_weight    4177 non-null   float64\n",
      " 8   Rings           4177 non-null   int64  \n",
      "dtypes: float64(7), int64(1), object(1)\n",
      "memory usage: 326.3+ KB\n",
      "None\n",
      "\n",
      "\n",
      "\n",
      "Sex               0\n",
      "Length            0\n",
      "Diameter          0\n",
      "Height            0\n",
      "Whole_weight      0\n",
      "Shucked_weight    0\n",
      "Viscera_weight    0\n",
      "Shell_weight      0\n",
      "Rings             0\n",
      "dtype: int64\n",
      "\n",
      "\n",
      "\n",
      "There are no missing values.\n",
      "\n",
      "\n",
      "\n",
      "There are no missing values.\n"
     ]
    }
   ],
   "source": [
    "# missing value를 확인하는 방법 두 가지\n",
    "# sol1. DataFrame.info()는 Non-Null Count & Dtype을 리턴함\n",
    "print(df.info())\n",
    "print(\"\\n\\n\")\n",
    "# sol2. DataFrame.isnull().sum()은 Null Count를 리턴함 -> Null 확인에는 더 직관적임\n",
    "print(df.isnull().sum())\n",
    "print(\"\\n\\n\")\n",
    "\n",
    "# 또한 이를 응용하여 dataset 전체에 null이 존재하는지 여부를 출력하는 if statement를 작성 가능\n",
    "if (df.isnull().sum().sum() == 0): print(\"There are no missing values.\")\n",
    "print(\"\\n\\n\")\n",
    "\n",
    "# 또한 이를 응용하여 null이 존재한다면 자동으로 처리하는 if statement를 작성 가능\n",
    "# 해당 예제에서는 missing value를 '제거'하도록 작성함. 이외에도 missing value 처리 방법은 다양함\n",
    "if (df.isnull().sum().sum() == 0):\n",
    "    print(\"There are no missing values.\")\n",
    "else:\n",
    "    print(\"missing values가 존재하여 처리합니다. \\n처리 방법: 삭제\")\n",
    "    df = df.dropna()\n",
    "\n",
    "# 해당 dataset에는 missing value가 존재하지 않기 때문에 별도로 작동하지는 않음"
   ]
  },
  {
   "cell_type": "markdown",
   "id": "f8c3b28c-1c0d-4368-889b-45e5a6883e02",
   "metadata": {},
   "source": [
    "## 1.1. categorical value를 encoding하기"
   ]
  },
  {
   "cell_type": "code",
   "execution_count": 6,
   "id": "7bb1f82e-772a-4f14-9663-3307b6d42df7",
   "metadata": {},
   "outputs": [
    {
     "data": {
      "text/plain": [
       "array(['F', 'I', 'M'], dtype=object)"
      ]
     },
     "execution_count": 6,
     "metadata": {},
     "output_type": "execute_result"
    }
   ],
   "source": [
    "# categorical value를 가지는 column 확인\n",
    "np.unique(df['Sex'])"
   ]
  },
  {
   "cell_type": "code",
   "execution_count": 7,
   "id": "06a3f96a-9bf4-4d05-84da-e1170f9fcae4",
   "metadata": {},
   "outputs": [
    {
     "data": {
      "text/html": [
       "<div>\n",
       "<style scoped>\n",
       "    .dataframe tbody tr th:only-of-type {\n",
       "        vertical-align: middle;\n",
       "    }\n",
       "\n",
       "    .dataframe tbody tr th {\n",
       "        vertical-align: top;\n",
       "    }\n",
       "\n",
       "    .dataframe thead th {\n",
       "        text-align: right;\n",
       "    }\n",
       "</style>\n",
       "<table border=\"1\" class=\"dataframe\">\n",
       "  <thead>\n",
       "    <tr style=\"text-align: right;\">\n",
       "      <th></th>\n",
       "      <th>Sex</th>\n",
       "      <th>Length</th>\n",
       "      <th>Diameter</th>\n",
       "      <th>Height</th>\n",
       "      <th>Whole_weight</th>\n",
       "      <th>Shucked_weight</th>\n",
       "      <th>Viscera_weight</th>\n",
       "      <th>Shell_weight</th>\n",
       "      <th>Rings</th>\n",
       "    </tr>\n",
       "    <tr>\n",
       "      <th>id</th>\n",
       "      <th></th>\n",
       "      <th></th>\n",
       "      <th></th>\n",
       "      <th></th>\n",
       "      <th></th>\n",
       "      <th></th>\n",
       "      <th></th>\n",
       "      <th></th>\n",
       "      <th></th>\n",
       "    </tr>\n",
       "  </thead>\n",
       "  <tbody>\n",
       "    <tr>\n",
       "      <th>0</th>\n",
       "      <td>0</td>\n",
       "      <td>0.455</td>\n",
       "      <td>0.365</td>\n",
       "      <td>0.095</td>\n",
       "      <td>0.5140</td>\n",
       "      <td>0.2245</td>\n",
       "      <td>0.1010</td>\n",
       "      <td>0.1500</td>\n",
       "      <td>15</td>\n",
       "    </tr>\n",
       "    <tr>\n",
       "      <th>1</th>\n",
       "      <td>0</td>\n",
       "      <td>0.350</td>\n",
       "      <td>0.265</td>\n",
       "      <td>0.090</td>\n",
       "      <td>0.2255</td>\n",
       "      <td>0.0995</td>\n",
       "      <td>0.0485</td>\n",
       "      <td>0.0700</td>\n",
       "      <td>7</td>\n",
       "    </tr>\n",
       "    <tr>\n",
       "      <th>2</th>\n",
       "      <td>1</td>\n",
       "      <td>0.530</td>\n",
       "      <td>0.420</td>\n",
       "      <td>0.135</td>\n",
       "      <td>0.6770</td>\n",
       "      <td>0.2565</td>\n",
       "      <td>0.1415</td>\n",
       "      <td>0.2100</td>\n",
       "      <td>9</td>\n",
       "    </tr>\n",
       "    <tr>\n",
       "      <th>3</th>\n",
       "      <td>0</td>\n",
       "      <td>0.440</td>\n",
       "      <td>0.365</td>\n",
       "      <td>0.125</td>\n",
       "      <td>0.5160</td>\n",
       "      <td>0.2155</td>\n",
       "      <td>0.1140</td>\n",
       "      <td>0.1550</td>\n",
       "      <td>10</td>\n",
       "    </tr>\n",
       "    <tr>\n",
       "      <th>4</th>\n",
       "      <td>2</td>\n",
       "      <td>0.330</td>\n",
       "      <td>0.255</td>\n",
       "      <td>0.080</td>\n",
       "      <td>0.2050</td>\n",
       "      <td>0.0895</td>\n",
       "      <td>0.0395</td>\n",
       "      <td>0.0550</td>\n",
       "      <td>7</td>\n",
       "    </tr>\n",
       "    <tr>\n",
       "      <th>...</th>\n",
       "      <td>...</td>\n",
       "      <td>...</td>\n",
       "      <td>...</td>\n",
       "      <td>...</td>\n",
       "      <td>...</td>\n",
       "      <td>...</td>\n",
       "      <td>...</td>\n",
       "      <td>...</td>\n",
       "      <td>...</td>\n",
       "    </tr>\n",
       "    <tr>\n",
       "      <th>4172</th>\n",
       "      <td>1</td>\n",
       "      <td>0.565</td>\n",
       "      <td>0.450</td>\n",
       "      <td>0.165</td>\n",
       "      <td>0.8870</td>\n",
       "      <td>0.3700</td>\n",
       "      <td>0.2390</td>\n",
       "      <td>0.2490</td>\n",
       "      <td>11</td>\n",
       "    </tr>\n",
       "    <tr>\n",
       "      <th>4173</th>\n",
       "      <td>0</td>\n",
       "      <td>0.590</td>\n",
       "      <td>0.440</td>\n",
       "      <td>0.135</td>\n",
       "      <td>0.9660</td>\n",
       "      <td>0.4390</td>\n",
       "      <td>0.2145</td>\n",
       "      <td>0.2605</td>\n",
       "      <td>10</td>\n",
       "    </tr>\n",
       "    <tr>\n",
       "      <th>4174</th>\n",
       "      <td>0</td>\n",
       "      <td>0.600</td>\n",
       "      <td>0.475</td>\n",
       "      <td>0.205</td>\n",
       "      <td>1.1760</td>\n",
       "      <td>0.5255</td>\n",
       "      <td>0.2875</td>\n",
       "      <td>0.3080</td>\n",
       "      <td>9</td>\n",
       "    </tr>\n",
       "    <tr>\n",
       "      <th>4175</th>\n",
       "      <td>1</td>\n",
       "      <td>0.625</td>\n",
       "      <td>0.485</td>\n",
       "      <td>0.150</td>\n",
       "      <td>1.0945</td>\n",
       "      <td>0.5310</td>\n",
       "      <td>0.2610</td>\n",
       "      <td>0.2960</td>\n",
       "      <td>10</td>\n",
       "    </tr>\n",
       "    <tr>\n",
       "      <th>4176</th>\n",
       "      <td>0</td>\n",
       "      <td>0.710</td>\n",
       "      <td>0.555</td>\n",
       "      <td>0.195</td>\n",
       "      <td>1.9485</td>\n",
       "      <td>0.9455</td>\n",
       "      <td>0.3765</td>\n",
       "      <td>0.4950</td>\n",
       "      <td>12</td>\n",
       "    </tr>\n",
       "  </tbody>\n",
       "</table>\n",
       "<p>4177 rows × 9 columns</p>\n",
       "</div>"
      ],
      "text/plain": [
       "      Sex  Length  Diameter  Height  Whole_weight  Shucked_weight  \\\n",
       "id                                                                  \n",
       "0       0   0.455     0.365   0.095        0.5140          0.2245   \n",
       "1       0   0.350     0.265   0.090        0.2255          0.0995   \n",
       "2       1   0.530     0.420   0.135        0.6770          0.2565   \n",
       "3       0   0.440     0.365   0.125        0.5160          0.2155   \n",
       "4       2   0.330     0.255   0.080        0.2050          0.0895   \n",
       "...   ...     ...       ...     ...           ...             ...   \n",
       "4172    1   0.565     0.450   0.165        0.8870          0.3700   \n",
       "4173    0   0.590     0.440   0.135        0.9660          0.4390   \n",
       "4174    0   0.600     0.475   0.205        1.1760          0.5255   \n",
       "4175    1   0.625     0.485   0.150        1.0945          0.5310   \n",
       "4176    0   0.710     0.555   0.195        1.9485          0.9455   \n",
       "\n",
       "      Viscera_weight  Shell_weight  Rings  \n",
       "id                                         \n",
       "0             0.1010        0.1500     15  \n",
       "1             0.0485        0.0700      7  \n",
       "2             0.1415        0.2100      9  \n",
       "3             0.1140        0.1550     10  \n",
       "4             0.0395        0.0550      7  \n",
       "...              ...           ...    ...  \n",
       "4172          0.2390        0.2490     11  \n",
       "4173          0.2145        0.2605     10  \n",
       "4174          0.2875        0.3080      9  \n",
       "4175          0.2610        0.2960     10  \n",
       "4176          0.3765        0.4950     12  \n",
       "\n",
       "[4177 rows x 9 columns]"
      ]
     },
     "execution_count": 7,
     "metadata": {},
     "output_type": "execute_result"
    }
   ],
   "source": [
    "# 위에서 'Sex'에 null이 없음을 확인했으니 mapping하여 encoding한다.\n",
    "sex_mapping = {'M': 0, 'F': 1, 'I': 2}\n",
    "df['Sex'] = df['Sex'].map(sex_mapping)\n",
    "df"
   ]
  },
  {
   "cell_type": "code",
   "execution_count": 8,
   "id": "67074ee0-1e60-4b57-9d5c-9115c0a3e578",
   "metadata": {},
   "outputs": [
    {
     "data": {
      "text/html": [
       "<div>\n",
       "<style scoped>\n",
       "    .dataframe tbody tr th:only-of-type {\n",
       "        vertical-align: middle;\n",
       "    }\n",
       "\n",
       "    .dataframe tbody tr th {\n",
       "        vertical-align: top;\n",
       "    }\n",
       "\n",
       "    .dataframe thead th {\n",
       "        text-align: right;\n",
       "    }\n",
       "</style>\n",
       "<table border=\"1\" class=\"dataframe\">\n",
       "  <thead>\n",
       "    <tr style=\"text-align: right;\">\n",
       "      <th></th>\n",
       "      <th>Sex</th>\n",
       "      <th>Length</th>\n",
       "      <th>Diameter</th>\n",
       "      <th>Height</th>\n",
       "      <th>Whole_weight</th>\n",
       "      <th>Shucked_weight</th>\n",
       "      <th>Viscera_weight</th>\n",
       "      <th>Shell_weight</th>\n",
       "      <th>Rings</th>\n",
       "    </tr>\n",
       "  </thead>\n",
       "  <tbody>\n",
       "    <tr>\n",
       "      <th>count</th>\n",
       "      <td>4177.000000</td>\n",
       "      <td>4177.000000</td>\n",
       "      <td>4177.000000</td>\n",
       "      <td>4177.000000</td>\n",
       "      <td>4177.000000</td>\n",
       "      <td>4177.000000</td>\n",
       "      <td>4177.000000</td>\n",
       "      <td>4177.000000</td>\n",
       "      <td>4177.000000</td>\n",
       "    </tr>\n",
       "    <tr>\n",
       "      <th>mean</th>\n",
       "      <td>0.955470</td>\n",
       "      <td>0.523992</td>\n",
       "      <td>0.407881</td>\n",
       "      <td>0.139516</td>\n",
       "      <td>0.828742</td>\n",
       "      <td>0.359367</td>\n",
       "      <td>0.180594</td>\n",
       "      <td>0.238831</td>\n",
       "      <td>9.933684</td>\n",
       "    </tr>\n",
       "    <tr>\n",
       "      <th>std</th>\n",
       "      <td>0.827815</td>\n",
       "      <td>0.120093</td>\n",
       "      <td>0.099240</td>\n",
       "      <td>0.041827</td>\n",
       "      <td>0.490389</td>\n",
       "      <td>0.221963</td>\n",
       "      <td>0.109614</td>\n",
       "      <td>0.139203</td>\n",
       "      <td>3.224169</td>\n",
       "    </tr>\n",
       "    <tr>\n",
       "      <th>min</th>\n",
       "      <td>0.000000</td>\n",
       "      <td>0.075000</td>\n",
       "      <td>0.055000</td>\n",
       "      <td>0.000000</td>\n",
       "      <td>0.002000</td>\n",
       "      <td>0.001000</td>\n",
       "      <td>0.000500</td>\n",
       "      <td>0.001500</td>\n",
       "      <td>1.000000</td>\n",
       "    </tr>\n",
       "    <tr>\n",
       "      <th>25%</th>\n",
       "      <td>0.000000</td>\n",
       "      <td>0.450000</td>\n",
       "      <td>0.350000</td>\n",
       "      <td>0.115000</td>\n",
       "      <td>0.441500</td>\n",
       "      <td>0.186000</td>\n",
       "      <td>0.093500</td>\n",
       "      <td>0.130000</td>\n",
       "      <td>8.000000</td>\n",
       "    </tr>\n",
       "    <tr>\n",
       "      <th>50%</th>\n",
       "      <td>1.000000</td>\n",
       "      <td>0.545000</td>\n",
       "      <td>0.425000</td>\n",
       "      <td>0.140000</td>\n",
       "      <td>0.799500</td>\n",
       "      <td>0.336000</td>\n",
       "      <td>0.171000</td>\n",
       "      <td>0.234000</td>\n",
       "      <td>9.000000</td>\n",
       "    </tr>\n",
       "    <tr>\n",
       "      <th>75%</th>\n",
       "      <td>2.000000</td>\n",
       "      <td>0.615000</td>\n",
       "      <td>0.480000</td>\n",
       "      <td>0.165000</td>\n",
       "      <td>1.153000</td>\n",
       "      <td>0.502000</td>\n",
       "      <td>0.253000</td>\n",
       "      <td>0.329000</td>\n",
       "      <td>11.000000</td>\n",
       "    </tr>\n",
       "    <tr>\n",
       "      <th>max</th>\n",
       "      <td>2.000000</td>\n",
       "      <td>0.815000</td>\n",
       "      <td>0.650000</td>\n",
       "      <td>1.130000</td>\n",
       "      <td>2.825500</td>\n",
       "      <td>1.488000</td>\n",
       "      <td>0.760000</td>\n",
       "      <td>1.005000</td>\n",
       "      <td>29.000000</td>\n",
       "    </tr>\n",
       "  </tbody>\n",
       "</table>\n",
       "</div>"
      ],
      "text/plain": [
       "               Sex       Length     Diameter       Height  Whole_weight  \\\n",
       "count  4177.000000  4177.000000  4177.000000  4177.000000   4177.000000   \n",
       "mean      0.955470     0.523992     0.407881     0.139516      0.828742   \n",
       "std       0.827815     0.120093     0.099240     0.041827      0.490389   \n",
       "min       0.000000     0.075000     0.055000     0.000000      0.002000   \n",
       "25%       0.000000     0.450000     0.350000     0.115000      0.441500   \n",
       "50%       1.000000     0.545000     0.425000     0.140000      0.799500   \n",
       "75%       2.000000     0.615000     0.480000     0.165000      1.153000   \n",
       "max       2.000000     0.815000     0.650000     1.130000      2.825500   \n",
       "\n",
       "       Shucked_weight  Viscera_weight  Shell_weight        Rings  \n",
       "count     4177.000000     4177.000000   4177.000000  4177.000000  \n",
       "mean         0.359367        0.180594      0.238831     9.933684  \n",
       "std          0.221963        0.109614      0.139203     3.224169  \n",
       "min          0.001000        0.000500      0.001500     1.000000  \n",
       "25%          0.186000        0.093500      0.130000     8.000000  \n",
       "50%          0.336000        0.171000      0.234000     9.000000  \n",
       "75%          0.502000        0.253000      0.329000    11.000000  \n",
       "max          1.488000        0.760000      1.005000    29.000000  "
      ]
     },
     "execution_count": 8,
     "metadata": {},
     "output_type": "execute_result"
    }
   ],
   "source": [
    "# DataFrame.describe()는 dataset에 대한 statistical values를 제공함\n",
    "df.describe()"
   ]
  },
  {
   "cell_type": "code",
   "execution_count": 9,
   "id": "956e43b0-da2b-48a8-b0ca-1ee695bbdbc0",
   "metadata": {},
   "outputs": [
    {
     "data": {
      "image/png": "[encoded data removed]",
      "text/plain": [
       "<Figure size 1000x1000 with 2 Axes>"
      ]
     },
     "metadata": {},
     "output_type": "display_data"
    }
   ],
   "source": [
    "# Check the correlations(1) by heatmap\n",
    "# If corr >= 0.3, positive-correlated and if corr >= 0.7, high correlated\n",
    "# If corr <= -0.3, negative-correlated and if corr <= -0.7, high correlated\n",
    "df_corr = df.corr()\n",
    "\n",
    "plt.figure(figsize=(10, 10))\n",
    "sns.set(font_scale=0.8)\n",
    "sns.heatmap(data=df_corr, annot=True)\n",
    "plt.show()"
   ]
  },
  {
   "cell_type": "code",
   "execution_count": 10,
   "id": "9f7bc67d-e99a-4f9c-8194-efc9fe2882ef",
   "metadata": {},
   "outputs": [],
   "source": [
    "# # Check the correlations(2) by pairplot\n",
    "#   # 'Rings'에 대해 구분\n",
    "# sns.pairplot(data=df,\n",
    "#              vars=['Sex', 'Length', 'Diameter', 'Height', 'Whole_weight',\n",
    "#                    'Shucked_weight', 'Viscera_weight', 'Shell_weight', 'Rings'],\n",
    "#              hue='Rings')\n",
    "# plt.show()"
   ]
  },
  {
   "cell_type": "code",
   "execution_count": 11,
   "id": "c96b2106-83da-4cf8-8636-0d18e7696ad9",
   "metadata": {},
   "outputs": [],
   "source": [
    "# # Check the correlations(2) by pairplot\n",
    "#   # 'Sex'에 대해 구분\n",
    "# sns.pairplot(data=df,\n",
    "#              vars=['Sex', 'Length', 'Diameter', 'Height', 'Whole_weight',\n",
    "#                    'Shucked_weight', 'Viscera_weight', 'Shell_weight', 'Rings'],\n",
    "#              hue='Sex')\n",
    "# plt.show()"
   ]
  },
  {
   "cell_type": "markdown",
   "id": "40e78c54-8883-4e84-93fe-12753edc9400",
   "metadata": {},
   "source": [
    "## 1.2. target labeling 수정하기"
   ]
  },
  {
   "cell_type": "code",
   "execution_count": 12,
   "id": "f63bb5b9-94d8-4b1e-9afa-a4cf582ff855",
   "metadata": {},
   "outputs": [
    {
     "data": {
      "image/png": "[encoded data removed]",
      "text/plain": [
       "<Figure size 640x480 with 1 Axes>"
      ]
     },
     "metadata": {},
     "output_type": "display_data"
    }
   ],
   "source": [
    "# label 확인(1)\n",
    "sns.boxplot(data=df['Rings'])\n",
    "plt.show()"
   ]
  },
  {
   "cell_type": "code",
   "execution_count": 13,
   "id": "e8eece5e-a302-4526-ae3a-a27a95b4b7f6",
   "metadata": {},
   "outputs": [
    {
     "data": {
      "image/png": "[encoded data removed]",
      "text/plain": [
       "<Figure size 640x480 with 1 Axes>"
      ]
     },
     "metadata": {},
     "output_type": "display_data"
    }
   ],
   "source": [
    "# label 확인(2)\n",
    "sns.countplot(data=df, x='Rings')\n",
    "plt.show()"
   ]
  },
  {
   "cell_type": "code",
   "execution_count": 14,
   "id": "b3b89a22-c7ab-4fe5-864b-33947fd985b7",
   "metadata": {},
   "outputs": [
    {
     "name": "stdout",
     "output_type": "stream",
     "text": [
      "\n",
      "<label count>\n",
      "Rings  count\n",
      "    1      1\n",
      "    2      1\n",
      "    3     15\n",
      "    4     57\n",
      "    5    115\n",
      "    6    259\n",
      "    7    391\n",
      "    8    568\n",
      "    9    689\n",
      "   10    634\n",
      "   11    487\n",
      "   12    267\n",
      "   13    203\n",
      "   14    126\n",
      "   15    103\n",
      "   16     67\n",
      "   17     58\n",
      "   18     42\n",
      "   19     32\n",
      "   20     26\n",
      "   21     14\n",
      "   22      6\n",
      "   23      9\n",
      "   24      2\n",
      "   25      1\n",
      "   26      1\n",
      "   27      2\n",
      "   29      1\n"
     ]
    }
   ],
   "source": [
    "# label 확인(3)\n",
    "labels = np.unique(df['Rings'], return_counts=True)\n",
    "print(\"\\n<label count>\")\n",
    "table = np.vstack(labels).T\n",
    "print(\"Rings  count\")\n",
    "for row in table:\n",
    "    print(f\"{row[0]:5d} {row[1]:6d}\")\n",
    "\n",
    "# problem 1. label이 0부터 시작하지 않는다.\n",
    "# problem 2. label에 빈 공간이 있다(28)."
   ]
  },
  {
   "cell_type": "code",
   "execution_count": 15,
   "id": "dc8554dc-5d09-4725-9ac4-967bfafb9cee",
   "metadata": {},
   "outputs": [
    {
     "data": {
      "text/plain": [
       "['<label count>',\n",
       " 'Rings  count',\n",
       " '    1      1',\n",
       " '    2      1',\n",
       " '    3     15',\n",
       " '    4     57',\n",
       " '    5    115',\n",
       " '    6    259',\n",
       " '    7    391',\n",
       " '    8    568',\n",
       " '    9    689',\n",
       " '   10    634',\n",
       " '   11    487',\n",
       " '   12    267',\n",
       " '   13    203',\n",
       " '   14    126',\n",
       " '   15    103',\n",
       " '   16     67',\n",
       " '   17     58',\n",
       " '   18     42',\n",
       " '   19     32',\n",
       " '   20     26',\n",
       " '   21     14',\n",
       " '   22      6',\n",
       " '   23      9',\n",
       " '   24      2',\n",
       " '   25      1',\n",
       " '   26      1',\n",
       " '   27      2',\n",
       " '   29      1']"
      ]
     },
     "execution_count": 15,
     "metadata": {},
     "output_type": "execute_result"
    }
   ],
   "source": [
    "# labeling 수정 전 데이터 저장 로직(1)\n",
    "tmp_list = []\n",
    "tmp_list.append(\"<label count>\")\n",
    "tmp_list.append(\"Rings  count\")\n",
    "for row in table:\n",
    "    tmp_list.append((f\"{row[0]:5d} {row[1]:6d}\"))\n",
    "\n",
    "# 저장 로직 확인용 출력\n",
    "tmp_list"
   ]
  },
  {
   "cell_type": "code",
   "execution_count": 16,
   "id": "2ed00495-341c-4b26-9915-0cf1a2c4da08",
   "metadata": {},
   "outputs": [],
   "source": [
    "# labeling 수정 전 데이터 저장 로직(2)\n",
    "with open('./abalone_label_numbering_origin.txt', 'w') as f:\n",
    "    for line in tmp_list:\n",
    "        f.write(line)\n",
    "        f.write('\\n')"
   ]
  },
  {
   "cell_type": "code",
   "execution_count": 17,
   "id": "3146f34c-56c1-48f0-90a9-727c0ae69bec",
   "metadata": {},
   "outputs": [
    {
     "data": {
      "text/plain": [
       "array([ 1,  2,  3,  4,  5,  6,  7,  8,  9, 10, 11, 12, 13, 14, 15, 16, 17,\n",
       "       18, 19, 20, 21, 22, 23, 24, 25, 26, 27, 28])"
      ]
     },
     "execution_count": 17,
     "metadata": {},
     "output_type": "execute_result"
    }
   ],
   "source": [
    "# labeling 수정 - step1. 29 -> 28\n",
    "rings_mapping = {29: 28}\n",
    "\n",
    "df['Rings'] = df['Rings'].replace(rings_mapping)\n",
    "np.unique(df['Rings'])\n",
    "\n",
    "# 이제 1 ~ 28 까지는 빈 클래스 없이 존재한다\n",
    "# 남은 문제는 0이 존재하지 않는다는 것, 따라서 0 ~ 27로 매핑 필요함(다음 cell)"
   ]
  },
  {
   "cell_type": "code",
   "execution_count": 18,
   "id": "1194ad4f-b8ca-41f1-a421-5690c3485498",
   "metadata": {},
   "outputs": [
    {
     "name": "stdout",
     "output_type": "stream",
     "text": [
      "\n",
      "<label count>\n",
      "Rings  count\n",
      "    0      1\n",
      "    1      1\n",
      "    2     15\n",
      "    3     57\n",
      "    4    115\n",
      "    5    259\n",
      "    6    391\n",
      "    7    568\n",
      "    8    689\n",
      "    9    634\n",
      "   10    487\n",
      "   11    267\n",
      "   12    203\n",
      "   13    126\n",
      "   14    103\n",
      "   15     67\n",
      "   16     58\n",
      "   17     42\n",
      "   18     32\n",
      "   19     26\n",
      "   20     14\n",
      "   21      6\n",
      "   22      9\n",
      "   23      2\n",
      "   24      1\n",
      "   25      1\n",
      "   26      2\n",
      "   27      1\n"
     ]
    }
   ],
   "source": [
    "# labeling 수정 - step2. \b1~28 -> 0~27\n",
    "rings_mapping = {}\n",
    "for i in range(len(np.unique(df['Rings']))): # 0 ~ 27\n",
    "    rings_mapping = {i+1: i} # 1을 0에 매핑, 2를 1에 매핑, ...\n",
    "    # ㄴ mapping dict에 한 번에 추가하고 replace하면 2에서 1로 매핑된 애가\n",
    "    # ㄴ 또 1에서 0으로 매핑되는 문제가 생기지 않을까 싶어서 매 번 초기화하고\n",
    "    # ㄴ loop마다 한 개의 label에 대한 mapping만 수행되도록 했음\n",
    "    # ㄴ 하지만 알고보니 다음과 같다고 함.\n",
    "    #   ㄴ 매핑 순서가 상관없이 모든 값이 딕셔너리에 정의된 대로 바뀌며, \n",
    "    #   ㄴ 한 번 바뀐 값은 다시 변경되지 않습니다.\n",
    "    df['Rings'] = df['Rings'].replace(rings_mapping)\n",
    "\n",
    "labels = np.unique(df['Rings'], return_counts=True)\n",
    "print(\"\\n<label count>\")\n",
    "table = np.vstack(labels).T\n",
    "print(\"Rings  count\")\n",
    "for row in table:\n",
    "    print(f\"{row[0]:5d} {row[1]:6d}\")\n",
    "\n",
    "# success"
   ]
  },
  {
   "cell_type": "markdown",
   "id": "cb286870-6893-47f5-8130-09527dc570f2",
   "metadata": {},
   "source": [
    "## 1.3. Re-labeling"
   ]
  },
  {
   "cell_type": "code",
   "execution_count": 19,
   "id": "a4770192-9720-42e1-976a-758be1353ce9",
   "metadata": {},
   "outputs": [
    {
     "name": "stdout",
     "output_type": "stream",
     "text": [
      "\n",
      "<label count>\n",
      "Rings  count\n",
      "    0    189\n",
      "    1   2541\n",
      "    2   1186\n",
      "    3    225\n",
      "    4     36\n"
     ]
    }
   ],
   "source": [
    "# 위에서 확인했듯이 label에 대한 sampling bias가 심함\n",
    "# 이를 개선하기 위해서 총 28종류의 label을 5개 범위로 나눠서 re-labeling\n",
    "label_mapping = {}\n",
    "for i in range(28):\n",
    "    if i < 5:\n",
    "        label_mapping[i] = 0\n",
    "    elif i < 10:\n",
    "        label_mapping[i] = 1\n",
    "    elif i < 15:\n",
    "        label_mapping[i] = 2\n",
    "    elif i < 20:\n",
    "        label_mapping[i] = 3\n",
    "    else:\n",
    "        label_mapping[i] = 4\n",
    "\n",
    "df['Rings'] = df['Rings'].replace(label_mapping)\n",
    "\n",
    "re_labels = np.unique(df['Rings'], return_counts=True)\n",
    "print(\"\\n<label count>\")\n",
    "table = np.vstack(re_labels).T\n",
    "print(\"Rings  count\")\n",
    "for row in table:\n",
    "    print(f\"{row[0]:5d} {row[1]:6d}\")"
   ]
  },
  {
   "cell_type": "markdown",
   "id": "de02ff98-90ea-4c92-8b7e-a14369c133a3",
   "metadata": {},
   "source": [
    "## 1.4. Convert to Sequential Dataset"
   ]
  },
  {
   "cell_type": "code",
   "execution_count": 20,
   "id": "09d5b329-f79b-4c66-99ed-c88b2f48259f",
   "metadata": {},
   "outputs": [
    {
     "name": "stdout",
     "output_type": "stream",
     "text": [
      "X.head(): \n",
      "[[0.     0.455  0.365  0.095  0.514  0.2245 0.101  0.15  ]\n",
      " [0.     0.35   0.265  0.09   0.2255 0.0995 0.0485 0.07  ]\n",
      " [1.     0.53   0.42   0.135  0.677  0.2565 0.1415 0.21  ]\n",
      " [0.     0.44   0.365  0.125  0.516  0.2155 0.114  0.155 ]\n",
      " [2.     0.33   0.255  0.08   0.205  0.0895 0.0395 0.055 ]] \n",
      "\n",
      "y.head(): \n",
      "[2 1 1 1 1]\n"
     ]
    }
   ],
   "source": [
    "# X, y 분리\n",
    "X = df.drop('Rings', axis=1).to_numpy()\n",
    "y = df['Rings'].to_numpy()\n",
    "\n",
    "print(f\"X.head(): \\n{X[:5]} \\n\")\n",
    "print(f\"y.head(): \\n{y[:5]}\")"
   ]
  },
  {
   "cell_type": "code",
   "execution_count": 21,
   "id": "adf5759b-9d5e-4c6c-bace-be991ed7ad54",
   "metadata": {},
   "outputs": [
    {
     "name": "stdout",
     "output_type": "stream",
     "text": [
      "X_train.shape: (3132, 8)\n",
      "X_test.shape: (1045, 8)\n",
      "y_train.shape: (3132,)\n",
      "y_test.shape: (1045,)\n"
     ]
    }
   ],
   "source": [
    "# train, test 분리\n",
    "from sklearn.model_selection import train_test_split\n",
    "\n",
    "X_train, X_test, y_train, y_test = train_test_split(X, y,\n",
    "                                                    test_size=0.25,\n",
    "                                                    shuffle=True,\n",
    "                                                    stratify=y,\n",
    "                                                    random_state=42)\n",
    "\n",
    "print(f\"X_train.shape: {X_train.shape}\")\n",
    "print(f\"X_test.shape: {X_test.shape}\")\n",
    "print(f\"y_train.shape: {y_train.shape}\")\n",
    "print(f\"y_test.shape: {y_test.shape}\")"
   ]
  },
  {
   "cell_type": "code",
   "execution_count": 22,
   "id": "86503062-e49b-45d9-97e2-ff98eb0a83bf",
   "metadata": {},
   "outputs": [],
   "source": [
    "# scaling\n",
    "from sklearn.preprocessing import StandardScaler\n",
    "\n",
    "scaler = StandardScaler()\n",
    "X_train = scaler.fit_transform(X_train)\n",
    "X_test = scaler.transform(X_test)"
   ]
  },
  {
   "cell_type": "code",
   "execution_count": 23,
   "id": "e4433738-36dc-4d99-8ccc-bf03882f3f45",
   "metadata": {},
   "outputs": [],
   "source": [
    "# Sequential dataset 만들기(1)\n",
    "from collections import Counter\n",
    "\n",
    "def split_sequences_classification_majority(data, labels, n_steps):\n",
    "    \"\"\"\n",
    "    비연속 데이터셋을 일정한 길이의 연속적인 시퀀스로 변환하는 함수\n",
    "    window에서 다수를 차지하는 label로 결정\n",
    "    \n",
    "    Args:\n",
    "    data: 원본 데이터 (리스트 또는 배열)\n",
    "    labels: 각 데이터에 해당하는 클래스 라벨 (리스트 또는 배열)\n",
    "    n_steps: 시퀀스의 길이 (정수)\n",
    "    \n",
    "    Returns:\n",
    "    X: 입력 시퀀스\n",
    "    y: 해당 시퀀스에 대한 다수 라벨\n",
    "    \"\"\"\n",
    "    X, y = [], []\n",
    "    \n",
    "    for i in range(len(data) - n_steps + 1):\n",
    "        # 시퀀스 추출\n",
    "        seq_x = data[i:i + n_steps]\n",
    "        seq_labels = labels[i:i + n_steps]\n",
    "        \n",
    "        # 시퀀스의 라벨 중 가장 빈번한 라벨을 선택 (다수결)\n",
    "        most_common_label = Counter(seq_labels).most_common(1)[0][0]\n",
    "        \n",
    "        X.append(seq_x)\n",
    "        y.append(most_common_label)\n",
    "    \n",
    "    return np.array(X), np.array(y)"
   ]
  },
  {
   "cell_type": "code",
   "execution_count": 24,
   "id": "c3875b07-0eb1-4c54-aa38-18cd1970549d",
   "metadata": {},
   "outputs": [
    {
     "name": "stdout",
     "output_type": "stream",
     "text": [
      "X_train_seq.shape: (3128, 5, 8) y_train_seq.shape: (3128,)\n",
      "X_test_seq.shape: (1041, 5, 8) y_test_seq.shape: (1041,)\n"
     ]
    }
   ],
   "source": [
    "# Sequential dataset 만들기(2)\n",
    "n_steps = 5 # 전복 10마리를 한 개의 set으로 묶기\n",
    "X_train_seq, y_train_seq = split_sequences_classification_majority(X_train,\n",
    "                                                                   y_train,\n",
    "                                                                   n_steps)\n",
    "\n",
    "X_test_seq, y_test_seq = split_sequences_classification_majority(X_test,\n",
    "                                                                 y_test,\n",
    "                                                                 n_steps)\n",
    "\n",
    "print(f\"X_train_seq.shape: {X_train_seq.shape}\", end=\" \")\n",
    "print(f\"y_train_seq.shape: {y_train_seq.shape}\")\n",
    "print(f\"X_test_seq.shape: {X_test_seq.shape}\", end=\" \")\n",
    "print(f\"y_test_seq.shape: {y_test_seq.shape}\")"
   ]
  },
  {
   "cell_type": "code",
   "execution_count": 25,
   "id": "8e4f5245-e800-4891-97cf-59667c6990c3",
   "metadata": {},
   "outputs": [],
   "source": [
    "n_steps = X_train_seq.shape[1]\n",
    "features = X_train_seq.shape[2]"
   ]
  },
  {
   "cell_type": "markdown",
   "id": "0851010d-13a8-46b5-997c-b216a696cf9e",
   "metadata": {},
   "source": [
    "## 1.5. one-hot encoding"
   ]
  },
  {
   "cell_type": "code",
   "execution_count": 26,
   "id": "08406cc7-78cb-483c-85b9-a516a26a1cf8",
   "metadata": {},
   "outputs": [
    {
     "name": "stderr",
     "output_type": "stream",
     "text": [
      "2024-09-25 16:48:55.530760: I tensorflow/core/platform/cpu_feature_guard.cc:193] This TensorFlow binary is optimized with oneAPI Deep Neural Network Library (oneDNN) to use the following CPU instructions in performance-critical operations:  SSE4.1 SSE4.2 AVX AVX2 FMA\n",
      "To enable them in other operations, rebuild TensorFlow with the appropriate compiler flags.\n"
     ]
    },
    {
     "name": "stdout",
     "output_type": "stream",
     "text": [
      "==== one-hot encoded ====\n",
      "y_train_seq_onehot.shape (3128, 5)\n",
      "y_train_seq_onehot.head() \n",
      "[[1. 0. 0. 0. 0.]\n",
      " [0. 0. 1. 0. 0.]\n",
      " [0. 0. 1. 0. 0.]\n",
      " [0. 1. 0. 0. 0.]\n",
      " [0. 1. 0. 0. 0.]]\n",
      "\n",
      "y_test_seq_onehot.shape (1041, 5)\n",
      "y_test_seq_onehot.head() \n",
      "[[0. 0. 1. 0. 0.]\n",
      " [0. 0. 1. 0. 0.]\n",
      " [0. 0. 1. 0. 0.]\n",
      " [0. 0. 1. 0. 0.]\n",
      " [0. 0. 1. 0. 0.]]\n"
     ]
    }
   ],
   "source": [
    "import tensorflow as tf\n",
    "\n",
    "y_train_seq_onehot = tf.keras.utils.to_categorical(y_train_seq)\n",
    "y_test_seq_onehot = tf.keras.utils.to_categorical(y_test_seq)\n",
    "\n",
    "print(\"==== one-hot encoded ====\")\n",
    "print(f\"y_train_seq_onehot.shape {y_train_seq_onehot.shape}\")\n",
    "print(f\"y_train_seq_onehot.head() \\n{y_train_seq_onehot[:5]}\")\n",
    "print()\n",
    "print(f\"y_test_seq_onehot.shape {y_test_seq_onehot.shape}\")\n",
    "print(f\"y_test_seq_onehot.head() \\n{y_test_seq_onehot[:5]}\")\n",
    "\n",
    "# 위에서 majority algorithm을 사용해서 label 5가 아예 사라져버림.\n",
    "# 그렇다고 once algorithm을 사용하면 accuracy가 너무 낮게 나올 것 같은데..."
   ]
  },
  {
   "cell_type": "code",
   "execution_count": 27,
   "id": "c8397897-aa95-4ce5-9faf-f6bfec1036fb",
   "metadata": {},
   "outputs": [
    {
     "data": {
      "text/plain": [
       "'\\ndef one_hot_encoding(label_array):\\n    label_length = len(label_array)\\n    label_array_onehot = []\\n    for i in range(label_length):\\n        # Output: [[0, 0, ..., 0], [0, 0, ..., 0], ...]\\n        label_array_onehot.append([0] * len(np.unique(label_array)))\\n\\n    for j in range(label_length):\\n        hot_idx = int(label_array[j])        # 각 label에 맞는 자리 탐색\\n        label_array_onehot[j][hot_idx] = 1   # 탐색한 자리에 1 채우기\\n\\n    return np.array(label_array_onehot)\\n'"
      ]
     },
     "execution_count": 27,
     "metadata": {},
     "output_type": "execute_result"
    }
   ],
   "source": [
    "# solution 2\n",
    "'''\n",
    "def one_hot_encoding(label_array):\n",
    "    label_length = len(label_array)\n",
    "    label_array_onehot = []\n",
    "    for i in range(label_length):\n",
    "        # Output: [[0, 0, ..., 0], [0, 0, ..., 0], ...]\n",
    "        label_array_onehot.append([0] * len(np.unique(label_array)))\n",
    "\n",
    "    for j in range(label_length):\n",
    "        hot_idx = int(label_array[j])        # 각 label에 맞는 자리 탐색\n",
    "        label_array_onehot[j][hot_idx] = 1   # 탐색한 자리에 1 채우기\n",
    "\n",
    "    return np.array(label_array_onehot)\n",
    "'''"
   ]
  },
  {
   "cell_type": "markdown",
   "id": "fd0ed845-91dc-47d5-9fea-ab7dd121bd38",
   "metadata": {},
   "source": [
    "# 2. CNN; Convolutional Neural Network"
   ]
  },
  {
   "cell_type": "code",
   "execution_count": 28,
   "id": "344da668-ddb3-4582-b2d4-ee05cf702481",
   "metadata": {},
   "outputs": [],
   "source": [
    "import tensorflow as tf\n",
    "import tensorflow.keras as keras"
   ]
  },
  {
   "cell_type": "code",
   "execution_count": 29,
   "id": "03cb2894-72d8-4ad0-bbdf-e569a9407d23",
   "metadata": {},
   "outputs": [
    {
     "name": "stdout",
     "output_type": "stream",
     "text": [
      "Model: \"sequential\"\n",
      "_________________________________________________________________\n",
      " Layer (type)                Output Shape              Param #   \n",
      "=================================================================\n",
      " conv1d (Conv1D)             (None, 3, 64)             1600      \n",
      "                                                                 \n",
      " dropout (Dropout)           (None, 3, 64)             0         \n",
      "                                                                 \n",
      " global_average_pooling1d (G  (None, 64)               0         \n",
      " lobalAveragePooling1D)                                          \n",
      "                                                                 \n",
      " dense1 (Dense)              (None, 128)               8320      \n",
      "                                                                 \n",
      " dropout_1 (Dropout)         (None, 128)               0         \n",
      "                                                                 \n",
      " output (Dense)              (None, 5)                 645       \n",
      "                                                                 \n",
      "=================================================================\n",
      "Total params: 10,565\n",
      "Trainable params: 10,565\n",
      "Non-trainable params: 0\n",
      "_________________________________________________________________\n"
     ]
    },
    {
     "name": "stderr",
     "output_type": "stream",
     "text": [
      "2024-09-25 16:48:57.973137: I tensorflow/core/platform/cpu_feature_guard.cc:193] This TensorFlow binary is optimized with oneAPI Deep Neural Network Library (oneDNN) to use the following CPU instructions in performance-critical operations:  SSE4.1 SSE4.2 AVX AVX2 FMA\n",
      "To enable them in other operations, rebuild TensorFlow with the appropriate compiler flags.\n"
     ]
    }
   ],
   "source": [
    "# Create the model\n",
    "model = keras.models.Sequential()\n",
    "\n",
    "# Add the layers to model\n",
    "# model.add(keras.layers.BatchNormalization())\n",
    "model.add(keras.layers.Conv1D(filters=64,\n",
    "                              kernel_size=3,\n",
    "                              activation='relu',\n",
    "                              input_shape=(n_steps, features),\n",
    "                              name='conv1d'))\n",
    "model.add(keras.layers.Dropout(0.3))\n",
    "# model.add(keras.layers.BatchNormalization())\n",
    "model.add(keras.layers.GlobalAveragePooling1D())\n",
    "model.add(keras.layers.Dense(units=128,\n",
    "                             activation='relu',\n",
    "                             name='dense1'))\n",
    "model.add(keras.layers.Dropout(0.3))\n",
    "# model.add(keras.layers.BatchNormalization())\n",
    "model.add(keras.layers.Dense(units=5,\n",
    "                             activation='softmax',\n",
    "                             name='output'))\n",
    "\n",
    "model.summary()"
   ]
  },
  {
   "cell_type": "code",
   "execution_count": 30,
   "id": "55c87655-e185-427c-bc99-319b72ec554a",
   "metadata": {},
   "outputs": [],
   "source": [
    "model.compile(optimizer='adam',\n",
    "              loss='categorical_crossentropy',\n",
    "              metrics=['accuracy'])"
   ]
  },
  {
   "cell_type": "code",
   "execution_count": 31,
   "id": "ffaa5d3f-aa5d-4b34-bae9-849386402185",
   "metadata": {},
   "outputs": [
    {
     "name": "stdout",
     "output_type": "stream",
     "text": [
      "Epoch 1/50\n",
      "88/88 - 1s - loss: 0.7822 - accuracy: 0.7453 - val_loss: 0.7478 - val_accuracy: 0.7061 - 613ms/epoch - 7ms/step\n",
      "Epoch 2/50\n",
      "88/88 - 0s - loss: 0.6067 - accuracy: 0.7780 - val_loss: 0.7169 - val_accuracy: 0.7061 - 120ms/epoch - 1ms/step\n",
      "Epoch 3/50\n",
      "88/88 - 0s - loss: 0.5835 - accuracy: 0.7826 - val_loss: 0.7100 - val_accuracy: 0.6997 - 108ms/epoch - 1ms/step\n",
      "Epoch 4/50\n",
      "88/88 - 0s - loss: 0.5663 - accuracy: 0.7790 - val_loss: 0.7056 - val_accuracy: 0.7061 - 110ms/epoch - 1ms/step\n",
      "Epoch 5/50\n",
      "88/88 - 0s - loss: 0.5566 - accuracy: 0.7861 - val_loss: 0.6782 - val_accuracy: 0.7029 - 108ms/epoch - 1ms/step\n",
      "Epoch 6/50\n",
      "88/88 - 0s - loss: 0.5493 - accuracy: 0.7844 - val_loss: 0.6652 - val_accuracy: 0.7284 - 114ms/epoch - 1ms/step\n",
      "Epoch 7/50\n",
      "88/88 - 0s - loss: 0.5469 - accuracy: 0.7829 - val_loss: 0.6606 - val_accuracy: 0.7188 - 103ms/epoch - 1ms/step\n",
      "Epoch 8/50\n",
      "88/88 - 0s - loss: 0.5393 - accuracy: 0.7847 - val_loss: 0.6549 - val_accuracy: 0.7188 - 109ms/epoch - 1ms/step\n",
      "Epoch 9/50\n",
      "88/88 - 0s - loss: 0.5354 - accuracy: 0.7851 - val_loss: 0.6627 - val_accuracy: 0.7157 - 115ms/epoch - 1ms/step\n",
      "Epoch 10/50\n",
      "88/88 - 0s - loss: 0.5370 - accuracy: 0.7829 - val_loss: 0.6466 - val_accuracy: 0.7157 - 114ms/epoch - 1ms/step\n",
      "Epoch 11/50\n",
      "88/88 - 0s - loss: 0.5373 - accuracy: 0.7822 - val_loss: 0.6463 - val_accuracy: 0.7220 - 114ms/epoch - 1ms/step\n",
      "Epoch 12/50\n",
      "88/88 - 0s - loss: 0.5283 - accuracy: 0.7840 - val_loss: 0.6485 - val_accuracy: 0.7220 - 108ms/epoch - 1ms/step\n",
      "Epoch 13/50\n",
      "88/88 - 0s - loss: 0.5229 - accuracy: 0.7865 - val_loss: 0.6636 - val_accuracy: 0.7188 - 111ms/epoch - 1ms/step\n",
      "Epoch 14/50\n",
      "88/88 - 0s - loss: 0.5263 - accuracy: 0.7837 - val_loss: 0.6425 - val_accuracy: 0.7284 - 108ms/epoch - 1ms/step\n",
      "Epoch 15/50\n",
      "88/88 - 0s - loss: 0.5283 - accuracy: 0.7872 - val_loss: 0.6496 - val_accuracy: 0.7220 - 111ms/epoch - 1ms/step\n",
      "Epoch 16/50\n",
      "88/88 - 0s - loss: 0.5263 - accuracy: 0.7915 - val_loss: 0.6355 - val_accuracy: 0.7316 - 110ms/epoch - 1ms/step\n",
      "Epoch 17/50\n",
      "88/88 - 0s - loss: 0.5227 - accuracy: 0.7858 - val_loss: 0.6395 - val_accuracy: 0.7380 - 102ms/epoch - 1ms/step\n",
      "Epoch 18/50\n",
      "88/88 - 0s - loss: 0.5229 - accuracy: 0.7844 - val_loss: 0.6458 - val_accuracy: 0.7252 - 108ms/epoch - 1ms/step\n",
      "Epoch 19/50\n",
      "88/88 - 0s - loss: 0.5195 - accuracy: 0.7861 - val_loss: 0.6352 - val_accuracy: 0.7316 - 104ms/epoch - 1ms/step\n",
      "Epoch 20/50\n",
      "88/88 - 0s - loss: 0.5174 - accuracy: 0.7897 - val_loss: 0.6577 - val_accuracy: 0.7252 - 112ms/epoch - 1ms/step\n",
      "Epoch 21/50\n",
      "88/88 - 0s - loss: 0.5068 - accuracy: 0.7901 - val_loss: 0.6454 - val_accuracy: 0.7252 - 111ms/epoch - 1ms/step\n",
      "Epoch 22/50\n",
      "88/88 - 0s - loss: 0.5129 - accuracy: 0.7861 - val_loss: 0.6369 - val_accuracy: 0.7252 - 111ms/epoch - 1ms/step\n",
      "Epoch 23/50\n",
      "88/88 - 0s - loss: 0.5094 - accuracy: 0.7908 - val_loss: 0.6475 - val_accuracy: 0.7316 - 104ms/epoch - 1ms/step\n",
      "Epoch 24/50\n",
      "88/88 - 0s - loss: 0.5121 - accuracy: 0.7925 - val_loss: 0.6374 - val_accuracy: 0.7380 - 106ms/epoch - 1ms/step\n",
      "Epoch 25/50\n",
      "88/88 - 0s - loss: 0.5062 - accuracy: 0.7925 - val_loss: 0.6486 - val_accuracy: 0.7252 - 110ms/epoch - 1ms/step\n",
      "Epoch 26/50\n",
      "88/88 - 0s - loss: 0.5107 - accuracy: 0.7964 - val_loss: 0.6394 - val_accuracy: 0.7348 - 107ms/epoch - 1ms/step\n",
      "Epoch 27/50\n",
      "88/88 - 0s - loss: 0.5003 - accuracy: 0.7922 - val_loss: 0.6375 - val_accuracy: 0.7348 - 120ms/epoch - 1ms/step\n",
      "Epoch 28/50\n",
      "88/88 - 0s - loss: 0.5029 - accuracy: 0.7901 - val_loss: 0.6309 - val_accuracy: 0.7316 - 108ms/epoch - 1ms/step\n",
      "Epoch 29/50\n",
      "88/88 - 0s - loss: 0.5034 - accuracy: 0.7918 - val_loss: 0.6375 - val_accuracy: 0.7284 - 107ms/epoch - 1ms/step\n",
      "Epoch 30/50\n",
      "88/88 - 0s - loss: 0.5030 - accuracy: 0.7879 - val_loss: 0.6277 - val_accuracy: 0.7348 - 105ms/epoch - 1ms/step\n",
      "Epoch 31/50\n",
      "88/88 - 0s - loss: 0.4990 - accuracy: 0.7940 - val_loss: 0.6417 - val_accuracy: 0.7284 - 109ms/epoch - 1ms/step\n",
      "Epoch 32/50\n",
      "88/88 - 0s - loss: 0.5005 - accuracy: 0.7964 - val_loss: 0.6306 - val_accuracy: 0.7412 - 105ms/epoch - 1ms/step\n",
      "Epoch 33/50\n",
      "88/88 - 0s - loss: 0.5034 - accuracy: 0.7897 - val_loss: 0.6295 - val_accuracy: 0.7316 - 104ms/epoch - 1ms/step\n",
      "Epoch 34/50\n",
      "88/88 - 0s - loss: 0.4868 - accuracy: 0.7936 - val_loss: 0.6245 - val_accuracy: 0.7284 - 111ms/epoch - 1ms/step\n",
      "Epoch 35/50\n",
      "88/88 - 0s - loss: 0.4887 - accuracy: 0.7993 - val_loss: 0.6297 - val_accuracy: 0.7348 - 114ms/epoch - 1ms/step\n",
      "Epoch 36/50\n",
      "88/88 - 0s - loss: 0.4938 - accuracy: 0.8007 - val_loss: 0.6366 - val_accuracy: 0.7316 - 121ms/epoch - 1ms/step\n",
      "Epoch 37/50\n",
      "88/88 - 0s - loss: 0.4948 - accuracy: 0.7950 - val_loss: 0.6357 - val_accuracy: 0.7316 - 106ms/epoch - 1ms/step\n",
      "Epoch 38/50\n",
      "88/88 - 0s - loss: 0.4913 - accuracy: 0.7922 - val_loss: 0.6428 - val_accuracy: 0.7284 - 109ms/epoch - 1ms/step\n",
      "Epoch 39/50\n",
      "88/88 - 0s - loss: 0.4973 - accuracy: 0.7940 - val_loss: 0.6268 - val_accuracy: 0.7316 - 107ms/epoch - 1ms/step\n",
      "Epoch 40/50\n",
      "88/88 - 0s - loss: 0.4843 - accuracy: 0.8025 - val_loss: 0.6586 - val_accuracy: 0.7284 - 106ms/epoch - 1ms/step\n",
      "Epoch 41/50\n",
      "88/88 - 0s - loss: 0.4920 - accuracy: 0.7890 - val_loss: 0.6311 - val_accuracy: 0.7380 - 110ms/epoch - 1ms/step\n",
      "Epoch 42/50\n",
      "88/88 - 0s - loss: 0.4837 - accuracy: 0.7943 - val_loss: 0.6484 - val_accuracy: 0.7348 - 109ms/epoch - 1ms/step\n",
      "Epoch 43/50\n",
      "88/88 - 0s - loss: 0.4840 - accuracy: 0.7993 - val_loss: 0.6503 - val_accuracy: 0.7316 - 111ms/epoch - 1ms/step\n",
      "Epoch 44/50\n",
      "88/88 - 0s - loss: 0.4861 - accuracy: 0.7943 - val_loss: 0.6352 - val_accuracy: 0.7412 - 107ms/epoch - 1ms/step\n",
      "Epoch 45/50\n",
      "88/88 - 0s - loss: 0.4833 - accuracy: 0.7975 - val_loss: 0.6454 - val_accuracy: 0.7348 - 108ms/epoch - 1ms/step\n",
      "Epoch 46/50\n",
      "88/88 - 0s - loss: 0.4811 - accuracy: 0.7950 - val_loss: 0.6553 - val_accuracy: 0.7348 - 111ms/epoch - 1ms/step\n",
      "Epoch 47/50\n",
      "88/88 - 0s - loss: 0.4747 - accuracy: 0.7964 - val_loss: 0.6463 - val_accuracy: 0.7412 - 116ms/epoch - 1ms/step\n",
      "Epoch 48/50\n",
      "88/88 - 0s - loss: 0.4859 - accuracy: 0.7993 - val_loss: 0.6471 - val_accuracy: 0.7412 - 108ms/epoch - 1ms/step\n",
      "Epoch 49/50\n",
      "88/88 - 0s - loss: 0.4740 - accuracy: 0.8060 - val_loss: 0.6617 - val_accuracy: 0.7316 - 172ms/epoch - 2ms/step\n",
      "Epoch 50/50\n",
      "88/88 - 0s - loss: 0.4766 - accuracy: 0.8021 - val_loss: 0.6361 - val_accuracy: 0.7252 - 107ms/epoch - 1ms/step\n"
     ]
    }
   ],
   "source": [
    "epochs = 50\n",
    "history = model.fit(X_train_seq, y_train_seq_onehot,\n",
    "                    batch_size=32,\n",
    "                    validation_split=0.1,\n",
    "                    shuffle=True,\n",
    "                    verbose=2,\n",
    "                    epochs=epochs)"
   ]
  },
  {
   "cell_type": "code",
   "execution_count": 32,
   "id": "9dde1bdb-b959-4f10-b741-a65b9131dff1",
   "metadata": {},
   "outputs": [
    {
     "data": {
      "image/png": "[encoded data removed]",
      "text/plain": [
       "<Figure size 640x480 with 1 Axes>"
      ]
     },
     "metadata": {},
     "output_type": "display_data"
    }
   ],
   "source": [
    "# epoch에 따른 loss\n",
    "loss = history.history['loss']\n",
    "val_loss = history.history['val_loss']\n",
    "plt.plot(loss, label = 'train')\n",
    "plt.plot(val_loss, label = 'val')\n",
    "plt.title('loss')\n",
    "plt.legend() # 우측 상단에 그래프 정보 띄워주는 거\n",
    "plt.show()"
   ]
  },
  {
   "cell_type": "code",
   "execution_count": 33,
   "id": "a71056da-5569-4721-b2c8-c0e1d18957f0",
   "metadata": {},
   "outputs": [
    {
     "data": {
      "image/png": "[encoded data removed]",
      "text/plain": [
       "<Figure size 640x480 with 1 Axes>"
      ]
     },
     "metadata": {},
     "output_type": "display_data"
    }
   ],
   "source": [
    "# epoch에 따른 accuracy\n",
    "acc = history.history['accuracy']\n",
    "val_acc = history.history['val_accuracy']\n",
    "plt.plot(acc, label = 'train')\n",
    "plt.plot(val_acc, label = 'val')\n",
    "plt.title('accuracy')\n",
    "plt.legend() # 우측 상단에 그래프 정보 띄워주는 거\n",
    "plt.show()"
   ]
  },
  {
   "cell_type": "code",
   "execution_count": 34,
   "id": "42875f6a-7612-4b08-99a1-44574319c307",
   "metadata": {},
   "outputs": [
    {
     "name": "stdout",
     "output_type": "stream",
     "text": [
      "98/98 [==============================] - 0s 745us/step - loss: 0.4645 - accuracy: 0.8002\n"
     ]
    },
    {
     "data": {
      "text/plain": [
       "[0.4644607901573181, 0.8001918196678162]"
      ]
     },
     "execution_count": 34,
     "metadata": {},
     "output_type": "execute_result"
    }
   ],
   "source": [
    "# evaluate the model - train\n",
    "model.evaluate(X_train_seq, y_train_seq_onehot)"
   ]
  },
  {
   "cell_type": "code",
   "execution_count": 35,
   "id": "76dfd18c-961d-4cb7-9845-f19748fee6fe",
   "metadata": {},
   "outputs": [
    {
     "name": "stdout",
     "output_type": "stream",
     "text": [
      "33/33 [==============================] - 0s 829us/step - loss: 0.5926 - accuracy: 0.7666\n"
     ]
    },
    {
     "data": {
      "text/plain": [
       "[0.5926317572593689, 0.7665706276893616]"
      ]
     },
     "execution_count": 35,
     "metadata": {},
     "output_type": "execute_result"
    }
   ],
   "source": [
    "# evaluate the model - test\n",
    "model.evaluate(X_test_seq, y_test_seq_onehot)"
   ]
  },
  {
   "cell_type": "code",
   "execution_count": 36,
   "id": "ef1fc585-2bc5-4a23-95ba-02bd0c885185",
   "metadata": {},
   "outputs": [],
   "source": [
    "from sklearn.metrics import confusion_matrix,classification_report,accuracy_score"
   ]
  },
  {
   "cell_type": "code",
   "execution_count": 37,
   "id": "3cce3c5a-f1a8-4d5c-b5c6-117001b3bb53",
   "metadata": {},
   "outputs": [
    {
     "name": "stdout",
     "output_type": "stream",
     "text": [
      "33/33 [==============================] - 0s 763us/step\n",
      "y_pred.head() \n",
      "[[6.3873635e-04 8.0618626e-01 1.9221403e-01 7.9424656e-04 1.6684298e-04]\n",
      " [2.1763328e-04 7.3852557e-01 2.5896993e-01 2.1957366e-03 9.1092290e-05]\n",
      " [4.3659881e-04 4.6856841e-01 5.1654845e-01 1.4002783e-02 4.4376851e-04]\n",
      " [5.4731430e-04 4.3447116e-01 5.4225010e-01 2.2118378e-02 6.1310903e-04]\n",
      " [1.2673336e-03 7.3392189e-01 2.4549024e-01 1.8620398e-02 7.0016080e-04]]\n",
      "y_pred_class.head() \n",
      "[1 1 2 2 1]\n",
      "y_test_class.head() \n",
      "[2 2 2 2 2]\n",
      "\n",
      "              precision    recall  f1-score   support\n",
      "\n",
      "           0       0.38      0.30      0.33        10\n",
      "           1       0.79      0.96      0.87       811\n",
      "           2       0.33      0.07      0.12       202\n",
      "           3       0.00      0.00      0.00        16\n",
      "           4       0.00      0.00      0.00         2\n",
      "\n",
      "    accuracy                           0.77      1041\n",
      "   macro avg       0.30      0.27      0.26      1041\n",
      "weighted avg       0.68      0.77      0.70      1041\n",
      "\n"
     ]
    },
    {
     "name": "stderr",
     "output_type": "stream",
     "text": [
      "/opt/anaconda3/envs/gc_dl/lib/python3.9/site-packages/sklearn/metrics/_classification.py:1344: UndefinedMetricWarning: Precision and F-score are ill-defined and being set to 0.0 in labels with no predicted samples. Use `zero_division` parameter to control this behavior.\n",
      "  _warn_prf(average, modifier, msg_start, len(result))\n",
      "/opt/anaconda3/envs/gc_dl/lib/python3.9/site-packages/sklearn/metrics/_classification.py:1344: UndefinedMetricWarning: Precision and F-score are ill-defined and being set to 0.0 in labels with no predicted samples. Use `zero_division` parameter to control this behavior.\n",
      "  _warn_prf(average, modifier, msg_start, len(result))\n",
      "/opt/anaconda3/envs/gc_dl/lib/python3.9/site-packages/sklearn/metrics/_classification.py:1344: UndefinedMetricWarning: Precision and F-score are ill-defined and being set to 0.0 in labels with no predicted samples. Use `zero_division` parameter to control this behavior.\n",
      "  _warn_prf(average, modifier, msg_start, len(result))\n"
     ]
    }
   ],
   "source": [
    "# classification report\n",
    "y_pred = model.predict(X_test_seq)\n",
    "print(f\"y_pred.head() \\n{y_pred[:5]}\")\n",
    "\n",
    "y_pred_class = np.argmax(y_pred, axis=1)\n",
    "print(f\"y_pred_class.head() \\n{y_pred_class[:5]}\")\n",
    "\n",
    "y_test_class = np.argmax(y_test_seq_onehot, axis=1)\n",
    "print(f\"y_test_class.head() \\n{y_test_class[:5]}\")\n",
    "\n",
    "print()\n",
    "print(classification_report(y_test_class, y_pred_class))\n",
    "\n",
    "# print(confusion_matrix(y_test_class, y_pred_class))"
   ]
  },
  {
   "cell_type": "code",
   "execution_count": 38,
   "id": "b3401b05-a3f1-42cc-baa0-e7228bfa9c78",
   "metadata": {},
   "outputs": [
    {
     "name": "stdout",
     "output_type": "stream",
     "text": [
      "Confusion Matrix\n"
     ]
    },
    {
     "data": {
      "image/png": "[encoded data removed]",
      "text/plain": [
       "<Figure size 800x600 with 2 Axes>"
      ]
     },
     "metadata": {},
     "output_type": "display_data"
    }
   ],
   "source": [
    "# confusion matrix\n",
    "print('Confusion Matrix')\n",
    "cm = confusion_matrix(y_test_class, y_pred_class)\n",
    "# 시각화\n",
    "plt.figure(figsize=(8, 6))  # 그래프 크기 조절 (너비 8, 높이 6)\n",
    "sns.heatmap(cm, annot=True, fmt=\"d\", cmap=\"Blues\")\n",
    "\n",
    "# 그래프 표시\n",
    "plt.show()"
   ]
  }
 ],
 "metadata": {
  "kernelspec": {
   "display_name": "gc_dl",
   "language": "python",
   "name": "gc_dl"
  },
  "language_info": {
   "codemirror_mode": {
    "name": "ipython",
    "version": 3
   },
   "file_extension": ".py",
   "mimetype": "text/x-python",
   "name": "python",
   "nbconvert_exporter": "python",
   "pygments_lexer": "ipython3",
   "version": "3.9.18"
  }
 },
 "nbformat": 4,
 "nbformat_minor": 5
}
