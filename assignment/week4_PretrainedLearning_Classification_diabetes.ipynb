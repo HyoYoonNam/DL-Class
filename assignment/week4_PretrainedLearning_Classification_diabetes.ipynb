{
 "cells": [
  {
   "cell_type": "markdown",
   "id": "4ac6bb0e-1d0d-404e-82ef-14eafc500b30",
   "metadata": {},
   "source": [
    "# Table of contents\n",
    "0. Introduction\n",
    "   \n",
    "1. Load the dataset  \n",
    "   1.1. Convert to Sequential dataset & One-hot Encoding\n",
    "\n",
    "4. CNN Training"
   ]
  },
  {
   "cell_type": "markdown",
   "id": "965eeab4-3e9e-4533-9911-370acac2af50",
   "metadata": {},
   "source": [
    "# 0. Introduction"
   ]
  },
  {
   "cell_type": "markdown",
   "id": "80fad1e0-3216-416e-a7c1-ae8fcefef2e2",
   "metadata": {},
   "source": [
    "**Dataset**  \n",
    "* diabetes(당뇨병) | [Download csv file](https://github.com/MyungKyuYi/AI-class/blob/main/diabetes.csv)\n",
    "\n",
    "**Environment**\n",
    "* macOS `x86`cpu\n",
    "\n",
    "**Framework**  \n",
    "* TensorFlow: Version `2.10.0`\n",
    "\n",
    "**Dependencies**  \n",
    "* Python: Version `3.9.19`\n",
    "* Numpy: Version `1.24.3`\n",
    "* Pandas: Version `2.2.2`\n",
    "* Matplotlib: Version `3.9.2`\n",
    "* scikit-learn: Version `1.2.2`\n",
    "\n",
    "**Purpose**\n",
    "* 당뇨병 데이터에 대해서 CNN을 사용하여 Classification 진행한다.\n",
    "* 그리고 Pre-trained Learning을 사용한다."
   ]
  },
  {
   "cell_type": "markdown",
   "id": "863a474e-def0-4052-91ca-714021d335f4",
   "metadata": {},
   "source": [
    "# 1. Load the dataset"
   ]
  },
  {
   "cell_type": "code",
   "execution_count": 1,
   "id": "cb3632c9-fc58-48f7-8f38-8d80a754316d",
   "metadata": {},
   "outputs": [],
   "source": [
    "import numpy as np\n",
    "import pandas as pd\n",
    "import matplotlib.pyplot as plt\n",
    "import seaborn as sns\n",
    "\n",
    "%matplotlib inline"
   ]
  },
  {
   "cell_type": "code",
   "execution_count": 2,
   "id": "ab83a687-9f8d-4cb6-8156-d38ccbacdb85",
   "metadata": {},
   "outputs": [
    {
     "data": {
      "text/html": [
       "<div>\n",
       "<style scoped>\n",
       "    .dataframe tbody tr th:only-of-type {\n",
       "        vertical-align: middle;\n",
       "    }\n",
       "\n",
       "    .dataframe tbody tr th {\n",
       "        vertical-align: top;\n",
       "    }\n",
       "\n",
       "    .dataframe thead th {\n",
       "        text-align: right;\n",
       "    }\n",
       "</style>\n",
       "<table border=\"1\" class=\"dataframe\">\n",
       "  <thead>\n",
       "    <tr style=\"text-align: right;\">\n",
       "      <th></th>\n",
       "      <th>Pregnancies</th>\n",
       "      <th>Glucose</th>\n",
       "      <th>BloodPressure</th>\n",
       "      <th>SkinThickness</th>\n",
       "      <th>Insulin</th>\n",
       "      <th>BMI</th>\n",
       "      <th>DiabetesPedigreeFunction</th>\n",
       "      <th>Age</th>\n",
       "      <th>Outcome</th>\n",
       "    </tr>\n",
       "  </thead>\n",
       "  <tbody>\n",
       "    <tr>\n",
       "      <th>0</th>\n",
       "      <td>6</td>\n",
       "      <td>148</td>\n",
       "      <td>72</td>\n",
       "      <td>35</td>\n",
       "      <td>0</td>\n",
       "      <td>33.6</td>\n",
       "      <td>0.627</td>\n",
       "      <td>50</td>\n",
       "      <td>1</td>\n",
       "    </tr>\n",
       "    <tr>\n",
       "      <th>1</th>\n",
       "      <td>1</td>\n",
       "      <td>85</td>\n",
       "      <td>66</td>\n",
       "      <td>29</td>\n",
       "      <td>0</td>\n",
       "      <td>26.6</td>\n",
       "      <td>0.351</td>\n",
       "      <td>31</td>\n",
       "      <td>0</td>\n",
       "    </tr>\n",
       "    <tr>\n",
       "      <th>2</th>\n",
       "      <td>8</td>\n",
       "      <td>183</td>\n",
       "      <td>64</td>\n",
       "      <td>0</td>\n",
       "      <td>0</td>\n",
       "      <td>23.3</td>\n",
       "      <td>0.672</td>\n",
       "      <td>32</td>\n",
       "      <td>1</td>\n",
       "    </tr>\n",
       "    <tr>\n",
       "      <th>3</th>\n",
       "      <td>1</td>\n",
       "      <td>89</td>\n",
       "      <td>66</td>\n",
       "      <td>23</td>\n",
       "      <td>94</td>\n",
       "      <td>28.1</td>\n",
       "      <td>0.167</td>\n",
       "      <td>21</td>\n",
       "      <td>0</td>\n",
       "    </tr>\n",
       "    <tr>\n",
       "      <th>4</th>\n",
       "      <td>0</td>\n",
       "      <td>137</td>\n",
       "      <td>40</td>\n",
       "      <td>35</td>\n",
       "      <td>168</td>\n",
       "      <td>43.1</td>\n",
       "      <td>2.288</td>\n",
       "      <td>33</td>\n",
       "      <td>1</td>\n",
       "    </tr>\n",
       "    <tr>\n",
       "      <th>...</th>\n",
       "      <td>...</td>\n",
       "      <td>...</td>\n",
       "      <td>...</td>\n",
       "      <td>...</td>\n",
       "      <td>...</td>\n",
       "      <td>...</td>\n",
       "      <td>...</td>\n",
       "      <td>...</td>\n",
       "      <td>...</td>\n",
       "    </tr>\n",
       "    <tr>\n",
       "      <th>763</th>\n",
       "      <td>10</td>\n",
       "      <td>101</td>\n",
       "      <td>76</td>\n",
       "      <td>48</td>\n",
       "      <td>180</td>\n",
       "      <td>32.9</td>\n",
       "      <td>0.171</td>\n",
       "      <td>63</td>\n",
       "      <td>0</td>\n",
       "    </tr>\n",
       "    <tr>\n",
       "      <th>764</th>\n",
       "      <td>2</td>\n",
       "      <td>122</td>\n",
       "      <td>70</td>\n",
       "      <td>27</td>\n",
       "      <td>0</td>\n",
       "      <td>36.8</td>\n",
       "      <td>0.340</td>\n",
       "      <td>27</td>\n",
       "      <td>0</td>\n",
       "    </tr>\n",
       "    <tr>\n",
       "      <th>765</th>\n",
       "      <td>5</td>\n",
       "      <td>121</td>\n",
       "      <td>72</td>\n",
       "      <td>23</td>\n",
       "      <td>112</td>\n",
       "      <td>26.2</td>\n",
       "      <td>0.245</td>\n",
       "      <td>30</td>\n",
       "      <td>0</td>\n",
       "    </tr>\n",
       "    <tr>\n",
       "      <th>766</th>\n",
       "      <td>1</td>\n",
       "      <td>126</td>\n",
       "      <td>60</td>\n",
       "      <td>0</td>\n",
       "      <td>0</td>\n",
       "      <td>30.1</td>\n",
       "      <td>0.349</td>\n",
       "      <td>47</td>\n",
       "      <td>1</td>\n",
       "    </tr>\n",
       "    <tr>\n",
       "      <th>767</th>\n",
       "      <td>1</td>\n",
       "      <td>93</td>\n",
       "      <td>70</td>\n",
       "      <td>31</td>\n",
       "      <td>0</td>\n",
       "      <td>30.4</td>\n",
       "      <td>0.315</td>\n",
       "      <td>23</td>\n",
       "      <td>0</td>\n",
       "    </tr>\n",
       "  </tbody>\n",
       "</table>\n",
       "<p>768 rows × 9 columns</p>\n",
       "</div>"
      ],
      "text/plain": [
       "     Pregnancies  Glucose  BloodPressure  SkinThickness  Insulin   BMI  \\\n",
       "0              6      148             72             35        0  33.6   \n",
       "1              1       85             66             29        0  26.6   \n",
       "2              8      183             64              0        0  23.3   \n",
       "3              1       89             66             23       94  28.1   \n",
       "4              0      137             40             35      168  43.1   \n",
       "..           ...      ...            ...            ...      ...   ...   \n",
       "763           10      101             76             48      180  32.9   \n",
       "764            2      122             70             27        0  36.8   \n",
       "765            5      121             72             23      112  26.2   \n",
       "766            1      126             60              0        0  30.1   \n",
       "767            1       93             70             31        0  30.4   \n",
       "\n",
       "     DiabetesPedigreeFunction  Age  Outcome  \n",
       "0                       0.627   50        1  \n",
       "1                       0.351   31        0  \n",
       "2                       0.672   32        1  \n",
       "3                       0.167   21        0  \n",
       "4                       2.288   33        1  \n",
       "..                        ...  ...      ...  \n",
       "763                     0.171   63        0  \n",
       "764                     0.340   27        0  \n",
       "765                     0.245   30        0  \n",
       "766                     0.349   47        1  \n",
       "767                     0.315   23        0  \n",
       "\n",
       "[768 rows x 9 columns]"
      ]
     },
     "execution_count": 2,
     "metadata": {},
     "output_type": "execute_result"
    }
   ],
   "source": [
    "# Load the dataset\n",
    "df = pd.read_csv('./datasets/diabetes.csv')\n",
    "df"
   ]
  },
  {
   "cell_type": "code",
   "execution_count": 3,
   "id": "d8536c7a-e285-4338-8784-6c327966a31c",
   "metadata": {},
   "outputs": [
    {
     "name": "stdout",
     "output_type": "stream",
     "text": [
      "Shape  : (768, 9)\n",
      "Columns: Index(['Pregnancies', 'Glucose', 'BloodPressure', 'SkinThickness', 'Insulin',\n",
      "       'BMI', 'DiabetesPedigreeFunction', 'Age', 'Outcome'],\n",
      "      dtype='object')\n"
     ]
    }
   ],
   "source": [
    "# dataset의 shape, columns 확인\n",
    "print(f\"Shape  : {df.shape}\")\n",
    "print(f\"Columns: {df.columns}\")\n",
    "\n",
    "# 해당 dataset은 column의 수가 많지 않지만, 수십 개의 columns가 존재하는 경우라면,\n",
    "# df나 df.describe()로 한 눈에 확인하기 어려움"
   ]
  },
  {
   "cell_type": "code",
   "execution_count": 4,
   "id": "b5575257-8faf-4765-80f8-4c622a39a30a",
   "metadata": {},
   "outputs": [
    {
     "data": {
      "text/plain": [
       "'\\n| Pregnancies               | 임신 횟수\\n| Glucose                   | 글루코스\\n| BloodPressure             | 혈압\\n| SkinThickness             | 삼두근 부위 피부 두께\\n| Insulin                   | 인슐린 수치\\n| BMI                       | BMI 수치\\n| DiabetesPedigreeFunction  | 당뇨 유전병 인자 함수\\n| Age                       | 나이\\n| Outcome                   | 당뇨 유무\\n'"
      ]
     },
     "execution_count": 4,
     "metadata": {},
     "output_type": "execute_result"
    }
   ],
   "source": [
    "# features description\n",
    "'''\n",
    "| Pregnancies               | 임신 횟수\n",
    "| Glucose                   | 글루코스\n",
    "| BloodPressure             | 혈압\n",
    "| SkinThickness             | 삼두근 부위 피부 두께\n",
    "| Insulin                   | 인슐린 수치\n",
    "| BMI                       | BMI 수치\n",
    "| DiabetesPedigreeFunction  | 당뇨 유전병 인자 함수\n",
    "| Age                       | 나이\n",
    "| Outcome                   | 당뇨 유무\n",
    "'''"
   ]
  },
  {
   "cell_type": "code",
   "execution_count": 5,
   "id": "9fba8d1f-496a-4669-b4ce-e87e535767c4",
   "metadata": {},
   "outputs": [
    {
     "name": "stdout",
     "output_type": "stream",
     "text": [
      "<class 'pandas.core.frame.DataFrame'>\n",
      "RangeIndex: 768 entries, 0 to 767\n",
      "Data columns (total 9 columns):\n",
      " #   Column                    Non-Null Count  Dtype  \n",
      "---  ------                    --------------  -----  \n",
      " 0   Pregnancies               768 non-null    int64  \n",
      " 1   Glucose                   768 non-null    int64  \n",
      " 2   BloodPressure             768 non-null    int64  \n",
      " 3   SkinThickness             768 non-null    int64  \n",
      " 4   Insulin                   768 non-null    int64  \n",
      " 5   BMI                       768 non-null    float64\n",
      " 6   DiabetesPedigreeFunction  768 non-null    float64\n",
      " 7   Age                       768 non-null    int64  \n",
      " 8   Outcome                   768 non-null    int64  \n",
      "dtypes: float64(2), int64(7)\n",
      "memory usage: 54.1 KB\n",
      "None\n",
      "\n",
      "\n",
      "\n",
      "Pregnancies                 0\n",
      "Glucose                     0\n",
      "BloodPressure               0\n",
      "SkinThickness               0\n",
      "Insulin                     0\n",
      "BMI                         0\n",
      "DiabetesPedigreeFunction    0\n",
      "Age                         0\n",
      "Outcome                     0\n",
      "dtype: int64\n",
      "\n",
      "\n",
      "\n",
      "There are no missing values.\n"
     ]
    }
   ],
   "source": [
    "# Check the missing value\n",
    "\n",
    "# sol1. DataFrame.info()는 Non-Null Count & Dtype을 리턴함\n",
    "print(df.info())\n",
    "print(\"\\n\\n\")\n",
    "\n",
    "# sol2. DataFrame.isnull().sum()은 Null Count를 리턴함 -> Null 확인에는 더 직관적임\n",
    "print(df.isnull().sum())\n",
    "print(\"\\n\\n\")\n",
    "\n",
    "# sol3. 또한 이를 응용하여 dataset 전체에 null이 존재하는지 여부를 출력하는 if statement를 작성 가능\n",
    "if (df.isnull().sum().sum() == 0): \n",
    "    print(\"There are no missing values.\")\n",
    "else:\n",
    "    print(df.isnull().sum())"
   ]
  },
  {
   "cell_type": "code",
   "execution_count": 6,
   "id": "ae193129-babb-4d22-b5e5-b74afb3ebd71",
   "metadata": {},
   "outputs": [
    {
     "name": "stdout",
     "output_type": "stream",
     "text": [
      "There are no missing values.\n"
     ]
    }
   ],
   "source": [
    "# missing value 처리하기\n",
    "# null이 존재한다면 자동으로 처리하는 if statement를 작성 가능.\n",
    "# 해당 예제에서는 missing value를 '제거'하도록 작성함. 이외에도 missing value 처리 방법은 다양함.\n",
    "if (df.isnull().sum().sum() == 0):\n",
    "    print(\"There are no missing values.\")\n",
    "else:\n",
    "    print(\"missing values가 존재하여 처리합니다. \\n처리 방법: 삭제\")\n",
    "    df = df.dropna()\n",
    "\n",
    "# 해당 dataset에는 missing value가 존재하지 않기 때문에 별도로 작동하지는 않음"
   ]
  },
  {
   "cell_type": "code",
   "execution_count": 7,
   "id": "f914b504-b58d-4a2a-ae83-a3bf3fd0dc99",
   "metadata": {},
   "outputs": [
    {
     "data": {
      "text/html": [
       "<div>\n",
       "<style scoped>\n",
       "    .dataframe tbody tr th:only-of-type {\n",
       "        vertical-align: middle;\n",
       "    }\n",
       "\n",
       "    .dataframe tbody tr th {\n",
       "        vertical-align: top;\n",
       "    }\n",
       "\n",
       "    .dataframe thead th {\n",
       "        text-align: right;\n",
       "    }\n",
       "</style>\n",
       "<table border=\"1\" class=\"dataframe\">\n",
       "  <thead>\n",
       "    <tr style=\"text-align: right;\">\n",
       "      <th></th>\n",
       "      <th>Pregnancies</th>\n",
       "      <th>Glucose</th>\n",
       "      <th>BloodPressure</th>\n",
       "      <th>SkinThickness</th>\n",
       "      <th>Insulin</th>\n",
       "      <th>BMI</th>\n",
       "      <th>DiabetesPedigreeFunction</th>\n",
       "      <th>Age</th>\n",
       "      <th>Outcome</th>\n",
       "    </tr>\n",
       "  </thead>\n",
       "  <tbody>\n",
       "    <tr>\n",
       "      <th>count</th>\n",
       "      <td>768.000000</td>\n",
       "      <td>768.000000</td>\n",
       "      <td>768.000000</td>\n",
       "      <td>768.000000</td>\n",
       "      <td>768.000000</td>\n",
       "      <td>768.000000</td>\n",
       "      <td>768.000000</td>\n",
       "      <td>768.000000</td>\n",
       "      <td>768.000000</td>\n",
       "    </tr>\n",
       "    <tr>\n",
       "      <th>mean</th>\n",
       "      <td>3.845052</td>\n",
       "      <td>120.894531</td>\n",
       "      <td>69.105469</td>\n",
       "      <td>20.536458</td>\n",
       "      <td>79.799479</td>\n",
       "      <td>31.992578</td>\n",
       "      <td>0.471876</td>\n",
       "      <td>33.240885</td>\n",
       "      <td>0.348958</td>\n",
       "    </tr>\n",
       "    <tr>\n",
       "      <th>std</th>\n",
       "      <td>3.369578</td>\n",
       "      <td>31.972618</td>\n",
       "      <td>19.355807</td>\n",
       "      <td>15.952218</td>\n",
       "      <td>115.244002</td>\n",
       "      <td>7.884160</td>\n",
       "      <td>0.331329</td>\n",
       "      <td>11.760232</td>\n",
       "      <td>0.476951</td>\n",
       "    </tr>\n",
       "    <tr>\n",
       "      <th>min</th>\n",
       "      <td>0.000000</td>\n",
       "      <td>0.000000</td>\n",
       "      <td>0.000000</td>\n",
       "      <td>0.000000</td>\n",
       "      <td>0.000000</td>\n",
       "      <td>0.000000</td>\n",
       "      <td>0.078000</td>\n",
       "      <td>21.000000</td>\n",
       "      <td>0.000000</td>\n",
       "    </tr>\n",
       "    <tr>\n",
       "      <th>25%</th>\n",
       "      <td>1.000000</td>\n",
       "      <td>99.000000</td>\n",
       "      <td>62.000000</td>\n",
       "      <td>0.000000</td>\n",
       "      <td>0.000000</td>\n",
       "      <td>27.300000</td>\n",
       "      <td>0.243750</td>\n",
       "      <td>24.000000</td>\n",
       "      <td>0.000000</td>\n",
       "    </tr>\n",
       "    <tr>\n",
       "      <th>50%</th>\n",
       "      <td>3.000000</td>\n",
       "      <td>117.000000</td>\n",
       "      <td>72.000000</td>\n",
       "      <td>23.000000</td>\n",
       "      <td>30.500000</td>\n",
       "      <td>32.000000</td>\n",
       "      <td>0.372500</td>\n",
       "      <td>29.000000</td>\n",
       "      <td>0.000000</td>\n",
       "    </tr>\n",
       "    <tr>\n",
       "      <th>75%</th>\n",
       "      <td>6.000000</td>\n",
       "      <td>140.250000</td>\n",
       "      <td>80.000000</td>\n",
       "      <td>32.000000</td>\n",
       "      <td>127.250000</td>\n",
       "      <td>36.600000</td>\n",
       "      <td>0.626250</td>\n",
       "      <td>41.000000</td>\n",
       "      <td>1.000000</td>\n",
       "    </tr>\n",
       "    <tr>\n",
       "      <th>max</th>\n",
       "      <td>17.000000</td>\n",
       "      <td>199.000000</td>\n",
       "      <td>122.000000</td>\n",
       "      <td>99.000000</td>\n",
       "      <td>846.000000</td>\n",
       "      <td>67.100000</td>\n",
       "      <td>2.420000</td>\n",
       "      <td>81.000000</td>\n",
       "      <td>1.000000</td>\n",
       "    </tr>\n",
       "  </tbody>\n",
       "</table>\n",
       "</div>"
      ],
      "text/plain": [
       "       Pregnancies     Glucose  BloodPressure  SkinThickness     Insulin  \\\n",
       "count   768.000000  768.000000     768.000000     768.000000  768.000000   \n",
       "mean      3.845052  120.894531      69.105469      20.536458   79.799479   \n",
       "std       3.369578   31.972618      19.355807      15.952218  115.244002   \n",
       "min       0.000000    0.000000       0.000000       0.000000    0.000000   \n",
       "25%       1.000000   99.000000      62.000000       0.000000    0.000000   \n",
       "50%       3.000000  117.000000      72.000000      23.000000   30.500000   \n",
       "75%       6.000000  140.250000      80.000000      32.000000  127.250000   \n",
       "max      17.000000  199.000000     122.000000      99.000000  846.000000   \n",
       "\n",
       "              BMI  DiabetesPedigreeFunction         Age     Outcome  \n",
       "count  768.000000                768.000000  768.000000  768.000000  \n",
       "mean    31.992578                  0.471876   33.240885    0.348958  \n",
       "std      7.884160                  0.331329   11.760232    0.476951  \n",
       "min      0.000000                  0.078000   21.000000    0.000000  \n",
       "25%     27.300000                  0.243750   24.000000    0.000000  \n",
       "50%     32.000000                  0.372500   29.000000    0.000000  \n",
       "75%     36.600000                  0.626250   41.000000    1.000000  \n",
       "max     67.100000                  2.420000   81.000000    1.000000  "
      ]
     },
     "execution_count": 7,
     "metadata": {},
     "output_type": "execute_result"
    }
   ],
   "source": [
    "# DataFrame.describe()는 dataset에 대한 statistical values를 제공함\n",
    "df.describe()\n",
    "\n",
    "# 여기서 Glucose, BloodPressure, ... 등의 min value가 0인 것에 의문을 가짐"
   ]
  },
  {
   "cell_type": "code",
   "execution_count": 8,
   "id": "d8a8273c-fff7-477e-bb36-f6dea66d14ef",
   "metadata": {},
   "outputs": [
    {
     "data": {
      "image/png": "[encoded data removed]",
      "text/plain": [
       "<Figure size 1200x1200 with 8 Axes>"
      ]
     },
     "metadata": {},
     "output_type": "display_data"
    }
   ],
   "source": [
    "# 각 feature의 distribution 확인 - boxplot\n",
    "\n",
    "# 각 column에 대한 boxplot plotting\n",
    "figure = plt.figure(figsize=(12, 12))\n",
    "cols, rows = 3, 3\n",
    "idx = 1\n",
    "\n",
    "for column in df.columns[:-1]:\n",
    "    # 이 아래로는 각 subplot에 개별로 적용됨\n",
    "    figure.add_subplot(rows, cols, idx) # rows by cols의 idx번 째 \n",
    "    sns.boxplot(data=df, x=column)\n",
    "    idx += 1\n",
    "\n",
    "plt.show()"
   ]
  },
  {
   "cell_type": "code",
   "execution_count": 9,
   "id": "72cb7c5b-00c2-47b6-ae39-11cff13d2b3a",
   "metadata": {},
   "outputs": [
    {
     "data": {
      "image/png": "[encoded data removed]",
      "text/plain": [
       "<Figure size 1400x1200 with 2 Axes>"
      ]
     },
     "metadata": {},
     "output_type": "display_data"
    }
   ],
   "source": [
    "# SkinThicness와 Insulin feature를 제거해도 되는 지의 타당성 검증\n",
    "corr_matrix = df.corr()\n",
    "plt.figure(figsize=(14, 12))\n",
    "sns.heatmap(corr_matrix, vmax=1, vmin=0.5, center=0.75,annot=True, fmt=\".2f\", square=True, \n",
    "            linewidths=.5, cmap='coolwarm')\n",
    "plt.title('Correlation Matrix of Numerical Features', fontsize=15)\n",
    "plt.xticks(fontsize=8,fontweight='bold')\n",
    "plt.yticks(fontsize=8,fontweight='bold')\n",
    "plt.show()"
   ]
  },
  {
   "cell_type": "code",
   "execution_count": 10,
   "id": "6844e4fc-63fb-4c6e-9090-e538cbaa90f7",
   "metadata": {},
   "outputs": [
    {
     "data": {
      "image/png": "[encoded data removed]",
      "text/plain": [
       "<Figure size 640x480 with 1 Axes>"
      ]
     },
     "metadata": {},
     "output_type": "display_data"
    }
   ],
   "source": [
    "sns.countplot(data=df, x='Outcome')\n",
    "plt.xlabel('Diabetes or Not')\n",
    "plt.ylabel('Count')\n",
    "plt.title('Label')\n",
    "plt.show()"
   ]
  },
  {
   "cell_type": "code",
   "execution_count": 11,
   "id": "14fdb94f-5b4b-44bc-a27e-b2ca9a5e747b",
   "metadata": {},
   "outputs": [
    {
     "name": "stdout",
     "output_type": "stream",
     "text": [
      "(array([0, 1]), array([500, 268]))\n"
     ]
    }
   ],
   "source": [
    "# Label의 class 종류 및 count 확인\n",
    "labels = np.unique(df['Outcome'], return_counts=True)\n",
    "print(labels)\n",
    "\n",
    "# 해당 task에서 중요한 것은 positive class를 찾아내는 것이다.\n",
    "# 그런데 현재 positive class sample의 수가 적은 imbalanced data라서 학습이 적게 될 것이 우려됨\n",
    "# 일단 그대로 진행하고, 문제가 있으면 추가적인 작업을 진행하겠음\n",
    "# 해당 주석이 보인다면, imbalanced data에 의한 문제가 없다는 것으로 해석하면 됨"
   ]
  },
  {
   "cell_type": "code",
   "execution_count": 12,
   "id": "2b352777-d2b1-44fa-8c16-0a99d44bbeac",
   "metadata": {},
   "outputs": [],
   "source": [
    "# # Check the correlations - sol2. pairplot\n",
    "# sns.pairplot(data=df,\n",
    "#              vars=df.columns,\n",
    "#              hue='Outcome')\n",
    "# plt.show()"
   ]
  },
  {
   "cell_type": "code",
   "execution_count": 13,
   "id": "90c3ad49-23ea-43e0-a327-7fa46a8cd002",
   "metadata": {},
   "outputs": [],
   "source": [
    "# Split to X, y\n",
    "X = df.drop(['Outcome'],axis=1).to_numpy()\n",
    "y = df['Outcome'].to_numpy()"
   ]
  },
  {
   "cell_type": "code",
   "execution_count": 14,
   "id": "5e7de034-c7cb-4a97-81ab-ffa2b2ec7fe8",
   "metadata": {},
   "outputs": [
    {
     "name": "stdout",
     "output_type": "stream",
     "text": [
      "X_train: Shape (691, 8) \n",
      "X_test:  Shape (77, 8)\n",
      "y_train: Shape (691,) \n",
      "y_test:  Shape (77,)\n",
      "X_train.head(): \n",
      "[[  1.    113.     64.     35.      0.     33.6     0.543  21.   ]\n",
      " [  1.     88.     30.     42.     99.     55.      0.496  26.   ]\n",
      " [  1.    146.     56.      0.      0.     29.7     0.564  29.   ]\n",
      " [  2.    155.     74.     17.     96.     26.6     0.433  27.   ]\n",
      " [  6.    129.     90.      7.    326.     19.6     0.582  60.   ]]\n",
      "y_train.head(): \n",
      "[1 1 0 1 0]\n"
     ]
    }
   ],
   "source": [
    "# Split to train, test\n",
    "from sklearn.model_selection import train_test_split\n",
    "\n",
    "X_train, X_test, y_train, y_test = train_test_split(X, y,\n",
    "                                                    test_size=0.1,\n",
    "                                                    stratify=y,\n",
    "                                                    shuffle=True,\n",
    "                                                    random_state=42)\n",
    "print(f\"X_train: Shape {X_train.shape} \\nX_test:  Shape {X_test.shape}\")\n",
    "print(f\"y_train: Shape {y_train.shape} \\ny_test:  Shape {y_test.shape}\")\n",
    "\n",
    "print(f\"X_train.head(): \\n{X_train[:5]}\")\n",
    "print(f\"y_train.head(): \\n{y_train[:5]}\")"
   ]
  },
  {
   "cell_type": "code",
   "execution_count": 15,
   "id": "ebf08f39-430b-4729-8f24-045a78f5d87b",
   "metadata": {},
   "outputs": [
    {
     "name": "stdout",
     "output_type": "stream",
     "text": [
      "X_train_scaled.head(): \n",
      "[[-0.8500507  -0.24307805 -0.28895662  0.91276597 -0.70884511  0.21606932\n",
      "   0.2110448  -1.05618828]\n",
      " [-0.8500507  -1.02519267 -2.12028839  1.356133    0.1738275   3.00752781\n",
      "   0.0685775  -0.63068332]\n",
      " [-0.8500507   0.78931324 -0.71985821 -1.30406923 -0.70884511 -0.29265443\n",
      "   0.27470041 -0.37538035]\n",
      " [-0.55443669  1.0708745   0.24967037 -0.22732071  0.14707984 -0.69702459\n",
      "  -0.12238932 -0.54558233]\n",
      " [ 0.62801934  0.2574753   1.11147355 -0.86070219  2.19773339 -1.61011849\n",
      "   0.32926235  2.26275038]]\n"
     ]
    }
   ],
   "source": [
    "# feature scaling\n",
    "from sklearn.preprocessing import StandardScaler\n",
    "\n",
    "scaler = StandardScaler()\n",
    "X_train_scaled = scaler.fit_transform(X_train)\n",
    "X_test_scaled = scaler.transform(X_test)\n",
    "\n",
    "print(f\"X_train_scaled.head(): \\n{X_train_scaled[:5]}\")"
   ]
  },
  {
   "cell_type": "markdown",
   "id": "f1534ec4-d9a5-4e5a-bc8f-f352bc0aa48f",
   "metadata": {},
   "source": [
    "## 1.1. Convert to Sequential dataset & One-hot Encoding"
   ]
  },
  {
   "cell_type": "code",
   "execution_count": 16,
   "id": "7994fb7c-db27-4d7b-b441-143746637046",
   "metadata": {},
   "outputs": [],
   "source": [
    "# Sequential dataset 만들기(1)\n",
    "from collections import Counter\n",
    "\n",
    "def split_sequences_classification_majority(data, labels, n_steps):\n",
    "    \"\"\"\n",
    "    비연속 데이터셋을 일정한 길이의 연속적인 시퀀스로 변환하는 함수\n",
    "    window에서 다수를 차지하는 label로 결정\n",
    "    \n",
    "    Args:\n",
    "    data: 원본 데이터 (리스트 또는 배열)\n",
    "    labels: 각 데이터에 해당하는 클래스 라벨 (리스트 또는 배열)\n",
    "    n_steps: 시퀀스의 길이 (정수)\n",
    "    \n",
    "    Returns:\n",
    "    X: 입력 시퀀스\n",
    "    y: 해당 시퀀스에 대한 다수 라벨\n",
    "    \"\"\"\n",
    "    X, y = [], []\n",
    "    \n",
    "    for i in range(len(data) - n_steps + 1):\n",
    "        # 시퀀스 추출\n",
    "        seq_x = data[i:i + n_steps]\n",
    "        seq_labels = labels[i:i + n_steps]\n",
    "        \n",
    "        # 시퀀스의 라벨 중 가장 빈번한 라벨을 선택 (다수결)\n",
    "        most_common_label = Counter(seq_labels).most_common(1)[0][0]\n",
    "        \n",
    "        X.append(seq_x)\n",
    "        y.append(most_common_label)\n",
    "    \n",
    "    return np.array(X), np.array(y)"
   ]
  },
  {
   "cell_type": "code",
   "execution_count": 17,
   "id": "7936ace4-bf5b-40dd-a060-ee10afb9aa6e",
   "metadata": {},
   "outputs": [
    {
     "name": "stdout",
     "output_type": "stream",
     "text": [
      "X_train_seq: Shape (689, 3, 8)\n",
      "y_train_seq: Shape (689,)\n",
      "\n",
      "X_train_seq.head(): \n",
      "[[[-0.8500507  -0.24307805 -0.28895662  0.91276597 -0.70884511\n",
      "    0.21606932  0.2110448  -1.05618828]\n",
      "  [-0.8500507  -1.02519267 -2.12028839  1.356133    0.1738275\n",
      "    3.00752781  0.0685775  -0.63068332]\n",
      "  [-0.8500507   0.78931324 -0.71985821 -1.30406923 -0.70884511\n",
      "   -0.29265443  0.27470041 -0.37538035]]\n",
      "\n",
      " [[-0.8500507  -1.02519267 -2.12028839  1.356133    0.1738275\n",
      "    3.00752781  0.0685775  -0.63068332]\n",
      "  [-0.8500507   0.78931324 -0.71985821 -1.30406923 -0.70884511\n",
      "   -0.29265443  0.27470041 -0.37538035]\n",
      "  [-0.55443669  1.0708745   0.24967037 -0.22732071  0.14707984\n",
      "   -0.69702459 -0.12238932 -0.54558233]]\n",
      "\n",
      " [[-0.8500507   0.78931324 -0.71985821 -1.30406923 -0.70884511\n",
      "   -0.29265443  0.27470041 -0.37538035]\n",
      "  [-0.55443669  1.0708745   0.24967037 -0.22732071  0.14707984\n",
      "   -0.69702459 -0.12238932 -0.54558233]\n",
      "  [ 0.62801934  0.2574753   1.11147355 -0.86070219  2.19773339\n",
      "   -1.61011849  0.32926235  2.26275038]]\n",
      "\n",
      " [[-0.55443669  1.0708745   0.24967037 -0.22732071  0.14707984\n",
      "   -0.69702459 -0.12238932 -0.54558233]\n",
      "  [ 0.62801934  0.2574753   1.11147355 -0.86070219  2.19773339\n",
      "   -1.61011849  0.32926235  2.26275038]\n",
      "  [-0.55443669 -0.68106224 -0.50440742 -0.22732071  0.71769648\n",
      "    0.60739527 -0.06176493 -1.05618828]]\n",
      "\n",
      " [[ 0.62801934  0.2574753   1.11147355 -0.86070219  2.19773339\n",
      "   -1.61011849  0.32926235  2.26275038]\n",
      "  [-0.55443669 -0.68106224 -0.50440742 -0.22732071  0.71769648\n",
      "    0.60739527 -0.06176493 -1.05618828]\n",
      "  [ 0.03679132  0.22619072  0.03421957 -1.30406923 -0.70884511\n",
      "    0.30737871 -0.51644782 -0.80088531]]]\n",
      "y_train_seq.head(): \n",
      "[1 1 0 0 0]\n"
     ]
    }
   ],
   "source": [
    "# Sequential dataset 만들기(2)\n",
    "n_steps = 3\n",
    "\n",
    "X_train_seq, y_train_seq = split_sequences_classification_majority(X_train_scaled, \n",
    "                                                                   y_train, \n",
    "                                                                   n_steps)\n",
    "X_test_seq, y_test_seq = split_sequences_classification_majority(X_test_scaled, \n",
    "                                                                 y_test, \n",
    "                                                                 n_steps)\n",
    "\n",
    "print(f\"X_train_seq: Shape {X_train_seq.shape}\")\n",
    "print(f\"y_train_seq: Shape {y_train_seq.shape}\")\n",
    "print()\n",
    "print(f\"X_train_seq.head(): \\n{X_train_seq[:5]}\")\n",
    "print(f\"y_train_seq.head(): \\n{y_train_seq[:5]}\")\n",
    "\n",
    "n_features = X_train_seq.shape[2]"
   ]
  },
  {
   "cell_type": "code",
   "execution_count": 18,
   "id": "5e645455-801c-498f-af82-7056b84b603f",
   "metadata": {},
   "outputs": [
    {
     "name": "stderr",
     "output_type": "stream",
     "text": [
      "2024-09-30 22:49:10.875039: I tensorflow/core/platform/cpu_feature_guard.cc:193] This TensorFlow binary is optimized with oneAPI Deep Neural Network Library (oneDNN) to use the following CPU instructions in performance-critical operations:  SSE4.1 SSE4.2 AVX AVX2 FMA\n",
      "To enable them in other operations, rebuild TensorFlow with the appropriate compiler flags.\n"
     ]
    },
    {
     "name": "stdout",
     "output_type": "stream",
     "text": [
      "==== one-hot encoded ====\n",
      "y_train_seq_hot.shape: (689, 2)\n",
      "y_test_seq_hot.shape: (75, 2)\n"
     ]
    }
   ],
   "source": [
    "# one-hot encoding\n",
    "from keras.utils import to_categorical\n",
    "\n",
    "y_train_seq_hot = to_categorical(y_train_seq)\n",
    "y_test_seq_hot = to_categorical(y_test_seq)\n",
    "\n",
    "print(\"==== one-hot encoded ====\")\n",
    "print(f\"y_train_seq_hot.shape: {y_train_seq_hot.shape}\")\n",
    "print(f\"y_test_seq_hot.shape: {y_test_seq_hot.shape}\")"
   ]
  },
  {
   "cell_type": "code",
   "execution_count": 19,
   "id": "1ff62bc6-c6c1-4afb-92b0-5fd70f4812a6",
   "metadata": {},
   "outputs": [
    {
     "name": "stdout",
     "output_type": "stream",
     "text": [
      "Model: \"sequential\"\n",
      "_________________________________________________________________\n",
      " Layer (type)                Output Shape              Param #   \n",
      "=================================================================\n",
      " conv1 (Conv1D)              (None, 1, 16)             400       \n",
      "                                                                 \n",
      " flatten (Flatten)           (None, 16)                0         \n",
      "                                                                 \n",
      " dense1 (Dense)              (None, 16)                272       \n",
      "                                                                 \n",
      " output (Dense)              (None, 2)                 34        \n",
      "                                                                 \n",
      "=================================================================\n",
      "Total params: 706\n",
      "Trainable params: 706\n",
      "Non-trainable params: 0\n",
      "_________________________________________________________________\n"
     ]
    },
    {
     "name": "stderr",
     "output_type": "stream",
     "text": [
      "2024-09-30 22:49:13.258576: I tensorflow/core/platform/cpu_feature_guard.cc:193] This TensorFlow binary is optimized with oneAPI Deep Neural Network Library (oneDNN) to use the following CPU instructions in performance-critical operations:  SSE4.1 SSE4.2 AVX AVX2 FMA\n",
      "To enable them in other operations, rebuild TensorFlow with the appropriate compiler flags.\n"
     ]
    }
   ],
   "source": [
    "import tensorflow as tf\n",
    "import tensorflow.keras as keras\n",
    "from tensorflow.keras import regularizers\n",
    "\n",
    "model = keras.Sequential()\n",
    "model.add(keras.layers.Conv1D(filters=16,\n",
    "                              kernel_size=3,\n",
    "                              strides=1,\n",
    "                              activation='relu',\n",
    "                              input_shape=(n_steps, n_features),\n",
    "                              name='conv1'))\n",
    "# model.add(keras.layers.BatchNormalization())\n",
    "# model.add(keras.layers.Dropout(0.3))\n",
    "\n",
    "# model.add(keras.layers.GlobalAveragePooling1D())\n",
    "model.add(keras.layers.Flatten())\n",
    "\n",
    "model.add(keras.layers.Dense(units=16,\n",
    "                             activation='relu',\n",
    "                             kernel_regularizer=regularizers.l2(0.01),\n",
    "                             name='dense1'))\n",
    "# model.add(keras.layers.BatchNormalization())\n",
    "# model.add(keras.layers.Dense(units=64,\n",
    "#                              activation='relu',\n",
    "#                              kernel_regularizer=regularizers.l2(0.01),\n",
    "#                              name='dense2'))\n",
    "# model.add(keras.layers.BatchNormalization())\n",
    "# model.add(keras.layers.Dropout(0.3))\n",
    "model.add(keras.layers.Dense(units=2,\n",
    "                             activation='sigmoid',\n",
    "                             name='output'))\n",
    "model.summary()"
   ]
  },
  {
   "cell_type": "code",
   "execution_count": 20,
   "id": "95ba6e99-c720-40a2-b7f8-4c2c85af9368",
   "metadata": {},
   "outputs": [
    {
     "name": "stdout",
     "output_type": "stream",
     "text": [
      "Epoch 1/50\n",
      "20/20 - 1s - loss: 0.8103 - accuracy: 0.6774 - val_loss: 0.7646 - val_accuracy: 0.7826 - 517ms/epoch - 26ms/step\n",
      "Epoch 2/50\n",
      "20/20 - 0s - loss: 0.7677 - accuracy: 0.6968 - val_loss: 0.7058 - val_accuracy: 0.8696 - 40ms/epoch - 2ms/step\n",
      "Epoch 3/50\n",
      "20/20 - 0s - loss: 0.7307 - accuracy: 0.7065 - val_loss: 0.6551 - val_accuracy: 0.9130 - 39ms/epoch - 2ms/step\n",
      "Epoch 4/50\n",
      "20/20 - 0s - loss: 0.6983 - accuracy: 0.7081 - val_loss: 0.6128 - val_accuracy: 0.9130 - 38ms/epoch - 2ms/step\n",
      "Epoch 5/50\n",
      "20/20 - 0s - loss: 0.6703 - accuracy: 0.7113 - val_loss: 0.5785 - val_accuracy: 0.9130 - 38ms/epoch - 2ms/step\n",
      "Epoch 6/50\n",
      "20/20 - 0s - loss: 0.6458 - accuracy: 0.7113 - val_loss: 0.5504 - val_accuracy: 0.8986 - 39ms/epoch - 2ms/step\n",
      "Epoch 7/50\n",
      "20/20 - 0s - loss: 0.6252 - accuracy: 0.7145 - val_loss: 0.5277 - val_accuracy: 0.9130 - 37ms/epoch - 2ms/step\n",
      "Epoch 8/50\n",
      "20/20 - 0s - loss: 0.6075 - accuracy: 0.7177 - val_loss: 0.5130 - val_accuracy: 0.8986 - 38ms/epoch - 2ms/step\n",
      "Epoch 9/50\n",
      "20/20 - 0s - loss: 0.5917 - accuracy: 0.7194 - val_loss: 0.4987 - val_accuracy: 0.8986 - 41ms/epoch - 2ms/step\n",
      "Epoch 10/50\n",
      "20/20 - 0s - loss: 0.5774 - accuracy: 0.7290 - val_loss: 0.4880 - val_accuracy: 0.8696 - 38ms/epoch - 2ms/step\n",
      "Epoch 11/50\n",
      "20/20 - 0s - loss: 0.5642 - accuracy: 0.7274 - val_loss: 0.4809 - val_accuracy: 0.8406 - 36ms/epoch - 2ms/step\n",
      "Epoch 12/50\n",
      "20/20 - 0s - loss: 0.5530 - accuracy: 0.7355 - val_loss: 0.4696 - val_accuracy: 0.8406 - 39ms/epoch - 2ms/step\n",
      "Epoch 13/50\n",
      "20/20 - 0s - loss: 0.5430 - accuracy: 0.7516 - val_loss: 0.4695 - val_accuracy: 0.8406 - 38ms/epoch - 2ms/step\n",
      "Epoch 14/50\n",
      "20/20 - 0s - loss: 0.5327 - accuracy: 0.7597 - val_loss: 0.4585 - val_accuracy: 0.8406 - 36ms/epoch - 2ms/step\n",
      "Epoch 15/50\n",
      "20/20 - 0s - loss: 0.5245 - accuracy: 0.7677 - val_loss: 0.4553 - val_accuracy: 0.8406 - 38ms/epoch - 2ms/step\n",
      "Epoch 16/50\n",
      "20/20 - 0s - loss: 0.5169 - accuracy: 0.7758 - val_loss: 0.4501 - val_accuracy: 0.8406 - 39ms/epoch - 2ms/step\n",
      "Epoch 17/50\n",
      "20/20 - 0s - loss: 0.5086 - accuracy: 0.7758 - val_loss: 0.4577 - val_accuracy: 0.7681 - 40ms/epoch - 2ms/step\n",
      "Epoch 18/50\n",
      "20/20 - 0s - loss: 0.5010 - accuracy: 0.7774 - val_loss: 0.4487 - val_accuracy: 0.7681 - 39ms/epoch - 2ms/step\n",
      "Epoch 19/50\n",
      "20/20 - 0s - loss: 0.4947 - accuracy: 0.7774 - val_loss: 0.4443 - val_accuracy: 0.7681 - 38ms/epoch - 2ms/step\n",
      "Epoch 20/50\n",
      "20/20 - 0s - loss: 0.4885 - accuracy: 0.7806 - val_loss: 0.4483 - val_accuracy: 0.7681 - 40ms/epoch - 2ms/step\n",
      "Epoch 21/50\n",
      "20/20 - 0s - loss: 0.4829 - accuracy: 0.7871 - val_loss: 0.4407 - val_accuracy: 0.7681 - 37ms/epoch - 2ms/step\n",
      "Epoch 22/50\n",
      "20/20 - 0s - loss: 0.4778 - accuracy: 0.7919 - val_loss: 0.4491 - val_accuracy: 0.7536 - 39ms/epoch - 2ms/step\n",
      "Epoch 23/50\n",
      "20/20 - 0s - loss: 0.4729 - accuracy: 0.7887 - val_loss: 0.4435 - val_accuracy: 0.7536 - 39ms/epoch - 2ms/step\n",
      "Epoch 24/50\n",
      "20/20 - 0s - loss: 0.4680 - accuracy: 0.7952 - val_loss: 0.4369 - val_accuracy: 0.7536 - 38ms/epoch - 2ms/step\n",
      "Epoch 25/50\n",
      "20/20 - 0s - loss: 0.4636 - accuracy: 0.7935 - val_loss: 0.4328 - val_accuracy: 0.7681 - 37ms/epoch - 2ms/step\n",
      "Epoch 26/50\n",
      "20/20 - 0s - loss: 0.4592 - accuracy: 0.7968 - val_loss: 0.4412 - val_accuracy: 0.7536 - 38ms/epoch - 2ms/step\n",
      "Epoch 27/50\n",
      "20/20 - 0s - loss: 0.4555 - accuracy: 0.7952 - val_loss: 0.4338 - val_accuracy: 0.7681 - 38ms/epoch - 2ms/step\n",
      "Epoch 28/50\n",
      "20/20 - 0s - loss: 0.4511 - accuracy: 0.8000 - val_loss: 0.4283 - val_accuracy: 0.7681 - 39ms/epoch - 2ms/step\n",
      "Epoch 29/50\n",
      "20/20 - 0s - loss: 0.4491 - accuracy: 0.8032 - val_loss: 0.4374 - val_accuracy: 0.7681 - 38ms/epoch - 2ms/step\n",
      "Epoch 30/50\n",
      "20/20 - 0s - loss: 0.4438 - accuracy: 0.8048 - val_loss: 0.4270 - val_accuracy: 0.7681 - 40ms/epoch - 2ms/step\n",
      "Epoch 31/50\n",
      "20/20 - 0s - loss: 0.4412 - accuracy: 0.8016 - val_loss: 0.4254 - val_accuracy: 0.7681 - 39ms/epoch - 2ms/step\n",
      "Epoch 32/50\n",
      "20/20 - 0s - loss: 0.4379 - accuracy: 0.8065 - val_loss: 0.4246 - val_accuracy: 0.7681 - 38ms/epoch - 2ms/step\n",
      "Epoch 33/50\n",
      "20/20 - 0s - loss: 0.4353 - accuracy: 0.8081 - val_loss: 0.4255 - val_accuracy: 0.7681 - 38ms/epoch - 2ms/step\n",
      "Epoch 34/50\n",
      "20/20 - 0s - loss: 0.4326 - accuracy: 0.8129 - val_loss: 0.4273 - val_accuracy: 0.7681 - 40ms/epoch - 2ms/step\n",
      "Epoch 35/50\n",
      "20/20 - 0s - loss: 0.4307 - accuracy: 0.8097 - val_loss: 0.4209 - val_accuracy: 0.7826 - 39ms/epoch - 2ms/step\n",
      "Epoch 36/50\n",
      "20/20 - 0s - loss: 0.4269 - accuracy: 0.8145 - val_loss: 0.4191 - val_accuracy: 0.7826 - 114ms/epoch - 6ms/step\n",
      "Epoch 37/50\n",
      "20/20 - 0s - loss: 0.4239 - accuracy: 0.8161 - val_loss: 0.4244 - val_accuracy: 0.7681 - 41ms/epoch - 2ms/step\n",
      "Epoch 38/50\n",
      "20/20 - 0s - loss: 0.4211 - accuracy: 0.8145 - val_loss: 0.4305 - val_accuracy: 0.7681 - 38ms/epoch - 2ms/step\n",
      "Epoch 39/50\n",
      "20/20 - 0s - loss: 0.4187 - accuracy: 0.8129 - val_loss: 0.4200 - val_accuracy: 0.7681 - 38ms/epoch - 2ms/step\n",
      "Epoch 40/50\n",
      "20/20 - 0s - loss: 0.4171 - accuracy: 0.8145 - val_loss: 0.4297 - val_accuracy: 0.7681 - 38ms/epoch - 2ms/step\n",
      "Epoch 41/50\n",
      "20/20 - 0s - loss: 0.4135 - accuracy: 0.8210 - val_loss: 0.4192 - val_accuracy: 0.7826 - 37ms/epoch - 2ms/step\n",
      "Epoch 42/50\n",
      "20/20 - 0s - loss: 0.4113 - accuracy: 0.8210 - val_loss: 0.4217 - val_accuracy: 0.7681 - 37ms/epoch - 2ms/step\n",
      "Epoch 43/50\n",
      "20/20 - 0s - loss: 0.4090 - accuracy: 0.8194 - val_loss: 0.4303 - val_accuracy: 0.7536 - 37ms/epoch - 2ms/step\n",
      "Epoch 44/50\n",
      "20/20 - 0s - loss: 0.4063 - accuracy: 0.8274 - val_loss: 0.4283 - val_accuracy: 0.7681 - 36ms/epoch - 2ms/step\n",
      "Epoch 45/50\n",
      "20/20 - 0s - loss: 0.4052 - accuracy: 0.8226 - val_loss: 0.4018 - val_accuracy: 0.8261 - 36ms/epoch - 2ms/step\n",
      "Epoch 46/50\n",
      "20/20 - 0s - loss: 0.4031 - accuracy: 0.8274 - val_loss: 0.4277 - val_accuracy: 0.7536 - 36ms/epoch - 2ms/step\n",
      "Epoch 47/50\n",
      "20/20 - 0s - loss: 0.3993 - accuracy: 0.8339 - val_loss: 0.4278 - val_accuracy: 0.7536 - 36ms/epoch - 2ms/step\n",
      "Epoch 48/50\n",
      "20/20 - 0s - loss: 0.3980 - accuracy: 0.8242 - val_loss: 0.4164 - val_accuracy: 0.7681 - 36ms/epoch - 2ms/step\n",
      "Epoch 49/50\n",
      "20/20 - 0s - loss: 0.3955 - accuracy: 0.8371 - val_loss: 0.4294 - val_accuracy: 0.7681 - 36ms/epoch - 2ms/step\n",
      "Epoch 50/50\n",
      "20/20 - 0s - loss: 0.3919 - accuracy: 0.8387 - val_loss: 0.4210 - val_accuracy: 0.7681 - 36ms/epoch - 2ms/step\n"
     ]
    }
   ],
   "source": [
    "model.compile(optimizer='adam',\n",
    "              loss='binary_crossentropy',\n",
    "              metrics=['accuracy'])\n",
    "\n",
    "history = model.fit(X_train_seq, y_train_seq_hot,\n",
    "                    validation_split=0.1,\n",
    "                    batch_size=32,\n",
    "                    verbose=2,\n",
    "                    epochs=50)"
   ]
  },
  {
   "cell_type": "code",
   "execution_count": 21,
   "id": "07cf2160-7cb0-4fd1-bebc-d8d3ab8297b5",
   "metadata": {},
   "outputs": [
    {
     "data": {
      "image/png": "[encoded data removed]",
      "text/plain": [
       "<Figure size 640x480 with 1 Axes>"
      ]
     },
     "metadata": {},
     "output_type": "display_data"
    }
   ],
   "source": [
    "# Epoch에 따른 loss\n",
    "loss = history.history['loss']\n",
    "val_loss = history.history['val_loss']\n",
    "epochs = range(1, len(loss) + 1)\n",
    "plt.plot(epochs, loss, 'y', label='Training loss')\n",
    "plt.plot(epochs, val_loss, 'r', label='Validation loss')\n",
    "plt.title('Training and validation loss')\n",
    "plt.xlabel('Epochs')\n",
    "plt.ylabel('Loss')\n",
    "plt.legend()\n",
    "plt.show()"
   ]
  },
  {
   "cell_type": "code",
   "execution_count": 22,
   "id": "b11f9314-52d8-4e38-8c8d-8f7939933873",
   "metadata": {},
   "outputs": [
    {
     "data": {
      "image/png": "[encoded data removed]",
      "text/plain": [
       "<Figure size 640x480 with 1 Axes>"
      ]
     },
     "metadata": {},
     "output_type": "display_data"
    }
   ],
   "source": [
    "# Epoch에 따른 Accuracy\n",
    "acc = history.history['accuracy']\n",
    "val_acc = history.history['val_accuracy']\n",
    "plt.plot(epochs, acc, 'y', label='Accuracy')\n",
    "plt.plot(epochs, val_acc, 'r', label='Validation Accuracy')\n",
    "plt.title('Training and validation Accuracy')\n",
    "plt.xlabel('Epochs')\n",
    "plt.ylabel('Accuracy')\n",
    "plt.legend()\n",
    "plt.show()"
   ]
  },
  {
   "cell_type": "code",
   "execution_count": 23,
   "id": "4e74e994-d82b-43fa-87b7-caf58ca2a39c",
   "metadata": {},
   "outputs": [
    {
     "name": "stdout",
     "output_type": "stream",
     "text": [
      "22/22 [==============================] - 0s 769us/step - loss: 0.3905 - accuracy: 0.8302\n"
     ]
    },
    {
     "data": {
      "text/plain": [
       "[0.39047694206237793, 0.8301886916160583]"
      ]
     },
     "execution_count": 23,
     "metadata": {},
     "output_type": "execute_result"
    }
   ],
   "source": [
    "# evaluate the model - train\n",
    "model.evaluate(X_train_seq, y_train_seq_hot)"
   ]
  },
  {
   "cell_type": "code",
   "execution_count": 24,
   "id": "c9bb3784-978d-479d-9959-996b37bca7f0",
   "metadata": {},
   "outputs": [
    {
     "name": "stdout",
     "output_type": "stream",
     "text": [
      "3/3 [==============================] - 0s 1ms/step - loss: 0.5309 - accuracy: 0.7333\n"
     ]
    },
    {
     "data": {
      "text/plain": [
       "[0.5309101343154907, 0.7333333492279053]"
      ]
     },
     "execution_count": 24,
     "metadata": {},
     "output_type": "execute_result"
    }
   ],
   "source": [
    "# evaluate the model - test\n",
    "model.evaluate(X_test_seq, y_test_seq_hot)"
   ]
  },
  {
   "cell_type": "code",
   "execution_count": 25,
   "id": "03dce2db-7c50-4e4b-a6ca-13f49870c7c0",
   "metadata": {},
   "outputs": [
    {
     "name": "stdout",
     "output_type": "stream",
     "text": [
      "3/3 [==============================] - 0s 1ms/step\n",
      "y_pred.head() \n",
      "[[0.5599543  0.42937225]\n",
      " [0.43833393 0.55120987]\n",
      " [0.5776579  0.4389681 ]\n",
      " [0.96310645 0.02840883]\n",
      " [0.82061285 0.16707078]]\n",
      "y_pred_class.head() \n",
      "[0 1 0 0 0]\n",
      "y_test_class.head() \n",
      "[1 1 1 0 0]\n",
      "\n",
      "              precision    recall  f1-score   support\n",
      "\n",
      "           0       0.86      0.77      0.81        57\n",
      "           1       0.46      0.61      0.52        18\n",
      "\n",
      "    accuracy                           0.73        75\n",
      "   macro avg       0.66      0.69      0.67        75\n",
      "weighted avg       0.77      0.73      0.74        75\n",
      "\n"
     ]
    }
   ],
   "source": [
    "from sklearn.metrics import confusion_matrix,classification_report,accuracy_score\n",
    "\n",
    "# classification report\n",
    "y_pred = model.predict(X_test_seq)\n",
    "print(f\"y_pred.head() \\n{y_pred[:5]}\")\n",
    "\n",
    "y_pred_class = np.argmax(y_pred, axis=1)\n",
    "print(f\"y_pred_class.head() \\n{y_pred_class[:5]}\")\n",
    "\n",
    "y_test_class = np.argmax(y_test_seq_hot, axis=1)\n",
    "print(f\"y_test_class.head() \\n{y_test_class[:5]}\")\n",
    "\n",
    "print()\n",
    "print(classification_report(y_test_class, y_pred_class))\n",
    "\n",
    "# print(confusion_matrix(y_test_class, y_pred_class))"
   ]
  },
  {
   "cell_type": "code",
   "execution_count": 26,
   "id": "6c6a2147-13bc-470c-a553-7788994ebb5a",
   "metadata": {},
   "outputs": [
    {
     "name": "stdout",
     "output_type": "stream",
     "text": [
      "Confusion Matrix\n"
     ]
    },
    {
     "data": {
      "image/png": "[encoded data removed]",
      "text/plain": [
       "<Figure size 800x600 with 2 Axes>"
      ]
     },
     "metadata": {},
     "output_type": "display_data"
    }
   ],
   "source": [
    "# confusion matrix\n",
    "print('Confusion Matrix')\n",
    "cm = confusion_matrix(y_test_class, y_pred_class)\n",
    "# 시각화\n",
    "plt.figure(figsize=(8, 6))  # 그래프 크기 조절 (너비 8, 높이 6)\n",
    "sns.heatmap(cm, annot=True, fmt=\"d\", cmap=\"Blues\")\n",
    "\n",
    "# 그래프 표시\n",
    "plt.show()"
   ]
  },
  {
   "cell_type": "code",
   "execution_count": 27,
   "id": "e92c4f52-a765-4f7c-8d5b-069f46434a72",
   "metadata": {},
   "outputs": [
    {
     "data": {
      "text/plain": [
       "'cf.\\nprecision   | TP / (TP + FP)\\nrecall      | TP / (TP + FN)\\nf1-score    | harmonic mean of precision and recall\\n              (2 * (precision * recall)) / (precision + recall)\\n              일반적으로 precision과 recall은 trade-off 관계라서 이를 절충할 수 있도록 한 개념임\\nsupport     | 각 class의 sample count\\naccuracy    | (TP + TN) / (TP + TN + FP + FN)\\nmacro avg   | arithmatic mean of precision(각 class들의 precision 평균)\\n'"
      ]
     },
     "execution_count": 27,
     "metadata": {},
     "output_type": "execute_result"
    }
   ],
   "source": [
    "'''cf.\n",
    "precision   | TP / (TP + FP)\n",
    "recall      | TP / (TP + FN)\n",
    "f1-score    | harmonic mean of precision and recall\n",
    "              (2 * (precision * recall)) / (precision + recall)\n",
    "              일반적으로 precision과 recall은 trade-off 관계라서 이를 절충할 수 있도록 한 개념임\n",
    "support     | 각 class의 sample count\n",
    "accuracy    | (TP + TN) / (TP + TN + FP + FN)\n",
    "macro avg   | arithmatic mean of precision(각 class들의 precision 평균)\n",
    "'''"
   ]
  },
  {
   "cell_type": "markdown",
   "id": "b43cf295-7892-4a61-91cd-a4a4dd241f7e",
   "metadata": {},
   "source": [
    "# 도메인 지식을 활용한 특성 공학"
   ]
  },
  {
   "cell_type": "markdown",
   "id": "6f246450-6bcf-465e-b4d4-0ca5e26fef9e",
   "metadata": {},
   "source": [
    "네, 도메인 지식을 활용하여 'glucose', 'bloodpressure', 'BMI', 'diabetes pedigree function', 'age' 사이에서 새로운 특징을 생성할 수 있습니다. 이러한 특징 공학은 모델이 복잡한 관계와 패턴을 더 잘 학습하도록 도울 수 있으며, 당뇨병 예측의 정확도를 향상시킬 수 있습니다. 아래에 각 변수들을 활용한 특징 공학 아이디어와 그 이유를 설명하겠습니다.\n",
    "\n",
    "---\n",
    "\n",
    "### 1. **연령대 구분 (Age Grouping)**\n",
    "\n",
    "**설명**: 나이는 당뇨병 발생 위험에 큰 영향을 미칩니다. 연령대를 구분하여 나이와 당뇨병 간의 비선형 관계를 더 잘 포착할 수 있습니다.\n",
    "\n",
    "**방법**:\n",
    "- **연령대 범주화**: 나이를 특정 연령대로 구분합니다. 예를 들어, 20대, 30대, 40대 등으로 나눕니다.\n",
    "- **이진 변수 생성**: 특정 나이 이상인지를 나타내는 변수 생성(예: '나이_50이상').\n",
    "\n",
    "**이점**:\n",
    "- 모델이 나이와 관련된 위험 패턴을 더 명확히 학습할 수 있습니다.\n",
    "- 비선형 및 복잡한 관계를 포착하여 예측 성능 향상에 도움이 됩니다.\n",
    "\n",
    "---\n",
    "\n",
    "### 2. **BMI 범주화 및 변환 (BMI Categorization and Transformation)**\n",
    "\n",
    "**설명**: BMI는 체중 상태를 나타내며, 비만은 당뇨병의 주요 위험 요인 중 하나입니다.\n",
    "\n",
    "**방법**:\n",
    "- **BMI 범주화**: BMI 값을 기준으로 저체중(<18.5), 정상(18.5–24.9), 과체중(25–29.9), 비만(≥30)으로 구분합니다.\n",
    "- **로그 변환**: BMI 값에 로그 변환을 적용하여 이상치의 영향을 줄입니다.\n",
    "\n",
    "**이점**:\n",
    "- 비만 관련 위험을 더 명확히 반영하여 모델의 해석 가능성을 높입니다.\n",
    "- 로그 변환을 통해 데이터의 분포를 안정화하고 모델의 성능을 향상시킵니다.\n",
    "\n",
    "---\n",
    "\n",
    "### 3. **혈당 수치 범주화 (Glucose Level Categorization)**\n",
    "\n",
    "**설명**: 혈당 수치는 당뇨병 진단의 핵심 지표입니다.\n",
    "\n",
    "**방법**:\n",
    "- **임상 기준 적용**: 공복 혈당 수치를 기준으로 정상(<100 mg/dL), 공복혈당장애(100–125 mg/dL), 당뇨병(≥126 mg/dL)으로 범주화합니다.\n",
    "- **이진 변수 생성**: 특정 기준 이상인지를 나타내는 변수 생성(예: '고혈당_여부').\n",
    "\n",
    "**이점**:\n",
    "- 임상적 의미를 반영하여 모델이 혈당 수치와 당뇨병 간의 관계를 더 잘 이해하도록 돕습니다.\n",
    "\n",
    "---\n",
    "\n",
    "### 4. **혈압 범주화 (Blood Pressure Categorization)**\n",
    "\n",
    "**설명**: 고혈압은 당뇨병과 관련된 심혈관 질환의 위험 요인입니다.\n",
    "\n",
    "**방법**:\n",
    "- **혈압 수준 구분**: 정상 혈압(<120 mmHg), 전고혈압(120–139 mmHg), 고혈압(≥140 mmHg)으로 범주화합니다.\n",
    "- **평균 동맥압(MAP) 계산**: \\( \\text{MAP} = \\text{이완기 혈압} + \\frac{1}{3} (\\text{수축기 혈압} - \\text{이완기 혈압}) \\)을 사용하여 혈압의 전체적인 부담을 나타냅니다.\n",
    "\n",
    "**이점**:\n",
    "- 혈압과 당뇨병 간의 복잡한 상호작용을 모델이 학습할 수 있습니다.\n",
    "\n",
    "---\n",
    "\n",
    "### 5. **상호작용 특징 생성 (Interaction Features)**\n",
    "\n",
    "**설명**: 두 개 이상의 변수 간의 상호작용을 반영하여 새로운 특징을 만듭니다.\n",
    "\n",
    "**방법**:\n",
    "- **BMI × 나이**: 나이와 BMI의 곱으로 새로운 변수를 생성합니다.\n",
    "- **혈당 × BMI**: 혈당 수치와 BMI의 곱으로 새로운 변수를 만듭니다.\n",
    "- **혈압 × 나이**: 혈압과 나이의 곱을 새로운 특징으로 사용합니다.\n",
    "\n",
    "**이점**:\n",
    "- 복합적인 위험 요인의 시너지 효과를 모델이 포착하여 예측력을 높입니다.\n",
    "\n",
    "---\n",
    "\n",
    "### 6. **유전적 요인과의 상호작용 (Interaction with Diabetes Pedigree Function)**\n",
    "\n",
    "**설명**: Diabetes Pedigree Function은 가족력을 나타내며, 유전적 소인과 기타 요인의 상호작용을 고려할 수 있습니다.\n",
    "\n",
    "**방법**:\n",
    "- **Diabetes Pedigree Function × 나이**: 유전적 요인과 나이의 상호작용을 반영합니다.\n",
    "- **Diabetes Pedigree Function × 혈당**: 유전적 소인과 혈당 수치의 관계를 나타냅니다.\n",
    "\n",
    "**이점**:\n",
    "- 개인의 유전적 위험과 환경적 요인의 복합적인 영향을 모델이 학습할 수 있습니다.\n",
    "\n",
    "---\n",
    "\n",
    "### 7. **건강 지수 생성 (Health Indices Creation)**\n",
    "\n",
    "**설명**: 여러 변수를 결합하여 하나의 종합적인 건강 지수를 만듭니다.\n",
    "\n",
    "**방법**:\n",
    "- **대사 증후군 지수**: BMI, 혈압, 혈당 수치 등을 결합하여 대사 증후군의 위험도를 나타내는 지수를 생성합니다.\n",
    "- **위험 점수 계산**: 각 변수에 가중치를 부여하여 합산합니다. 예를 들어, \\( \\text{Risk Score} = (0.5 \\times \\text{glucose}) + (0.3 \\times \\text{BMI}) + (0.2 \\times \\text{bloodpressure}) \\).\n",
    "\n",
    "**이점**:\n",
    "- 종합적인 건강 상태를 하나의 지표로 나타내어 모델의 복잡성을 줄이고 성능을 향상시킵니다.\n",
    "\n",
    "---\n",
    "\n",
    "### 8. **비선형 변환 적용 (Applying Non-Linear Transformations)**\n",
    "\n",
    "**설명**: 변수에 로그, 제곱근 등의 비선형 변환을 적용하여 분포를 정규화하고 이상치의 영향을 줄입니다.\n",
    "\n",
    "**방법**:\n",
    "- **로그 변환**: 'glucose', 'BMI' 등에 로그 변환을 적용합니다.\n",
    "- **제곱근 변환**: 'bloodpressure' 등에 제곱근 변환을 적용합니다.\n",
    "\n",
    "**이점**:\n",
    "- 모델의 성능을 향상시키고 학습을 안정화합니다.\n",
    "\n",
    "---\n",
    "\n",
    "### 9. **다항 특징 생성 (Polynomial Features)**\n",
    "\n",
    "**설명**: 변수의 제곱, 세제곱 등을 사용하여 비선형 관계를 모델링합니다.\n",
    "\n",
    "**방법**:\n",
    "- **제곱 항 추가**: 'glucose^2', 'BMI^2' 등과 같은 항을 추가합니다.\n",
    "- **다항 회귀 적용**: 다항 회귀 모델을 사용하여 비선형성을 반영합니다.\n",
    "\n",
    "**이점**:\n",
    "- 변수와 타겟 변수 간의 복잡한 비선형 관계를 모델이 학습할 수 있습니다.\n",
    "\n",
    "---\n",
    "\n",
    "### 10. **특징 선택 및 차원 축소 (Feature Selection and Dimensionality Reduction)**\n",
    "\n",
    "**설명**: 생성된 특징 중 중요한 것만 선택하여 모델의 복잡도를 관리합니다.\n",
    "\n",
    "**방법**:\n",
    "- **상관관계 분석**: 변수들 간의 상관관계를 분석하여 다중공선성을 줄입니다.\n",
    "- **피처 중요도 평가**: 결정 트리나 랜덤 포레스트를 사용하여 특징의 중요도를 평가합니다.\n",
    "- **주성분 분석(PCA)**: 차원 축소 기법을 적용하여 주요 정보만 유지합니다.\n",
    "\n",
    "**이점**:\n",
    "- 모델의 일반화 능력을 향상시키고 과적합을 방지합니다.\n",
    "\n",
    "---\n",
    "\n",
    "### **실제 예시 코드 (Python 기반)**\n",
    "\n",
    "```python\n",
    "import pandas as pd\n",
    "import numpy as np\n",
    "\n",
    "# 데이터 로드\n",
    "data = pd.read_csv('diabetes.csv')\n",
    "\n",
    "# 연령대 구분\n",
    "data['Age_Group'] = pd.cut(data['age'], bins=[20,30,40,50,60,70,80], labels=['20s','30s','40s','50s','60s','70s'])\n",
    "\n",
    "# BMI 범주화\n",
    "data['BMI_Category'] = pd.cut(data['BMI'], bins=[0,18.5,25,30,np.inf], labels=['Underweight','Normal','Overweight','Obese'])\n",
    "\n",
    "# 혈당 수치 범주화\n",
    "data['Glucose_Level'] = pd.cut(data['glucose'], bins=[0,99,125,np.inf], labels=['Normal','Prediabetes','Diabetes'])\n",
    "\n",
    "# 혈압 범주화\n",
    "data['BloodPressure_Level'] = pd.cut(data['bloodpressure'], bins=[0,79,89,np.inf], labels=['Normal','Prehypertension','Hypertension'])\n",
    "\n",
    "# 상호작용 변수 생성\n",
    "data['BMI_Age'] = data['BMI'] * data['age']\n",
    "data['Glucose_BMI'] = data['glucose'] * data['BMI']\n",
    "data['Pedigree_Age'] = data['diabetes_pedigree_function'] * data['age']\n",
    "\n",
    "# 건강 지수 생성\n",
    "data['Metabolic_Syndrome_Score'] = (\n",
    "    (data['BMI'] >= 25).astype(int) +\n",
    "    (data['bloodpressure'] >= 130).astype(int) +\n",
    "    (data['glucose'] >= 100).astype(int)\n",
    ")\n",
    "\n",
    "# 비선형 변환 적용\n",
    "data['Log_Glucose'] = np.log1p(data['glucose'])\n",
    "data['Sqrt_BloodPressure'] = np.sqrt(data['bloodpressure'])\n",
    "\n",
    "# 다항 특징 생성\n",
    "data['BMI_Squared'] = data['BMI'] ** 2\n",
    "data['Glucose_Squared'] = data['glucose'] ** 2\n",
    "\n",
    "# 필요에 따라 결측치 처리 (예: 로그 변환 시 0 값 처리)\n",
    "data.replace([np.inf, -np.inf], np.nan, inplace=True)\n",
    "data.dropna(inplace=True)\n",
    "```\n",
    "\n",
    "---\n",
    "\n",
    "### **주의 사항 및 추가 권장 사항**\n",
    "\n",
    "- **의료적 해석 가능성 유지**: 생성된 특징이 의료적으로 해석 가능하도록 유지하여 모델의 신뢰성을 높입니다.\n",
    "- **과적합 방지**: 복잡한 특징을 많이 추가하면 과적합 위험이 있으므로 교차 검증을 통해 모델의 일반화 성능을 확인합니다.\n",
    "- **데이터 전처리 일관성 유지**: 훈련 데이터와 테스트 데이터에 동일한 전처리 과정을 적용합니다.\n",
    "- **특징 선택**: 모델링 단계에서 변수의 중요도를 평가하여 유용한 특징만 선택합니다.\n",
    "\n",
    "---\n",
    "\n",
    "### **결론**\n",
    "\n",
    "도메인 지식을 활용한 특징 공학은 모델의 예측 성능 향상에 크게 기여할 수 있습니다. 의료 분야의 특성을 고려하여 변수들을 변환하고 상호작용 특징을 생성하면, 모델이 데이터의 복잡한 패턴을 더 잘 학습할 수 있습니다. 위에서 제시한 방법들을 실제 데이터에 적용하여 모델의 성능을 평가해 보시기를 추천드립니다.\n",
    "\n",
    "**추가 도움이 필요하시거나 궁금한 점이 있으시면 언제든지 말씀해주세요!**"
   ]
  }
 ],
 "metadata": {
  "kernelspec": {
   "display_name": "gc_dl",
   "language": "python",
   "name": "gc_dl"
  },
  "language_info": {
   "codemirror_mode": {
    "name": "ipython",
    "version": 3
   },
   "file_extension": ".py",
   "mimetype": "text/x-python",
   "name": "python",
   "nbconvert_exporter": "python",
   "pygments_lexer": "ipython3",
   "version": "3.9.18"
  }
 },
 "nbformat": 4,
 "nbformat_minor": 5
}
