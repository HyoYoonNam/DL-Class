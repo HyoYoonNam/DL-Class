{
 "cells": [
  {
   "cell_type": "markdown",
   "id": "a312b86b-2dae-413c-8ff0-59b2d970fe6b",
   "metadata": {},
   "source": [
    "# Table of Contents"
   ]
  },
  {
   "cell_type": "markdown",
   "id": "8e3eb5ce-ef75-43d1-9498-99273227e82f",
   "metadata": {},
   "source": [
    "0. Introduction\n",
    "   \n",
    "1. Imbalanced Data\n",
    "   \n",
    "2. Imbalanced Data Handling Methods\n",
    "\n",
    "3. (미완)적용하기 - sol1. over/under sampling\n",
    "\n",
    "4. (미완)적용하기 - sol2. cost-sensitive learning"
   ]
  },
  {
   "cell_type": "markdown",
   "id": "0b1385bd-952a-4c15-b62e-cc7c6a481a9d",
   "metadata": {},
   "source": [
    "# 0. Introduction"
   ]
  },
  {
   "cell_type": "markdown",
   "id": "48f373c2-9422-4fd7-9790-09eb9dc4e2fb",
   "metadata": {},
   "source": [
    "**Dataset**  \n",
    "* [abalone(전복)](https://archive.ics.uci.edu/dataset/1/abalone) | [Download csv file](https://github.com/MyungKyuYi/AI-class/blob/main/abalone.csv)\n",
    "\n",
    "**Environment**\n",
    "* macOS `x86`cpu\n",
    "\n",
    "**Framework**  \n",
    "* TensorFlow: Version `2.10.0`\n",
    "\n",
    "**Dependencies**  \n",
    "* Python: Version `3.9.19`\n",
    "* Numpy: Version `1.24.3`\n",
    "* Pandas: Version `2.2.2`\n",
    "* Matplotlib: Version `3.9.2`\n",
    "* scikit-learn: Version `1.2.2`\n",
    "\n",
    "**Purpose**  \n",
    "* Imbalanced data인 abalone dataset은 각 label에 속하는 data 간의 개수 차이로 인해서 불균형하게 학습하는 문제가 생긴다.\n",
    "* 위 문제를 해결할 수 있는 방법에 대해서 알아보고, 이를 직접 적용해본다.\n",
    "\n",
    "**Abstraction**  \n",
    "Predicting the age of abalone from physical measurements.  The age of abalone is determined by cutting the shell through the cone, staining it, and counting the number of rings through a microscope -- a boring and time-consuming task.  Other measurements, which are easier to obtain, are used to predict the age.  Further information, such as weather patterns and location (hence food availability) may be required to solve the problem.  \n",
    "From the original data examples with missing values were removed (the majority having the predicted value missing), and the ranges of the continuous values have been scaled for use with an ANN (by dividing by 200)."
   ]
  },
  {
   "cell_type": "markdown",
   "id": "7c82f8fa-410a-43c4-806a-329a6fccaa1a",
   "metadata": {},
   "source": [
    "# 1. Imbalanced Data"
   ]
  },
  {
   "cell_type": "markdown",
   "id": "f71840df-565a-444a-b061-d80eaaba2985",
   "metadata": {},
   "source": [
    "> Imbalanced Data Handling의 초점을 맞춘 notebook으로,  \n",
    "> categorical feature encoding이나 dataset에 대한 sequential-spliting 등의 작업은 별도로 설명하지 않고 진행한다."
   ]
  },
  {
   "cell_type": "code",
   "execution_count": 1,
   "id": "2e9d2cf8-ad74-4c0e-965d-071e3e6b7e97",
   "metadata": {},
   "outputs": [
    {
     "name": "stderr",
     "output_type": "stream",
     "text": [
      "2024-09-25 23:17:19.212113: I tensorflow/core/platform/cpu_feature_guard.cc:193] This TensorFlow binary is optimized with oneAPI Deep Neural Network Library (oneDNN) to use the following CPU instructions in performance-critical operations:  SSE4.1 SSE4.2 AVX AVX2 FMA\n",
      "To enable them in other operations, rebuild TensorFlow with the appropriate compiler flags.\n"
     ]
    }
   ],
   "source": [
    "import pandas as pd\n",
    "import numpy as np\n",
    "import seaborn as sns\n",
    "import tensorflow as tf\n",
    "import tensorflow.keras as keras\n",
    "import matplotlib.pyplot as plt\n",
    "from sklearn.metrics import mean_squared_error\n",
    "from sklearn.model_selection import train_test_split\n",
    "from sklearn.preprocessing import StandardScaler\n",
    "\n",
    "%matplotlib inline"
   ]
  },
  {
   "cell_type": "code",
   "execution_count": 4,
   "id": "e64b34e9-a24f-4c65-bafe-a4b973ea818d",
   "metadata": {},
   "outputs": [],
   "source": [
    "def split_sequences(data, n_steps):\n",
    "    \"\"\"\n",
    "    비연속 데이터셋을 일정한 길이의 연속적인 시퀀스로 변환하는 함수.\n",
    "    \n",
    "    Args:\n",
    "    data: 원본 데이터 (리스트 또는 배열)\n",
    "    n_steps: 시퀀스의 길이 (정수)\n",
    "    \n",
    "    Returns:\n",
    "    X: 입력 시퀀스\n",
    "    y: 해당 시퀀스에 대한 다음 값 (타겟 값)\n",
    "    \"\"\"\n",
    "    X, y = [], []\n",
    "    \n",
    "    for i in range(len(data)):\n",
    "        # 데이터의 끝에서 시퀀스 길이 만큼 남은 경우 종료\n",
    "        end_idx = i + n_steps\n",
    "        if end_idx > len(data) - 1: break\n",
    "        \n",
    "        # 입력 시퀀스와 출력 값(목표값)을 분리\n",
    "        seq_x, seq_y = data[i:end_idx, :-1], data[end_idx, -1]\n",
    "        X.append(seq_x)\n",
    "        y.append(seq_y)\n",
    "    \n",
    "    return np.array(X), np.array(y)"
   ]
  },
  {
   "cell_type": "code",
   "execution_count": 5,
   "id": "8aaf1be7-ec88-4e36-905a-9187b4b85051",
   "metadata": {},
   "outputs": [],
   "source": [
    "# Load the dataset\n",
    "df = pd.read_csv('./datasets/abalone.csv', index_col=0)\n",
    "\n",
    "# 'Sex' mapping\n",
    "sex_mapping = {'M': 0, 'F': 1, 'I': 2}\n",
    "df['Sex'] = df['Sex'].map(sex_mapping)\n",
    "\n",
    "# 'Rings' mapping(1)\n",
    "labels = np.unique(df['Rings'], return_counts=True)\n",
    "rings_mapping = {29: 28}\n",
    "df['Rings'] = df['Rings'].replace(rings_mapping)\n",
    "# 'Rings' mapping(2)\n",
    "rings_mapping = {}\n",
    "for i in range(len(np.unique(df['Rings']))):\n",
    "    rings_mapping = {i+1: i}\n",
    "    df['Rings'] = df['Rings'].replace(rings_mapping)"
   ]
  },
  {
   "cell_type": "code",
   "execution_count": 21,
   "id": "ae1d9991-19f9-4d4e-8117-fd182214356f",
   "metadata": {},
   "outputs": [
    {
     "name": "stdout",
     "output_type": "stream",
     "text": [
      "\n",
      "[label] [count]\n",
      "     0        1\n",
      "     1        1\n",
      "     2       15\n",
      "     3       57\n",
      "     4      115\n",
      "     5      259\n",
      "     6      391\n",
      "     7      568\n",
      "     8      689\n",
      "     9      634\n",
      "    10      487\n",
      "    11      267\n",
      "    12      203\n",
      "    13      126\n",
      "    14      103\n",
      "    15       67\n",
      "    16       58\n",
      "    17       42\n",
      "    18       32\n",
      "    19       26\n",
      "    20       14\n",
      "    21        6\n",
      "    22        9\n",
      "    23        2\n",
      "    24        1\n",
      "    25        1\n",
      "    26        2\n",
      "    27        1\n"
     ]
    }
   ],
   "source": [
    "# Imbalanced Data 확인 - sol1.\n",
    "labels = np.unique(df['Rings'], return_counts=True)\n",
    "table = np.transpose(labels)\n",
    "print(\"\\n[label] [count]\")\n",
    "for row in table:\n",
    "    print(f\"{row[0]:6d} {row[1]:8d}\")"
   ]
  },
  {
   "cell_type": "code",
   "execution_count": 24,
   "id": "2a1efed9-4903-4535-9f36-88841e2d9837",
   "metadata": {},
   "outputs": [
    {
     "data": {
      "image/png": "[encoded data removed]",
      "text/plain": [
       "<Figure size 640x480 with 1 Axes>"
      ]
     },
     "metadata": {},
     "output_type": "display_data"
    }
   ],
   "source": [
    "# Imbalanced Data 확인 - sol2.\n",
    "sns.boxplot(data=df, x='Rings')\n",
    "plt.show()"
   ]
  },
  {
   "cell_type": "code",
   "execution_count": 27,
   "id": "0526c8fc-520f-4267-9ab2-0fe0e81924b2",
   "metadata": {},
   "outputs": [
    {
     "data": {
      "image/png": "[encoded data removed]",
      "text/plain": [
       "<Figure size 640x480 with 1 Axes>"
      ]
     },
     "metadata": {},
     "output_type": "display_data"
    }
   ],
   "source": [
    "# Imbalanced Data 확인 - sol3.\n",
    "sns.countplot(data=df, x='Rings')\n",
    "plt.show()"
   ]
  },
  {
   "cell_type": "code",
   "execution_count": 28,
   "id": "bf9b4298-a465-4625-b44a-edefb37fcd76",
   "metadata": {},
   "outputs": [
    {
     "data": {
      "image/png": "[encoded data removed]",
      "text/plain": [
       "<Figure size 640x480 with 1 Axes>"
      ]
     },
     "metadata": {},
     "output_type": "display_data"
    }
   ],
   "source": [
    "# Imbalanced Data 확인 - sol4. \n",
    "sns.kdeplot(df['Rings'], fill=True)\n",
    "plt.title('Kernel Density Estimate of Rings')\n",
    "plt.xlabel('Rings')\n",
    "plt.ylabel('Density')\n",
    "plt.show()"
   ]
  },
  {
   "cell_type": "markdown",
   "id": "9dfc7181-85e5-4acf-bf4c-86294df65a6c",
   "metadata": {},
   "source": [
    "# 2. Imbalanced Data Handling Methods"
   ]
  },
  {
   "cell_type": "markdown",
   "id": "2ffc1bc9-bdbb-4eca-a56a-1f66c3b3aae6",
   "metadata": {},
   "source": [
    "먼저 Classification Task 기준으로만 설명함을 알린다.\n",
    "* * *\n",
    "Imbalanced Data는 두 가지 방법으로 Handling 할 수 있다.  \n",
    "1. **Data-level 방법**  \n",
    "   dataset에서 sample의 수가 불균형한 것을 근본적으로 해결한다.\n",
    "   * __Under Sampling__  \n",
    "     다른 label의 sample보다 개수가 많은 label의 sample들 중에서 일부를 제거한다.  \n",
    "     ex. \\[label 0 sample이 1_000개, label 1 sample이 100개\\] -> label 0 sample 중 900개 삭제\n",
    "     > 똑같이 label 0으로 분류된 sample이라고 하더라도 어떤 sample은 label 0이 되기 위한 특징을 너무나도 잘 가지고 있어서 0으로 분류되었을 것이고, 어떤 sample은 얼핏 보면 label 1이라고 착각할 수도 있지만 실제로는 0이라서 0으로 분류된 경우도 있을 것이다.  \n",
    "     > label 0의 sample들을 무작위로 제거할 때 label 0이 되기 위한 특징을 너무나도 잘 가지고 있는 sample들이 대량으로 제거된다면 model은 label 0이 되기 위한 특징을 제대로 학습하지 못하게 된다.\n",
    "     > > Random under sampling, CNN, Tomek-link\n",
    "   * __Over Sampling__  \n",
    "     다른 label의 sample보다 개수가 적은 label에 대해서 해당 label로 분류될 수 있는 sample들을 추가한다.  \n",
    "     ex. \\[label 0 sample이 500개, label 1 sample이 100개\\] -> label 1 sample을 400개 추가\n",
    "     > 임의로 추가하는 sample을 만드는 방법은 크게 두 가지가 있다.  \n",
    "     > 하나는 기존의 label 1 sample들을 그대로 복사해서 추가하는 것이고, 다른 하나는 기존의 label 1 sample들 각각의 특성을 조금씩 조합해서 새로운(하지만 기존의 sample들과 매우 유사한) label 1 sample을 만드는 것이다.  \n",
    "     > 이렇게 되면 결국 label 0에 대해서는 다양한 sample들에게서 다양한 특징을 학습할 수 있지만,  \n",
    "     > label 1에 대해서는 (매우)비슷비슷한 sample들에게서 비슷한 특징을 학습하게 된다. 따라서 label 1에 대해서 overfitting이 될 수 있다.\n",
    "     > > Random over sampling, SMOTE(Synthetic Minority Oversampling Technique), Borderline SMOTE\n",
    "2. **Algorithm-level 방법**  \n",
    "   소수 label 관측치에 대한 cost값에 가중치를 더 많이 주어 균형 잡힌 학습으로 만드는 방법이다. 다수 클래스보다 소수 클래스 분류에 초점을 둔다.  \n",
    "   ex. label 0이 100개, label 1이 4개일 때 label 0인 sample을 1이라고 잘못 예측하면 $\\frac{1}{100}$ 만큼의 cost를 부과하고, label 1인 sample을 0이라고 잘못 예측하면 $\\frac{1}{4}$ 만큼의 cost를 부과한다.  \n",
    "   > label 0 sample이 96개이고, label 1 sample이 4개라고 하자.  \n",
    "   > 각 label에 대한 cost가 동일하다면 model은 모든 sample에 대해서 label 0이라고만 예측해도 0.96의 accuracy를 얻게 된다(이해를 더 쉽게 하기 위해서 어쩌다가 label 1 sample 하나는 제대로 예측했다고 하자 -> 전체 정확도 0.97).  \n",
    "   > 얼핏 보면 되게 잘한 것 같지만 label 1 sample 기준으로 봤을 때는 accuracy가 0.25에 불과하다.  \n",
    "   > 만약 classification task가 '마약 검사'인 경우에는 매우 형편없는 모델이 된다.  \n",
    "   > 우리가 제대로 classify 하기 원하는 것은 label 0(마약 안 함)의 사람이 아니라, label 1(마약 함)의 사람이다."
   ]
  },
  {
   "cell_type": "markdown",
   "id": "7a1d437b-5f3a-4d7e-8d6e-d0fe13b2ba97",
   "metadata": {},
   "source": [
    "# 3. 개선하기"
   ]
  },
  {
   "cell_type": "markdown",
   "id": "fdc3b63a-f210-4d3c-88e5-a8c581ef1cfe",
   "metadata": {},
   "source": [
    "예, 예측 값이 실제 레이블 분포보다 좁은 범위에 집중되는 문제를 해결하기 위해 다음과 같은 방법을 시도할 수 있습니다:\n",
    "\n",
    "1. **데이터 불균형 문제 해결**: 레이블의 분포가 불균형하다면, 모델은 빈도가 높은 중간 값에 집중하여 예측하는 경향이 있습니다. 이를 해결하기 위해 언더샘플링이나 오버샘플링을 통해 데이터의 균형을 맞출 수 있습니다. 특히 **Synthetic Minority Over-sampling Technique (SMOTE)**와 같은 기법을 사용하면 소수 클래스의 데이터를 인위적으로 생성하여 불균형을 완화할 수 있습니다.\n",
    "\n",
    "2. **가중 손실 함수 사용**: 손실 함수에 가중치를 부여하여 희귀한 레이블 값에 대한 오류에 더 큰 페널티를 줄 수 있습니다. 이를 통해 모델이 다양한 레이블 값을 예측하는 데 집중하도록 유도할 수 있습니다.\n",
    "\n",
    "3. **데이터 변환 및 정규화**: 레이블 값의 분포를 정규화하거나 변환(예: 로그 변환)하여 모델이 극단값을 더 잘 학습할 수 있게 합니다.\n",
    "\n",
    "~4. **모델 아키텍처 조정**: CNN 이외에도 다른 모델이나 하이브리드 모델을 사용해 볼 수 있습니다. 예를 들어, **회귀 문제에 특화된 모델**이나 **시계열 데이터를 다루는 모델**을 적용하여 성능을 향상시킬 수 있습니다.~\n",
    "\n",
    "~5. **앙상블 기법 적용**: 여러 모델의 예측 결과를 결합하여 일반화 능력을 향상시킬 수 있습니다. 이것은 예측 값의 다양성을 증가시키는 데 도움이 됩니다.~\n",
    "\n",
    "~6. **특징 공학 개선**: 중요한 특징을 추가하거나 불필요한 특징을 제거하여 데이터의 표현력을 높입니다. 도메인 지식을 활용하여 새로운 파생 변수를 만들 수도 있습니다.~\n",
    "\n",
    "7. **학습률 및 하이퍼파라미터 조정**: 학습률, 배치 크기, 에폭 수 등 하이퍼파라미터를 조정하여 모델의 학습 과정을 최적화할 수 있습니다.\n",
    "\n",
    "~8. **조기 종료 및 정규화 기법 사용**: **과적합(overfitting)**을 방지하기 위해 조기 종료, 드롭아웃(dropout), 가중치 감쇠(weight decay) 등의 정규화 기법을 사용할 수 있습니다.~\n",
    "\n",
    "~9. **교차 검증 활용**: 교차 검증을 통해 모델의 일반화 성능을 평가하고 개선점을 찾을 수 있습니다.~\n",
    "\n",
    "위의 방법들을 조합하여 적용하면 모델이 레이블 분포 전체에 걸쳐 보다 정확한 예측을 수행할 가능성이 높아집니다. 특히 데이터의 불균형 문제가 원인이라면 이를 우선적으로 해결하는 것이 중요합니다."
   ]
  },
  {
   "cell_type": "markdown",
   "id": "412ce69b-cfbc-4040-8d97-f72d686fee04",
   "metadata": {},
   "source": [
    "## 3.1. 레이블 분포에 따른 가중 손실 함수 사용"
   ]
  },
  {
   "cell_type": "code",
   "execution_count": 32,
   "id": "7b34f3fc-2fd5-4e3c-95f3-4f310e745717",
   "metadata": {},
   "outputs": [],
   "source": [
    "import numpy as np\n",
    "\n",
    "# 레이블을 일정한 구간으로 나누기\n",
    "num_bins = 10  # 원하는 구간 수로 설정하세요\n",
    "bins = np.linspace(y_train_seq.min(), y_train_seq.max(), num_bins + 1)\n",
    "y_binned = np.digitize(y_train_seq, bins) - 1  # 인덱스가 0부터 시작하도록 조정\n",
    "\n",
    "# 구간별 빈도수 계산\n",
    "bin_counts = np.bincount(y_binned)\n",
    "total_samples = len(y_train_seq)\n",
    "bin_frequencies = bin_counts / total_samples\n",
    "\n",
    "# 빈도에 따라 가중치 계산 (너무 큰 가중치를 방지하기 위해 제곱근 또는 로그를 사용)\n",
    "# 예: 빈도수의 역수의 제곱근을 사용\n",
    "bin_weights = 1.0 / np.sqrt(bin_frequencies)\n",
    "\n",
    "# 가중치 정규화 (평균을 1로 맞춤)\n",
    "bin_weights = bin_weights / np.mean(bin_weights)\n",
    "\n",
    "# 각 샘플에 대한 가중치 배열 생성\n",
    "sample_weights = bin_weights[y_binned]"
   ]
  },
  {
   "cell_type": "code",
   "execution_count": 33,
   "id": "642d04d0-e84c-4672-bbc0-8b3adc5c61fb",
   "metadata": {},
   "outputs": [],
   "source": [
    "model.compile(optimizer='adam',\n",
    "              loss='mean_squared_error',\n",
    "              metrics=['mean_squared_error'],\n",
    "              weighted_metrics=['mean_squared_error'])"
   ]
  },
  {
   "cell_type": "code",
   "execution_count": 34,
   "id": "7d2d2bff-6f1d-45cb-866f-fb9e3bdde970",
   "metadata": {},
   "outputs": [
    {
     "name": "stdout",
     "output_type": "stream",
     "text": [
      "Epoch 1/50\n",
      "88/88 - 1s - loss: 4.0748 - mean_squared_error: 12.6329 - weighted_mean_squared_error: 26.0273 - val_loss: 1.7728 - val_mean_squared_error: 9.8349 - val_weighted_mean_squared_error: 12.7135 - 752ms/epoch - 9ms/step\n",
      "Epoch 2/50\n",
      "88/88 - 0s - loss: 3.8200 - mean_squared_error: 12.2008 - weighted_mean_squared_error: 24.3994 - val_loss: 1.7944 - val_mean_squared_error: 10.5191 - val_weighted_mean_squared_error: 12.8688 - 112ms/epoch - 1ms/step\n",
      "Epoch 3/50\n",
      "88/88 - 0s - loss: 3.8284 - mean_squared_error: 12.4389 - weighted_mean_squared_error: 24.4529 - val_loss: 1.8657 - val_mean_squared_error: 9.7345 - val_weighted_mean_squared_error: 13.3797 - 106ms/epoch - 1ms/step\n",
      "Epoch 4/50\n",
      "88/88 - 0s - loss: 3.8709 - mean_squared_error: 12.6906 - weighted_mean_squared_error: 24.7249 - val_loss: 1.8125 - val_mean_squared_error: 10.8385 - val_weighted_mean_squared_error: 12.9984 - 105ms/epoch - 1ms/step\n",
      "Epoch 5/50\n",
      "88/88 - 0s - loss: 3.6633 - mean_squared_error: 12.0781 - weighted_mean_squared_error: 23.3987 - val_loss: 1.9108 - val_mean_squared_error: 12.0962 - val_weighted_mean_squared_error: 13.7029 - 111ms/epoch - 1ms/step\n",
      "Epoch 6/50\n",
      "88/88 - 0s - loss: 3.5678 - mean_squared_error: 12.8216 - weighted_mean_squared_error: 22.7884 - val_loss: 1.8115 - val_mean_squared_error: 9.4367 - val_weighted_mean_squared_error: 12.9910 - 105ms/epoch - 1ms/step\n",
      "Epoch 7/50\n",
      "88/88 - 0s - loss: 3.5698 - mean_squared_error: 12.4550 - weighted_mean_squared_error: 22.8016 - val_loss: 2.0042 - val_mean_squared_error: 11.1438 - val_weighted_mean_squared_error: 14.3733 - 104ms/epoch - 1ms/step\n",
      "Epoch 8/50\n",
      "88/88 - 0s - loss: 3.6754 - mean_squared_error: 12.7793 - weighted_mean_squared_error: 23.4760 - val_loss: 1.7718 - val_mean_squared_error: 9.9544 - val_weighted_mean_squared_error: 12.7067 - 101ms/epoch - 1ms/step\n",
      "Epoch 9/50\n",
      "88/88 - 0s - loss: 3.5258 - mean_squared_error: 12.5659 - weighted_mean_squared_error: 22.5202 - val_loss: 2.1136 - val_mean_squared_error: 10.5980 - val_weighted_mean_squared_error: 15.1578 - 108ms/epoch - 1ms/step\n",
      "Epoch 10/50\n",
      "88/88 - 0s - loss: 3.4366 - mean_squared_error: 12.3938 - weighted_mean_squared_error: 21.9505 - val_loss: 1.8921 - val_mean_squared_error: 10.3003 - val_weighted_mean_squared_error: 13.5694 - 105ms/epoch - 1ms/step\n",
      "Epoch 11/50\n",
      "88/88 - 0s - loss: 3.4591 - mean_squared_error: 12.6158 - weighted_mean_squared_error: 22.0941 - val_loss: 1.9296 - val_mean_squared_error: 11.6146 - val_weighted_mean_squared_error: 13.8380 - 106ms/epoch - 1ms/step\n",
      "Epoch 12/50\n",
      "88/88 - 0s - loss: 3.3668 - mean_squared_error: 12.3195 - weighted_mean_squared_error: 21.5051 - val_loss: 1.9251 - val_mean_squared_error: 11.1735 - val_weighted_mean_squared_error: 13.8061 - 105ms/epoch - 1ms/step\n",
      "Epoch 13/50\n",
      "88/88 - 0s - loss: 3.3625 - mean_squared_error: 12.6061 - weighted_mean_squared_error: 21.4772 - val_loss: 1.9080 - val_mean_squared_error: 11.0460 - val_weighted_mean_squared_error: 13.6830 - 104ms/epoch - 1ms/step\n",
      "Epoch 14/50\n",
      "88/88 - 0s - loss: 3.2530 - mean_squared_error: 11.9794 - weighted_mean_squared_error: 20.7780 - val_loss: 1.8908 - val_mean_squared_error: 9.6689 - val_weighted_mean_squared_error: 13.5598 - 101ms/epoch - 1ms/step\n",
      "Epoch 15/50\n",
      "88/88 - 0s - loss: 3.2857 - mean_squared_error: 12.6976 - weighted_mean_squared_error: 20.9867 - val_loss: 1.8950 - val_mean_squared_error: 9.6532 - val_weighted_mean_squared_error: 13.5901 - 104ms/epoch - 1ms/step\n",
      "Epoch 16/50\n",
      "88/88 - 0s - loss: 3.2133 - mean_squared_error: 12.4010 - weighted_mean_squared_error: 20.5244 - val_loss: 1.9136 - val_mean_squared_error: 10.0179 - val_weighted_mean_squared_error: 13.7235 - 103ms/epoch - 1ms/step\n",
      "Epoch 17/50\n",
      "88/88 - 0s - loss: 3.2791 - mean_squared_error: 12.5528 - weighted_mean_squared_error: 20.9449 - val_loss: 1.9432 - val_mean_squared_error: 11.5797 - val_weighted_mean_squared_error: 13.9358 - 105ms/epoch - 1ms/step\n",
      "Epoch 18/50\n",
      "88/88 - 0s - loss: 3.1942 - mean_squared_error: 12.1610 - weighted_mean_squared_error: 20.4022 - val_loss: 1.9347 - val_mean_squared_error: 10.4663 - val_weighted_mean_squared_error: 13.8748 - 105ms/epoch - 1ms/step\n",
      "Epoch 19/50\n",
      "88/88 - 0s - loss: 3.1864 - mean_squared_error: 12.8160 - weighted_mean_squared_error: 20.3524 - val_loss: 1.9273 - val_mean_squared_error: 10.8520 - val_weighted_mean_squared_error: 13.8218 - 103ms/epoch - 1ms/step\n",
      "Epoch 20/50\n",
      "88/88 - 0s - loss: 3.1362 - mean_squared_error: 12.6363 - weighted_mean_squared_error: 20.0318 - val_loss: 1.9376 - val_mean_squared_error: 11.4230 - val_weighted_mean_squared_error: 13.8956 - 108ms/epoch - 1ms/step\n",
      "Epoch 21/50\n",
      "88/88 - 0s - loss: 3.0663 - mean_squared_error: 11.9250 - weighted_mean_squared_error: 19.5854 - val_loss: 2.1874 - val_mean_squared_error: 14.8033 - val_weighted_mean_squared_error: 15.6872 - 103ms/epoch - 1ms/step\n",
      "Epoch 22/50\n",
      "88/88 - 0s - loss: 3.1346 - mean_squared_error: 13.1291 - weighted_mean_squared_error: 20.0215 - val_loss: 2.0296 - val_mean_squared_error: 11.0872 - val_weighted_mean_squared_error: 14.5555 - 103ms/epoch - 1ms/step\n",
      "Epoch 23/50\n",
      "88/88 - 0s - loss: 3.0769 - mean_squared_error: 12.4939 - weighted_mean_squared_error: 19.6530 - val_loss: 2.1187 - val_mean_squared_error: 12.0949 - val_weighted_mean_squared_error: 15.1941 - 105ms/epoch - 1ms/step\n",
      "Epoch 24/50\n",
      "88/88 - 0s - loss: 3.0150 - mean_squared_error: 12.3116 - weighted_mean_squared_error: 19.2580 - val_loss: 2.0007 - val_mean_squared_error: 10.5925 - val_weighted_mean_squared_error: 14.3482 - 105ms/epoch - 1ms/step\n",
      "Epoch 25/50\n",
      "88/88 - 0s - loss: 2.9500 - mean_squared_error: 12.1722 - weighted_mean_squared_error: 18.8423 - val_loss: 2.0681 - val_mean_squared_error: 12.7260 - val_weighted_mean_squared_error: 14.8316 - 100ms/epoch - 1ms/step\n",
      "Epoch 26/50\n",
      "88/88 - 0s - loss: 2.9640 - mean_squared_error: 12.5857 - weighted_mean_squared_error: 18.9320 - val_loss: 2.1210 - val_mean_squared_error: 10.7824 - val_weighted_mean_squared_error: 15.2110 - 104ms/epoch - 1ms/step\n",
      "Epoch 27/50\n",
      "88/88 - 0s - loss: 2.9055 - mean_squared_error: 12.0784 - weighted_mean_squared_error: 18.5585 - val_loss: 2.1031 - val_mean_squared_error: 12.2148 - val_weighted_mean_squared_error: 15.0820 - 106ms/epoch - 1ms/step\n",
      "Epoch 28/50\n",
      "88/88 - 0s - loss: 2.8748 - mean_squared_error: 12.5175 - weighted_mean_squared_error: 18.3621 - val_loss: 2.1911 - val_mean_squared_error: 11.1358 - val_weighted_mean_squared_error: 15.7133 - 109ms/epoch - 1ms/step\n",
      "Epoch 29/50\n",
      "88/88 - 0s - loss: 2.8873 - mean_squared_error: 12.1923 - weighted_mean_squared_error: 18.4422 - val_loss: 2.1218 - val_mean_squared_error: 13.4621 - val_weighted_mean_squared_error: 15.2165 - 111ms/epoch - 1ms/step\n",
      "Epoch 30/50\n",
      "88/88 - 0s - loss: 2.8386 - mean_squared_error: 12.4956 - weighted_mean_squared_error: 18.1309 - val_loss: 1.9993 - val_mean_squared_error: 11.8741 - val_weighted_mean_squared_error: 14.3382 - 104ms/epoch - 1ms/step\n",
      "Epoch 31/50\n",
      "88/88 - 0s - loss: 2.7746 - mean_squared_error: 12.2430 - weighted_mean_squared_error: 17.7226 - val_loss: 2.0587 - val_mean_squared_error: 11.5062 - val_weighted_mean_squared_error: 14.7638 - 103ms/epoch - 1ms/step\n",
      "Epoch 32/50\n",
      "88/88 - 0s - loss: 2.7735 - mean_squared_error: 12.0991 - weighted_mean_squared_error: 17.7155 - val_loss: 2.1892 - val_mean_squared_error: 11.5577 - val_weighted_mean_squared_error: 15.7000 - 103ms/epoch - 1ms/step\n",
      "Epoch 33/50\n",
      "88/88 - 0s - loss: 2.7158 - mean_squared_error: 11.9482 - weighted_mean_squared_error: 17.3469 - val_loss: 2.2201 - val_mean_squared_error: 13.0868 - val_weighted_mean_squared_error: 15.9215 - 105ms/epoch - 1ms/step\n",
      "Epoch 34/50\n",
      "88/88 - 0s - loss: 2.7851 - mean_squared_error: 12.6111 - weighted_mean_squared_error: 17.7893 - val_loss: 2.6158 - val_mean_squared_error: 13.1305 - val_weighted_mean_squared_error: 18.7588 - 105ms/epoch - 1ms/step\n",
      "Epoch 35/50\n",
      "88/88 - 0s - loss: 2.7086 - mean_squared_error: 12.0024 - weighted_mean_squared_error: 17.3009 - val_loss: 2.1191 - val_mean_squared_error: 12.0736 - val_weighted_mean_squared_error: 15.1969 - 104ms/epoch - 1ms/step\n",
      "Epoch 36/50\n",
      "88/88 - 0s - loss: 2.6287 - mean_squared_error: 12.0172 - weighted_mean_squared_error: 16.7901 - val_loss: 2.1529 - val_mean_squared_error: 12.0666 - val_weighted_mean_squared_error: 15.4396 - 105ms/epoch - 1ms/step\n",
      "Epoch 37/50\n",
      "88/88 - 0s - loss: 2.6500 - mean_squared_error: 12.1379 - weighted_mean_squared_error: 16.9263 - val_loss: 2.1133 - val_mean_squared_error: 11.5590 - val_weighted_mean_squared_error: 15.1554 - 104ms/epoch - 1ms/step\n",
      "Epoch 38/50\n",
      "88/88 - 0s - loss: 2.6031 - mean_squared_error: 11.7616 - weighted_mean_squared_error: 16.6268 - val_loss: 2.1640 - val_mean_squared_error: 11.5195 - val_weighted_mean_squared_error: 15.5188 - 100ms/epoch - 1ms/step\n",
      "Epoch 39/50\n",
      "88/88 - 0s - loss: 2.5689 - mean_squared_error: 11.9896 - weighted_mean_squared_error: 16.4086 - val_loss: 2.0645 - val_mean_squared_error: 11.6796 - val_weighted_mean_squared_error: 14.8054 - 103ms/epoch - 1ms/step\n",
      "Epoch 40/50\n",
      "88/88 - 0s - loss: 2.5957 - mean_squared_error: 12.2052 - weighted_mean_squared_error: 16.5793 - val_loss: 2.1596 - val_mean_squared_error: 12.1962 - val_weighted_mean_squared_error: 15.4874 - 101ms/epoch - 1ms/step\n",
      "Epoch 41/50\n",
      "88/88 - 0s - loss: 2.5775 - mean_squared_error: 11.9377 - weighted_mean_squared_error: 16.4631 - val_loss: 2.4706 - val_mean_squared_error: 12.3184 - val_weighted_mean_squared_error: 17.7181 - 102ms/epoch - 1ms/step\n",
      "Epoch 42/50\n",
      "88/88 - 0s - loss: 2.5430 - mean_squared_error: 11.8263 - weighted_mean_squared_error: 16.2429 - val_loss: 2.3043 - val_mean_squared_error: 14.3232 - val_weighted_mean_squared_error: 16.5254 - 99ms/epoch - 1ms/step\n",
      "Epoch 43/50\n",
      "88/88 - 0s - loss: 2.5725 - mean_squared_error: 12.0831 - weighted_mean_squared_error: 16.4312 - val_loss: 2.1607 - val_mean_squared_error: 11.7855 - val_weighted_mean_squared_error: 15.4955 - 102ms/epoch - 1ms/step\n",
      "Epoch 44/50\n",
      "88/88 - 0s - loss: 2.5363 - mean_squared_error: 11.8527 - weighted_mean_squared_error: 16.2001 - val_loss: 2.2348 - val_mean_squared_error: 12.2811 - val_weighted_mean_squared_error: 16.0265 - 102ms/epoch - 1ms/step\n",
      "Epoch 45/50\n",
      "88/88 - 0s - loss: 2.4655 - mean_squared_error: 11.5634 - weighted_mean_squared_error: 15.7480 - val_loss: 2.2618 - val_mean_squared_error: 12.1206 - val_weighted_mean_squared_error: 16.2204 - 101ms/epoch - 1ms/step\n",
      "Epoch 46/50\n",
      "88/88 - 0s - loss: 2.4617 - mean_squared_error: 11.7726 - weighted_mean_squared_error: 15.7240 - val_loss: 2.1303 - val_mean_squared_error: 11.6435 - val_weighted_mean_squared_error: 15.2775 - 102ms/epoch - 1ms/step\n",
      "Epoch 47/50\n",
      "88/88 - 0s - loss: 2.4384 - mean_squared_error: 11.6366 - weighted_mean_squared_error: 15.5749 - val_loss: 2.1967 - val_mean_squared_error: 12.0603 - val_weighted_mean_squared_error: 15.7533 - 100ms/epoch - 1ms/step\n",
      "Epoch 48/50\n",
      "88/88 - 0s - loss: 2.4454 - mean_squared_error: 11.5922 - weighted_mean_squared_error: 15.6198 - val_loss: 2.2661 - val_mean_squared_error: 11.9720 - val_weighted_mean_squared_error: 16.2513 - 101ms/epoch - 1ms/step\n",
      "Epoch 49/50\n",
      "88/88 - 0s - loss: 2.4722 - mean_squared_error: 12.0652 - weighted_mean_squared_error: 15.7907 - val_loss: 2.2042 - val_mean_squared_error: 11.9674 - val_weighted_mean_squared_error: 15.8071 - 99ms/epoch - 1ms/step\n",
      "Epoch 50/50\n",
      "88/88 - 0s - loss: 2.4026 - mean_squared_error: 11.4041 - weighted_mean_squared_error: 15.3462 - val_loss: 2.5237 - val_mean_squared_error: 13.0163 - val_weighted_mean_squared_error: 18.0989 - 101ms/epoch - 1ms/step\n"
     ]
    }
   ],
   "source": [
    "history2 = model.fit(X_train_seq, y_train_seq,\n",
    "                     sample_weight=sample_weights,\n",
    "                     validation_split=0.1,\n",
    "                     epochs=epochs,\n",
    "                     batch_size=32,\n",
    "                     shuffle=True,\n",
    "                     verbose=2)"
   ]
  },
  {
   "cell_type": "code",
   "execution_count": 35,
   "id": "841e4324-b689-41d3-8915-c358354c08b5",
   "metadata": {},
   "outputs": [
    {
     "name": "stdout",
     "output_type": "stream",
     "text": [
      "MSE(train): 10.506194865870754\n"
     ]
    }
   ],
   "source": [
    "# evaluate the model - train\n",
    "\n",
    "y_preds_train = model(X_train_seq)\n",
    "print(f\"MSE(train): {mean_squared_error(y_preds_train, y_train_seq)}\")"
   ]
  },
  {
   "cell_type": "code",
   "execution_count": 36,
   "id": "cf23aa0a-0231-4206-a68e-2a890be50541",
   "metadata": {},
   "outputs": [
    {
     "name": "stdout",
     "output_type": "stream",
     "text": [
      "MSE(test): 15.605061100943459\n"
     ]
    }
   ],
   "source": [
    "# evaluate the model - test\n",
    "\n",
    "y_preds_test = model(X_test_seq)\n",
    "print(f\"MSE(test): {mean_squared_error(y_preds_test, y_test_seq)}\")"
   ]
  },
  {
   "cell_type": "markdown",
   "id": "98603218-aa05-4947-a316-d716685eb364",
   "metadata": {},
   "source": [
    "* * *"
   ]
  },
  {
   "cell_type": "code",
   "execution_count": 37,
   "id": "49ed4276-027a-4b18-b1cd-0e4429aa0c56",
   "metadata": {},
   "outputs": [],
   "source": [
    "from sklearn.utils import class_weight\n",
    "\n",
    "sample_weights = class_weight.compute_sample_weight('balanced', y_train_seq)\n",
    "\n",
    "model.compile(optimizer='adam',\n",
    "              loss='mean_squared_error',\n",
    "              metrics=['mean_squared_error'],\n",
    "              weighted_metrics=['mean_squared_error'])"
   ]
  },
  {
   "cell_type": "code",
   "execution_count": 38,
   "id": "d387888f-7fc2-4087-84ad-e6be070ea5d4",
   "metadata": {},
   "outputs": [
    {
     "name": "stdout",
     "output_type": "stream",
     "text": [
      "Epoch 1/50\n",
      "88/88 - 1s - loss: 24.4388 - mean_squared_error: 18.7862 - weighted_mean_squared_error: 23.3146 - val_loss: 16.0540 - val_mean_squared_error: 25.7687 - val_weighted_mean_squared_error: 28.3385 - 691ms/epoch - 8ms/step\n",
      "Epoch 2/50\n",
      "88/88 - 0s - loss: 22.7138 - mean_squared_error: 21.1769 - weighted_mean_squared_error: 21.6689 - val_loss: 15.0847 - val_mean_squared_error: 24.5503 - val_weighted_mean_squared_error: 26.6275 - 110ms/epoch - 1ms/step\n",
      "Epoch 3/50\n",
      "88/88 - 0s - loss: 26.6209 - mean_squared_error: 19.6184 - weighted_mean_squared_error: 25.3963 - val_loss: 16.0835 - val_mean_squared_error: 26.4220 - val_weighted_mean_squared_error: 28.3906 - 126ms/epoch - 1ms/step\n",
      "Epoch 4/50\n",
      "88/88 - 0s - loss: 24.6760 - mean_squared_error: 20.8132 - weighted_mean_squared_error: 23.5409 - val_loss: 14.5512 - val_mean_squared_error: 20.6743 - val_weighted_mean_squared_error: 25.6858 - 101ms/epoch - 1ms/step\n",
      "Epoch 5/50\n",
      "88/88 - 0s - loss: 20.2322 - mean_squared_error: 18.0042 - weighted_mean_squared_error: 19.3015 - val_loss: 17.7620 - val_mean_squared_error: 16.0274 - val_weighted_mean_squared_error: 31.3536 - 126ms/epoch - 1ms/step\n",
      "Epoch 6/50\n",
      "88/88 - 0s - loss: 21.5688 - mean_squared_error: 19.9965 - weighted_mean_squared_error: 20.5766 - val_loss: 14.6547 - val_mean_squared_error: 22.5181 - val_weighted_mean_squared_error: 25.8685 - 104ms/epoch - 1ms/step\n",
      "Epoch 7/50\n",
      "88/88 - 0s - loss: 20.2559 - mean_squared_error: 19.0749 - weighted_mean_squared_error: 19.3241 - val_loss: 16.9203 - val_mean_squared_error: 17.9509 - val_weighted_mean_squared_error: 29.8677 - 103ms/epoch - 1ms/step\n",
      "Epoch 8/50\n",
      "88/88 - 0s - loss: 20.5583 - mean_squared_error: 18.9504 - weighted_mean_squared_error: 19.6126 - val_loss: 14.3697 - val_mean_squared_error: 17.2385 - val_weighted_mean_squared_error: 25.3655 - 106ms/epoch - 1ms/step\n",
      "Epoch 9/50\n",
      "88/88 - 0s - loss: 20.1821 - mean_squared_error: 17.6479 - weighted_mean_squared_error: 19.2538 - val_loss: 14.5990 - val_mean_squared_error: 19.3362 - val_weighted_mean_squared_error: 25.7701 - 106ms/epoch - 1ms/step\n",
      "Epoch 10/50\n",
      "88/88 - 0s - loss: 18.7411 - mean_squared_error: 18.8827 - weighted_mean_squared_error: 17.8790 - val_loss: 14.3626 - val_mean_squared_error: 20.6574 - val_weighted_mean_squared_error: 25.3529 - 105ms/epoch - 1ms/step\n",
      "Epoch 11/50\n",
      "88/88 - 0s - loss: 16.2725 - mean_squared_error: 17.5361 - weighted_mean_squared_error: 15.5240 - val_loss: 14.7302 - val_mean_squared_error: 16.7530 - val_weighted_mean_squared_error: 26.0018 - 105ms/epoch - 1ms/step\n",
      "Epoch 12/50\n",
      "88/88 - 0s - loss: 16.1322 - mean_squared_error: 18.6259 - weighted_mean_squared_error: 15.3901 - val_loss: 15.1146 - val_mean_squared_error: 18.9668 - val_weighted_mean_squared_error: 26.6804 - 104ms/epoch - 1ms/step\n",
      "Epoch 13/50\n",
      "88/88 - 0s - loss: 17.0520 - mean_squared_error: 17.7504 - weighted_mean_squared_error: 16.2676 - val_loss: 21.2073 - val_mean_squared_error: 21.8340 - val_weighted_mean_squared_error: 37.4352 - 102ms/epoch - 1ms/step\n",
      "Epoch 14/50\n",
      "88/88 - 0s - loss: 18.9359 - mean_squared_error: 20.5312 - weighted_mean_squared_error: 18.0648 - val_loss: 14.4119 - val_mean_squared_error: 18.6149 - val_weighted_mean_squared_error: 25.4399 - 100ms/epoch - 1ms/step\n",
      "Epoch 15/50\n",
      "88/88 - 0s - loss: 20.4734 - mean_squared_error: 17.5498 - weighted_mean_squared_error: 19.5316 - val_loss: 13.9170 - val_mean_squared_error: 17.4597 - val_weighted_mean_squared_error: 24.5663 - 104ms/epoch - 1ms/step\n",
      "Epoch 16/50\n",
      "88/88 - 0s - loss: 19.3917 - mean_squared_error: 19.5178 - weighted_mean_squared_error: 18.4997 - val_loss: 14.6270 - val_mean_squared_error: 20.2539 - val_weighted_mean_squared_error: 25.8197 - 105ms/epoch - 1ms/step\n",
      "Epoch 17/50\n",
      "88/88 - 0s - loss: 20.4216 - mean_squared_error: 19.4149 - weighted_mean_squared_error: 19.4822 - val_loss: 14.7142 - val_mean_squared_error: 17.3146 - val_weighted_mean_squared_error: 25.9736 - 106ms/epoch - 1ms/step\n",
      "Epoch 18/50\n",
      "88/88 - 0s - loss: 18.2295 - mean_squared_error: 19.5494 - weighted_mean_squared_error: 17.3909 - val_loss: 14.5478 - val_mean_squared_error: 19.1993 - val_weighted_mean_squared_error: 25.6798 - 102ms/epoch - 1ms/step\n",
      "Epoch 19/50\n",
      "88/88 - 0s - loss: 16.8675 - mean_squared_error: 17.5661 - weighted_mean_squared_error: 16.0916 - val_loss: 14.9455 - val_mean_squared_error: 19.8337 - val_weighted_mean_squared_error: 26.3819 - 108ms/epoch - 1ms/step\n",
      "Epoch 20/50\n",
      "88/88 - 0s - loss: 14.5996 - mean_squared_error: 17.0873 - weighted_mean_squared_error: 13.9280 - val_loss: 14.7625 - val_mean_squared_error: 23.9122 - val_weighted_mean_squared_error: 26.0589 - 107ms/epoch - 1ms/step\n",
      "Epoch 21/50\n",
      "88/88 - 0s - loss: 14.6944 - mean_squared_error: 17.8888 - weighted_mean_squared_error: 14.0185 - val_loss: 14.3227 - val_mean_squared_error: 19.8198 - val_weighted_mean_squared_error: 25.2825 - 105ms/epoch - 1ms/step\n",
      "Epoch 22/50\n",
      "88/88 - 0s - loss: 14.9029 - mean_squared_error: 18.0153 - weighted_mean_squared_error: 14.2174 - val_loss: 14.6143 - val_mean_squared_error: 19.6907 - val_weighted_mean_squared_error: 25.7973 - 106ms/epoch - 1ms/step\n",
      "Epoch 23/50\n",
      "88/88 - 0s - loss: 15.0878 - mean_squared_error: 17.6571 - weighted_mean_squared_error: 14.3938 - val_loss: 17.1208 - val_mean_squared_error: 17.7649 - val_weighted_mean_squared_error: 30.2217 - 106ms/epoch - 1ms/step\n",
      "Epoch 24/50\n",
      "88/88 - 0s - loss: 15.5688 - mean_squared_error: 18.7044 - weighted_mean_squared_error: 14.8526 - val_loss: 15.0305 - val_mean_squared_error: 18.6255 - val_weighted_mean_squared_error: 26.5318 - 106ms/epoch - 1ms/step\n",
      "Epoch 25/50\n",
      "88/88 - 0s - loss: 14.0509 - mean_squared_error: 16.1691 - weighted_mean_squared_error: 13.4046 - val_loss: 14.4159 - val_mean_squared_error: 18.4936 - val_weighted_mean_squared_error: 25.4470 - 108ms/epoch - 1ms/step\n",
      "Epoch 26/50\n",
      "88/88 - 0s - loss: 14.1901 - mean_squared_error: 17.1937 - weighted_mean_squared_error: 13.5374 - val_loss: 14.7933 - val_mean_squared_error: 21.8966 - val_weighted_mean_squared_error: 26.1131 - 104ms/epoch - 1ms/step\n",
      "Epoch 27/50\n",
      "88/88 - 0s - loss: 13.6067 - mean_squared_error: 17.8163 - weighted_mean_squared_error: 12.9808 - val_loss: 14.6208 - val_mean_squared_error: 18.6487 - val_weighted_mean_squared_error: 25.8087 - 104ms/epoch - 1ms/step\n",
      "Epoch 28/50\n",
      "88/88 - 0s - loss: 13.6783 - mean_squared_error: 17.1721 - weighted_mean_squared_error: 13.0491 - val_loss: 14.7302 - val_mean_squared_error: 19.0576 - val_weighted_mean_squared_error: 26.0019 - 108ms/epoch - 1ms/step\n",
      "Epoch 29/50\n",
      "88/88 - 0s - loss: 15.2769 - mean_squared_error: 15.8778 - weighted_mean_squared_error: 14.5742 - val_loss: 14.8655 - val_mean_squared_error: 20.2159 - val_weighted_mean_squared_error: 26.2406 - 112ms/epoch - 1ms/step\n",
      "Epoch 30/50\n",
      "88/88 - 0s - loss: 18.5904 - mean_squared_error: 19.7376 - weighted_mean_squared_error: 17.7353 - val_loss: 14.3712 - val_mean_squared_error: 20.1770 - val_weighted_mean_squared_error: 25.3682 - 101ms/epoch - 1ms/step\n",
      "Epoch 31/50\n",
      "88/88 - 0s - loss: 19.7240 - mean_squared_error: 19.0116 - weighted_mean_squared_error: 18.8167 - val_loss: 32.0246 - val_mean_squared_error: 37.6278 - val_weighted_mean_squared_error: 56.5298 - 107ms/epoch - 1ms/step\n",
      "Epoch 32/50\n",
      "88/88 - 0s - loss: 26.5574 - mean_squared_error: 26.6489 - weighted_mean_squared_error: 25.3358 - val_loss: 15.6399 - val_mean_squared_error: 23.4194 - val_weighted_mean_squared_error: 27.6076 - 109ms/epoch - 1ms/step\n",
      "Epoch 33/50\n",
      "88/88 - 0s - loss: 35.7255 - mean_squared_error: 27.6868 - weighted_mean_squared_error: 34.0822 - val_loss: 15.9706 - val_mean_squared_error: 18.7577 - val_weighted_mean_squared_error: 28.1913 - 104ms/epoch - 1ms/step\n",
      "Epoch 34/50\n",
      "88/88 - 0s - loss: 18.8380 - mean_squared_error: 19.1068 - weighted_mean_squared_error: 17.9715 - val_loss: 15.3968 - val_mean_squared_error: 21.8387 - val_weighted_mean_squared_error: 27.1784 - 105ms/epoch - 1ms/step\n",
      "Epoch 35/50\n",
      "88/88 - 0s - loss: 14.2920 - mean_squared_error: 17.3977 - weighted_mean_squared_error: 13.6346 - val_loss: 15.5271 - val_mean_squared_error: 18.5787 - val_weighted_mean_squared_error: 27.4084 - 109ms/epoch - 1ms/step\n",
      "Epoch 36/50\n",
      "88/88 - 0s - loss: 14.1993 - mean_squared_error: 17.3623 - weighted_mean_squared_error: 13.5461 - val_loss: 15.4002 - val_mean_squared_error: 18.0566 - val_weighted_mean_squared_error: 27.1845 - 104ms/epoch - 1ms/step\n",
      "Epoch 37/50\n",
      "88/88 - 0s - loss: 12.8405 - mean_squared_error: 16.1846 - weighted_mean_squared_error: 12.2499 - val_loss: 15.0130 - val_mean_squared_error: 17.7643 - val_weighted_mean_squared_error: 26.5010 - 107ms/epoch - 1ms/step\n",
      "Epoch 38/50\n",
      "88/88 - 0s - loss: 12.4118 - mean_squared_error: 16.3886 - weighted_mean_squared_error: 11.8409 - val_loss: 14.7646 - val_mean_squared_error: 20.7664 - val_weighted_mean_squared_error: 26.0624 - 105ms/epoch - 1ms/step\n",
      "Epoch 39/50\n",
      "88/88 - 0s - loss: 12.5903 - mean_squared_error: 16.6095 - weighted_mean_squared_error: 12.0112 - val_loss: 14.2653 - val_mean_squared_error: 19.1052 - val_weighted_mean_squared_error: 25.1810 - 103ms/epoch - 1ms/step\n",
      "Epoch 40/50\n",
      "88/88 - 0s - loss: 12.3481 - mean_squared_error: 16.4242 - weighted_mean_squared_error: 11.7801 - val_loss: 15.7702 - val_mean_squared_error: 17.5967 - val_weighted_mean_squared_error: 27.8377 - 124ms/epoch - 1ms/step\n",
      "Epoch 41/50\n",
      "88/88 - 0s - loss: 11.8915 - mean_squared_error: 15.8421 - weighted_mean_squared_error: 11.3445 - val_loss: 15.6454 - val_mean_squared_error: 21.6848 - val_weighted_mean_squared_error: 27.6172 - 102ms/epoch - 1ms/step\n",
      "Epoch 42/50\n",
      "88/88 - 0s - loss: 11.9036 - mean_squared_error: 16.4558 - weighted_mean_squared_error: 11.3561 - val_loss: 15.5744 - val_mean_squared_error: 19.1193 - val_weighted_mean_squared_error: 27.4919 - 105ms/epoch - 1ms/step\n",
      "Epoch 43/50\n",
      "88/88 - 0s - loss: 11.8406 - mean_squared_error: 16.1342 - weighted_mean_squared_error: 11.2959 - val_loss: 14.6537 - val_mean_squared_error: 18.4010 - val_weighted_mean_squared_error: 25.8668 - 108ms/epoch - 1ms/step\n",
      "Epoch 44/50\n",
      "88/88 - 0s - loss: 12.3290 - mean_squared_error: 16.5872 - weighted_mean_squared_error: 11.7619 - val_loss: 15.2832 - val_mean_squared_error: 18.9727 - val_weighted_mean_squared_error: 26.9780 - 103ms/epoch - 1ms/step\n",
      "Epoch 45/50\n",
      "88/88 - 0s - loss: 11.8885 - mean_squared_error: 16.3072 - weighted_mean_squared_error: 11.3417 - val_loss: 15.5894 - val_mean_squared_error: 20.7526 - val_weighted_mean_squared_error: 27.5184 - 102ms/epoch - 1ms/step\n",
      "Epoch 46/50\n",
      "88/88 - 0s - loss: 11.6391 - mean_squared_error: 15.9023 - weighted_mean_squared_error: 11.1037 - val_loss: 15.1281 - val_mean_squared_error: 20.6615 - val_weighted_mean_squared_error: 26.7041 - 103ms/epoch - 1ms/step\n",
      "Epoch 47/50\n",
      "88/88 - 0s - loss: 12.3144 - mean_squared_error: 17.2281 - weighted_mean_squared_error: 11.7479 - val_loss: 14.9488 - val_mean_squared_error: 19.5783 - val_weighted_mean_squared_error: 26.3877 - 107ms/epoch - 1ms/step\n",
      "Epoch 48/50\n",
      "88/88 - 0s - loss: 12.4403 - mean_squared_error: 16.0211 - weighted_mean_squared_error: 11.8680 - val_loss: 15.6753 - val_mean_squared_error: 20.9453 - val_weighted_mean_squared_error: 27.6701 - 100ms/epoch - 1ms/step\n",
      "Epoch 49/50\n",
      "88/88 - 0s - loss: 13.3752 - mean_squared_error: 17.2267 - weighted_mean_squared_error: 12.7600 - val_loss: 15.3141 - val_mean_squared_error: 18.2838 - val_weighted_mean_squared_error: 27.0324 - 101ms/epoch - 1ms/step\n",
      "Epoch 50/50\n",
      "88/88 - 0s - loss: 15.2661 - mean_squared_error: 18.3989 - weighted_mean_squared_error: 14.5639 - val_loss: 16.2717 - val_mean_squared_error: 18.2930 - val_weighted_mean_squared_error: 28.7228 - 101ms/epoch - 1ms/step\n"
     ]
    }
   ],
   "source": [
    "history3 = model.fit(X_train_seq, y_train_seq,\n",
    "                     sample_weight=sample_weights,\n",
    "                     validation_split=0.1,\n",
    "                     epochs=epochs,\n",
    "                     batch_size=32,\n",
    "                     shuffle=True,\n",
    "                     verbose=2)"
   ]
  },
  {
   "cell_type": "code",
   "execution_count": 39,
   "id": "a0b1bd62-9f46-44fd-a11f-cd121659e672",
   "metadata": {},
   "outputs": [
    {
     "name": "stdout",
     "output_type": "stream",
     "text": [
      "MSE(train): 14.574323664482737\n",
      "MSE(test): 22.800743815478718\n"
     ]
    }
   ],
   "source": [
    "# evaluate the model - train\n",
    "\n",
    "y_preds_train = model(X_train_seq)\n",
    "print(f\"MSE(train): {mean_squared_error(y_preds_train, y_train_seq)}\")\n",
    "\n",
    "# evaluate the model - test\n",
    "\n",
    "y_preds_test = model(X_test_seq)\n",
    "print(f\"MSE(test): {mean_squared_error(y_preds_test, y_test_seq)}\")"
   ]
  },
  {
   "cell_type": "markdown",
   "id": "57ceb654-2285-43fb-a692-864e10d380fc",
   "metadata": {},
   "source": [
    "## 3.2. \b언더샘플링 & 오버샘플링"
   ]
  },
  {
   "cell_type": "markdown",
   "id": "620fef0b-517c-442e-9da1-da4582308900",
   "metadata": {},
   "source": [
    "['<label count>',\n",
    " 'Rings  count',\n",
    " '    1      1',\n",
    " '    2      1',\n",
    " '    3     15',\n",
    " '    4     57',\n",
    " '    5    115',\n",
    " '    6    259',\n",
    " '    7    391',\n",
    " '    8    568',\n",
    " '    9    689',\n",
    " '   10    634',\n",
    " '   11    487',\n",
    " '   12    267',\n",
    " '   13    203',\n",
    " '   14    126',\n",
    " '   15    103',\n",
    " '   16     67',\n",
    " '   17     58',\n",
    " '   18     42',\n",
    " '   19     32',\n",
    " '   20     26',\n",
    " '   21     14',\n",
    " '   22      6',\n",
    " '   23      9',\n",
    " '   24      2',\n",
    " '   25      1',\n",
    " '   26      1',\n",
    " '   27      2',\n",
    " '   29      1']\n",
    "\n",
    "현재 df['Rings']에 대한 label이 이렇게 분포되어 있는데 지금 count가 30 이하인 애들은 30으로 오버샘플링하고, count가 100 이상인 애들은 60으로 언더샘플링 하고싶어."
   ]
  },
  {
   "cell_type": "markdown",
   "id": "8d660f83-474f-4d9a-8b1c-1c48abca58bc",
   "metadata": {},
   "source": [
    "알겠습니다. 제공해주신 레이블 분포를 기반으로, 다음과 같은 방식으로 오버샘플링과 언더샘플링을 수행하고자 하시는군요:\n",
    "\n",
    "- 카운트가 30 이하인 레이블: 샘플 수를 30으로 오버샘플링합니다.\n",
    "- 카운트가 100 이상인 레이블: 샘플 수를 60으로 언더샘플링합니다.\n",
    "- 카운트가 31 이상 99 이하인 레이블: 기존의 샘플 수를 그대로 유지합니다.\n",
    "\n",
    "이제 이를 구현하기 위한 코드를 단계별로 제공해 드리겠습니다."
   ]
  },
  {
   "cell_type": "code",
   "execution_count": null,
   "id": "c679165c-ae94-456a-b38f-6bbb0991fa73",
   "metadata": {},
   "outputs": [],
   "source": [
    "# 레이블별로 그룹화\n",
    "groups = df.groupby('Rings')\n",
    "\n",
    "# 레이블별 샘플 수 출력\n",
    "label_counts = df['Rings'].value_counts().sort_index()\n",
    "print(label_counts)"
   ]
  },
  {
   "cell_type": "code",
   "execution_count": null,
   "id": "ef653829-a7c0-4e51-89b8-82e55bfaadeb",
   "metadata": {},
   "outputs": [],
   "source": [
    "# 데이터 분할\n",
    "X_train, X_test, y_train, y_test = train_test_split(X, y, test_size=0.2, random_state=42)"
   ]
  },
  {
   "cell_type": "code",
   "execution_count": null,
   "id": "d47c1172-bacb-4e61-b5ec-af16ab5c3d3a",
   "metadata": {},
   "outputs": [],
   "source": [
    "# 특징 스케일링 (학습 데이터 기준)\n",
    "scaler = StandardScaler()\n",
    "X_train_scaled = scaler.fit_transform(X_train)\n",
    "X_test_scaled = scaler.transform(X_test)"
   ]
  },
  {
   "cell_type": "code",
   "execution_count": null,
   "id": "4c116582-48c5-49f5-bb5a-91843bff7896",
   "metadata": {},
   "outputs": [],
   "source": [
    "# SMOTER 인스턴스 생성\n",
    "oversampler = sv.SMOTER()\n",
    "\n",
    "# 오버샘플링 적용\n",
    "X_resampled, y_resampled = oversampler.sample(X_train_scaled, y_train)"
   ]
  },
  {
   "cell_type": "code",
   "execution_count": null,
   "id": "41df1875-64bf-4603-8693-3c663dcb5ff1",
   "metadata": {},
   "outputs": [],
   "source": [
    "# 샘플링된 데이터를 담을 리스트 초기화\n",
    "sampled_dfs = []\n",
    "\n",
    "# SMOTER를 적용하기 위해 데이터프레임 생성\n",
    "data = df.copy()\n",
    "\n",
    "# 데이터 셔플\n",
    "data = data.sample(frac=1, random_state=42).reset_index(drop=True)\n",
    "\n",
    "# 데이터 분할\n",
    "under_sampled_data = pd.DataFrame()\n",
    "smoter_data_X = pd.DataFrame()\n",
    "smoter_data_y = pd.Series()\n",
    "\n",
    "for label, group in data.groupby('Rings'):\n",
    "    count = len(group)\n",
    "    if count < 150:\n",
    "        # 오버샘플링 대상 (SMOTER 적용을 위해 나중에 처리)\n",
    "        smoter_data_X = pd.concat([smoter_data_X, group[features]], axis=0)\n",
    "        smoter_data_y = pd.concat([smoter_data_y, group['Rings']], axis=0)\n",
    "    elif count > 150:\n",
    "        # 언더샘플링\n",
    "        group_sampled = resample(group,\n",
    "                                 replace=False,  # 비복원 추출\n",
    "                                 n_samples=150,\n",
    "                                 random_state=42)\n",
    "        under_sampled_data = pd.concat([under_sampled_data, group_sampled], axis=0)\n",
    "        print(f\"Label {label}: Undersampled from {count} to 150 samples.\")\n",
    "    else:\n",
    "        # 그대로 사용\n",
    "        under_sampled_data = pd.concat([under_sampled_data, group], axis=0)\n",
    "        print(f\"Label {label}: Kept original {count} samples.\")"
   ]
  },
  {
   "cell_type": "code",
   "execution_count": null,
   "id": "f535051c-06b0-4b22-a3dd-f56cc8f52223",
   "metadata": {},
   "outputs": [],
   "source": [
    "# SMOTER를 적용하기 전에 특징(feature) 스케일링\n",
    "scaler = StandardScaler()\n",
    "smoter_data_X_scaled = scaler.fit_transform(smoter_data_X)\n",
    "\n",
    "# SMOTER 인스턴스 생성\n",
    "smoter = SMOTER(k_neighbors=5, random_state=42)\n",
    "\n",
    "# SMOTER를 적용하여 오버샘플링 (X는 스케일된 데이터, y는 원본)\n",
    "X_resampled, y_resampled = smoter.fit_resample(smoter_data_X_scaled, smoter_data_y)\n",
    "\n",
    "# 결과를 데이터프레임으로 변환\n",
    "smoter_resampled_df = pd.DataFrame(X_resampled, columns=features)\n",
    "smoter_resampled_df['Rings'] = y_resampled\n",
    "\n",
    "# 오버샘플링 후 각 레이블별로 150개로 맞춤\n",
    "final_oversampled_groups = []\n",
    "for label, group in smoter_resampled_df.groupby('Rings'):\n",
    "    count = len(group)\n",
    "    if count > 150:\n",
    "        # 오버샘플링 후 샘플 수가 150개 초과하면 언더샘플링\n",
    "        group_sampled = group.sample(n=150, random_state=42)\n",
    "        final_oversampled_groups.append(group_sampled)\n",
    "        print(f\"Label {label}: Oversampled using SMOTER and undersampled to 150 samples.\")\n",
    "    elif count < 150:\n",
    "        # 오버샘플링 후에도 샘플 수가 150개 미만인 경우 (드물게 발생할 수 있음)\n",
    "        group_sampled = group.sample(n=150, replace=True, random_state=42)\n",
    "        final_oversampled_groups.append(group_sampled)\n",
    "        print(f\"Label {label}: Oversampled using SMOTER and further oversampled to 150 samples.\")\n",
    "    else:\n",
    "        # 샘플 수가 150개인 경우\n",
    "        final_oversampled_groups.append(group)\n",
    "        print(f\"Label {label}: Oversampled using SMOTER to 150 samples.\")\n",
    "\n",
    "# 오버샘플링된 그룹 병합\n",
    "oversampled_data = pd.concat(final_oversampled_groups, axis=0)"
   ]
  },
  {
   "cell_type": "code",
   "execution_count": null,
   "id": "4cac165b-f9dc-4aef-96e8-d1f2f9e7435e",
   "metadata": {},
   "outputs": [],
   "source": [
    "# 언더샘플링된 데이터와 오버샘플링된 데이터 병합\n",
    "balanced_df = pd.concat([under_sampled_data, oversampled_data], axis=0)\n",
    "\n",
    "# 데이터 셔플 및 인덱스 리셋\n",
    "balanced_df = balanced_df.sample(frac=1, random_state=42).reset_index(drop=True)"
   ]
  },
  {
   "cell_type": "code",
   "execution_count": null,
   "id": "cb8de26d-8e19-4bd5-8905-797855e8981b",
   "metadata": {},
   "outputs": [],
   "source": [
    "X = balanced_df[features].values\n",
    "y = balanced_df['Rings'].values\n",
    "\n",
    "# 전체 데이터를 학습용과 테스트용으로 분할\n",
    "X_train, X_test, y_train, y_test = train_test_split(X, y, test_size=0.2, random_state=42)\n",
    "\n",
    "# 특징 스케일링 (학습 데이터 기준으로 스케일러 다시 학습)\n",
    "scaler = StandardScaler()\n",
    "X_train_scaled = scaler.fit_transform(X_train)\n",
    "X_test_scaled = scaler.transform(X_test)"
   ]
  },
  {
   "cell_type": "code",
   "execution_count": null,
   "id": "53e700c3-fde7-464a-b2cb-76f7d245d551",
   "metadata": {},
   "outputs": [],
   "source": [
    "# X와 y를 하나로 합친 dataset 만들기\n",
    "# 합치기 위해서는 y도 2dim으로 변경해줘야됨 by reshape()\n",
    "train_set = np.c_[X_train_scaled, y_train.reshape(-1, 1)]\n",
    "test_set = np.c_[X_test_scaled, y_test.reshape(-1, 1)]\n",
    "\n",
    "print(f\"train_set.head(): \\n{train_set[:5]}\")"
   ]
  },
  {
   "cell_type": "code",
   "execution_count": null,
   "id": "9d081373-a8c3-40ea-a3cf-102f8e91777f",
   "metadata": {},
   "outputs": [],
   "source": [
    "# Sequential dataset 만들기\n",
    "n_steps = 5 # 전복 5마리를 한 개의 set으로 묶기\n",
    "X_train_seq, y_train_seq = split_sequences(train_set,\n",
    "                                           n_steps)\n",
    "\n",
    "X_test_seq, y_test_seq = split_sequences(test_set,\n",
    "                                         n_steps)\n",
    "\n",
    "print(f\"X_train_seq.shape: {X_train_seq.shape}\", end=\" \")\n",
    "print(f\"y_train_seq.shape: {y_train_seq.shape}\")\n",
    "print(f\"X_test_seq.shape: {X_test_seq.shape}\", end=\" \")\n",
    "print(f\"y_test_seq.shape: {y_test_seq.shape}\")"
   ]
  },
  {
   "cell_type": "code",
   "execution_count": null,
   "id": "280cf046-d89b-4c8a-9477-c024ecd2bb2a",
   "metadata": {},
   "outputs": [],
   "source": [
    "n_steps = X_train_seq.shape[1]\n",
    "features = X_train_seq.shape[2]"
   ]
  },
  {
   "cell_type": "code",
   "execution_count": null,
   "id": "23bf87ad-b145-4a91-acb2-f40d767272cb",
   "metadata": {},
   "outputs": [],
   "source": [
    "import tensorflow as tf\n",
    "import tensorflow.keras as keras\n",
    "\n",
    "# Create the model\n",
    "model = keras.models.Sequential()\n",
    "\n",
    "# Add the layers to model\n",
    "# model.add(keras.layers.BatchNormalization())\n",
    "model.add(keras.layers.Conv1D(filters=64,\n",
    "                               kernel_size=3,\n",
    "                               activation='relu',\n",
    "                               input_shape=(n_steps, features),\n",
    "                               name='conv1d'))\n",
    "# model.add(keras.layers.Dropout(0.3))\n",
    "# model.add(keras.layers.BatchNormalization())\n",
    "model.add(keras.layers.GlobalAveragePooling1D())\n",
    "model.add(keras.layers.Dense(units=128,\n",
    "                              activation='relu',\n",
    "                              name='dense1'))\n",
    "# model.add(keras.layers.Dropout(0.3))\n",
    "# model.add(keras.layers.BatchNormalization())\n",
    "model.add(keras.layers.Dense(units=1,\n",
    "                              name='output'))\n",
    "\n",
    "model.summary()"
   ]
  },
  {
   "cell_type": "code",
   "execution_count": null,
   "id": "ca1bb50d-1407-40d4-8f26-13e5d2a457cb",
   "metadata": {},
   "outputs": [],
   "source": [
    "optimizer = keras.optimizers.Adam(learning_rate=0.001)\n",
    "model.compile(optimizer=optimizer,\n",
    "              loss='mean_squared_error',\n",
    "              metrics=['mean_squared_error'])"
   ]
  },
  {
   "cell_type": "code",
   "execution_count": null,
   "id": "d04fee90-91b3-4383-ae32-ad2aac6f58a0",
   "metadata": {},
   "outputs": [],
   "source": [
    "epochs = 50\n",
    "history = model.fit(X_train_seq, y_train_seq,\n",
    "                    batch_size=32,\n",
    "                    validation_split=0.1,\n",
    "                    shuffle=True,\n",
    "                    verbose=2,\n",
    "                    epochs=epochs)"
   ]
  },
  {
   "cell_type": "code",
   "execution_count": null,
   "id": "2488a2ef-fd78-4db1-8460-a15b1ab5c948",
   "metadata": {},
   "outputs": [],
   "source": [
    "# evaluate the model - test\n",
    "from sklearn.metrics import mean_squared_error\n",
    "\n",
    "y_preds_test = model(X_test_seq)\n",
    "print(f\"MSE(test): {mean_squared_error(y_preds_test, y_test_seq)}\")"
   ]
  },
  {
   "cell_type": "code",
   "execution_count": null,
   "id": "51b9228d-230f-4d5f-a1fa-f2b833cbdcba",
   "metadata": {},
   "outputs": [],
   "source": [
    "preds = model(X_train_seq)\n",
    "for pred in preds:\n",
    "    print(pred)"
   ]
  },
  {
   "cell_type": "code",
   "execution_count": null,
   "id": "a9e63888-0725-40f7-828a-f59168e9fde0",
   "metadata": {},
   "outputs": [],
   "source": [
    "# label 확인\n",
    "labels = np.unique(balanced_df['Rings'], return_counts=True)\n",
    "print(\"\\n<label count>\")\n",
    "table = np.vstack(labels).T\n",
    "print(\"Rings  count\")\n",
    "for row in table:\n",
    "    print(f\"{row[0]:5d} {row[1]:6d}\")\n",
    "\n",
    "# problem 1. label이 0부터 시작하지 않는다.\n",
    "# problem 2. label에 빈 공간이 있다(28)."
   ]
  },
  {
   "cell_type": "code",
   "execution_count": null,
   "id": "7d4ea6d0-346d-4687-ba12-a490e4102b90",
   "metadata": {},
   "outputs": [],
   "source": [
    "sns.kdeplot(balanced_df['Rings'], fill=True)\n",
    "plt.title('Kernel Density Estimate of Rings')\n",
    "plt.xlabel('Rings')\n",
    "plt.ylabel('Density')\n",
    "plt.show()\n",
    "\n",
    "# labeling bias 때문인지 전부 다 8 ~ 11로 예측해버림"
   ]
  }
 ],
 "metadata": {
  "kernelspec": {
   "display_name": "gc_dl",
   "language": "python",
   "name": "gc_dl"
  },
  "language_info": {
   "codemirror_mode": {
    "name": "ipython",
    "version": 3
   },
   "file_extension": ".py",
   "mimetype": "text/x-python",
   "name": "python",
   "nbconvert_exporter": "python",
   "pygments_lexer": "ipython3",
   "version": "3.9.18"
  }
 },
 "nbformat": 4,
 "nbformat_minor": 5
}
